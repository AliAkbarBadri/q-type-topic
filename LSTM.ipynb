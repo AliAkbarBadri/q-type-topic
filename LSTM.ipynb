{
  "nbformat": 4,
  "nbformat_minor": 0,
  "metadata": {
    "colab": {
      "name": "tempo.ipynb",
      "provenance": [],
      "include_colab_link": true
    },
    "kernelspec": {
      "name": "python3",
      "display_name": "Python 3"
    }
  },
  "cells": [
    {
      "cell_type": "markdown",
      "metadata": {
        "id": "view-in-github",
        "colab_type": "text"
      },
      "source": [
        "<a href=\"https://colab.research.google.com/github/AliAkbarBadri/topics-for-types/blob/main/LSTM.ipynb\" target=\"_parent\"><img src=\"https://colab.research.google.com/assets/colab-badge.svg\" alt=\"Open In Colab\"/></a>"
      ]
    },
    {
      "cell_type": "code",
      "metadata": {
        "id": "nF-7m57sBgdp"
      },
      "source": [
        "from tensorflow.keras.preprocessing.sequence import pad_sequences\n",
        "import tensorflow as tf\n",
        "from tensorflow import keras\n",
        "from tensorflow.keras.layers import Embedding, LSTM, Dense, Dropout, Bidirectional, GRU\n",
        "from tensorflow.keras.preprocessing.text import Tokenizer\n",
        "from tensorflow.keras.models import Sequential\n",
        "from tensorflow.keras.optimizers import Adam\n",
        "from tensorflow.keras import regularizers\n",
        "import tensorflow.keras.utils as ku "
      ],
      "execution_count": 1,
      "outputs": []
    },
    {
      "cell_type": "code",
      "metadata": {
        "id": "bxA_PSMaBhzU"
      },
      "source": [
        "import pandas as pd\n",
        "import numpy as np\n",
        "import re\n",
        "import matplotlib.pyplot as plt\n",
        "import os"
      ],
      "execution_count": 2,
      "outputs": []
    },
    {
      "cell_type": "code",
      "metadata": {
        "id": "LCVAXfOLRn17",
        "outputId": "014fb02f-bf3e-447a-ebd2-9782501cfb44",
        "colab": {
          "base_uri": "https://localhost:8080/",
          "height": 34
        }
      },
      "source": [
        "from google.colab import drive\n",
        "drive.mount('/content/drive')"
      ],
      "execution_count": 4,
      "outputs": [
        {
          "output_type": "stream",
          "text": [
            "Mounted at /content/drive\n"
          ],
          "name": "stdout"
        }
      ]
    },
    {
      "cell_type": "code",
      "metadata": {
        "id": "DV_x9XoPBlJM"
      },
      "source": [
        "questions = pd.read_csv(\"/content/drive/My Drive/topics-for-types/result.csv\", delimiter=\";\")"
      ],
      "execution_count": 7,
      "outputs": []
    },
    {
      "cell_type": "code",
      "metadata": {
        "id": "TLz9bs76Cbk2",
        "outputId": "d7b5fdb7-65f6-4e3f-e94e-42aa039be544",
        "colab": {
          "base_uri": "https://localhost:8080/",
          "height": 666
        }
      },
      "source": [
        "print(questions.shape)\n",
        "questions.head()"
      ],
      "execution_count": 8,
      "outputs": [
        {
          "output_type": "stream",
          "text": [
            "(2799, 21)\n"
          ],
          "name": "stdout"
        },
        {
          "output_type": "execute_result",
          "data": {
            "text/html": [
              "<div>\n",
              "<style scoped>\n",
              "    .dataframe tbody tr th:only-of-type {\n",
              "        vertical-align: middle;\n",
              "    }\n",
              "\n",
              "    .dataframe tbody tr th {\n",
              "        vertical-align: top;\n",
              "    }\n",
              "\n",
              "    .dataframe thead th {\n",
              "        text-align: right;\n",
              "    }\n",
              "</style>\n",
              "<table border=\"1\" class=\"dataframe\">\n",
              "  <thead>\n",
              "    <tr style=\"text-align: right;\">\n",
              "      <th></th>\n",
              "      <th>id</th>\n",
              "      <th>title</th>\n",
              "      <th>sentence</th>\n",
              "      <th>subject1</th>\n",
              "      <th>subject2</th>\n",
              "      <th>subject3</th>\n",
              "      <th>subject_notsure</th>\n",
              "      <th>suggested_subject</th>\n",
              "      <th>type1</th>\n",
              "      <th>type2</th>\n",
              "      <th>type3</th>\n",
              "      <th>type_notsure</th>\n",
              "      <th>suggested_type</th>\n",
              "      <th>s1 score</th>\n",
              "      <th>s2 score</th>\n",
              "      <th>s3 score</th>\n",
              "      <th>t1 score</th>\n",
              "      <th>t2 score</th>\n",
              "      <th>t3 score</th>\n",
              "      <th>Avg_sbj_num</th>\n",
              "      <th>Avg_typ_num</th>\n",
              "    </tr>\n",
              "  </thead>\n",
              "  <tbody>\n",
              "    <tr>\n",
              "      <th>0</th>\n",
              "      <td>1</td>\n",
              "      <td>NaN</td>\n",
              "      <td>تفاوت ترمز عقب دیسکی و کاسه ای چیست؟</td>\n",
              "      <td>ماشین</td>\n",
              "      <td>فنی</td>\n",
              "      <td>خرید</td>\n",
              "      <td>0</td>\n",
              "      <td>NaN</td>\n",
              "      <td>توضیح</td>\n",
              "      <td>تعریف</td>\n",
              "      <td>نظر</td>\n",
              "      <td>0</td>\n",
              "      <td>NaN</td>\n",
              "      <td>29</td>\n",
              "      <td>28</td>\n",
              "      <td>8</td>\n",
              "      <td>19</td>\n",
              "      <td>10</td>\n",
              "      <td>8</td>\n",
              "      <td>2.333333</td>\n",
              "      <td>1.333333</td>\n",
              "    </tr>\n",
              "    <tr>\n",
              "      <th>1</th>\n",
              "      <td>2</td>\n",
              "      <td>NaN</td>\n",
              "      <td>آیا ترمز ضدقفل ABS در همه چرخ ها عمل می کند؟</td>\n",
              "      <td>ماشین</td>\n",
              "      <td>فنی</td>\n",
              "      <td>کار</td>\n",
              "      <td>0</td>\n",
              "      <td>NaN</td>\n",
              "      <td>بله/خیر</td>\n",
              "      <td>نظر</td>\n",
              "      <td>توضیح</td>\n",
              "      <td>0</td>\n",
              "      <td>NaN</td>\n",
              "      <td>29</td>\n",
              "      <td>28</td>\n",
              "      <td>8</td>\n",
              "      <td>30</td>\n",
              "      <td>9</td>\n",
              "      <td>8</td>\n",
              "      <td>2.333333</td>\n",
              "      <td>1.666667</td>\n",
              "    </tr>\n",
              "    <tr>\n",
              "      <th>2</th>\n",
              "      <td>3</td>\n",
              "      <td>NaN</td>\n",
              "      <td>چرا باوجود نصب بودن ترمز ABS بر روی خودرو، ترم...</td>\n",
              "      <td>ماشین</td>\n",
              "      <td>فنی</td>\n",
              "      <td>کار</td>\n",
              "      <td>0</td>\n",
              "      <td>NaN</td>\n",
              "      <td>دلیل</td>\n",
              "      <td>نظر</td>\n",
              "      <td>توضیح</td>\n",
              "      <td>0</td>\n",
              "      <td>NaN</td>\n",
              "      <td>29</td>\n",
              "      <td>28</td>\n",
              "      <td>8</td>\n",
              "      <td>30</td>\n",
              "      <td>17</td>\n",
              "      <td>9</td>\n",
              "      <td>2.333333</td>\n",
              "      <td>2.000000</td>\n",
              "    </tr>\n",
              "    <tr>\n",
              "      <th>3</th>\n",
              "      <td>4</td>\n",
              "      <td>NaN</td>\n",
              "      <td>چرا با وجود نصب بودن Airbag بر روی خودرو، در ه...</td>\n",
              "      <td>ماشین</td>\n",
              "      <td>فنی</td>\n",
              "      <td>کار</td>\n",
              "      <td>0</td>\n",
              "      <td>NaN</td>\n",
              "      <td>دلیل</td>\n",
              "      <td>توضیح</td>\n",
              "      <td>نظر</td>\n",
              "      <td>0</td>\n",
              "      <td>NaN</td>\n",
              "      <td>29</td>\n",
              "      <td>28</td>\n",
              "      <td>8</td>\n",
              "      <td>30</td>\n",
              "      <td>18</td>\n",
              "      <td>16</td>\n",
              "      <td>2.333333</td>\n",
              "      <td>2.333333</td>\n",
              "    </tr>\n",
              "    <tr>\n",
              "      <th>4</th>\n",
              "      <td>5</td>\n",
              "      <td>NaN</td>\n",
              "      <td>کلاس های مختلف خودرو چگونه شناسایی می شوند؟</td>\n",
              "      <td>ماشین</td>\n",
              "      <td>فنی</td>\n",
              "      <td>خرید</td>\n",
              "      <td>0</td>\n",
              "      <td>NaN</td>\n",
              "      <td>نظر</td>\n",
              "      <td>لیست</td>\n",
              "      <td>تعریف</td>\n",
              "      <td>0</td>\n",
              "      <td>NaN</td>\n",
              "      <td>30</td>\n",
              "      <td>18</td>\n",
              "      <td>8</td>\n",
              "      <td>17</td>\n",
              "      <td>10</td>\n",
              "      <td>10</td>\n",
              "      <td>2.333333</td>\n",
              "      <td>2.333333</td>\n",
              "    </tr>\n",
              "  </tbody>\n",
              "</table>\n",
              "</div>"
            ],
            "text/plain": [
              "   id title  ... Avg_sbj_num Avg_typ_num\n",
              "0   1   NaN  ...    2.333333    1.333333\n",
              "1   2   NaN  ...    2.333333    1.666667\n",
              "2   3   NaN  ...    2.333333    2.000000\n",
              "3   4   NaN  ...    2.333333    2.333333\n",
              "4   5   NaN  ...    2.333333    2.333333\n",
              "\n",
              "[5 rows x 21 columns]"
            ]
          },
          "metadata": {
            "tags": []
          },
          "execution_count": 8
        }
      ]
    },
    {
      "cell_type": "code",
      "metadata": {
        "id": "XqqPXjFASMob",
        "outputId": "60cbcd1f-716f-4eaa-c699-1cb1f83bf7be",
        "colab": {
          "base_uri": "https://localhost:8080/",
          "height": 34
        }
      },
      "source": [
        "subjects_unique = len(set(np.concatenate((questions.subject1, questions.subject2,questions.subject3), axis=None)))\n",
        "types_unique = len(set(np.concatenate((questions.type1, questions.type2,questions.type3), axis=None)))\n",
        "subjects_unique, types_unique"
      ],
      "execution_count": 21,
      "outputs": [
        {
          "output_type": "execute_result",
          "data": {
            "text/plain": [
              "(24, 13)"
            ]
          },
          "metadata": {
            "tags": []
          },
          "execution_count": 21
        }
      ]
    },
    {
      "cell_type": "code",
      "metadata": {
        "id": "tnKN6iGrS69n"
      },
      "source": [
        ""
      ],
      "execution_count": null,
      "outputs": []
    }
  ]
}