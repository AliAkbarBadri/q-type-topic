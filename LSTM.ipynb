{
  "nbformat": 4,
  "nbformat_minor": 0,
  "metadata": {
    "colab": {
      "name": "tempo.ipynb",
      "provenance": [],
      "include_colab_link": true
    },
    "kernelspec": {
      "name": "python3",
      "display_name": "Python 3"
    },
    "accelerator": "GPU"
  },
  "cells": [
    {
      "cell_type": "markdown",
      "metadata": {
        "id": "view-in-github",
        "colab_type": "text"
      },
      "source": [
        "<a href=\"https://colab.research.google.com/github/AliAkbarBadri/topics-for-types/blob/main/LSTM.ipynb\" target=\"_parent\"><img src=\"https://colab.research.google.com/assets/colab-badge.svg\" alt=\"Open In Colab\"/></a>"
      ]
    },
    {
      "cell_type": "markdown",
      "metadata": {
        "id": "35118jEtNm5E"
      },
      "source": [
        "# Setup"
      ]
    },
    {
      "cell_type": "code",
      "metadata": {
        "id": "bxA_PSMaBhzU"
      },
      "source": [
        "import pandas as pd\n",
        "import numpy as np\n",
        "import re\n",
        "import matplotlib.pyplot as plt\n",
        "import os"
      ],
      "execution_count": 1,
      "outputs": []
    },
    {
      "cell_type": "code",
      "metadata": {
        "id": "LCVAXfOLRn17",
        "outputId": "aea40e5f-fde8-4625-beeb-2a6a68d3cc65",
        "colab": {
          "base_uri": "https://localhost:8080/",
          "height": 34
        }
      },
      "source": [
        "from google.colab import drive\n",
        "drive.mount('/content/drive')"
      ],
      "execution_count": 2,
      "outputs": [
        {
          "output_type": "stream",
          "text": [
            "Mounted at /content/drive\n"
          ],
          "name": "stdout"
        }
      ]
    },
    {
      "cell_type": "markdown",
      "metadata": {
        "id": "EfgZ5nIFxGI4"
      },
      "source": [
        "# data"
      ]
    },
    {
      "cell_type": "code",
      "metadata": {
        "id": "fKCP5hUaw2yI",
        "outputId": "9373cb26-205c-4b1f-f558-e1abb390b1ee",
        "colab": {
          "base_uri": "https://localhost:8080/",
          "height": 34
        }
      },
      "source": [
        "! ls \"/content/drive/My Drive/topics-for-types/\""
      ],
      "execution_count": 3,
      "outputs": [
        {
          "output_type": "stream",
          "text": [
            "df_topics.csv  df_types.csv  result.csv  sample-acmsmall.pdf\n"
          ],
          "name": "stdout"
        }
      ]
    },
    {
      "cell_type": "code",
      "metadata": {
        "id": "wfzFUKNdxDaG",
        "outputId": "32d01ce2-9886-435f-d28f-5431af152f47",
        "colab": {
          "base_uri": "https://localhost:8080/",
          "height": 564
        }
      },
      "source": [
        "df_topics = pd.read_csv(\"/content/drive/My Drive/topics-for-types/df_topics.csv\")\n",
        "df_topics.head()"
      ],
      "execution_count": 4,
      "outputs": [
        {
          "output_type": "execute_result",
          "data": {
            "text/html": [
              "<div>\n",
              "<style scoped>\n",
              "    .dataframe tbody tr th:only-of-type {\n",
              "        vertical-align: middle;\n",
              "    }\n",
              "\n",
              "    .dataframe tbody tr th {\n",
              "        vertical-align: top;\n",
              "    }\n",
              "\n",
              "    .dataframe thead th {\n",
              "        text-align: right;\n",
              "    }\n",
              "</style>\n",
              "<table border=\"1\" class=\"dataframe\">\n",
              "  <thead>\n",
              "    <tr style=\"text-align: right;\">\n",
              "      <th></th>\n",
              "      <th>sentence</th>\n",
              "      <th>اقتصاد</th>\n",
              "      <th>بازی</th>\n",
              "      <th>برنامه‌نویسی</th>\n",
              "      <th>تحصیل</th>\n",
              "      <th>تغذیه</th>\n",
              "      <th>حقوق/قانون</th>\n",
              "      <th>حیوانات</th>\n",
              "      <th>خرید</th>\n",
              "      <th>روابط</th>\n",
              "      <th>روانشناسی</th>\n",
              "      <th>زبان</th>\n",
              "      <th>زیبایی</th>\n",
              "      <th>سرگرمی</th>\n",
              "      <th>سفر</th>\n",
              "      <th>سلامت</th>\n",
              "      <th>فنی</th>\n",
              "      <th>ماشین</th>\n",
              "      <th>مذهبی</th>\n",
              "      <th>ورزش</th>\n",
              "      <th>کار</th>\n",
              "      <th>کامپیوتر/موبایل</th>\n",
              "      <th>کودکان</th>\n",
              "      <th>گیاهان</th>\n",
              "    </tr>\n",
              "  </thead>\n",
              "  <tbody>\n",
              "    <tr>\n",
              "      <th>0</th>\n",
              "      <td>تفاوت ترمز عقب دیسکی و کاسه ای چیست؟</td>\n",
              "      <td>0</td>\n",
              "      <td>0</td>\n",
              "      <td>0</td>\n",
              "      <td>0</td>\n",
              "      <td>0</td>\n",
              "      <td>0</td>\n",
              "      <td>0</td>\n",
              "      <td>1</td>\n",
              "      <td>0</td>\n",
              "      <td>0</td>\n",
              "      <td>0</td>\n",
              "      <td>0</td>\n",
              "      <td>0</td>\n",
              "      <td>0</td>\n",
              "      <td>0</td>\n",
              "      <td>1</td>\n",
              "      <td>1</td>\n",
              "      <td>0</td>\n",
              "      <td>0</td>\n",
              "      <td>0</td>\n",
              "      <td>0</td>\n",
              "      <td>0</td>\n",
              "      <td>0</td>\n",
              "    </tr>\n",
              "    <tr>\n",
              "      <th>1</th>\n",
              "      <td>آیا ترمز ضدقفل ABS در همه چرخ ها عمل می کند؟</td>\n",
              "      <td>0</td>\n",
              "      <td>0</td>\n",
              "      <td>0</td>\n",
              "      <td>0</td>\n",
              "      <td>0</td>\n",
              "      <td>0</td>\n",
              "      <td>0</td>\n",
              "      <td>0</td>\n",
              "      <td>0</td>\n",
              "      <td>0</td>\n",
              "      <td>0</td>\n",
              "      <td>0</td>\n",
              "      <td>0</td>\n",
              "      <td>0</td>\n",
              "      <td>0</td>\n",
              "      <td>1</td>\n",
              "      <td>1</td>\n",
              "      <td>0</td>\n",
              "      <td>0</td>\n",
              "      <td>1</td>\n",
              "      <td>0</td>\n",
              "      <td>0</td>\n",
              "      <td>0</td>\n",
              "    </tr>\n",
              "    <tr>\n",
              "      <th>2</th>\n",
              "      <td>چرا باوجود نصب بودن ترمز ABS بر روی خودرو، ترم...</td>\n",
              "      <td>0</td>\n",
              "      <td>0</td>\n",
              "      <td>0</td>\n",
              "      <td>0</td>\n",
              "      <td>0</td>\n",
              "      <td>0</td>\n",
              "      <td>0</td>\n",
              "      <td>0</td>\n",
              "      <td>0</td>\n",
              "      <td>0</td>\n",
              "      <td>0</td>\n",
              "      <td>0</td>\n",
              "      <td>0</td>\n",
              "      <td>0</td>\n",
              "      <td>0</td>\n",
              "      <td>1</td>\n",
              "      <td>1</td>\n",
              "      <td>0</td>\n",
              "      <td>0</td>\n",
              "      <td>1</td>\n",
              "      <td>0</td>\n",
              "      <td>0</td>\n",
              "      <td>0</td>\n",
              "    </tr>\n",
              "    <tr>\n",
              "      <th>3</th>\n",
              "      <td>چرا با وجود نصب بودن Airbag بر روی خودرو، در ه...</td>\n",
              "      <td>0</td>\n",
              "      <td>0</td>\n",
              "      <td>0</td>\n",
              "      <td>0</td>\n",
              "      <td>0</td>\n",
              "      <td>0</td>\n",
              "      <td>0</td>\n",
              "      <td>0</td>\n",
              "      <td>0</td>\n",
              "      <td>0</td>\n",
              "      <td>0</td>\n",
              "      <td>0</td>\n",
              "      <td>0</td>\n",
              "      <td>0</td>\n",
              "      <td>0</td>\n",
              "      <td>1</td>\n",
              "      <td>1</td>\n",
              "      <td>0</td>\n",
              "      <td>0</td>\n",
              "      <td>1</td>\n",
              "      <td>0</td>\n",
              "      <td>0</td>\n",
              "      <td>0</td>\n",
              "    </tr>\n",
              "    <tr>\n",
              "      <th>4</th>\n",
              "      <td>کلاس های مختلف خودرو چگونه شناسایی می شوند؟</td>\n",
              "      <td>0</td>\n",
              "      <td>0</td>\n",
              "      <td>0</td>\n",
              "      <td>0</td>\n",
              "      <td>0</td>\n",
              "      <td>0</td>\n",
              "      <td>0</td>\n",
              "      <td>1</td>\n",
              "      <td>0</td>\n",
              "      <td>0</td>\n",
              "      <td>0</td>\n",
              "      <td>0</td>\n",
              "      <td>0</td>\n",
              "      <td>0</td>\n",
              "      <td>0</td>\n",
              "      <td>1</td>\n",
              "      <td>1</td>\n",
              "      <td>0</td>\n",
              "      <td>0</td>\n",
              "      <td>0</td>\n",
              "      <td>0</td>\n",
              "      <td>0</td>\n",
              "      <td>0</td>\n",
              "    </tr>\n",
              "  </tbody>\n",
              "</table>\n",
              "</div>"
            ],
            "text/plain": [
              "                                            sentence  اقتصاد  ...  کودکان  گیاهان\n",
              "0              تفاوت ترمز عقب دیسکی و کاسه ای چیست؟        0  ...       0       0\n",
              "1     آیا ترمز ضدقفل ABS در همه چرخ ها عمل می کند؟         0  ...       0       0\n",
              "2  چرا باوجود نصب بودن ترمز ABS بر روی خودرو، ترم...       0  ...       0       0\n",
              "3  چرا با وجود نصب بودن Airbag بر روی خودرو، در ه...       0  ...       0       0\n",
              "4       کلاس های مختلف خودرو چگونه شناسایی می شوند؟        0  ...       0       0\n",
              "\n",
              "[5 rows x 24 columns]"
            ]
          },
          "metadata": {
            "tags": []
          },
          "execution_count": 4
        }
      ]
    },
    {
      "cell_type": "code",
      "metadata": {
        "id": "FbnHwp3pxRD2",
        "outputId": "61fe96e7-186f-4221-9107-f6430dfe02fa",
        "colab": {
          "base_uri": "https://localhost:8080/",
          "height": 204
        }
      },
      "source": [
        "df_types = pd.read_csv(\"/content/drive/My Drive/topics-for-types/df_types.csv\")\n",
        "df_types.head()"
      ],
      "execution_count": 5,
      "outputs": [
        {
          "output_type": "execute_result",
          "data": {
            "text/html": [
              "<div>\n",
              "<style scoped>\n",
              "    .dataframe tbody tr th:only-of-type {\n",
              "        vertical-align: middle;\n",
              "    }\n",
              "\n",
              "    .dataframe tbody tr th {\n",
              "        vertical-align: top;\n",
              "    }\n",
              "\n",
              "    .dataframe thead th {\n",
              "        text-align: right;\n",
              "    }\n",
              "</style>\n",
              "<table border=\"1\" class=\"dataframe\">\n",
              "  <thead>\n",
              "    <tr style=\"text-align: right;\">\n",
              "      <th></th>\n",
              "      <th>sentence</th>\n",
              "      <th>انتخاب</th>\n",
              "      <th>بله/خیر</th>\n",
              "      <th>ترجمه</th>\n",
              "      <th>تعامل</th>\n",
              "      <th>تعریف</th>\n",
              "      <th>توضیح</th>\n",
              "      <th>دلیل</th>\n",
              "      <th>ریاضی</th>\n",
              "      <th>لیست</th>\n",
              "      <th>نظر</th>\n",
              "      <th>واقعیت</th>\n",
              "      <th>پیشنهاد</th>\n",
              "    </tr>\n",
              "  </thead>\n",
              "  <tbody>\n",
              "    <tr>\n",
              "      <th>0</th>\n",
              "      <td>تفاوت ترمز عقب دیسکی و کاسه ای چیست؟</td>\n",
              "      <td>0</td>\n",
              "      <td>0</td>\n",
              "      <td>0</td>\n",
              "      <td>0</td>\n",
              "      <td>1</td>\n",
              "      <td>1</td>\n",
              "      <td>0</td>\n",
              "      <td>0</td>\n",
              "      <td>0</td>\n",
              "      <td>1</td>\n",
              "      <td>0</td>\n",
              "      <td>0</td>\n",
              "    </tr>\n",
              "    <tr>\n",
              "      <th>1</th>\n",
              "      <td>آیا ترمز ضدقفل ABS در همه چرخ ها عمل می کند؟</td>\n",
              "      <td>0</td>\n",
              "      <td>1</td>\n",
              "      <td>0</td>\n",
              "      <td>0</td>\n",
              "      <td>0</td>\n",
              "      <td>1</td>\n",
              "      <td>0</td>\n",
              "      <td>0</td>\n",
              "      <td>0</td>\n",
              "      <td>1</td>\n",
              "      <td>0</td>\n",
              "      <td>0</td>\n",
              "    </tr>\n",
              "    <tr>\n",
              "      <th>2</th>\n",
              "      <td>چرا باوجود نصب بودن ترمز ABS بر روی خودرو، ترم...</td>\n",
              "      <td>0</td>\n",
              "      <td>0</td>\n",
              "      <td>0</td>\n",
              "      <td>0</td>\n",
              "      <td>0</td>\n",
              "      <td>1</td>\n",
              "      <td>1</td>\n",
              "      <td>0</td>\n",
              "      <td>0</td>\n",
              "      <td>1</td>\n",
              "      <td>0</td>\n",
              "      <td>0</td>\n",
              "    </tr>\n",
              "    <tr>\n",
              "      <th>3</th>\n",
              "      <td>چرا با وجود نصب بودن Airbag بر روی خودرو، در ه...</td>\n",
              "      <td>0</td>\n",
              "      <td>0</td>\n",
              "      <td>0</td>\n",
              "      <td>0</td>\n",
              "      <td>0</td>\n",
              "      <td>1</td>\n",
              "      <td>1</td>\n",
              "      <td>0</td>\n",
              "      <td>0</td>\n",
              "      <td>1</td>\n",
              "      <td>0</td>\n",
              "      <td>0</td>\n",
              "    </tr>\n",
              "    <tr>\n",
              "      <th>4</th>\n",
              "      <td>کلاس های مختلف خودرو چگونه شناسایی می شوند؟</td>\n",
              "      <td>0</td>\n",
              "      <td>0</td>\n",
              "      <td>0</td>\n",
              "      <td>0</td>\n",
              "      <td>1</td>\n",
              "      <td>0</td>\n",
              "      <td>0</td>\n",
              "      <td>0</td>\n",
              "      <td>1</td>\n",
              "      <td>1</td>\n",
              "      <td>0</td>\n",
              "      <td>0</td>\n",
              "    </tr>\n",
              "  </tbody>\n",
              "</table>\n",
              "</div>"
            ],
            "text/plain": [
              "                                            sentence  انتخاب  ...  واقعیت  پیشنهاد\n",
              "0              تفاوت ترمز عقب دیسکی و کاسه ای چیست؟        0  ...       0        0\n",
              "1     آیا ترمز ضدقفل ABS در همه چرخ ها عمل می کند؟         0  ...       0        0\n",
              "2  چرا باوجود نصب بودن ترمز ABS بر روی خودرو، ترم...       0  ...       0        0\n",
              "3  چرا با وجود نصب بودن Airbag بر روی خودرو، در ه...       0  ...       0        0\n",
              "4       کلاس های مختلف خودرو چگونه شناسایی می شوند؟        0  ...       0        0\n",
              "\n",
              "[5 rows x 13 columns]"
            ]
          },
          "metadata": {
            "tags": []
          },
          "execution_count": 5
        }
      ]
    },
    {
      "cell_type": "markdown",
      "metadata": {
        "id": "7qNH8DZbenUD"
      },
      "source": [
        "# Word2Vec"
      ]
    },
    {
      "cell_type": "code",
      "metadata": {
        "id": "wovd-F9SOi3f"
      },
      "source": [
        "from tensorflow.keras.preprocessing.sequence import pad_sequences\n",
        "import tensorflow as tf\n",
        "from tensorflow import keras\n",
        "from tensorflow.keras.layers import Embedding, LSTM, Dense, Dropout, Bidirectional, GRU, Input\n",
        "from tensorflow.keras.preprocessing.text import Tokenizer\n",
        "from tensorflow.keras.models import Sequential, Model\n",
        "from tensorflow.keras.optimizers import Adam\n",
        "from tensorflow.keras import regularizers\n",
        "import tensorflow.keras.utils as ku "
      ],
      "execution_count": 9,
      "outputs": []
    },
    {
      "cell_type": "code",
      "metadata": {
        "id": "fOWHUYdw-_Uc"
      },
      "source": [
        "from sklearn.model_selection import train_test_split\n",
        "from numpy import array\n",
        "from numpy import asarray\n",
        "from numpy import zeros"
      ],
      "execution_count": 11,
      "outputs": []
    },
    {
      "cell_type": "code",
      "metadata": {
        "id": "hH6VbfWMf5qO"
      },
      "source": [
        "X = df_types[df_types.columns[0]].values\n",
        "Y = df_types[df_types.columns[1:]].values"
      ],
      "execution_count": 12,
      "outputs": []
    },
    {
      "cell_type": "code",
      "metadata": {
        "id": "MFb1ouv4NW4z"
      },
      "source": [
        "X_train, X_test, y_train, y_test = train_test_split(X, Y, test_size=0.20, random_state=42)"
      ],
      "execution_count": 16,
      "outputs": []
    },
    {
      "cell_type": "code",
      "metadata": {
        "id": "qEc5r95aNenl"
      },
      "source": [
        "tokenizer = Tokenizer(num_words=50000)\n",
        "tokenizer.fit_on_texts(X_train)\n",
        "\n",
        "X_train = tokenizer.texts_to_sequences(X_train)\n",
        "X_test = tokenizer.texts_to_sequences(X_test)\n",
        "vocab_size = len(tokenizer.word_index) + 1\n",
        "\n",
        "maxlen = 200\n",
        "\n",
        "X_train = pad_sequences(X_train, padding='post', maxlen=maxlen)\n",
        "X_test = pad_sequences(X_test, padding='post', maxlen=maxlen)"
      ],
      "execution_count": 17,
      "outputs": []
    },
    {
      "cell_type": "code",
      "metadata": {
        "id": "4S_5yaE1P9EK",
        "outputId": "c8a853c7-886b-4bac-f4d0-c689f8279006",
        "colab": {
          "base_uri": "https://localhost:8080/",
          "height": 34
        }
      },
      "source": [
        "vocab_size, X_train.shape, y_train.shape, X_test.shape, y_test.shape"
      ],
      "execution_count": 62,
      "outputs": [
        {
          "output_type": "execute_result",
          "data": {
            "text/plain": [
              "(8082, (1939, 200), (1939, 12), (485, 200), (485, 12))"
            ]
          },
          "metadata": {
            "tags": []
          },
          "execution_count": 62
        }
      ]
    },
    {
      "cell_type": "code",
      "metadata": {
        "id": "6UrxQBoXN4Mq"
      },
      "source": [
        "embeddings_dictionary = dict()\n",
        "\n",
        "glove_file = open('drive/My Drive/nlp/similarity/embeddings/twitt_wiki_ham_blog.fa.text.100.vec', encoding=\"utf8\")\n",
        "\n",
        "for line in glove_file:\n",
        "    records = line.split()\n",
        "    word = records[0]\n",
        "    vector_dimensions = asarray(records[1:], dtype='float32')\n",
        "    embeddings_dictionary[word] = vector_dimensions\n",
        "glove_file.close()\n",
        "\n",
        "embedding_matrix = zeros((vocab_size, 100))\n",
        "for word, index in tokenizer.word_index.items():\n",
        "    embedding_vector = embeddings_dictionary.get(word)\n",
        "    if embedding_vector is not None:\n",
        "        embedding_matrix[index] = embedding_vector"
      ],
      "execution_count": 19,
      "outputs": []
    },
    {
      "cell_type": "code",
      "metadata": {
        "id": "Sl-HmULKQGmI",
        "outputId": "5aa5aefb-4386-4a60-ac22-819a8f31e595",
        "colab": {
          "base_uri": "https://localhost:8080/",
          "height": 578
        }
      },
      "source": [
        "print(embeddings_dictionary['و'])\n",
        "print()\n",
        "print(embedding_matrix[1])"
      ],
      "execution_count": 26,
      "outputs": [
        {
          "output_type": "stream",
          "text": [
            "[-2.222517 -0.428454 -1.253941  1.551816 -0.450873  2.649759 -1.07392\n",
            "  0.406471 -1.016656  0.639931 -0.24969  -0.256207  2.047839 -0.139004\n",
            "  2.443881 -2.85783  -2.349114 -0.481083 -0.138462  1.582742 -0.23184\n",
            " -3.487877 -1.008129 -1.740662  1.301929 -0.497582 -1.897205  0.871072\n",
            " -4.947224  0.300258  3.44793   1.904012  0.126853  0.94079  -0.677725\n",
            "  0.112498  0.333517 -1.833528  0.391443  1.316889 -0.229213 -2.983886\n",
            "  2.828554  5.009136 -4.385108  1.408675 -3.693358 -0.689139 -0.793945\n",
            " -0.98941   0.708806 -0.387987  2.559047 -3.488382 -0.513087 -1.142355\n",
            " -0.297812 -1.609838 -2.724513  0.776761 -1.8403    0.693504 -1.936019\n",
            " -3.0206    1.102566  2.473104 -1.330484 -0.189547 -2.518092  0.153484\n",
            "  1.032132  0.840575 -2.495274 -1.533112  2.027918  0.139619  0.710635\n",
            "  2.268173  2.209062 -0.910259  1.784887  2.117979 -1.443968  1.68699\n",
            " -1.255109  0.657385 -0.284593 -3.734695 -0.227355  0.455545 -0.74898\n",
            "  1.158716 -1.366242 -3.442508 -1.246078  1.401888  0.353083  0.361452\n",
            "  1.804778 -0.216301]\n",
            "\n",
            "[-2.22251701 -0.42845401 -1.25394106  1.55181599 -0.45087299  2.64975905\n",
            " -1.07392001  0.40647101 -1.01665604  0.63993102 -0.24969    -0.25620699\n",
            "  2.04783893 -0.13900401  2.44388103 -2.85783005 -2.34911394 -0.48108301\n",
            " -0.13846201  1.58274198 -0.23184    -3.48787689 -1.008129   -1.74066198\n",
            "  1.301929   -0.49758199 -1.897205    0.87107199 -4.94722414  0.30025801\n",
            "  3.4479301   1.90401196  0.126853    0.94079    -0.67772502  0.112498\n",
            "  0.33351699 -1.83352804  0.39144301  1.31688905 -0.229213   -2.983886\n",
            "  2.82855392  5.0091362  -4.38510799  1.40867496 -3.69335794 -0.68913901\n",
            " -0.79394501 -0.98940998  0.70880598 -0.38798699  2.55904698 -3.4883821\n",
            " -0.51308697 -1.14235497 -0.29781201 -1.60983801 -2.72451305  0.776761\n",
            " -1.84029996  0.69350398 -1.93601894 -3.02060008  1.102566    2.473104\n",
            " -1.33048403 -0.189547   -2.51809192  0.153484    1.03213203  0.84057498\n",
            " -2.49527407 -1.53311205  2.0279181   0.13961899  0.71063501  2.26817298\n",
            "  2.2090621  -0.91025901  1.78488696  2.11797905 -1.44396806  1.68699002\n",
            " -1.25510895  0.65738499 -0.28459299 -3.73469496 -0.227355    0.45554501\n",
            " -0.74897999  1.15871596 -1.36624205 -3.44250798 -1.24607801  1.40188801\n",
            "  0.35308301  0.36145201  1.80477798 -0.21630099]\n"
          ],
          "name": "stdout"
        }
      ]
    },
    {
      "cell_type": "code",
      "metadata": {
        "id": "C3LLbfIiAtbY",
        "outputId": "a7ce98c3-7ae6-41bc-9d28-4702d2b88aed",
        "colab": {
          "base_uri": "https://localhost:8080/",
          "height": 527
        }
      },
      "source": [
        "model = tf.keras.Sequential([\n",
        "    # tf.keras.layers.Input(shape=(maxlen,)),\n",
        "    tf.keras.layers.Embedding(input_dim=vocab_size, output_dim = 100, \n",
        "                            weights=[embedding_matrix],\n",
        "                            trainable=False, name='Embedding_Layer'),\n",
        "    tf.keras.layers.LSTM(200,\n",
        "                        # return_sequences=True,\n",
        "                        # stateful=True,\n",
        "                        recurrent_initializer='glorot_uniform',\n",
        "                        name='LSTM_Layer'),\n",
        "    tf.keras.layers.Dense(12, activation='sigmoid', name='Dense_Layer')\n",
        "  ], name='LSTM_Model')\n",
        "model.compile(loss='binary_crossentropy', optimizer='adam', metrics=['acc'])\n",
        "print(model.summary())\n",
        "print()\n",
        "print(model.layers[0].weights)"
      ],
      "execution_count": 89,
      "outputs": [
        {
          "output_type": "stream",
          "text": [
            "Model: \"LSTM_Model\"\n",
            "_________________________________________________________________\n",
            "Layer (type)                 Output Shape              Param #   \n",
            "=================================================================\n",
            "Embedding_Layer (Embedding)  (None, None, 100)         808200    \n",
            "_________________________________________________________________\n",
            "LSTM_Layer (LSTM)            (None, 200)               240800    \n",
            "_________________________________________________________________\n",
            "Dense_Layer (Dense)          (None, 12)                2412      \n",
            "=================================================================\n",
            "Total params: 1,051,412\n",
            "Trainable params: 243,212\n",
            "Non-trainable params: 808,200\n",
            "_________________________________________________________________\n",
            "None\n",
            "\n",
            "[<tf.Variable 'Embedding_Layer/embeddings:0' shape=(8082, 100) dtype=float32, numpy=\n",
            "array([[ 0.000000e+00,  0.000000e+00,  0.000000e+00, ...,  0.000000e+00,\n",
            "         0.000000e+00,  0.000000e+00],\n",
            "       [-2.222517e+00, -4.284540e-01, -1.253941e+00, ...,  3.614520e-01,\n",
            "         1.804778e+00, -2.163010e-01],\n",
            "       [-1.325660e-01, -4.901635e+00, -1.319971e+00, ...,  9.917000e-02,\n",
            "         4.036689e+00, -9.570190e-01],\n",
            "       ...,\n",
            "       [ 8.715900e-02, -8.570000e-03, -5.585600e-02, ...,  5.066300e-02,\n",
            "         1.246300e-02, -3.640000e-03],\n",
            "       [ 1.397412e+00,  1.177170e-01, -1.339852e+00, ..., -1.145932e+00,\n",
            "         2.593066e+00, -8.629790e-01],\n",
            "       [ 2.609000e+00,  1.130974e+00,  5.106717e+00, ...,  7.676260e-01,\n",
            "         3.172934e+00, -5.402200e-02]], dtype=float32)>]\n"
          ],
          "name": "stdout"
        }
      ]
    },
    {
      "cell_type": "code",
      "metadata": {
        "id": "fb1R_m8wGO7J",
        "outputId": "e11e392e-4555-4df6-df24-fbfcb9618106",
        "colab": {
          "base_uri": "https://localhost:8080/",
          "height": 187
        }
      },
      "source": [
        "history = model.fit(X_train, y_train, batch_size=8, epochs=5, verbose=1, validation_split=0.2)"
      ],
      "execution_count": 90,
      "outputs": [
        {
          "output_type": "stream",
          "text": [
            "Epoch 1/5\n",
            "25/25 [==============================] - 1s 42ms/step - loss: 0.4113 - acc: 0.3372 - val_loss: 0.2951 - val_acc: 0.4588\n",
            "Epoch 2/5\n",
            "25/25 [==============================] - 1s 25ms/step - loss: 0.2914 - acc: 0.4952 - val_loss: 0.2938 - val_acc: 0.4588\n",
            "Epoch 3/5\n",
            "25/25 [==============================] - 1s 25ms/step - loss: 0.2904 - acc: 0.4952 - val_loss: 0.2938 - val_acc: 0.4588\n",
            "Epoch 4/5\n",
            "25/25 [==============================] - 1s 25ms/step - loss: 0.2900 - acc: 0.4958 - val_loss: 0.2975 - val_acc: 0.4588\n",
            "Epoch 5/5\n",
            "25/25 [==============================] - 1s 25ms/step - loss: 0.2903 - acc: 0.4958 - val_loss: 0.2954 - val_acc: 0.4588\n"
          ],
          "name": "stdout"
        }
      ]
    },
    {
      "cell_type": "code",
      "metadata": {
        "id": "EXozAvLmPxzk",
        "outputId": "889a087c-aa07-4f74-c00f-f15bcd38929e",
        "colab": {
          "base_uri": "https://localhost:8080/",
          "height": 68
        }
      },
      "source": [
        "score = model.evaluate(X_test, y_test, verbose=1)\n",
        "\n",
        "print(\"Test Score:\", score[0])\n",
        "print(\"Test Accuracy:\", score[1])"
      ],
      "execution_count": 91,
      "outputs": [
        {
          "output_type": "stream",
          "text": [
            "16/16 [==============================] - 0s 8ms/step - loss: 0.2908 - acc: 0.4845\n",
            "Test Score: 0.2907758355140686\n",
            "Test Accuracy: 0.4845360815525055\n"
          ],
          "name": "stdout"
        }
      ]
    },
    {
      "cell_type": "code",
      "metadata": {
        "id": "rdXu_iWKPp-_"
      },
      "source": [
        "# model.summary()\n",
        "# ku.plot_model(model, show_shapes=True, show_layer_names=True, expand_nested=True)"
      ],
      "execution_count": null,
      "outputs": []
    },
    {
      "cell_type": "code",
      "metadata": {
        "id": "L7jYuMmCRUp2"
      },
      "source": [
        "# import matplotlib.pyplot as plt\n",
        "\n",
        "# plt.plot(history.history['acc'])\n",
        "# plt.plot(history.history['val_acc'])\n",
        "\n",
        "# plt.title('model accuracy')\n",
        "# plt.ylabel('accuracy')\n",
        "# plt.xlabel('epoch')\n",
        "# plt.legend(['train','test'], loc='upper left')\n",
        "# plt.show()\n",
        "\n",
        "# plt.plot(history.history['loss'])\n",
        "# plt.plot(history.history['val_loss'])\n",
        "\n",
        "# plt.title('model loss')\n",
        "# plt.ylabel('loss')\n",
        "# plt.xlabel('epoch')\n",
        "# plt.legend(['train','test'], loc='upper left')\n",
        "# plt.show()"
      ],
      "execution_count": 66,
      "outputs": []
    },
    {
      "cell_type": "markdown",
      "metadata": {
        "id": "YOWqOnmkpowp"
      },
      "source": [
        "# LASER"
      ]
    },
    {
      "cell_type": "code",
      "metadata": {
        "id": "tw1I7Bt-RYFj",
        "outputId": "6e9e3092-041e-4677-9484-75d857836775",
        "colab": {
          "base_uri": "https://localhost:8080/",
          "height": 187
        }
      },
      "source": [
        "! pip -q install laserembeddings\n",
        "! python -m laserembeddings download-models"
      ],
      "execution_count": 3,
      "outputs": [
        {
          "output_type": "stream",
          "text": [
            "\u001b[K     |████████████████████████████████| 860kB 7.4MB/s \n",
            "\u001b[K     |████████████████████████████████| 51kB 5.2MB/s \n",
            "\u001b[?25h  Building wheel for sacremoses (setup.py) ... \u001b[?25l\u001b[?25hdone\n",
            "Downloading models into /usr/local/lib/python3.6/dist-packages/laserembeddings/data\n",
            "\n",
            "✅   Downloaded https://dl.fbaipublicfiles.com/laser/models/93langs.fcodes    \n",
            "✅   Downloaded https://dl.fbaipublicfiles.com/laser/models/93langs.fvocab    \n",
            "✅   Downloaded https://dl.fbaipublicfiles.com/laser/models/bilstm.93langs.2018-12-26.pt    \n",
            "\n",
            "✨ You're all set!\n"
          ],
          "name": "stdout"
        }
      ]
    },
    {
      "cell_type": "code",
      "metadata": {
        "id": "sB1LFgFl3str"
      },
      "source": [
        "from laserembeddings import Laser\n",
        "from __future__ import unicode_literals\n",
        "laser = Laser()"
      ],
      "execution_count": 4,
      "outputs": []
    },
    {
      "cell_type": "code",
      "metadata": {
        "id": "Xjb5n_rN26Xt"
      },
      "source": [
        "import tensorflow as tf\n",
        "from sklearn.model_selection import train_test_split"
      ],
      "execution_count": 27,
      "outputs": []
    },
    {
      "cell_type": "code",
      "metadata": {
        "id": "G6BtD2WN6XdZ",
        "outputId": "0148dc66-75c0-4f1f-db2b-14115025055e",
        "colab": {
          "base_uri": "https://localhost:8080/",
          "height": 34
        }
      },
      "source": [
        "np.array([1,2,3,4]).shape"
      ],
      "execution_count": 47,
      "outputs": [
        {
          "output_type": "execute_result",
          "data": {
            "text/plain": [
              "(4,)"
            ]
          },
          "metadata": {
            "tags": []
          },
          "execution_count": 47
        }
      ]
    },
    {
      "cell_type": "code",
      "metadata": {
        "id": "It4tzaFQ35St"
      },
      "source": [
        "embedding = laser.embed_sentences([\"سلام خوبی آقا؟ چرا؟\"], lang='fa')"
      ],
      "execution_count": 41,
      "outputs": []
    },
    {
      "cell_type": "code",
      "metadata": {
        "id": "EzfbgDbd93Y2",
        "outputId": "b3aa5909-d44e-49db-8558-1743879ad2e9",
        "colab": {
          "base_uri": "https://localhost:8080/",
          "height": 88
        }
      },
      "source": [
        "print(np.asarray(embedding[0]).astype(np.float32).shape)\n",
        "print(embedding[0].reshape(-1).shape)\n",
        "# print(embedding[0][0])\n",
        "# print()\n",
        "print(embedding[0].tolist())"
      ],
      "execution_count": 133,
      "outputs": [
        {
          "output_type": "stream",
          "text": [
            "(1024,)\n",
            "(1024,)\n",
            "[0.00013220480468589813, 0.0005632739048451185, -0.0036418449599295855, 0.04224187508225441, 0.018085766583681107, 0.00017751163977663964, 0.002364765154197812, 0.0020738039165735245, -0.00020900974050164223, -0.00010958989150822163, 0.0016585809644311666, -0.00010220512194791809, 0.005281758960336447, 0.0025984228122979403, 0.006219091359525919, 0.00835022609680891, 0.008378100581467152, -0.0004980257945135236, 8.926170266931877e-05, 0.006056675687432289, 0.00531877251341939, -0.0004272315127309412, -0.00020097970264032483, -0.00010922906949417666, 0.0003911723324563354, 0.0008754387963563204, 0.00010981337254634127, 0.000990370404906571, -0.00018827272288035601, 0.00012104511552024633, 0.01741662807762623, 0.008600754663348198, 0.004271915648132563, 0.004119337536394596, 0.001083105686120689, 0.004252106416970491, 0.005414559040218592, 0.004994853865355253, -0.0018967631040140986, -0.0005139067652635276, 0.002989789703860879, 0.005320620723068714, 0.0028285919688642025, 0.0008133028168231249, 0.0051584793254733086, -0.0013157648500055075, 0.0013515609316527843, -0.00044667362817563117, 0.008637432008981705, 5.9744752434198745e-06, 0.04056434705853462, 0.014897576533257961, 0.0010791185777634382, 0.011489903554320335, 0.0026526241563260555, -4.927914051222615e-05, 0.006111931521445513, 0.0620625838637352, -0.0004035586316604167, 0.006628364324569702, 0.0006596666062250733, -3.416928666410968e-05, 0.004969795234501362, 0.0004270054050721228, 0.0011915898649021983, 4.398491364554502e-05, 0.008235985413193703, 0.0019344488391652703, 0.00038292494718916714, 0.007030076812952757, 0.03190246596932411, -0.0001820464531192556, -0.00045325065730139613, -0.001286853919737041, -0.0019690608605742455, 0.008990472182631493, 0.0013738909037783742, 0.000636862765531987, 0.004230325575917959, 0.0024008501786738634, -0.00023310104734264314, -0.00029437639750540257, 0.00048582599265500903, 0.046446919441223145, 0.00264261057600379, 0.010405224747955799, 0.0033682454377412796, 0.00455545075237751, 0.011563113890588284, 0.005899233743548393, 0.00014198143617250025, 0.0052906209602952, -0.0006434366223402321, 0.0018397857202216983, 0.006356787867844105, 0.003445630893111229, 0.01594015583395958, 0.002567429095506668, 0.00818170141428709, -0.0011627799831330776, -0.0005476743099279702, 0.002082522725686431, 0.007536839693784714, 0.0045571341179311275, 0.006536760833114386, 0.0005162868765182793, 0.0019016325240954757, 0.004732594825327396, 0.005396000575274229, 0.0018287247512489557, 0.0003071336541324854, -0.0008677722071297467, -0.0011788413394242525, -2.9907456337241456e-05, -0.0017412792658433318, 0.012039599008858204, 0.000952860398683697, 0.0009286190033890307, 0.01349260751157999, 0.0005977831897325814, 0.006393375340849161, 0.004896920174360275, 0.0065587786957621574, 0.0019065090455114841, -3.4717621019808576e-05, 0.005617652088403702, -2.9797925890306942e-05, 0.01328772958368063, 0.009938949719071388, 0.0007432140992023051, 0.00955156609416008, 0.0011419466463848948, 0.003622244345024228, 0.0071169715374708176, 0.004361234605312347, -8.258590969489887e-05, 0.001855033915489912, -0.00010683310392778367, -0.001332338317297399, 0.0008018843363970518, -1.9517938198987395e-05, 0.0009045780170708895, 0.0001285332255065441, 0.0009553267154842615, 0.001395844155922532, -0.0007903457153588533, 0.004326964728534222, -0.0018218762706965208, 0.006731403060257435, 0.0012352456105872989, 0.008578137494623661, -0.0015377136878669262, -0.0008280093898065388, 4.776862169819651e-06, -3.101339871136588e-06, -0.00020001271332148463, -0.0008864972623996437, -0.0004840315959881991, 0.009552915580570698, 0.015230928547680378, -8.231520041590557e-05, 0.008313375525176525, 0.00377149460837245, -0.004039122257381678, 0.004362842999398708, 0.0627489984035492, -0.0008188578649424016, 0.011236283928155899, 0.001278230338357389, 0.004531883168965578, 0.010486064478754997, -0.0006238578353077173, 0.0017059741076081991, 0.0008971311617642641, -0.002207932062447071, 0.028368528932332993, 0.004868505988270044, 0.0015300646191462874, -0.0003368530888110399, -0.0002954437804874033, -0.001714234589599073, 0.006831420119851828, 0.00022970551799517125, 0.006348464172333479, -0.00029399918275885284, -2.6760157197713852e-05, 0.004497705027461052, 0.010488277301192284, 0.01515164040029049, -0.00029557201196439564, -0.0003089544188696891, 0.0003644332755357027, 0.0262603759765625, -0.0011914647184312344, 0.0020164011511951685, 0.0014087253948673606, 0.05235045775771141, -0.0001861810014816001, 0.008004024624824524, 0.04959113523364067, 0.0034702506382018328, 0.002307392656803131, 2.7426285669207573e-05, 0.00011739549518097192, -0.0007802716572768986, -0.0011206098133698106, 0.010886811651289463, -0.006457120645791292, -0.0002249955286970362, -1.3627969565277454e-05, 0.008552144281566143, 0.014724957756698132, -0.00026508080190978944, 0.0016383195761591196, 0.0008232684922404587, -0.0024628746323287487, -0.0001853599533205852, 0.03307344764471054, 0.003801961662247777, 0.005632640793919563, 6.43216772004962e-05, 0.002188218291848898, -7.560293306596577e-05, -0.00017003390530589968, 0.00023096454970072955, 9.8278781024419e-07, -7.719852874288335e-05, 0.0016275692032650113, 0.00017891453171614558, -0.0006830485071986914, 0.01498330943286419, -0.002815541811287403, -0.0009012043592520058, -0.00026277435244992375, -0.00020153516379650682, 0.00043995981104671955, -0.0009010015637613833, 0.004188770428299904, 0.006889190524816513, 0.0035771906841546297, -0.002890300936996937, 0.0029325191862881184, 0.028454579412937164, 0.0005586968036368489, -5.170964868739247e-05, -7.505983376177028e-05, 0.011718519032001495, 0.0007745889597572386, -0.0014809948625043035, -0.00028680454124696553, 0.009924890473484993, 0.0032913503237068653, 0.00031182137900032103, 0.0027717938646674156, -1.9000850443262607e-05, 0.0019057728350162506, 0.0005693251732736826, 0.001067158649675548, 0.00707370787858963, 0.0010451547568663955, -0.0008375785546377301, 0.00022409223311115056, 0.0017751071136444807, 0.0017667495412752032, 0.001606238423846662, 0.004146468359977007, 0.024646321311593056, 0.0014092770870774984, 0.0006388964247889817, 0.008596484549343586, 0.004584952723234892, 0.010909422300755978, 0.0002709604159463197, 0.0026258518919348717, 0.028688907623291016, 0.0020196347031742334, 0.00043269048910588026, 0.0017272402765229344, -6.536319415317848e-05, -0.00046411980292759836, 0.00765642337501049, 0.0029511055909097195, 0.02151786908507347, -0.0006764357094652951, 2.9821923817507923e-05, 0.01281303633004427, 0.0011929894099012017, 0.0009874149691313505, 0.0016868740785866976, 0.0066575901582837105, -4.408068434713641e-06, 1.789134148566518e-05, 0.006129158660769463, -0.00030688350670970976, 0.0024768111761659384, 0.005266000982373953, 0.019200827926397324, 0.001722648972645402, -0.0007961729425005615, 0.00394517881795764, 0.0005199025035835803, 0.002858548192307353, -0.00037312653148546815, 0.0013642359990626574, -0.0012536519207060337, -1.319241891906131e-05, -0.0009054908296093345, -0.00017079125973396003, 0.0058273025788366795, 0.0027525469195097685, 0.011995915323495865, 0.024764439091086388, 0.017254719510674477, 0.007092118728905916, -7.293938688235357e-05, -0.005437841173261404, 0.0057536023668944836, -9.409734775545076e-05, 0.021609745919704437, 0.001245168037712574, 0.0018841667333617806, 0.0021302190143615007, -0.0012199283810332417, 0.00033645943040028214, 0.009827795438468456, 0.001131232944317162, 0.011479158885776997, 0.0014195111580193043, -0.0013144450495019555, -4.7554127377225086e-05, -0.00019784776668529958, 0.00048810880980454385, 0.003326346632093191, -0.000564173620659858, 0.0021888650953769684, 0.0001951036392711103, 0.01379345078021288, 0.0006683868123218417, 0.002433132380247116, -5.972259532427415e-05, -0.0011539773549884558, 0.00021795132488477975, 0.00013600393140222877, 0.005452337674796581, 0.000713041634298861, -0.0013434524880722165, -0.00011783235095208511, 0.004308512434363365, 0.0008516482193954289, 0.0046937307342886925, 6.771113112336025e-05, 0.005162181798368692, -0.0008557499386370182, 0.0033766869455575943, -8.60866712173447e-05, -0.00012554379645735025, 0.002426261082291603, 0.0023537524975836277, 0.017284687608480453, 0.0019535881001502275, -0.00014670177188236266, 0.006464653182774782, 0.0021093697287142277, -0.00038619598490186036, 0.0024431096389889717, 0.0004965520929545164, 0.006331757642328739, 0.002679399913176894, 0.01634182222187519, 0.0016505707753822207, 0.004556166008114815, -0.00017767501412890851, 0.004084357526153326, 0.004096826538443565, 0.002475582994520664, 0.0013980974908918142, 0.0008120129932649434, -0.00043798689148388803, 0.0057591223157942295, 0.0032897244673222303, -5.154589962330647e-05, -0.002639541169628501, 0.0038834975566715, 0.004576646722853184, 0.003157803788781166, -0.00010372925316914916, 0.011456227861344814, -0.00029946878203190863, 0.005077819339931011, 0.003439265536144376, 0.008133448660373688, 0.001460566883906722, 0.013295984826982021, -9.064449113793671e-05, -7.264997839229181e-05, 0.07488146424293518, 2.5453922717133537e-05, 0.002972004469484091, 0.005611372645944357, -0.0003286204591859132, 0.002132205991074443, 0.012952416203916073, 9.737590880831704e-05, 0.009128523990511894, 0.0001751064701238647, -0.0012966874055564404, 0.0014540040865540504, -0.0008588210912421346, 0.00045144447358325124, -0.0010826129000633955, 0.008145196363329887, -0.00035591222695074975, 0.01005083043128252, 0.0025629533920437098, 0.006390854716300964, 0.00011674814595608041, 0.01401310134679079, 0.004327575676143169, -9.776902152225375e-05, 0.00818669144064188, 2.6725532734417357e-05, 0.0016966053517535329, -0.001590627827681601, -0.0024731673765927553, -0.0001587653678143397, -0.0001639158435864374, 0.025996824726462364, 0.008745974861085415, 0.00013439000758808106, -0.0002030599134741351, 0.00022493387223221362, -0.0003694415499921888, 0.0035274738911539316, 0.006958617363125086, 0.00017857522470876575, -0.0008139147539623082, 0.0015209156554192305, -8.583486487623304e-05, -0.0001462319487472996, -0.001963599817827344, 0.003353953594341874, -0.00020519398094620556, 0.002031447598710656, 0.005064001772552729, 0.0011270821560174227, -0.0027179878670722246, 0.047954633831977844, 0.0054846471175551414, 0.0014318980975076556, 0.004103582352399826, 0.002971368608996272, 0.002013377146795392, 0.028688928112387657, 0.0254060085862875, -0.0003869827778544277, 0.012824757024645805, 0.0014311718987300992, 0.006033787503838539, 0.0014991487842053175, 0.015386577695608139, 0.0010993843898177147, -9.343520650872961e-05, 0.005653027910739183, 0.15042459964752197, 0.0013385334750637412, 0.004191722720861435, 0.017469532787799835, 1.2047428299410967e-06, 0.002624922664836049, 0.004938538186252117, 0.0009740404784679413, -0.00011500866821734235, 0.00015343939594458789, 0.0015044573228806257, 0.001870561856776476, 0.00551516143605113, 2.0743102595588425e-06, 0.0002720154880080372, -0.00021666339307557791, -0.001240945071913302, 0.0017164145829156041, 0.0028507388196885586, 0.00345401163212955, 0.0001036475514410995, 0.0007789234514348209, -0.00023766362573951483, -0.001080316142179072, 0.0008510177722200751, 0.0024848305620253086, 0.012937504798173904, -0.00127464032266289, 0.0025723774451762438, 0.0012758915545418859, 7.535473559983075e-05, 0.003155844984576106, 0.0042129745706915855, -0.0006084588821977377, 0.0005013144691474736, 0.0071205683052539825, 0.0005365067045204341, 0.007948500104248524, 0.0015053971437737346, 0.0017684167250990868, -8.601685840403661e-05, 4.7252800868591294e-05, -0.0014056038344278932, -0.0001918279886012897, 0.007463844958692789, -0.0005516931414604187, -0.00024122936883941293, 0.00358354183845222, -0.0029707560315728188, -0.00018190607079304755, 0.010113582015037537, 0.01209233794361353, 0.0012229735730215907, 0.00037087281816639006, 0.03714518994092941, -0.0016600415110588074, -6.14269301877357e-05, -0.0018149467650800943, 0.0010089250281453133, -8.630492811789736e-05, 4.408747190609574e-05, -0.00026945341960527003, 0.003992743324488401, 0.002870886819437146, -0.001423629350028932, -2.979584132845048e-05, 0.00038567761657759547, -0.0003035680565517396, 0.004304229281842709, -8.02010836196132e-05, 0.00844857282936573, 0.0006650386494584382, 0.0017183233285322785, 0.005805221851915121, 0.00665585370734334, 0.0002581070002634078, -9.870462963590398e-05, -0.0005436254432424903, 0.0010702628642320633, -0.0003513070987537503, 0.000138261922984384, -0.00032723197364248335, 0.00049483502516523, -0.0008777941693551838, 0.004073393996804953, 0.011489865370094776, 0.05588856711983681, -2.7921640139538795e-05, -0.00038052976015023887, 0.01466547604650259, 0.0010257947724312544, 0.002395154209807515, -0.0006192359142005444, 0.0018443342996761203, -0.0005349589046090841, 0.015544261783361435, 0.00040627256385050714, 0.004505819641053677, 0.006089141126722097, -0.0002985652827192098, 0.008327950723469257, 0.035462453961372375, -0.0005423762486316264, 0.0048967767506837845, 0.00806267000734806, -0.0031252752523869276, 0.014276699163019657, 0.001987561583518982, 0.012643860653042793, 0.00019408388470765203, 0.004250599071383476, -0.0008201029268093407, 0.0022479763720184565, 0.0019235695945098996, -7.049996929708868e-05, 0.0015004356391727924, 0.004397588782012463, -0.00043942322372458875, -0.00028726074378937483, 0.0016164396656677127, 0.003995581530034542, -2.891434087359812e-05, 0.005377629306167364, 0.007192742545157671, -0.00010867455421248451, -0.0030261052306741476, 0.007675387430936098, 0.00696980906650424, 0.0018383444985374808, 0.0026212241500616074, 0.0010744327446445823, -0.0005655718850903213, 0.01285840105265379, 0.015607038512825966, 0.027581077069044113, -0.0003708598669618368, 0.007928733713924885, -3.066885255975649e-05, 0.009524398483335972, -3.659575304482132e-05, 0.01978529430925846, -0.00013899817713536322, 0.0005554429371841252, 0.00020201578445266932, 0.00033806118881329894, -0.0002599657163955271, 0.0051770079880952835, 0.01857403852045536, 0.0065879919566214085, 0.0006215485045686364, 0.02389359660446644, 0.00015036013792268932, -0.0009644649690017104, 0.006199943367391825, 0.001018738141283393, 0.006066684611141682, -0.001744614215567708, 0.027095336467027664, 0.006598372012376785, 0.0031947805546224117, 0.0008958391845226288, 0.0061571840196847916, 0.0027632983401417732, -4.43475873908028e-05, 1.9101271391264163e-06, -0.00011565401655388996, 0.035050541162490845, 0.003821034450083971, 0.007652842439711094, 0.0011223336914554238, -0.0004499522037804127, 0.0007025803788565099, 0.00462673744186759, 0.0030806902796030045, 0.0431857593357563, 0.001096121734008193, 0.0033654221333563328, -0.0003664854448288679, 0.02457674965262413, 0.03526345267891884, -4.569045267999172e-05, 0.0012549920938909054, 0.09183856099843979, 0.008051512762904167, 0.00015038748097140342, 0.0037845352198928595, 0.00020172115182504058, -0.0019381550373509526, 0.0007699520792812109, 0.000283867702819407, 0.025071511045098305, 0.0012690088478848338, 0.002214733511209488, 0.01747152768075466, 0.01136709563434124, 0.012137210927903652, 0.012082045897841454, -6.128368113422766e-05, 0.0004579179803840816, -3.506451321300119e-05, -9.324271377408877e-05, -7.007063686614856e-05, -0.001079398556612432, 0.006730399094521999, -0.0003314817149657756, -0.0006486026686616242, -0.00010099229984916747, 0.00013210027827881277, 0.013294617645442486, 0.027670281007885933, 0.014957515522837639, -0.0002881889813579619, 0.0021043468732386827, 0.007364192977547646, 0.020418716594576836, -0.0006022264715284109, -6.592358204215998e-06, -0.0003000364522449672, 0.006536574102938175, 0.0011710635153576732, 0.017518047243356705, -0.00022228389570955187, -0.0006498100119642913, 0.004323326516896486, 0.007469425443559885, -0.0015283318934962153, 0.013712484389543533, -0.0005750539130531251, -0.0009452037629671395, 0.08505552262067795, 6.422576916520484e-06, 0.049120064824819565, 0.002991502871736884, 0.00033710798015818, 0.0012836117530241609, 0.014037705957889557, -0.0005552188376896083, 0.007353057153522968, 0.007484086323529482, 6.33636664133519e-05, 0.0055226352997124195, 0.0014682671753689647, 0.007091307081282139, 0.003382210386916995, 3.2532461773371324e-05, -0.00010080168431159109, 0.0005753836594521999, 0.0114572923630476, 0.004127208609133959, -0.0010204946156591177, -0.001730057061649859, -0.0012339521199464798, 0.018206534907221794, 0.00038902246160432696, -0.0001283463352592662, 0.00647230539470911, -4.989907756680623e-05, 0.045128047466278076, 0.00042200874304398894, 0.07778976857662201, 0.06651280075311661, 0.002395286224782467, 0.016936391592025757, -0.0011971062049269676, -0.00013783709437120706, -4.929377610096708e-05, 0.0024146405048668385, -0.0005215314449742436, 0.0913941040635109, -0.0016150287119671702, 0.0008561082649976015, 0.05307566002011299, 0.005294743459671736, 0.0036596357822418213, 0.005685550160706043, 0.0020374334417283535, -5.609712752630003e-05, -0.0007185453432612121, 0.03594575077295303, -0.00020625344768632203, 0.0004858663014601916, 0.0030258791521191597, 0.029916755855083466, -0.00018045128672383726, -0.00017174337699543685, -0.00028660797397606075, 0.009763061068952084, -2.6348716346547008e-05, 0.00847948994487524, 0.005861824844032526, -0.0005908167804591358, -0.00016125633555930108, -0.0005052975029684603, 0.003664053976535797, 0.03150239214301109, 0.04118796065449715, -0.0019917490426450968, -0.0003862937446683645, 0.03992326557636261, 0.005124208517372608, -7.988597644725814e-05, -0.0013217125087976456, 0.06948333978652954, 0.0008050039177760482, -0.0002203659387305379, 0.024924753233790398, -0.01296667568385601, 0.003460840554907918, 0.024922143667936325, 0.0006490732776001096, 0.0017879271181300282, 0.017521297559142113, 0.0005910078762099147, -0.0001709862262941897, 0.004697115160524845, 0.009914482943713665, 0.024518869817256927, -0.00016345141921192408, 0.001473809708841145, 0.01059944648295641, 0.0031864172779023647, -0.00014557816029991955, 0.007880701683461666, 0.025059394538402557, 0.0011464538984000683, -0.00018764464766718447, 0.0006121469778008759, 0.005015226546674967, -0.0011585502652451396, -0.0007112953462637961, 0.002157445764169097, -0.001094073406420648, 0.0631183385848999, 0.012921142391860485, -0.00037914954009465873, 0.0012938609579578042, 0.02163190022110939, -0.0014391964068636298, 0.0016659077955409884, 0.006126299034804106, 0.0018542991019785404, 0.011560160666704178, 0.0007387564983218908, 0.002028440125286579, -0.0003587630344554782, 3.059835216845386e-05, 0.0028190037701278925, 0.001805511419661343, 0.0013375303242355585, 0.0003996379964519292, 0.00780062098056078, 0.001345642376691103, 0.0008930576150305569, 0.008237410336732864, 0.0062988800927996635, -6.562985072378069e-05, 0.0003003236197400838, -0.0012928755022585392, -0.00029830526909790933, 0.009139107540249825, 0.009404225274920464, 0.04653911292552948, -0.00010631300392560661, 0.060066577047109604, 0.00011411756713641807, -0.00021817981905769557, 0.0037607233971357346, 0.0021625992376357317, 0.006186320446431637, -8.394214091822505e-05, 0.0009985563810914755, -0.0004494478926062584, 0.04236787557601929, 0.009519209153950214, 0.0002133507514372468, -3.217261109966785e-05, 0.009282336570322514, 0.03132787346839905, -0.00019481981871649623, 0.12232881039381027, -0.0009523815824650228, -0.0004590688622556627, 0.029944028705358505, 0.004156961105763912, 0.004377245903015137, -0.0001280467986362055, 0.01552841067314148, -7.133423787308857e-05, -0.00021319853840395808, 0.0023338792379945517, 0.007531746756285429, 0.0005953623913228512, 0.008042464964091778, -0.0006538591696880758, -8.189278014469892e-05, 0.004532939754426479, 0.009282203391194344, 0.004549505654722452, 0.012619192712008953, -0.00022152076417114586, 0.0010809798259288073, 0.0024780358653515577, 0.007436126470565796, 0.009863425977528095, 0.0012329788878560066, -0.00018715309852268547, 0.013758399523794651, 0.00968298688530922, -0.0002257512096548453, 0.010936318896710873, -0.00036331298178993165, 0.002539222128689289, -0.0011552037904039025, 3.715479397214949e-05, 0.003977459855377674, -0.0010517888003960252, -0.00019512895960360765, -0.003749112831428647, 0.05039432644844055, -0.000957669282797724, 0.0033925718162208796, 0.00329471193253994, -0.0009357809904031456, 0.0009884063620120287, -0.0023615877144038677, -0.000222412112634629, 0.0015939289005473256, 0.005946377757936716, -0.0002804821415338665, -0.00019726145546883345, -0.000305006600683555, -0.0007843586499802768, -0.0018700289074331522, -0.00015939094009809196, 0.004505285993218422, 0.0004523565003182739, -6.311447941698134e-05, 0.007374654524028301, 0.003959437366575003, 0.0005895328940823674, 0.057795409113168716, 0.0002308155526407063, 0.0005557634867727757, 0.0013869460672140121, -0.0014537221286445856, 0.022659584879875183, -8.92033422132954e-05, 0.008449580520391464, 0.0006371276103891432, 0.009349890053272247, 0.09625131636857986, 0.0022602779790759087, 0.0025968262925744057, 0.002169577404856682, -0.00028502443456090987, -0.0005640701274387538, -0.0001958874345291406, 0.0038592314813286066, 0.0020968897733837366, 0.0006603438523598015, 0.0092791598290205, 0.0016654441133141518, 0.002713804831728339, 0.002581430831924081, -0.001465735025703907, 0.00549174752086401, 0.0028840345330536366, 0.011509147472679615, 0.046883270144462585, -0.000371054804418236, 0.0009182827780023217, 0.00030329381115734577, 0.0026542136911302805, -9.532148396829143e-05, -0.00022729128249920905, 0.0004946854314766824, 0.002869237679988146, 2.702280289668124e-05, 0.044638488441705704, -3.7794176023453474e-05, 0.0014318266185000539, -0.003245648927986622, 0.030335087329149246, 0.0022198285441845655, 1.3346763807930984e-05, -0.00019641162361949682, 0.0028975065797567368, -0.0005758118932135403, 0.0026952263433486223, 0.009937559254467487, 0.006410500034689903, 0.0027160507161170244, -0.00029358058236539364, 0.0014741986524313688, -2.290976954100188e-05, 0.0005051945918239653, 0.0031138071790337563, -0.000834835518617183, 0.000769617035984993, 0.0009760188986547291, -0.001341665512882173, 0.007588688749819994, 0.025959352031350136, 0.0008095321245491505, 0.003035525791347027, 0.003658025059849024, 0.00018646850367076695, -0.0002904481370933354, -0.00018619291950017214, -6.580080662388355e-05, 0.01993555948138237, 0.006602894514799118, 0.019466856494545937, -0.0004308592760935426, 0.04985623434185982, -3.6951754736946896e-05, 0.00046312951599247754, 0.007130143232643604, -9.442639566259459e-05, -0.00023542647249996662, -0.00039720156928524375, 0.0009789830073714256, -0.0001826244406402111, 0.00034025541390292346, 0.005374726839363575, -0.0007994354236871004, -0.0007183070993050933, 0.004327291622757912, -0.00011325603554723784, 0.017416520044207573, 0.004095705691725016, -0.000176613379153423, -7.732601807219908e-05, -0.0002504658477846533, 0.0007313403184525669, 0.009210430085659027, 0.040824949741363525, 0.06112242862582207, 0.013675197027623653, 0.0021409832406789064, 0.0005208982620388269, -0.001024085097014904, -0.0009801695123314857, -7.983671821421012e-05, 0.016067426651716232, 0.00037287219311110675, 0.024597246199846268, -5.657264046021737e-05, -4.972017995896749e-05, -8.07291071396321e-05, 0.01583140343427658, -0.001215534284710884, 0.0033088920172303915, 0.00010163439583266154, 0.013037784025073051, -0.00014854970504529774, 0.00793394260108471, 0.012071235105395317, 0.0049036284908652306, 7.602207188028842e-05, 0.007075967267155647]\n"
          ],
          "name": "stdout"
        }
      ]
    },
    {
      "cell_type": "code",
      "metadata": {
        "id": "lSQdhjdD8Osl"
      },
      "source": [
        "df_types = pd.read_csv(\"/content/drive/My Drive/topics-for-types/df_types.csv\")"
      ],
      "execution_count": 143,
      "outputs": []
    },
    {
      "cell_type": "code",
      "metadata": {
        "id": "Jt4uvJOY51h_"
      },
      "source": [
        "df_types['sentence'] = df_types['sentence'].apply(lambda sent: laser.embed_sentences(sent, lang='fa')[0])"
      ],
      "execution_count": 144,
      "outputs": []
    },
    {
      "cell_type": "code",
      "metadata": {
        "id": "iExaDLOJ69EL",
        "outputId": "4f89e604-24b5-4471-e22b-c543f2691aa7",
        "colab": {
          "base_uri": "https://localhost:8080/",
          "height": 204
        }
      },
      "source": [
        "df_types.head()"
      ],
      "execution_count": 145,
      "outputs": [
        {
          "output_type": "execute_result",
          "data": {
            "text/html": [
              "<div>\n",
              "<style scoped>\n",
              "    .dataframe tbody tr th:only-of-type {\n",
              "        vertical-align: middle;\n",
              "    }\n",
              "\n",
              "    .dataframe tbody tr th {\n",
              "        vertical-align: top;\n",
              "    }\n",
              "\n",
              "    .dataframe thead th {\n",
              "        text-align: right;\n",
              "    }\n",
              "</style>\n",
              "<table border=\"1\" class=\"dataframe\">\n",
              "  <thead>\n",
              "    <tr style=\"text-align: right;\">\n",
              "      <th></th>\n",
              "      <th>sentence</th>\n",
              "      <th>انتخاب</th>\n",
              "      <th>بله/خیر</th>\n",
              "      <th>ترجمه</th>\n",
              "      <th>تعامل</th>\n",
              "      <th>تعریف</th>\n",
              "      <th>توضیح</th>\n",
              "      <th>دلیل</th>\n",
              "      <th>ریاضی</th>\n",
              "      <th>لیست</th>\n",
              "      <th>نظر</th>\n",
              "      <th>واقعیت</th>\n",
              "      <th>پیشنهاد</th>\n",
              "    </tr>\n",
              "  </thead>\n",
              "  <tbody>\n",
              "    <tr>\n",
              "      <th>0</th>\n",
              "      <td>[0.020942228, -8.114154e-05, -0.0009854112, 0....</td>\n",
              "      <td>0</td>\n",
              "      <td>0</td>\n",
              "      <td>0</td>\n",
              "      <td>0</td>\n",
              "      <td>1</td>\n",
              "      <td>1</td>\n",
              "      <td>0</td>\n",
              "      <td>0</td>\n",
              "      <td>0</td>\n",
              "      <td>1</td>\n",
              "      <td>0</td>\n",
              "      <td>0</td>\n",
              "    </tr>\n",
              "    <tr>\n",
              "      <th>1</th>\n",
              "      <td>[0.00867996, 0.0027223467, -0.00016234924, 0.0...</td>\n",
              "      <td>0</td>\n",
              "      <td>1</td>\n",
              "      <td>0</td>\n",
              "      <td>0</td>\n",
              "      <td>0</td>\n",
              "      <td>1</td>\n",
              "      <td>0</td>\n",
              "      <td>0</td>\n",
              "      <td>0</td>\n",
              "      <td>1</td>\n",
              "      <td>0</td>\n",
              "      <td>0</td>\n",
              "    </tr>\n",
              "    <tr>\n",
              "      <th>2</th>\n",
              "      <td>[0.011158594, 0.018385716, -8.350732e-05, 0.01...</td>\n",
              "      <td>0</td>\n",
              "      <td>0</td>\n",
              "      <td>0</td>\n",
              "      <td>0</td>\n",
              "      <td>0</td>\n",
              "      <td>1</td>\n",
              "      <td>1</td>\n",
              "      <td>0</td>\n",
              "      <td>0</td>\n",
              "      <td>1</td>\n",
              "      <td>0</td>\n",
              "      <td>0</td>\n",
              "    </tr>\n",
              "    <tr>\n",
              "      <th>3</th>\n",
              "      <td>[0.009575151, 0.01364643, 7.700209e-05, 0.0117...</td>\n",
              "      <td>0</td>\n",
              "      <td>0</td>\n",
              "      <td>0</td>\n",
              "      <td>0</td>\n",
              "      <td>0</td>\n",
              "      <td>1</td>\n",
              "      <td>1</td>\n",
              "      <td>0</td>\n",
              "      <td>0</td>\n",
              "      <td>1</td>\n",
              "      <td>0</td>\n",
              "      <td>0</td>\n",
              "    </tr>\n",
              "    <tr>\n",
              "      <th>4</th>\n",
              "      <td>[0.027029106, 0.002408459, 0.00048337242, 0.00...</td>\n",
              "      <td>0</td>\n",
              "      <td>0</td>\n",
              "      <td>0</td>\n",
              "      <td>0</td>\n",
              "      <td>1</td>\n",
              "      <td>0</td>\n",
              "      <td>0</td>\n",
              "      <td>0</td>\n",
              "      <td>1</td>\n",
              "      <td>1</td>\n",
              "      <td>0</td>\n",
              "      <td>0</td>\n",
              "    </tr>\n",
              "  </tbody>\n",
              "</table>\n",
              "</div>"
            ],
            "text/plain": [
              "                                            sentence  انتخاب  ...  واقعیت  پیشنهاد\n",
              "0  [0.020942228, -8.114154e-05, -0.0009854112, 0....       0  ...       0        0\n",
              "1  [0.00867996, 0.0027223467, -0.00016234924, 0.0...       0  ...       0        0\n",
              "2  [0.011158594, 0.018385716, -8.350732e-05, 0.01...       0  ...       0        0\n",
              "3  [0.009575151, 0.01364643, 7.700209e-05, 0.0117...       0  ...       0        0\n",
              "4  [0.027029106, 0.002408459, 0.00048337242, 0.00...       0  ...       0        0\n",
              "\n",
              "[5 rows x 13 columns]"
            ]
          },
          "metadata": {
            "tags": []
          },
          "execution_count": 145
        }
      ]
    },
    {
      "cell_type": "code",
      "metadata": {
        "id": "HT9fA7URMf7D",
        "outputId": "c8f2ea19-5439-4738-ae69-06c2b9b3e933",
        "colab": {
          "base_uri": "https://localhost:8080/",
          "height": 34
        }
      },
      "source": [
        "df_types.shape"
      ],
      "execution_count": 146,
      "outputs": [
        {
          "output_type": "execute_result",
          "data": {
            "text/plain": [
              "(2424, 13)"
            ]
          },
          "metadata": {
            "tags": []
          },
          "execution_count": 146
        }
      ]
    },
    {
      "cell_type": "code",
      "metadata": {
        "id": "zfS5i6JY5wtz"
      },
      "source": [
        "X = np.array(df_types[df_types.columns[0]])\n",
        "X = np.vstack(X)\n",
        "\n",
        "Y = df_types[df_types.columns[1:]].values\n",
        "\n",
        "# X = np.array(df_types.iloc[:,0:1])\n",
        "# Y = df_types.iloc[:,1:].values"
      ],
      "execution_count": 182,
      "outputs": []
    },
    {
      "cell_type": "code",
      "metadata": {
        "id": "2dIU12_77FYS"
      },
      "source": [
        "X_train, X_test, y_train, y_test = train_test_split(X, Y, test_size=0.10, random_state=42)"
      ],
      "execution_count": 195,
      "outputs": []
    },
    {
      "cell_type": "code",
      "metadata": {
        "id": "FGgNLji77YUg",
        "outputId": "f151090b-bc4f-43ed-fc93-cd6fa2a31082",
        "colab": {
          "base_uri": "https://localhost:8080/",
          "height": 34
        }
      },
      "source": [
        "len(X_train),len(X_test),len(y_train),len(y_test)"
      ],
      "execution_count": 196,
      "outputs": [
        {
          "output_type": "execute_result",
          "data": {
            "text/plain": [
              "(2181, 243, 2181, 243)"
            ]
          },
          "metadata": {
            "tags": []
          },
          "execution_count": 196
        }
      ]
    },
    {
      "cell_type": "code",
      "metadata": {
        "id": "Ft6tF_ek3LQo",
        "outputId": "a3f6c41b-049a-4868-fee1-9043c670ec9d",
        "colab": {
          "base_uri": "https://localhost:8080/",
          "height": 238
        }
      },
      "source": [
        "model = tf.keras.Sequential([\n",
        "    tf.keras.layers.Input(shape=X[0].shape, name='input_layer'),\n",
        "    tf.keras.layers.Dense(100, activation='sigmoid', name='Dense_Layer'),\n",
        "    tf.keras.layers.Dense(12, activation='sigmoid', name='Dense_Layer2'),\n",
        "  ], name='LASER_Model')\n",
        "\n",
        "model.compile(loss='binary_crossentropy', optimizer='adam', metrics=['acc'])\n",
        "print(model.summary())"
      ],
      "execution_count": 197,
      "outputs": [
        {
          "output_type": "stream",
          "text": [
            "Model: \"LASER_Model\"\n",
            "_________________________________________________________________\n",
            "Layer (type)                 Output Shape              Param #   \n",
            "=================================================================\n",
            "Dense_Layer (Dense)          (None, 100)               102500    \n",
            "_________________________________________________________________\n",
            "Dense_Layer2 (Dense)         (None, 12)                1212      \n",
            "=================================================================\n",
            "Total params: 103,712\n",
            "Trainable params: 103,712\n",
            "Non-trainable params: 0\n",
            "_________________________________________________________________\n",
            "None\n"
          ],
          "name": "stdout"
        }
      ]
    },
    {
      "cell_type": "code",
      "metadata": {
        "id": "69rtCjqW7PeH",
        "outputId": "54506eb6-c29c-4af5-88e7-3f09d27727d2",
        "colab": {
          "base_uri": "https://localhost:8080/",
          "height": 697
        }
      },
      "source": [
        "history = model.fit(X_train, y_train, batch_size=8, epochs=20, verbose=1, validation_split=0.2)"
      ],
      "execution_count": 200,
      "outputs": [
        {
          "output_type": "stream",
          "text": [
            "Epoch 1/20\n",
            "218/218 [==============================] - 1s 2ms/step - loss: 0.2340 - acc: 0.4834 - val_loss: 0.2448 - val_acc: 0.5927\n",
            "Epoch 2/20\n",
            "218/218 [==============================] - 1s 2ms/step - loss: 0.2236 - acc: 0.5550 - val_loss: 0.2338 - val_acc: 0.5767\n",
            "Epoch 3/20\n",
            "218/218 [==============================] - 0s 2ms/step - loss: 0.2150 - acc: 0.5906 - val_loss: 0.2299 - val_acc: 0.5881\n",
            "Epoch 4/20\n",
            "218/218 [==============================] - 1s 2ms/step - loss: 0.2084 - acc: 0.6175 - val_loss: 0.2241 - val_acc: 0.6133\n",
            "Epoch 5/20\n",
            "218/218 [==============================] - 0s 2ms/step - loss: 0.2027 - acc: 0.6370 - val_loss: 0.2187 - val_acc: 0.6705\n",
            "Epoch 6/20\n",
            "218/218 [==============================] - 1s 2ms/step - loss: 0.1973 - acc: 0.6611 - val_loss: 0.2154 - val_acc: 0.6934\n",
            "Epoch 7/20\n",
            "218/218 [==============================] - 0s 2ms/step - loss: 0.1927 - acc: 0.6686 - val_loss: 0.2116 - val_acc: 0.7071\n",
            "Epoch 8/20\n",
            "218/218 [==============================] - 1s 2ms/step - loss: 0.1889 - acc: 0.6760 - val_loss: 0.2087 - val_acc: 0.7185\n",
            "Epoch 9/20\n",
            "218/218 [==============================] - 1s 2ms/step - loss: 0.1847 - acc: 0.6852 - val_loss: 0.2066 - val_acc: 0.7048\n",
            "Epoch 10/20\n",
            "218/218 [==============================] - 1s 2ms/step - loss: 0.1811 - acc: 0.6869 - val_loss: 0.2039 - val_acc: 0.7277\n",
            "Epoch 11/20\n",
            "218/218 [==============================] - 0s 2ms/step - loss: 0.1784 - acc: 0.6944 - val_loss: 0.2032 - val_acc: 0.7254\n",
            "Epoch 12/20\n",
            "218/218 [==============================] - 0s 2ms/step - loss: 0.1747 - acc: 0.6984 - val_loss: 0.2000 - val_acc: 0.7277\n",
            "Epoch 13/20\n",
            "218/218 [==============================] - 0s 2ms/step - loss: 0.1715 - acc: 0.7047 - val_loss: 0.1996 - val_acc: 0.7323\n",
            "Epoch 14/20\n",
            "218/218 [==============================] - 1s 2ms/step - loss: 0.1687 - acc: 0.7099 - val_loss: 0.1989 - val_acc: 0.7346\n",
            "Epoch 15/20\n",
            "218/218 [==============================] - 0s 2ms/step - loss: 0.1662 - acc: 0.7150 - val_loss: 0.1971 - val_acc: 0.7323\n",
            "Epoch 16/20\n",
            "218/218 [==============================] - 1s 2ms/step - loss: 0.1639 - acc: 0.7087 - val_loss: 0.1950 - val_acc: 0.7506\n",
            "Epoch 17/20\n",
            "218/218 [==============================] - 0s 2ms/step - loss: 0.1610 - acc: 0.7242 - val_loss: 0.1950 - val_acc: 0.7346\n",
            "Epoch 18/20\n",
            "218/218 [==============================] - 1s 2ms/step - loss: 0.1591 - acc: 0.7190 - val_loss: 0.1935 - val_acc: 0.7323\n",
            "Epoch 19/20\n",
            "218/218 [==============================] - 0s 2ms/step - loss: 0.1568 - acc: 0.7231 - val_loss: 0.1918 - val_acc: 0.7277\n",
            "Epoch 20/20\n",
            "218/218 [==============================] - 1s 2ms/step - loss: 0.1546 - acc: 0.7190 - val_loss: 0.1916 - val_acc: 0.7483\n"
          ],
          "name": "stdout"
        }
      ]
    },
    {
      "cell_type": "code",
      "metadata": {
        "id": "YiK0QiVIxmkW"
      },
      "source": [
        "score = model.evaluate(X_test, y_test, verbose=1)\n",
        "\n",
        "print(\"Test Score:\", score[0])\n",
        "print(\"Test Accuracy:\", score[1])"
      ],
      "execution_count": null,
      "outputs": []
    },
    {
      "cell_type": "code",
      "metadata": {
        "id": "EbpsCiaB7IT3"
      },
      "source": [
        ""
      ],
      "execution_count": null,
      "outputs": []
    },
    {
      "cell_type": "markdown",
      "metadata": {
        "id": "qQnFh-sk7LQB"
      },
      "source": [
        "# BERT"
      ]
    },
    {
      "cell_type": "code",
      "metadata": {
        "id": "li4S6apg7LQG",
        "outputId": "6e9e3092-041e-4677-9484-75d857836775",
        "colab": {
          "base_uri": "https://localhost:8080/",
          "height": 187
        }
      },
      "source": [
        "! pip -q install laserembeddings\n",
        "! python -m laserembeddings download-models"
      ],
      "execution_count": null,
      "outputs": [
        {
          "output_type": "stream",
          "text": [
            "\u001b[K     |████████████████████████████████| 860kB 7.4MB/s \n",
            "\u001b[K     |████████████████████████████████| 51kB 5.2MB/s \n",
            "\u001b[?25h  Building wheel for sacremoses (setup.py) ... \u001b[?25l\u001b[?25hdone\n",
            "Downloading models into /usr/local/lib/python3.6/dist-packages/laserembeddings/data\n",
            "\n",
            "✅   Downloaded https://dl.fbaipublicfiles.com/laser/models/93langs.fcodes    \n",
            "✅   Downloaded https://dl.fbaipublicfiles.com/laser/models/93langs.fvocab    \n",
            "✅   Downloaded https://dl.fbaipublicfiles.com/laser/models/bilstm.93langs.2018-12-26.pt    \n",
            "\n",
            "✨ You're all set!\n"
          ],
          "name": "stdout"
        }
      ]
    },
    {
      "cell_type": "code",
      "metadata": {
        "id": "1mhm9Px77LQN"
      },
      "source": [
        "from laserembeddings import Laser\n",
        "from __future__ import unicode_literals\n",
        "laser = Laser()"
      ],
      "execution_count": null,
      "outputs": []
    },
    {
      "cell_type": "code",
      "metadata": {
        "id": "Wu_-dvlM7LQQ"
      },
      "source": [
        "import tensorflow as tf\n",
        "from sklearn.model_selection import train_test_split"
      ],
      "execution_count": null,
      "outputs": []
    },
    {
      "cell_type": "code",
      "metadata": {
        "id": "z_PpHlI47LQT",
        "outputId": "0148dc66-75c0-4f1f-db2b-14115025055e",
        "colab": {
          "base_uri": "https://localhost:8080/",
          "height": 34
        }
      },
      "source": [
        "np.array([1,2,3,4]).shape"
      ],
      "execution_count": null,
      "outputs": [
        {
          "output_type": "execute_result",
          "data": {
            "text/plain": [
              "(4,)"
            ]
          },
          "metadata": {
            "tags": []
          },
          "execution_count": 47
        }
      ]
    },
    {
      "cell_type": "code",
      "metadata": {
        "id": "EF_kKeRJ7LQW"
      },
      "source": [
        "embedding = laser.embed_sentences([\"سلام خوبی آقا؟ چرا؟\"], lang='fa')"
      ],
      "execution_count": null,
      "outputs": []
    },
    {
      "cell_type": "code",
      "metadata": {
        "id": "tVbX6qpe7LQZ",
        "outputId": "b3aa5909-d44e-49db-8558-1743879ad2e9",
        "colab": {
          "base_uri": "https://localhost:8080/",
          "height": 88
        }
      },
      "source": [
        "print(np.asarray(embedding[0]).astype(np.float32).shape)\n",
        "print(embedding[0].reshape(-1).shape)\n",
        "# print(embedding[0][0])\n",
        "# print()\n",
        "print(embedding[0].tolist())"
      ],
      "execution_count": null,
      "outputs": [
        {
          "output_type": "stream",
          "text": [
            "(1024,)\n",
            "(1024,)\n",
            "[0.00013220480468589813, 0.0005632739048451185, -0.0036418449599295855, 0.04224187508225441, 0.018085766583681107, 0.00017751163977663964, 0.002364765154197812, 0.0020738039165735245, -0.00020900974050164223, -0.00010958989150822163, 0.0016585809644311666, -0.00010220512194791809, 0.005281758960336447, 0.0025984228122979403, 0.006219091359525919, 0.00835022609680891, 0.008378100581467152, -0.0004980257945135236, 8.926170266931877e-05, 0.006056675687432289, 0.00531877251341939, -0.0004272315127309412, -0.00020097970264032483, -0.00010922906949417666, 0.0003911723324563354, 0.0008754387963563204, 0.00010981337254634127, 0.000990370404906571, -0.00018827272288035601, 0.00012104511552024633, 0.01741662807762623, 0.008600754663348198, 0.004271915648132563, 0.004119337536394596, 0.001083105686120689, 0.004252106416970491, 0.005414559040218592, 0.004994853865355253, -0.0018967631040140986, -0.0005139067652635276, 0.002989789703860879, 0.005320620723068714, 0.0028285919688642025, 0.0008133028168231249, 0.0051584793254733086, -0.0013157648500055075, 0.0013515609316527843, -0.00044667362817563117, 0.008637432008981705, 5.9744752434198745e-06, 0.04056434705853462, 0.014897576533257961, 0.0010791185777634382, 0.011489903554320335, 0.0026526241563260555, -4.927914051222615e-05, 0.006111931521445513, 0.0620625838637352, -0.0004035586316604167, 0.006628364324569702, 0.0006596666062250733, -3.416928666410968e-05, 0.004969795234501362, 0.0004270054050721228, 0.0011915898649021983, 4.398491364554502e-05, 0.008235985413193703, 0.0019344488391652703, 0.00038292494718916714, 0.007030076812952757, 0.03190246596932411, -0.0001820464531192556, -0.00045325065730139613, -0.001286853919737041, -0.0019690608605742455, 0.008990472182631493, 0.0013738909037783742, 0.000636862765531987, 0.004230325575917959, 0.0024008501786738634, -0.00023310104734264314, -0.00029437639750540257, 0.00048582599265500903, 0.046446919441223145, 0.00264261057600379, 0.010405224747955799, 0.0033682454377412796, 0.00455545075237751, 0.011563113890588284, 0.005899233743548393, 0.00014198143617250025, 0.0052906209602952, -0.0006434366223402321, 0.0018397857202216983, 0.006356787867844105, 0.003445630893111229, 0.01594015583395958, 0.002567429095506668, 0.00818170141428709, -0.0011627799831330776, -0.0005476743099279702, 0.002082522725686431, 0.007536839693784714, 0.0045571341179311275, 0.006536760833114386, 0.0005162868765182793, 0.0019016325240954757, 0.004732594825327396, 0.005396000575274229, 0.0018287247512489557, 0.0003071336541324854, -0.0008677722071297467, -0.0011788413394242525, -2.9907456337241456e-05, -0.0017412792658433318, 0.012039599008858204, 0.000952860398683697, 0.0009286190033890307, 0.01349260751157999, 0.0005977831897325814, 0.006393375340849161, 0.004896920174360275, 0.0065587786957621574, 0.0019065090455114841, -3.4717621019808576e-05, 0.005617652088403702, -2.9797925890306942e-05, 0.01328772958368063, 0.009938949719071388, 0.0007432140992023051, 0.00955156609416008, 0.0011419466463848948, 0.003622244345024228, 0.0071169715374708176, 0.004361234605312347, -8.258590969489887e-05, 0.001855033915489912, -0.00010683310392778367, -0.001332338317297399, 0.0008018843363970518, -1.9517938198987395e-05, 0.0009045780170708895, 0.0001285332255065441, 0.0009553267154842615, 0.001395844155922532, -0.0007903457153588533, 0.004326964728534222, -0.0018218762706965208, 0.006731403060257435, 0.0012352456105872989, 0.008578137494623661, -0.0015377136878669262, -0.0008280093898065388, 4.776862169819651e-06, -3.101339871136588e-06, -0.00020001271332148463, -0.0008864972623996437, -0.0004840315959881991, 0.009552915580570698, 0.015230928547680378, -8.231520041590557e-05, 0.008313375525176525, 0.00377149460837245, -0.004039122257381678, 0.004362842999398708, 0.0627489984035492, -0.0008188578649424016, 0.011236283928155899, 0.001278230338357389, 0.004531883168965578, 0.010486064478754997, -0.0006238578353077173, 0.0017059741076081991, 0.0008971311617642641, -0.002207932062447071, 0.028368528932332993, 0.004868505988270044, 0.0015300646191462874, -0.0003368530888110399, -0.0002954437804874033, -0.001714234589599073, 0.006831420119851828, 0.00022970551799517125, 0.006348464172333479, -0.00029399918275885284, -2.6760157197713852e-05, 0.004497705027461052, 0.010488277301192284, 0.01515164040029049, -0.00029557201196439564, -0.0003089544188696891, 0.0003644332755357027, 0.0262603759765625, -0.0011914647184312344, 0.0020164011511951685, 0.0014087253948673606, 0.05235045775771141, -0.0001861810014816001, 0.008004024624824524, 0.04959113523364067, 0.0034702506382018328, 0.002307392656803131, 2.7426285669207573e-05, 0.00011739549518097192, -0.0007802716572768986, -0.0011206098133698106, 0.010886811651289463, -0.006457120645791292, -0.0002249955286970362, -1.3627969565277454e-05, 0.008552144281566143, 0.014724957756698132, -0.00026508080190978944, 0.0016383195761591196, 0.0008232684922404587, -0.0024628746323287487, -0.0001853599533205852, 0.03307344764471054, 0.003801961662247777, 0.005632640793919563, 6.43216772004962e-05, 0.002188218291848898, -7.560293306596577e-05, -0.00017003390530589968, 0.00023096454970072955, 9.8278781024419e-07, -7.719852874288335e-05, 0.0016275692032650113, 0.00017891453171614558, -0.0006830485071986914, 0.01498330943286419, -0.002815541811287403, -0.0009012043592520058, -0.00026277435244992375, -0.00020153516379650682, 0.00043995981104671955, -0.0009010015637613833, 0.004188770428299904, 0.006889190524816513, 0.0035771906841546297, -0.002890300936996937, 0.0029325191862881184, 0.028454579412937164, 0.0005586968036368489, -5.170964868739247e-05, -7.505983376177028e-05, 0.011718519032001495, 0.0007745889597572386, -0.0014809948625043035, -0.00028680454124696553, 0.009924890473484993, 0.0032913503237068653, 0.00031182137900032103, 0.0027717938646674156, -1.9000850443262607e-05, 0.0019057728350162506, 0.0005693251732736826, 0.001067158649675548, 0.00707370787858963, 0.0010451547568663955, -0.0008375785546377301, 0.00022409223311115056, 0.0017751071136444807, 0.0017667495412752032, 0.001606238423846662, 0.004146468359977007, 0.024646321311593056, 0.0014092770870774984, 0.0006388964247889817, 0.008596484549343586, 0.004584952723234892, 0.010909422300755978, 0.0002709604159463197, 0.0026258518919348717, 0.028688907623291016, 0.0020196347031742334, 0.00043269048910588026, 0.0017272402765229344, -6.536319415317848e-05, -0.00046411980292759836, 0.00765642337501049, 0.0029511055909097195, 0.02151786908507347, -0.0006764357094652951, 2.9821923817507923e-05, 0.01281303633004427, 0.0011929894099012017, 0.0009874149691313505, 0.0016868740785866976, 0.0066575901582837105, -4.408068434713641e-06, 1.789134148566518e-05, 0.006129158660769463, -0.00030688350670970976, 0.0024768111761659384, 0.005266000982373953, 0.019200827926397324, 0.001722648972645402, -0.0007961729425005615, 0.00394517881795764, 0.0005199025035835803, 0.002858548192307353, -0.00037312653148546815, 0.0013642359990626574, -0.0012536519207060337, -1.319241891906131e-05, -0.0009054908296093345, -0.00017079125973396003, 0.0058273025788366795, 0.0027525469195097685, 0.011995915323495865, 0.024764439091086388, 0.017254719510674477, 0.007092118728905916, -7.293938688235357e-05, -0.005437841173261404, 0.0057536023668944836, -9.409734775545076e-05, 0.021609745919704437, 0.001245168037712574, 0.0018841667333617806, 0.0021302190143615007, -0.0012199283810332417, 0.00033645943040028214, 0.009827795438468456, 0.001131232944317162, 0.011479158885776997, 0.0014195111580193043, -0.0013144450495019555, -4.7554127377225086e-05, -0.00019784776668529958, 0.00048810880980454385, 0.003326346632093191, -0.000564173620659858, 0.0021888650953769684, 0.0001951036392711103, 0.01379345078021288, 0.0006683868123218417, 0.002433132380247116, -5.972259532427415e-05, -0.0011539773549884558, 0.00021795132488477975, 0.00013600393140222877, 0.005452337674796581, 0.000713041634298861, -0.0013434524880722165, -0.00011783235095208511, 0.004308512434363365, 0.0008516482193954289, 0.0046937307342886925, 6.771113112336025e-05, 0.005162181798368692, -0.0008557499386370182, 0.0033766869455575943, -8.60866712173447e-05, -0.00012554379645735025, 0.002426261082291603, 0.0023537524975836277, 0.017284687608480453, 0.0019535881001502275, -0.00014670177188236266, 0.006464653182774782, 0.0021093697287142277, -0.00038619598490186036, 0.0024431096389889717, 0.0004965520929545164, 0.006331757642328739, 0.002679399913176894, 0.01634182222187519, 0.0016505707753822207, 0.004556166008114815, -0.00017767501412890851, 0.004084357526153326, 0.004096826538443565, 0.002475582994520664, 0.0013980974908918142, 0.0008120129932649434, -0.00043798689148388803, 0.0057591223157942295, 0.0032897244673222303, -5.154589962330647e-05, -0.002639541169628501, 0.0038834975566715, 0.004576646722853184, 0.003157803788781166, -0.00010372925316914916, 0.011456227861344814, -0.00029946878203190863, 0.005077819339931011, 0.003439265536144376, 0.008133448660373688, 0.001460566883906722, 0.013295984826982021, -9.064449113793671e-05, -7.264997839229181e-05, 0.07488146424293518, 2.5453922717133537e-05, 0.002972004469484091, 0.005611372645944357, -0.0003286204591859132, 0.002132205991074443, 0.012952416203916073, 9.737590880831704e-05, 0.009128523990511894, 0.0001751064701238647, -0.0012966874055564404, 0.0014540040865540504, -0.0008588210912421346, 0.00045144447358325124, -0.0010826129000633955, 0.008145196363329887, -0.00035591222695074975, 0.01005083043128252, 0.0025629533920437098, 0.006390854716300964, 0.00011674814595608041, 0.01401310134679079, 0.004327575676143169, -9.776902152225375e-05, 0.00818669144064188, 2.6725532734417357e-05, 0.0016966053517535329, -0.001590627827681601, -0.0024731673765927553, -0.0001587653678143397, -0.0001639158435864374, 0.025996824726462364, 0.008745974861085415, 0.00013439000758808106, -0.0002030599134741351, 0.00022493387223221362, -0.0003694415499921888, 0.0035274738911539316, 0.006958617363125086, 0.00017857522470876575, -0.0008139147539623082, 0.0015209156554192305, -8.583486487623304e-05, -0.0001462319487472996, -0.001963599817827344, 0.003353953594341874, -0.00020519398094620556, 0.002031447598710656, 0.005064001772552729, 0.0011270821560174227, -0.0027179878670722246, 0.047954633831977844, 0.0054846471175551414, 0.0014318980975076556, 0.004103582352399826, 0.002971368608996272, 0.002013377146795392, 0.028688928112387657, 0.0254060085862875, -0.0003869827778544277, 0.012824757024645805, 0.0014311718987300992, 0.006033787503838539, 0.0014991487842053175, 0.015386577695608139, 0.0010993843898177147, -9.343520650872961e-05, 0.005653027910739183, 0.15042459964752197, 0.0013385334750637412, 0.004191722720861435, 0.017469532787799835, 1.2047428299410967e-06, 0.002624922664836049, 0.004938538186252117, 0.0009740404784679413, -0.00011500866821734235, 0.00015343939594458789, 0.0015044573228806257, 0.001870561856776476, 0.00551516143605113, 2.0743102595588425e-06, 0.0002720154880080372, -0.00021666339307557791, -0.001240945071913302, 0.0017164145829156041, 0.0028507388196885586, 0.00345401163212955, 0.0001036475514410995, 0.0007789234514348209, -0.00023766362573951483, -0.001080316142179072, 0.0008510177722200751, 0.0024848305620253086, 0.012937504798173904, -0.00127464032266289, 0.0025723774451762438, 0.0012758915545418859, 7.535473559983075e-05, 0.003155844984576106, 0.0042129745706915855, -0.0006084588821977377, 0.0005013144691474736, 0.0071205683052539825, 0.0005365067045204341, 0.007948500104248524, 0.0015053971437737346, 0.0017684167250990868, -8.601685840403661e-05, 4.7252800868591294e-05, -0.0014056038344278932, -0.0001918279886012897, 0.007463844958692789, -0.0005516931414604187, -0.00024122936883941293, 0.00358354183845222, -0.0029707560315728188, -0.00018190607079304755, 0.010113582015037537, 0.01209233794361353, 0.0012229735730215907, 0.00037087281816639006, 0.03714518994092941, -0.0016600415110588074, -6.14269301877357e-05, -0.0018149467650800943, 0.0010089250281453133, -8.630492811789736e-05, 4.408747190609574e-05, -0.00026945341960527003, 0.003992743324488401, 0.002870886819437146, -0.001423629350028932, -2.979584132845048e-05, 0.00038567761657759547, -0.0003035680565517396, 0.004304229281842709, -8.02010836196132e-05, 0.00844857282936573, 0.0006650386494584382, 0.0017183233285322785, 0.005805221851915121, 0.00665585370734334, 0.0002581070002634078, -9.870462963590398e-05, -0.0005436254432424903, 0.0010702628642320633, -0.0003513070987537503, 0.000138261922984384, -0.00032723197364248335, 0.00049483502516523, -0.0008777941693551838, 0.004073393996804953, 0.011489865370094776, 0.05588856711983681, -2.7921640139538795e-05, -0.00038052976015023887, 0.01466547604650259, 0.0010257947724312544, 0.002395154209807515, -0.0006192359142005444, 0.0018443342996761203, -0.0005349589046090841, 0.015544261783361435, 0.00040627256385050714, 0.004505819641053677, 0.006089141126722097, -0.0002985652827192098, 0.008327950723469257, 0.035462453961372375, -0.0005423762486316264, 0.0048967767506837845, 0.00806267000734806, -0.0031252752523869276, 0.014276699163019657, 0.001987561583518982, 0.012643860653042793, 0.00019408388470765203, 0.004250599071383476, -0.0008201029268093407, 0.0022479763720184565, 0.0019235695945098996, -7.049996929708868e-05, 0.0015004356391727924, 0.004397588782012463, -0.00043942322372458875, -0.00028726074378937483, 0.0016164396656677127, 0.003995581530034542, -2.891434087359812e-05, 0.005377629306167364, 0.007192742545157671, -0.00010867455421248451, -0.0030261052306741476, 0.007675387430936098, 0.00696980906650424, 0.0018383444985374808, 0.0026212241500616074, 0.0010744327446445823, -0.0005655718850903213, 0.01285840105265379, 0.015607038512825966, 0.027581077069044113, -0.0003708598669618368, 0.007928733713924885, -3.066885255975649e-05, 0.009524398483335972, -3.659575304482132e-05, 0.01978529430925846, -0.00013899817713536322, 0.0005554429371841252, 0.00020201578445266932, 0.00033806118881329894, -0.0002599657163955271, 0.0051770079880952835, 0.01857403852045536, 0.0065879919566214085, 0.0006215485045686364, 0.02389359660446644, 0.00015036013792268932, -0.0009644649690017104, 0.006199943367391825, 0.001018738141283393, 0.006066684611141682, -0.001744614215567708, 0.027095336467027664, 0.006598372012376785, 0.0031947805546224117, 0.0008958391845226288, 0.0061571840196847916, 0.0027632983401417732, -4.43475873908028e-05, 1.9101271391264163e-06, -0.00011565401655388996, 0.035050541162490845, 0.003821034450083971, 0.007652842439711094, 0.0011223336914554238, -0.0004499522037804127, 0.0007025803788565099, 0.00462673744186759, 0.0030806902796030045, 0.0431857593357563, 0.001096121734008193, 0.0033654221333563328, -0.0003664854448288679, 0.02457674965262413, 0.03526345267891884, -4.569045267999172e-05, 0.0012549920938909054, 0.09183856099843979, 0.008051512762904167, 0.00015038748097140342, 0.0037845352198928595, 0.00020172115182504058, -0.0019381550373509526, 0.0007699520792812109, 0.000283867702819407, 0.025071511045098305, 0.0012690088478848338, 0.002214733511209488, 0.01747152768075466, 0.01136709563434124, 0.012137210927903652, 0.012082045897841454, -6.128368113422766e-05, 0.0004579179803840816, -3.506451321300119e-05, -9.324271377408877e-05, -7.007063686614856e-05, -0.001079398556612432, 0.006730399094521999, -0.0003314817149657756, -0.0006486026686616242, -0.00010099229984916747, 0.00013210027827881277, 0.013294617645442486, 0.027670281007885933, 0.014957515522837639, -0.0002881889813579619, 0.0021043468732386827, 0.007364192977547646, 0.020418716594576836, -0.0006022264715284109, -6.592358204215998e-06, -0.0003000364522449672, 0.006536574102938175, 0.0011710635153576732, 0.017518047243356705, -0.00022228389570955187, -0.0006498100119642913, 0.004323326516896486, 0.007469425443559885, -0.0015283318934962153, 0.013712484389543533, -0.0005750539130531251, -0.0009452037629671395, 0.08505552262067795, 6.422576916520484e-06, 0.049120064824819565, 0.002991502871736884, 0.00033710798015818, 0.0012836117530241609, 0.014037705957889557, -0.0005552188376896083, 0.007353057153522968, 0.007484086323529482, 6.33636664133519e-05, 0.0055226352997124195, 0.0014682671753689647, 0.007091307081282139, 0.003382210386916995, 3.2532461773371324e-05, -0.00010080168431159109, 0.0005753836594521999, 0.0114572923630476, 0.004127208609133959, -0.0010204946156591177, -0.001730057061649859, -0.0012339521199464798, 0.018206534907221794, 0.00038902246160432696, -0.0001283463352592662, 0.00647230539470911, -4.989907756680623e-05, 0.045128047466278076, 0.00042200874304398894, 0.07778976857662201, 0.06651280075311661, 0.002395286224782467, 0.016936391592025757, -0.0011971062049269676, -0.00013783709437120706, -4.929377610096708e-05, 0.0024146405048668385, -0.0005215314449742436, 0.0913941040635109, -0.0016150287119671702, 0.0008561082649976015, 0.05307566002011299, 0.005294743459671736, 0.0036596357822418213, 0.005685550160706043, 0.0020374334417283535, -5.609712752630003e-05, -0.0007185453432612121, 0.03594575077295303, -0.00020625344768632203, 0.0004858663014601916, 0.0030258791521191597, 0.029916755855083466, -0.00018045128672383726, -0.00017174337699543685, -0.00028660797397606075, 0.009763061068952084, -2.6348716346547008e-05, 0.00847948994487524, 0.005861824844032526, -0.0005908167804591358, -0.00016125633555930108, -0.0005052975029684603, 0.003664053976535797, 0.03150239214301109, 0.04118796065449715, -0.0019917490426450968, -0.0003862937446683645, 0.03992326557636261, 0.005124208517372608, -7.988597644725814e-05, -0.0013217125087976456, 0.06948333978652954, 0.0008050039177760482, -0.0002203659387305379, 0.024924753233790398, -0.01296667568385601, 0.003460840554907918, 0.024922143667936325, 0.0006490732776001096, 0.0017879271181300282, 0.017521297559142113, 0.0005910078762099147, -0.0001709862262941897, 0.004697115160524845, 0.009914482943713665, 0.024518869817256927, -0.00016345141921192408, 0.001473809708841145, 0.01059944648295641, 0.0031864172779023647, -0.00014557816029991955, 0.007880701683461666, 0.025059394538402557, 0.0011464538984000683, -0.00018764464766718447, 0.0006121469778008759, 0.005015226546674967, -0.0011585502652451396, -0.0007112953462637961, 0.002157445764169097, -0.001094073406420648, 0.0631183385848999, 0.012921142391860485, -0.00037914954009465873, 0.0012938609579578042, 0.02163190022110939, -0.0014391964068636298, 0.0016659077955409884, 0.006126299034804106, 0.0018542991019785404, 0.011560160666704178, 0.0007387564983218908, 0.002028440125286579, -0.0003587630344554782, 3.059835216845386e-05, 0.0028190037701278925, 0.001805511419661343, 0.0013375303242355585, 0.0003996379964519292, 0.00780062098056078, 0.001345642376691103, 0.0008930576150305569, 0.008237410336732864, 0.0062988800927996635, -6.562985072378069e-05, 0.0003003236197400838, -0.0012928755022585392, -0.00029830526909790933, 0.009139107540249825, 0.009404225274920464, 0.04653911292552948, -0.00010631300392560661, 0.060066577047109604, 0.00011411756713641807, -0.00021817981905769557, 0.0037607233971357346, 0.0021625992376357317, 0.006186320446431637, -8.394214091822505e-05, 0.0009985563810914755, -0.0004494478926062584, 0.04236787557601929, 0.009519209153950214, 0.0002133507514372468, -3.217261109966785e-05, 0.009282336570322514, 0.03132787346839905, -0.00019481981871649623, 0.12232881039381027, -0.0009523815824650228, -0.0004590688622556627, 0.029944028705358505, 0.004156961105763912, 0.004377245903015137, -0.0001280467986362055, 0.01552841067314148, -7.133423787308857e-05, -0.00021319853840395808, 0.0023338792379945517, 0.007531746756285429, 0.0005953623913228512, 0.008042464964091778, -0.0006538591696880758, -8.189278014469892e-05, 0.004532939754426479, 0.009282203391194344, 0.004549505654722452, 0.012619192712008953, -0.00022152076417114586, 0.0010809798259288073, 0.0024780358653515577, 0.007436126470565796, 0.009863425977528095, 0.0012329788878560066, -0.00018715309852268547, 0.013758399523794651, 0.00968298688530922, -0.0002257512096548453, 0.010936318896710873, -0.00036331298178993165, 0.002539222128689289, -0.0011552037904039025, 3.715479397214949e-05, 0.003977459855377674, -0.0010517888003960252, -0.00019512895960360765, -0.003749112831428647, 0.05039432644844055, -0.000957669282797724, 0.0033925718162208796, 0.00329471193253994, -0.0009357809904031456, 0.0009884063620120287, -0.0023615877144038677, -0.000222412112634629, 0.0015939289005473256, 0.005946377757936716, -0.0002804821415338665, -0.00019726145546883345, -0.000305006600683555, -0.0007843586499802768, -0.0018700289074331522, -0.00015939094009809196, 0.004505285993218422, 0.0004523565003182739, -6.311447941698134e-05, 0.007374654524028301, 0.003959437366575003, 0.0005895328940823674, 0.057795409113168716, 0.0002308155526407063, 0.0005557634867727757, 0.0013869460672140121, -0.0014537221286445856, 0.022659584879875183, -8.92033422132954e-05, 0.008449580520391464, 0.0006371276103891432, 0.009349890053272247, 0.09625131636857986, 0.0022602779790759087, 0.0025968262925744057, 0.002169577404856682, -0.00028502443456090987, -0.0005640701274387538, -0.0001958874345291406, 0.0038592314813286066, 0.0020968897733837366, 0.0006603438523598015, 0.0092791598290205, 0.0016654441133141518, 0.002713804831728339, 0.002581430831924081, -0.001465735025703907, 0.00549174752086401, 0.0028840345330536366, 0.011509147472679615, 0.046883270144462585, -0.000371054804418236, 0.0009182827780023217, 0.00030329381115734577, 0.0026542136911302805, -9.532148396829143e-05, -0.00022729128249920905, 0.0004946854314766824, 0.002869237679988146, 2.702280289668124e-05, 0.044638488441705704, -3.7794176023453474e-05, 0.0014318266185000539, -0.003245648927986622, 0.030335087329149246, 0.0022198285441845655, 1.3346763807930984e-05, -0.00019641162361949682, 0.0028975065797567368, -0.0005758118932135403, 0.0026952263433486223, 0.009937559254467487, 0.006410500034689903, 0.0027160507161170244, -0.00029358058236539364, 0.0014741986524313688, -2.290976954100188e-05, 0.0005051945918239653, 0.0031138071790337563, -0.000834835518617183, 0.000769617035984993, 0.0009760188986547291, -0.001341665512882173, 0.007588688749819994, 0.025959352031350136, 0.0008095321245491505, 0.003035525791347027, 0.003658025059849024, 0.00018646850367076695, -0.0002904481370933354, -0.00018619291950017214, -6.580080662388355e-05, 0.01993555948138237, 0.006602894514799118, 0.019466856494545937, -0.0004308592760935426, 0.04985623434185982, -3.6951754736946896e-05, 0.00046312951599247754, 0.007130143232643604, -9.442639566259459e-05, -0.00023542647249996662, -0.00039720156928524375, 0.0009789830073714256, -0.0001826244406402111, 0.00034025541390292346, 0.005374726839363575, -0.0007994354236871004, -0.0007183070993050933, 0.004327291622757912, -0.00011325603554723784, 0.017416520044207573, 0.004095705691725016, -0.000176613379153423, -7.732601807219908e-05, -0.0002504658477846533, 0.0007313403184525669, 0.009210430085659027, 0.040824949741363525, 0.06112242862582207, 0.013675197027623653, 0.0021409832406789064, 0.0005208982620388269, -0.001024085097014904, -0.0009801695123314857, -7.983671821421012e-05, 0.016067426651716232, 0.00037287219311110675, 0.024597246199846268, -5.657264046021737e-05, -4.972017995896749e-05, -8.07291071396321e-05, 0.01583140343427658, -0.001215534284710884, 0.0033088920172303915, 0.00010163439583266154, 0.013037784025073051, -0.00014854970504529774, 0.00793394260108471, 0.012071235105395317, 0.0049036284908652306, 7.602207188028842e-05, 0.007075967267155647]\n"
          ],
          "name": "stdout"
        }
      ]
    },
    {
      "cell_type": "code",
      "metadata": {
        "id": "jVAQVz_-7LQd"
      },
      "source": [
        "df_types = pd.read_csv(\"/content/drive/My Drive/topics-for-types/df_types.csv\")"
      ],
      "execution_count": null,
      "outputs": []
    },
    {
      "cell_type": "code",
      "metadata": {
        "id": "0RNfXEBa7LQh"
      },
      "source": [
        "df_types['sentence'] = df_types['sentence'].apply(lambda sent: laser.embed_sentences(sent, lang='fa')[0])"
      ],
      "execution_count": null,
      "outputs": []
    },
    {
      "cell_type": "code",
      "metadata": {
        "id": "_dJnPuA97LQl",
        "outputId": "4f89e604-24b5-4471-e22b-c543f2691aa7",
        "colab": {
          "base_uri": "https://localhost:8080/",
          "height": 204
        }
      },
      "source": [
        "df_types.head()"
      ],
      "execution_count": null,
      "outputs": [
        {
          "output_type": "execute_result",
          "data": {
            "text/html": [
              "<div>\n",
              "<style scoped>\n",
              "    .dataframe tbody tr th:only-of-type {\n",
              "        vertical-align: middle;\n",
              "    }\n",
              "\n",
              "    .dataframe tbody tr th {\n",
              "        vertical-align: top;\n",
              "    }\n",
              "\n",
              "    .dataframe thead th {\n",
              "        text-align: right;\n",
              "    }\n",
              "</style>\n",
              "<table border=\"1\" class=\"dataframe\">\n",
              "  <thead>\n",
              "    <tr style=\"text-align: right;\">\n",
              "      <th></th>\n",
              "      <th>sentence</th>\n",
              "      <th>انتخاب</th>\n",
              "      <th>بله/خیر</th>\n",
              "      <th>ترجمه</th>\n",
              "      <th>تعامل</th>\n",
              "      <th>تعریف</th>\n",
              "      <th>توضیح</th>\n",
              "      <th>دلیل</th>\n",
              "      <th>ریاضی</th>\n",
              "      <th>لیست</th>\n",
              "      <th>نظر</th>\n",
              "      <th>واقعیت</th>\n",
              "      <th>پیشنهاد</th>\n",
              "    </tr>\n",
              "  </thead>\n",
              "  <tbody>\n",
              "    <tr>\n",
              "      <th>0</th>\n",
              "      <td>[0.020942228, -8.114154e-05, -0.0009854112, 0....</td>\n",
              "      <td>0</td>\n",
              "      <td>0</td>\n",
              "      <td>0</td>\n",
              "      <td>0</td>\n",
              "      <td>1</td>\n",
              "      <td>1</td>\n",
              "      <td>0</td>\n",
              "      <td>0</td>\n",
              "      <td>0</td>\n",
              "      <td>1</td>\n",
              "      <td>0</td>\n",
              "      <td>0</td>\n",
              "    </tr>\n",
              "    <tr>\n",
              "      <th>1</th>\n",
              "      <td>[0.00867996, 0.0027223467, -0.00016234924, 0.0...</td>\n",
              "      <td>0</td>\n",
              "      <td>1</td>\n",
              "      <td>0</td>\n",
              "      <td>0</td>\n",
              "      <td>0</td>\n",
              "      <td>1</td>\n",
              "      <td>0</td>\n",
              "      <td>0</td>\n",
              "      <td>0</td>\n",
              "      <td>1</td>\n",
              "      <td>0</td>\n",
              "      <td>0</td>\n",
              "    </tr>\n",
              "    <tr>\n",
              "      <th>2</th>\n",
              "      <td>[0.011158594, 0.018385716, -8.350732e-05, 0.01...</td>\n",
              "      <td>0</td>\n",
              "      <td>0</td>\n",
              "      <td>0</td>\n",
              "      <td>0</td>\n",
              "      <td>0</td>\n",
              "      <td>1</td>\n",
              "      <td>1</td>\n",
              "      <td>0</td>\n",
              "      <td>0</td>\n",
              "      <td>1</td>\n",
              "      <td>0</td>\n",
              "      <td>0</td>\n",
              "    </tr>\n",
              "    <tr>\n",
              "      <th>3</th>\n",
              "      <td>[0.009575151, 0.01364643, 7.700209e-05, 0.0117...</td>\n",
              "      <td>0</td>\n",
              "      <td>0</td>\n",
              "      <td>0</td>\n",
              "      <td>0</td>\n",
              "      <td>0</td>\n",
              "      <td>1</td>\n",
              "      <td>1</td>\n",
              "      <td>0</td>\n",
              "      <td>0</td>\n",
              "      <td>1</td>\n",
              "      <td>0</td>\n",
              "      <td>0</td>\n",
              "    </tr>\n",
              "    <tr>\n",
              "      <th>4</th>\n",
              "      <td>[0.027029106, 0.002408459, 0.00048337242, 0.00...</td>\n",
              "      <td>0</td>\n",
              "      <td>0</td>\n",
              "      <td>0</td>\n",
              "      <td>0</td>\n",
              "      <td>1</td>\n",
              "      <td>0</td>\n",
              "      <td>0</td>\n",
              "      <td>0</td>\n",
              "      <td>1</td>\n",
              "      <td>1</td>\n",
              "      <td>0</td>\n",
              "      <td>0</td>\n",
              "    </tr>\n",
              "  </tbody>\n",
              "</table>\n",
              "</div>"
            ],
            "text/plain": [
              "                                            sentence  انتخاب  ...  واقعیت  پیشنهاد\n",
              "0  [0.020942228, -8.114154e-05, -0.0009854112, 0....       0  ...       0        0\n",
              "1  [0.00867996, 0.0027223467, -0.00016234924, 0.0...       0  ...       0        0\n",
              "2  [0.011158594, 0.018385716, -8.350732e-05, 0.01...       0  ...       0        0\n",
              "3  [0.009575151, 0.01364643, 7.700209e-05, 0.0117...       0  ...       0        0\n",
              "4  [0.027029106, 0.002408459, 0.00048337242, 0.00...       0  ...       0        0\n",
              "\n",
              "[5 rows x 13 columns]"
            ]
          },
          "metadata": {
            "tags": []
          },
          "execution_count": 145
        }
      ]
    },
    {
      "cell_type": "code",
      "metadata": {
        "id": "fe9yZig67LQo",
        "outputId": "c8f2ea19-5439-4738-ae69-06c2b9b3e933",
        "colab": {
          "base_uri": "https://localhost:8080/",
          "height": 34
        }
      },
      "source": [
        "df_types.shape"
      ],
      "execution_count": null,
      "outputs": [
        {
          "output_type": "execute_result",
          "data": {
            "text/plain": [
              "(2424, 13)"
            ]
          },
          "metadata": {
            "tags": []
          },
          "execution_count": 146
        }
      ]
    },
    {
      "cell_type": "code",
      "metadata": {
        "id": "peiiVocu7LQq"
      },
      "source": [
        "X = np.array(df_types[df_types.columns[0]])\n",
        "X = np.vstack(X)\n",
        "\n",
        "Y = df_types[df_types.columns[1:]].values\n",
        "\n",
        "# X = np.array(df_types.iloc[:,0:1])\n",
        "# Y = df_types.iloc[:,1:].values"
      ],
      "execution_count": null,
      "outputs": []
    },
    {
      "cell_type": "code",
      "metadata": {
        "id": "F40dV3XV7LQt"
      },
      "source": [
        "X_train, X_test, y_train, y_test = train_test_split(X, Y, test_size=0.10, random_state=42)"
      ],
      "execution_count": null,
      "outputs": []
    },
    {
      "cell_type": "code",
      "metadata": {
        "id": "PoDo8cwa7LQv",
        "outputId": "f151090b-bc4f-43ed-fc93-cd6fa2a31082",
        "colab": {
          "base_uri": "https://localhost:8080/",
          "height": 34
        }
      },
      "source": [
        "len(X_train),len(X_test),len(y_train),len(y_test)"
      ],
      "execution_count": null,
      "outputs": [
        {
          "output_type": "execute_result",
          "data": {
            "text/plain": [
              "(2181, 243, 2181, 243)"
            ]
          },
          "metadata": {
            "tags": []
          },
          "execution_count": 196
        }
      ]
    },
    {
      "cell_type": "code",
      "metadata": {
        "id": "-6VNFGrx7LQ1",
        "outputId": "a3f6c41b-049a-4868-fee1-9043c670ec9d",
        "colab": {
          "base_uri": "https://localhost:8080/",
          "height": 238
        }
      },
      "source": [
        "model = tf.keras.Sequential([\n",
        "    tf.keras.layers.Input(shape=X[0].shape, name='input_layer'),\n",
        "    tf.keras.layers.Dense(100, activation='sigmoid', name='Dense_Layer'),\n",
        "    tf.keras.layers.Dense(12, activation='sigmoid', name='Dense_Layer2'),\n",
        "  ], name='LASER_Model')\n",
        "\n",
        "model.compile(loss='binary_crossentropy', optimizer='adam', metrics=['acc'])\n",
        "print(model.summary())"
      ],
      "execution_count": null,
      "outputs": [
        {
          "output_type": "stream",
          "text": [
            "Model: \"LASER_Model\"\n",
            "_________________________________________________________________\n",
            "Layer (type)                 Output Shape              Param #   \n",
            "=================================================================\n",
            "Dense_Layer (Dense)          (None, 100)               102500    \n",
            "_________________________________________________________________\n",
            "Dense_Layer2 (Dense)         (None, 12)                1212      \n",
            "=================================================================\n",
            "Total params: 103,712\n",
            "Trainable params: 103,712\n",
            "Non-trainable params: 0\n",
            "_________________________________________________________________\n",
            "None\n"
          ],
          "name": "stdout"
        }
      ]
    },
    {
      "cell_type": "code",
      "metadata": {
        "id": "oUMOG_Qa7LQ4",
        "outputId": "54506eb6-c29c-4af5-88e7-3f09d27727d2",
        "colab": {
          "base_uri": "https://localhost:8080/",
          "height": 697
        }
      },
      "source": [
        "history = model.fit(X_train, y_train, batch_size=8, epochs=20, verbose=1, validation_split=0.2)"
      ],
      "execution_count": null,
      "outputs": [
        {
          "output_type": "stream",
          "text": [
            "Epoch 1/20\n",
            "218/218 [==============================] - 1s 2ms/step - loss: 0.2340 - acc: 0.4834 - val_loss: 0.2448 - val_acc: 0.5927\n",
            "Epoch 2/20\n",
            "218/218 [==============================] - 1s 2ms/step - loss: 0.2236 - acc: 0.5550 - val_loss: 0.2338 - val_acc: 0.5767\n",
            "Epoch 3/20\n",
            "218/218 [==============================] - 0s 2ms/step - loss: 0.2150 - acc: 0.5906 - val_loss: 0.2299 - val_acc: 0.5881\n",
            "Epoch 4/20\n",
            "218/218 [==============================] - 1s 2ms/step - loss: 0.2084 - acc: 0.6175 - val_loss: 0.2241 - val_acc: 0.6133\n",
            "Epoch 5/20\n",
            "218/218 [==============================] - 0s 2ms/step - loss: 0.2027 - acc: 0.6370 - val_loss: 0.2187 - val_acc: 0.6705\n",
            "Epoch 6/20\n",
            "218/218 [==============================] - 1s 2ms/step - loss: 0.1973 - acc: 0.6611 - val_loss: 0.2154 - val_acc: 0.6934\n",
            "Epoch 7/20\n",
            "218/218 [==============================] - 0s 2ms/step - loss: 0.1927 - acc: 0.6686 - val_loss: 0.2116 - val_acc: 0.7071\n",
            "Epoch 8/20\n",
            "218/218 [==============================] - 1s 2ms/step - loss: 0.1889 - acc: 0.6760 - val_loss: 0.2087 - val_acc: 0.7185\n",
            "Epoch 9/20\n",
            "218/218 [==============================] - 1s 2ms/step - loss: 0.1847 - acc: 0.6852 - val_loss: 0.2066 - val_acc: 0.7048\n",
            "Epoch 10/20\n",
            "218/218 [==============================] - 1s 2ms/step - loss: 0.1811 - acc: 0.6869 - val_loss: 0.2039 - val_acc: 0.7277\n",
            "Epoch 11/20\n",
            "218/218 [==============================] - 0s 2ms/step - loss: 0.1784 - acc: 0.6944 - val_loss: 0.2032 - val_acc: 0.7254\n",
            "Epoch 12/20\n",
            "218/218 [==============================] - 0s 2ms/step - loss: 0.1747 - acc: 0.6984 - val_loss: 0.2000 - val_acc: 0.7277\n",
            "Epoch 13/20\n",
            "218/218 [==============================] - 0s 2ms/step - loss: 0.1715 - acc: 0.7047 - val_loss: 0.1996 - val_acc: 0.7323\n",
            "Epoch 14/20\n",
            "218/218 [==============================] - 1s 2ms/step - loss: 0.1687 - acc: 0.7099 - val_loss: 0.1989 - val_acc: 0.7346\n",
            "Epoch 15/20\n",
            "218/218 [==============================] - 0s 2ms/step - loss: 0.1662 - acc: 0.7150 - val_loss: 0.1971 - val_acc: 0.7323\n",
            "Epoch 16/20\n",
            "218/218 [==============================] - 1s 2ms/step - loss: 0.1639 - acc: 0.7087 - val_loss: 0.1950 - val_acc: 0.7506\n",
            "Epoch 17/20\n",
            "218/218 [==============================] - 0s 2ms/step - loss: 0.1610 - acc: 0.7242 - val_loss: 0.1950 - val_acc: 0.7346\n",
            "Epoch 18/20\n",
            "218/218 [==============================] - 1s 2ms/step - loss: 0.1591 - acc: 0.7190 - val_loss: 0.1935 - val_acc: 0.7323\n",
            "Epoch 19/20\n",
            "218/218 [==============================] - 0s 2ms/step - loss: 0.1568 - acc: 0.7231 - val_loss: 0.1918 - val_acc: 0.7277\n",
            "Epoch 20/20\n",
            "218/218 [==============================] - 1s 2ms/step - loss: 0.1546 - acc: 0.7190 - val_loss: 0.1916 - val_acc: 0.7483\n"
          ],
          "name": "stdout"
        }
      ]
    },
    {
      "cell_type": "code",
      "metadata": {
        "id": "luObyoYB7LQ6"
      },
      "source": [
        "score = model.evaluate(X_test, y_test, verbose=1)\n",
        "\n",
        "print(\"Test Score:\", score[0])\n",
        "print(\"Test Accuracy:\", score[1])"
      ],
      "execution_count": null,
      "outputs": []
    },
    {
      "cell_type": "code",
      "metadata": {
        "id": "LzKKewPO7LQ8"
      },
      "source": [
        ""
      ],
      "execution_count": null,
      "outputs": []
    }
  ]
}