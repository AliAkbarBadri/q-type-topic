{
  "nbformat": 4,
  "nbformat_minor": 0,
  "metadata": {
    "colab": {
      "name": "tempo.ipynb",
      "provenance": [],
      "toc_visible": true,
      "include_colab_link": true
    },
    "kernelspec": {
      "name": "python3",
      "display_name": "Python 3"
    },
    "accelerator": "GPU",
    "widgets": {
      "application/vnd.jupyter.widget-state+json": {
        "a544224c89e94a6fb5560e752d0dd0d4": {
          "model_module": "@jupyter-widgets/controls",
          "model_name": "HBoxModel",
          "state": {
            "_view_name": "HBoxView",
            "_dom_classes": [],
            "_model_name": "HBoxModel",
            "_view_module": "@jupyter-widgets/controls",
            "_model_module_version": "1.5.0",
            "_view_count": null,
            "_view_module_version": "1.5.0",
            "box_style": "",
            "layout": "IPY_MODEL_6b5d5b55203c438abbcb40e9b1ca8922",
            "_model_module": "@jupyter-widgets/controls",
            "children": [
              "IPY_MODEL_9a8269d67bcf4c55a5d75858020d64e5",
              "IPY_MODEL_38dbc766d8174e858099112c77d8ac91"
            ]
          }
        },
        "6b5d5b55203c438abbcb40e9b1ca8922": {
          "model_module": "@jupyter-widgets/base",
          "model_name": "LayoutModel",
          "state": {
            "_view_name": "LayoutView",
            "grid_template_rows": null,
            "right": null,
            "justify_content": null,
            "_view_module": "@jupyter-widgets/base",
            "overflow": null,
            "_model_module_version": "1.2.0",
            "_view_count": null,
            "flex_flow": null,
            "width": null,
            "min_width": null,
            "border": null,
            "align_items": null,
            "bottom": null,
            "_model_module": "@jupyter-widgets/base",
            "top": null,
            "grid_column": null,
            "overflow_y": null,
            "overflow_x": null,
            "grid_auto_flow": null,
            "grid_area": null,
            "grid_template_columns": null,
            "flex": null,
            "_model_name": "LayoutModel",
            "justify_items": null,
            "grid_row": null,
            "max_height": null,
            "align_content": null,
            "visibility": null,
            "align_self": null,
            "height": null,
            "min_height": null,
            "padding": null,
            "grid_auto_rows": null,
            "grid_gap": null,
            "max_width": null,
            "order": null,
            "_view_module_version": "1.2.0",
            "grid_template_areas": null,
            "object_position": null,
            "object_fit": null,
            "grid_auto_columns": null,
            "margin": null,
            "display": null,
            "left": null
          }
        },
        "9a8269d67bcf4c55a5d75858020d64e5": {
          "model_module": "@jupyter-widgets/controls",
          "model_name": "FloatProgressModel",
          "state": {
            "_view_name": "ProgressView",
            "style": "IPY_MODEL_aa1cad1cbca34e75ab865541234f8ccd",
            "_dom_classes": [],
            "description": "Downloading: 100%",
            "_model_name": "FloatProgressModel",
            "bar_style": "success",
            "max": 684,
            "_view_module": "@jupyter-widgets/controls",
            "_model_module_version": "1.5.0",
            "value": 684,
            "_view_count": null,
            "_view_module_version": "1.5.0",
            "orientation": "horizontal",
            "min": 0,
            "description_tooltip": null,
            "_model_module": "@jupyter-widgets/controls",
            "layout": "IPY_MODEL_9c3ee12b28b8477c9e25f54ce1388ee9"
          }
        },
        "38dbc766d8174e858099112c77d8ac91": {
          "model_module": "@jupyter-widgets/controls",
          "model_name": "HTMLModel",
          "state": {
            "_view_name": "HTMLView",
            "style": "IPY_MODEL_7b97c53ea43e4271bf5e800bfad0da84",
            "_dom_classes": [],
            "description": "",
            "_model_name": "HTMLModel",
            "placeholder": "​",
            "_view_module": "@jupyter-widgets/controls",
            "_model_module_version": "1.5.0",
            "value": " 684/684 [01:04&lt;00:00, 10.6B/s]",
            "_view_count": null,
            "_view_module_version": "1.5.0",
            "description_tooltip": null,
            "_model_module": "@jupyter-widgets/controls",
            "layout": "IPY_MODEL_7e69ab88c29540209f316f576f2d9fe3"
          }
        },
        "aa1cad1cbca34e75ab865541234f8ccd": {
          "model_module": "@jupyter-widgets/controls",
          "model_name": "ProgressStyleModel",
          "state": {
            "_view_name": "StyleView",
            "_model_name": "ProgressStyleModel",
            "description_width": "initial",
            "_view_module": "@jupyter-widgets/base",
            "_model_module_version": "1.5.0",
            "_view_count": null,
            "_view_module_version": "1.2.0",
            "bar_color": null,
            "_model_module": "@jupyter-widgets/controls"
          }
        },
        "9c3ee12b28b8477c9e25f54ce1388ee9": {
          "model_module": "@jupyter-widgets/base",
          "model_name": "LayoutModel",
          "state": {
            "_view_name": "LayoutView",
            "grid_template_rows": null,
            "right": null,
            "justify_content": null,
            "_view_module": "@jupyter-widgets/base",
            "overflow": null,
            "_model_module_version": "1.2.0",
            "_view_count": null,
            "flex_flow": null,
            "width": null,
            "min_width": null,
            "border": null,
            "align_items": null,
            "bottom": null,
            "_model_module": "@jupyter-widgets/base",
            "top": null,
            "grid_column": null,
            "overflow_y": null,
            "overflow_x": null,
            "grid_auto_flow": null,
            "grid_area": null,
            "grid_template_columns": null,
            "flex": null,
            "_model_name": "LayoutModel",
            "justify_items": null,
            "grid_row": null,
            "max_height": null,
            "align_content": null,
            "visibility": null,
            "align_self": null,
            "height": null,
            "min_height": null,
            "padding": null,
            "grid_auto_rows": null,
            "grid_gap": null,
            "max_width": null,
            "order": null,
            "_view_module_version": "1.2.0",
            "grid_template_areas": null,
            "object_position": null,
            "object_fit": null,
            "grid_auto_columns": null,
            "margin": null,
            "display": null,
            "left": null
          }
        },
        "7b97c53ea43e4271bf5e800bfad0da84": {
          "model_module": "@jupyter-widgets/controls",
          "model_name": "DescriptionStyleModel",
          "state": {
            "_view_name": "StyleView",
            "_model_name": "DescriptionStyleModel",
            "description_width": "",
            "_view_module": "@jupyter-widgets/base",
            "_model_module_version": "1.5.0",
            "_view_count": null,
            "_view_module_version": "1.2.0",
            "_model_module": "@jupyter-widgets/controls"
          }
        },
        "7e69ab88c29540209f316f576f2d9fe3": {
          "model_module": "@jupyter-widgets/base",
          "model_name": "LayoutModel",
          "state": {
            "_view_name": "LayoutView",
            "grid_template_rows": null,
            "right": null,
            "justify_content": null,
            "_view_module": "@jupyter-widgets/base",
            "overflow": null,
            "_model_module_version": "1.2.0",
            "_view_count": null,
            "flex_flow": null,
            "width": null,
            "min_width": null,
            "border": null,
            "align_items": null,
            "bottom": null,
            "_model_module": "@jupyter-widgets/base",
            "top": null,
            "grid_column": null,
            "overflow_y": null,
            "overflow_x": null,
            "grid_auto_flow": null,
            "grid_area": null,
            "grid_template_columns": null,
            "flex": null,
            "_model_name": "LayoutModel",
            "justify_items": null,
            "grid_row": null,
            "max_height": null,
            "align_content": null,
            "visibility": null,
            "align_self": null,
            "height": null,
            "min_height": null,
            "padding": null,
            "grid_auto_rows": null,
            "grid_gap": null,
            "max_width": null,
            "order": null,
            "_view_module_version": "1.2.0",
            "grid_template_areas": null,
            "object_position": null,
            "object_fit": null,
            "grid_auto_columns": null,
            "margin": null,
            "display": null,
            "left": null
          }
        },
        "1237eb27f4e44785bef7061da5faa653": {
          "model_module": "@jupyter-widgets/controls",
          "model_name": "HBoxModel",
          "state": {
            "_view_name": "HBoxView",
            "_dom_classes": [],
            "_model_name": "HBoxModel",
            "_view_module": "@jupyter-widgets/controls",
            "_model_module_version": "1.5.0",
            "_view_count": null,
            "_view_module_version": "1.5.0",
            "box_style": "",
            "layout": "IPY_MODEL_6bdf11106a2e42da868da8407b08ed21",
            "_model_module": "@jupyter-widgets/controls",
            "children": [
              "IPY_MODEL_12bd60e56c4e4718ba1e94aaadf2bb4f",
              "IPY_MODEL_bc7b542fed824449be0c5b7b45b77086"
            ]
          }
        },
        "6bdf11106a2e42da868da8407b08ed21": {
          "model_module": "@jupyter-widgets/base",
          "model_name": "LayoutModel",
          "state": {
            "_view_name": "LayoutView",
            "grid_template_rows": null,
            "right": null,
            "justify_content": null,
            "_view_module": "@jupyter-widgets/base",
            "overflow": null,
            "_model_module_version": "1.2.0",
            "_view_count": null,
            "flex_flow": null,
            "width": null,
            "min_width": null,
            "border": null,
            "align_items": null,
            "bottom": null,
            "_model_module": "@jupyter-widgets/base",
            "top": null,
            "grid_column": null,
            "overflow_y": null,
            "overflow_x": null,
            "grid_auto_flow": null,
            "grid_area": null,
            "grid_template_columns": null,
            "flex": null,
            "_model_name": "LayoutModel",
            "justify_items": null,
            "grid_row": null,
            "max_height": null,
            "align_content": null,
            "visibility": null,
            "align_self": null,
            "height": null,
            "min_height": null,
            "padding": null,
            "grid_auto_rows": null,
            "grid_gap": null,
            "max_width": null,
            "order": null,
            "_view_module_version": "1.2.0",
            "grid_template_areas": null,
            "object_position": null,
            "object_fit": null,
            "grid_auto_columns": null,
            "margin": null,
            "display": null,
            "left": null
          }
        },
        "12bd60e56c4e4718ba1e94aaadf2bb4f": {
          "model_module": "@jupyter-widgets/controls",
          "model_name": "FloatProgressModel",
          "state": {
            "_view_name": "ProgressView",
            "style": "IPY_MODEL_7ffb16fcda864ba682e600edb07162fc",
            "_dom_classes": [],
            "description": "Downloading: 100%",
            "_model_name": "FloatProgressModel",
            "bar_style": "success",
            "max": 1882978,
            "_view_module": "@jupyter-widgets/controls",
            "_model_module_version": "1.5.0",
            "value": 1882978,
            "_view_count": null,
            "_view_module_version": "1.5.0",
            "orientation": "horizontal",
            "min": 0,
            "description_tooltip": null,
            "_model_module": "@jupyter-widgets/controls",
            "layout": "IPY_MODEL_326adaa332ab4e988e491d4becf5b0cf"
          }
        },
        "bc7b542fed824449be0c5b7b45b77086": {
          "model_module": "@jupyter-widgets/controls",
          "model_name": "HTMLModel",
          "state": {
            "_view_name": "HTMLView",
            "style": "IPY_MODEL_a1613ae78cc04f0f97469818a1b63009",
            "_dom_classes": [],
            "description": "",
            "_model_name": "HTMLModel",
            "placeholder": "​",
            "_view_module": "@jupyter-widgets/controls",
            "_model_module_version": "1.5.0",
            "value": " 1.88M/1.88M [00:02&lt;00:00, 893kB/s]",
            "_view_count": null,
            "_view_module_version": "1.5.0",
            "description_tooltip": null,
            "_model_module": "@jupyter-widgets/controls",
            "layout": "IPY_MODEL_0997377cdb4c4d4ebe37fc6444ab3293"
          }
        },
        "7ffb16fcda864ba682e600edb07162fc": {
          "model_module": "@jupyter-widgets/controls",
          "model_name": "ProgressStyleModel",
          "state": {
            "_view_name": "StyleView",
            "_model_name": "ProgressStyleModel",
            "description_width": "initial",
            "_view_module": "@jupyter-widgets/base",
            "_model_module_version": "1.5.0",
            "_view_count": null,
            "_view_module_version": "1.2.0",
            "bar_color": null,
            "_model_module": "@jupyter-widgets/controls"
          }
        },
        "326adaa332ab4e988e491d4becf5b0cf": {
          "model_module": "@jupyter-widgets/base",
          "model_name": "LayoutModel",
          "state": {
            "_view_name": "LayoutView",
            "grid_template_rows": null,
            "right": null,
            "justify_content": null,
            "_view_module": "@jupyter-widgets/base",
            "overflow": null,
            "_model_module_version": "1.2.0",
            "_view_count": null,
            "flex_flow": null,
            "width": null,
            "min_width": null,
            "border": null,
            "align_items": null,
            "bottom": null,
            "_model_module": "@jupyter-widgets/base",
            "top": null,
            "grid_column": null,
            "overflow_y": null,
            "overflow_x": null,
            "grid_auto_flow": null,
            "grid_area": null,
            "grid_template_columns": null,
            "flex": null,
            "_model_name": "LayoutModel",
            "justify_items": null,
            "grid_row": null,
            "max_height": null,
            "align_content": null,
            "visibility": null,
            "align_self": null,
            "height": null,
            "min_height": null,
            "padding": null,
            "grid_auto_rows": null,
            "grid_gap": null,
            "max_width": null,
            "order": null,
            "_view_module_version": "1.2.0",
            "grid_template_areas": null,
            "object_position": null,
            "object_fit": null,
            "grid_auto_columns": null,
            "margin": null,
            "display": null,
            "left": null
          }
        },
        "a1613ae78cc04f0f97469818a1b63009": {
          "model_module": "@jupyter-widgets/controls",
          "model_name": "DescriptionStyleModel",
          "state": {
            "_view_name": "StyleView",
            "_model_name": "DescriptionStyleModel",
            "description_width": "",
            "_view_module": "@jupyter-widgets/base",
            "_model_module_version": "1.5.0",
            "_view_count": null,
            "_view_module_version": "1.2.0",
            "_model_module": "@jupyter-widgets/controls"
          }
        },
        "0997377cdb4c4d4ebe37fc6444ab3293": {
          "model_module": "@jupyter-widgets/base",
          "model_name": "LayoutModel",
          "state": {
            "_view_name": "LayoutView",
            "grid_template_rows": null,
            "right": null,
            "justify_content": null,
            "_view_module": "@jupyter-widgets/base",
            "overflow": null,
            "_model_module_version": "1.2.0",
            "_view_count": null,
            "flex_flow": null,
            "width": null,
            "min_width": null,
            "border": null,
            "align_items": null,
            "bottom": null,
            "_model_module": "@jupyter-widgets/base",
            "top": null,
            "grid_column": null,
            "overflow_y": null,
            "overflow_x": null,
            "grid_auto_flow": null,
            "grid_area": null,
            "grid_template_columns": null,
            "flex": null,
            "_model_name": "LayoutModel",
            "justify_items": null,
            "grid_row": null,
            "max_height": null,
            "align_content": null,
            "visibility": null,
            "align_self": null,
            "height": null,
            "min_height": null,
            "padding": null,
            "grid_auto_rows": null,
            "grid_gap": null,
            "max_width": null,
            "order": null,
            "_view_module_version": "1.2.0",
            "grid_template_areas": null,
            "object_position": null,
            "object_fit": null,
            "grid_auto_columns": null,
            "margin": null,
            "display": null,
            "left": null
          }
        },
        "eaf1d6c739af48b686fae3162223eba3": {
          "model_module": "@jupyter-widgets/controls",
          "model_name": "HBoxModel",
          "state": {
            "_view_name": "HBoxView",
            "_dom_classes": [],
            "_model_name": "HBoxModel",
            "_view_module": "@jupyter-widgets/controls",
            "_model_module_version": "1.5.0",
            "_view_count": null,
            "_view_module_version": "1.5.0",
            "box_style": "",
            "layout": "IPY_MODEL_3b6bc2f2260e455995e202d2e0655c24",
            "_model_module": "@jupyter-widgets/controls",
            "children": [
              "IPY_MODEL_3e42daa93be74ebaa91ba8192a90a925",
              "IPY_MODEL_9310dcd9bcd04f02b75d8886dec6b982"
            ]
          }
        },
        "3b6bc2f2260e455995e202d2e0655c24": {
          "model_module": "@jupyter-widgets/base",
          "model_name": "LayoutModel",
          "state": {
            "_view_name": "LayoutView",
            "grid_template_rows": null,
            "right": null,
            "justify_content": null,
            "_view_module": "@jupyter-widgets/base",
            "overflow": null,
            "_model_module_version": "1.2.0",
            "_view_count": null,
            "flex_flow": null,
            "width": null,
            "min_width": null,
            "border": null,
            "align_items": null,
            "bottom": null,
            "_model_module": "@jupyter-widgets/base",
            "top": null,
            "grid_column": null,
            "overflow_y": null,
            "overflow_x": null,
            "grid_auto_flow": null,
            "grid_area": null,
            "grid_template_columns": null,
            "flex": null,
            "_model_name": "LayoutModel",
            "justify_items": null,
            "grid_row": null,
            "max_height": null,
            "align_content": null,
            "visibility": null,
            "align_self": null,
            "height": null,
            "min_height": null,
            "padding": null,
            "grid_auto_rows": null,
            "grid_gap": null,
            "max_width": null,
            "order": null,
            "_view_module_version": "1.2.0",
            "grid_template_areas": null,
            "object_position": null,
            "object_fit": null,
            "grid_auto_columns": null,
            "margin": null,
            "display": null,
            "left": null
          }
        },
        "3e42daa93be74ebaa91ba8192a90a925": {
          "model_module": "@jupyter-widgets/controls",
          "model_name": "FloatProgressModel",
          "state": {
            "_view_name": "ProgressView",
            "style": "IPY_MODEL_d8010bb04a024c50afaac6130810e279",
            "_dom_classes": [],
            "description": "Downloading: 100%",
            "_model_name": "FloatProgressModel",
            "bar_style": "success",
            "max": 73062448,
            "_view_module": "@jupyter-widgets/controls",
            "_model_module_version": "1.5.0",
            "value": 73062448,
            "_view_count": null,
            "_view_module_version": "1.5.0",
            "orientation": "horizontal",
            "min": 0,
            "description_tooltip": null,
            "_model_module": "@jupyter-widgets/controls",
            "layout": "IPY_MODEL_c4ea4b113f404411a3985e91350d8964"
          }
        },
        "9310dcd9bcd04f02b75d8886dec6b982": {
          "model_module": "@jupyter-widgets/controls",
          "model_name": "HTMLModel",
          "state": {
            "_view_name": "HTMLView",
            "style": "IPY_MODEL_62cb2ab50bba4f49806ed60e56d430d3",
            "_dom_classes": [],
            "description": "",
            "_model_name": "HTMLModel",
            "placeholder": "​",
            "_view_module": "@jupyter-widgets/controls",
            "_model_module_version": "1.5.0",
            "value": " 73.1M/73.1M [00:11&lt;00:00, 6.61MB/s]",
            "_view_count": null,
            "_view_module_version": "1.5.0",
            "description_tooltip": null,
            "_model_module": "@jupyter-widgets/controls",
            "layout": "IPY_MODEL_6f0cd56c2de24e62b49cc106b6d8eec3"
          }
        },
        "d8010bb04a024c50afaac6130810e279": {
          "model_module": "@jupyter-widgets/controls",
          "model_name": "ProgressStyleModel",
          "state": {
            "_view_name": "StyleView",
            "_model_name": "ProgressStyleModel",
            "description_width": "initial",
            "_view_module": "@jupyter-widgets/base",
            "_model_module_version": "1.5.0",
            "_view_count": null,
            "_view_module_version": "1.2.0",
            "bar_color": null,
            "_model_module": "@jupyter-widgets/controls"
          }
        },
        "c4ea4b113f404411a3985e91350d8964": {
          "model_module": "@jupyter-widgets/base",
          "model_name": "LayoutModel",
          "state": {
            "_view_name": "LayoutView",
            "grid_template_rows": null,
            "right": null,
            "justify_content": null,
            "_view_module": "@jupyter-widgets/base",
            "overflow": null,
            "_model_module_version": "1.2.0",
            "_view_count": null,
            "flex_flow": null,
            "width": null,
            "min_width": null,
            "border": null,
            "align_items": null,
            "bottom": null,
            "_model_module": "@jupyter-widgets/base",
            "top": null,
            "grid_column": null,
            "overflow_y": null,
            "overflow_x": null,
            "grid_auto_flow": null,
            "grid_area": null,
            "grid_template_columns": null,
            "flex": null,
            "_model_name": "LayoutModel",
            "justify_items": null,
            "grid_row": null,
            "max_height": null,
            "align_content": null,
            "visibility": null,
            "align_self": null,
            "height": null,
            "min_height": null,
            "padding": null,
            "grid_auto_rows": null,
            "grid_gap": null,
            "max_width": null,
            "order": null,
            "_view_module_version": "1.2.0",
            "grid_template_areas": null,
            "object_position": null,
            "object_fit": null,
            "grid_auto_columns": null,
            "margin": null,
            "display": null,
            "left": null
          }
        },
        "62cb2ab50bba4f49806ed60e56d430d3": {
          "model_module": "@jupyter-widgets/controls",
          "model_name": "DescriptionStyleModel",
          "state": {
            "_view_name": "StyleView",
            "_model_name": "DescriptionStyleModel",
            "description_width": "",
            "_view_module": "@jupyter-widgets/base",
            "_model_module_version": "1.5.0",
            "_view_count": null,
            "_view_module_version": "1.2.0",
            "_model_module": "@jupyter-widgets/controls"
          }
        },
        "6f0cd56c2de24e62b49cc106b6d8eec3": {
          "model_module": "@jupyter-widgets/base",
          "model_name": "LayoutModel",
          "state": {
            "_view_name": "LayoutView",
            "grid_template_rows": null,
            "right": null,
            "justify_content": null,
            "_view_module": "@jupyter-widgets/base",
            "overflow": null,
            "_model_module_version": "1.2.0",
            "_view_count": null,
            "flex_flow": null,
            "width": null,
            "min_width": null,
            "border": null,
            "align_items": null,
            "bottom": null,
            "_model_module": "@jupyter-widgets/base",
            "top": null,
            "grid_column": null,
            "overflow_y": null,
            "overflow_x": null,
            "grid_auto_flow": null,
            "grid_area": null,
            "grid_template_columns": null,
            "flex": null,
            "_model_name": "LayoutModel",
            "justify_items": null,
            "grid_row": null,
            "max_height": null,
            "align_content": null,
            "visibility": null,
            "align_self": null,
            "height": null,
            "min_height": null,
            "padding": null,
            "grid_auto_rows": null,
            "grid_gap": null,
            "max_width": null,
            "order": null,
            "_view_module_version": "1.2.0",
            "grid_template_areas": null,
            "object_position": null,
            "object_fit": null,
            "grid_auto_columns": null,
            "margin": null,
            "display": null,
            "left": null
          }
        }
      }
    }
  },
  "cells": [
    {
      "cell_type": "markdown",
      "metadata": {
        "id": "view-in-github",
        "colab_type": "text"
      },
      "source": [
        "<a href=\"https://colab.research.google.com/github/AliAkbarBadri/topics-for-types/blob/main/topics.ipynb\" target=\"_parent\"><img src=\"https://colab.research.google.com/assets/colab-badge.svg\" alt=\"Open In Colab\"/></a>"
      ]
    },
    {
      "cell_type": "markdown",
      "metadata": {
        "id": "35118jEtNm5E"
      },
      "source": [
        "# Setup"
      ]
    },
    {
      "cell_type": "code",
      "metadata": {
        "id": "SJFNjxht1SE5",
        "outputId": "58275936-d1f7-428f-a4fe-4cc3912a2d60",
        "colab": {
          "base_uri": "https://localhost:8080/"
        }
      },
      "source": [
        "! pip -q install laserembeddings\n",
        "! python -m laserembeddings download-models\n",
        "! pip -q install transformers"
      ],
      "execution_count": 1,
      "outputs": [
        {
          "output_type": "stream",
          "text": [
            "\u001b[K     |████████████████████████████████| 51kB 3.8MB/s \n",
            "\u001b[K     |████████████████████████████████| 860kB 7.2MB/s \n",
            "\u001b[?25h  Building wheel for sacremoses (setup.py) ... \u001b[?25l\u001b[?25hdone\n",
            "Downloading models into /usr/local/lib/python3.6/dist-packages/laserembeddings/data\n",
            "\n",
            "✅   Downloaded https://dl.fbaipublicfiles.com/laser/models/93langs.fcodes    \n",
            "✅   Downloaded https://dl.fbaipublicfiles.com/laser/models/93langs.fvocab    \n",
            "✅   Downloaded https://dl.fbaipublicfiles.com/laser/models/bilstm.93langs.2018-12-26.pt    \n",
            "\n",
            "✨ You're all set!\n",
            "\u001b[K     |████████████████████████████████| 1.3MB 5.4MB/s \n",
            "\u001b[K     |████████████████████████████████| 1.1MB 52.3MB/s \n",
            "\u001b[K     |████████████████████████████████| 2.9MB 54.0MB/s \n",
            "\u001b[?25h"
          ],
          "name": "stdout"
        }
      ]
    },
    {
      "cell_type": "code",
      "metadata": {
        "id": "bxA_PSMaBhzU"
      },
      "source": [
        "import pandas as pd\n",
        "import numpy as np\n",
        "import numpy as np\n",
        "import matplotlib.pyplot as plt\n",
        "import os\n",
        "import tensorflow as tf\n",
        "import tensorflow_addons as tfa\n",
        "from tensorflow.keras.preprocessing.text import Tokenizer\n",
        "from tensorflow.keras.preprocessing.sequence import pad_sequences\n",
        "import torch\n",
        "from sklearn.model_selection import train_test_split\n",
        "from transformers import AutoConfig, AutoTokenizer, AutoModel\n",
        "from laserembeddings import Laser\n",
        "from __future__ import unicode_literals"
      ],
      "execution_count": 17,
      "outputs": []
    },
    {
      "cell_type": "code",
      "metadata": {
        "id": "LCVAXfOLRn17",
        "outputId": "ec3a5cbd-9da6-486e-a335-677108eb4429",
        "colab": {
          "base_uri": "https://localhost:8080/"
        }
      },
      "source": [
        "from google.colab import drive\n",
        "drive.mount('/content/drive')"
      ],
      "execution_count": 3,
      "outputs": [
        {
          "output_type": "stream",
          "text": [
            "Mounted at /content/drive\n"
          ],
          "name": "stdout"
        }
      ]
    },
    {
      "cell_type": "markdown",
      "metadata": {
        "id": "YOWqOnmkpowp"
      },
      "source": [
        "# LASER"
      ]
    },
    {
      "cell_type": "code",
      "metadata": {
        "id": "36sadEN82ZUu"
      },
      "source": [
        "laser = Laser()"
      ],
      "execution_count": 4,
      "outputs": []
    },
    {
      "cell_type": "code",
      "metadata": {
        "id": "lSQdhjdD8Osl",
        "outputId": "a3fc66bd-3711-43aa-920e-a8fabcd91abe",
        "colab": {
          "base_uri": "https://localhost:8080/",
          "height": 564
        }
      },
      "source": [
        "df_topics_laser = pd.read_csv(\"/content/drive/My Drive/topics-for-types/df_topics.csv\")\n",
        "df_topics_laser.head()"
      ],
      "execution_count": 5,
      "outputs": [
        {
          "output_type": "execute_result",
          "data": {
            "text/html": [
              "<div>\n",
              "<style scoped>\n",
              "    .dataframe tbody tr th:only-of-type {\n",
              "        vertical-align: middle;\n",
              "    }\n",
              "\n",
              "    .dataframe tbody tr th {\n",
              "        vertical-align: top;\n",
              "    }\n",
              "\n",
              "    .dataframe thead th {\n",
              "        text-align: right;\n",
              "    }\n",
              "</style>\n",
              "<table border=\"1\" class=\"dataframe\">\n",
              "  <thead>\n",
              "    <tr style=\"text-align: right;\">\n",
              "      <th></th>\n",
              "      <th>sentence</th>\n",
              "      <th>اقتصاد</th>\n",
              "      <th>بازی</th>\n",
              "      <th>برنامه‌نویسی</th>\n",
              "      <th>تحصیل</th>\n",
              "      <th>تغذیه</th>\n",
              "      <th>حقوق/قانون</th>\n",
              "      <th>حیوانات</th>\n",
              "      <th>خرید</th>\n",
              "      <th>روابط</th>\n",
              "      <th>روانشناسی</th>\n",
              "      <th>زبان</th>\n",
              "      <th>زیبایی</th>\n",
              "      <th>سرگرمی</th>\n",
              "      <th>سفر</th>\n",
              "      <th>سلامت</th>\n",
              "      <th>فنی</th>\n",
              "      <th>ماشین</th>\n",
              "      <th>مذهبی</th>\n",
              "      <th>ورزش</th>\n",
              "      <th>کار</th>\n",
              "      <th>کامپیوتر/موبایل</th>\n",
              "      <th>کودکان</th>\n",
              "      <th>گیاهان</th>\n",
              "    </tr>\n",
              "  </thead>\n",
              "  <tbody>\n",
              "    <tr>\n",
              "      <th>0</th>\n",
              "      <td>تفاوت ترمز عقب دیسکی و کاسه ای چیست؟</td>\n",
              "      <td>0</td>\n",
              "      <td>0</td>\n",
              "      <td>0</td>\n",
              "      <td>0</td>\n",
              "      <td>0</td>\n",
              "      <td>0</td>\n",
              "      <td>0</td>\n",
              "      <td>1</td>\n",
              "      <td>0</td>\n",
              "      <td>0</td>\n",
              "      <td>0</td>\n",
              "      <td>0</td>\n",
              "      <td>0</td>\n",
              "      <td>0</td>\n",
              "      <td>0</td>\n",
              "      <td>1</td>\n",
              "      <td>1</td>\n",
              "      <td>0</td>\n",
              "      <td>0</td>\n",
              "      <td>0</td>\n",
              "      <td>0</td>\n",
              "      <td>0</td>\n",
              "      <td>0</td>\n",
              "    </tr>\n",
              "    <tr>\n",
              "      <th>1</th>\n",
              "      <td>آیا ترمز ضدقفل ABS در همه چرخ ها عمل می کند؟</td>\n",
              "      <td>0</td>\n",
              "      <td>0</td>\n",
              "      <td>0</td>\n",
              "      <td>0</td>\n",
              "      <td>0</td>\n",
              "      <td>0</td>\n",
              "      <td>0</td>\n",
              "      <td>0</td>\n",
              "      <td>0</td>\n",
              "      <td>0</td>\n",
              "      <td>0</td>\n",
              "      <td>0</td>\n",
              "      <td>0</td>\n",
              "      <td>0</td>\n",
              "      <td>0</td>\n",
              "      <td>1</td>\n",
              "      <td>1</td>\n",
              "      <td>0</td>\n",
              "      <td>0</td>\n",
              "      <td>1</td>\n",
              "      <td>0</td>\n",
              "      <td>0</td>\n",
              "      <td>0</td>\n",
              "    </tr>\n",
              "    <tr>\n",
              "      <th>2</th>\n",
              "      <td>چرا باوجود نصب بودن ترمز ABS بر روی خودرو، ترم...</td>\n",
              "      <td>0</td>\n",
              "      <td>0</td>\n",
              "      <td>0</td>\n",
              "      <td>0</td>\n",
              "      <td>0</td>\n",
              "      <td>0</td>\n",
              "      <td>0</td>\n",
              "      <td>0</td>\n",
              "      <td>0</td>\n",
              "      <td>0</td>\n",
              "      <td>0</td>\n",
              "      <td>0</td>\n",
              "      <td>0</td>\n",
              "      <td>0</td>\n",
              "      <td>0</td>\n",
              "      <td>1</td>\n",
              "      <td>1</td>\n",
              "      <td>0</td>\n",
              "      <td>0</td>\n",
              "      <td>1</td>\n",
              "      <td>0</td>\n",
              "      <td>0</td>\n",
              "      <td>0</td>\n",
              "    </tr>\n",
              "    <tr>\n",
              "      <th>3</th>\n",
              "      <td>چرا با وجود نصب بودن Airbag بر روی خودرو، در ه...</td>\n",
              "      <td>0</td>\n",
              "      <td>0</td>\n",
              "      <td>0</td>\n",
              "      <td>0</td>\n",
              "      <td>0</td>\n",
              "      <td>0</td>\n",
              "      <td>0</td>\n",
              "      <td>0</td>\n",
              "      <td>0</td>\n",
              "      <td>0</td>\n",
              "      <td>0</td>\n",
              "      <td>0</td>\n",
              "      <td>0</td>\n",
              "      <td>0</td>\n",
              "      <td>0</td>\n",
              "      <td>1</td>\n",
              "      <td>1</td>\n",
              "      <td>0</td>\n",
              "      <td>0</td>\n",
              "      <td>1</td>\n",
              "      <td>0</td>\n",
              "      <td>0</td>\n",
              "      <td>0</td>\n",
              "    </tr>\n",
              "    <tr>\n",
              "      <th>4</th>\n",
              "      <td>کلاس های مختلف خودرو چگونه شناسایی می شوند؟</td>\n",
              "      <td>0</td>\n",
              "      <td>0</td>\n",
              "      <td>0</td>\n",
              "      <td>0</td>\n",
              "      <td>0</td>\n",
              "      <td>0</td>\n",
              "      <td>0</td>\n",
              "      <td>1</td>\n",
              "      <td>0</td>\n",
              "      <td>0</td>\n",
              "      <td>0</td>\n",
              "      <td>0</td>\n",
              "      <td>0</td>\n",
              "      <td>0</td>\n",
              "      <td>0</td>\n",
              "      <td>1</td>\n",
              "      <td>1</td>\n",
              "      <td>0</td>\n",
              "      <td>0</td>\n",
              "      <td>0</td>\n",
              "      <td>0</td>\n",
              "      <td>0</td>\n",
              "      <td>0</td>\n",
              "    </tr>\n",
              "  </tbody>\n",
              "</table>\n",
              "</div>"
            ],
            "text/plain": [
              "                                            sentence  اقتصاد  ...  کودکان  گیاهان\n",
              "0              تفاوت ترمز عقب دیسکی و کاسه ای چیست؟        0  ...       0       0\n",
              "1     آیا ترمز ضدقفل ABS در همه چرخ ها عمل می کند؟         0  ...       0       0\n",
              "2  چرا باوجود نصب بودن ترمز ABS بر روی خودرو، ترم...       0  ...       0       0\n",
              "3  چرا با وجود نصب بودن Airbag بر روی خودرو، در ه...       0  ...       0       0\n",
              "4       کلاس های مختلف خودرو چگونه شناسایی می شوند؟        0  ...       0       0\n",
              "\n",
              "[5 rows x 24 columns]"
            ]
          },
          "metadata": {
            "tags": []
          },
          "execution_count": 5
        }
      ]
    },
    {
      "cell_type": "code",
      "metadata": {
        "id": "9BCDHaSsKERB",
        "outputId": "41ff8f52-4137-4e72-9d9a-26b1b154acd8",
        "colab": {
          "base_uri": "https://localhost:8080/"
        }
      },
      "source": [
        "n_class = len(df_topics_laser.columns.values)-1\n",
        "n_class"
      ],
      "execution_count": 11,
      "outputs": [
        {
          "output_type": "execute_result",
          "data": {
            "text/plain": [
              "23"
            ]
          },
          "metadata": {
            "tags": []
          },
          "execution_count": 11
        }
      ]
    },
    {
      "cell_type": "code",
      "metadata": {
        "id": "opZheLr-1fI6",
        "outputId": "730f0b44-3fd0-413c-d8e6-40f8d1169c14",
        "colab": {
          "base_uri": "https://localhost:8080/",
          "height": 496
        }
      },
      "source": [
        "df_topics_laser['sentence'] = df_topics_laser['sentence'].apply(lambda sent: laser.embed_sentences(sent, lang='fa')[0])\n",
        "df_topics_laser.head()"
      ],
      "execution_count": 12,
      "outputs": [
        {
          "output_type": "execute_result",
          "data": {
            "text/html": [
              "<div>\n",
              "<style scoped>\n",
              "    .dataframe tbody tr th:only-of-type {\n",
              "        vertical-align: middle;\n",
              "    }\n",
              "\n",
              "    .dataframe tbody tr th {\n",
              "        vertical-align: top;\n",
              "    }\n",
              "\n",
              "    .dataframe thead th {\n",
              "        text-align: right;\n",
              "    }\n",
              "</style>\n",
              "<table border=\"1\" class=\"dataframe\">\n",
              "  <thead>\n",
              "    <tr style=\"text-align: right;\">\n",
              "      <th></th>\n",
              "      <th>sentence</th>\n",
              "      <th>اقتصاد</th>\n",
              "      <th>بازی</th>\n",
              "      <th>برنامه‌نویسی</th>\n",
              "      <th>تحصیل</th>\n",
              "      <th>تغذیه</th>\n",
              "      <th>حقوق/قانون</th>\n",
              "      <th>حیوانات</th>\n",
              "      <th>خرید</th>\n",
              "      <th>روابط</th>\n",
              "      <th>روانشناسی</th>\n",
              "      <th>زبان</th>\n",
              "      <th>زیبایی</th>\n",
              "      <th>سرگرمی</th>\n",
              "      <th>سفر</th>\n",
              "      <th>سلامت</th>\n",
              "      <th>فنی</th>\n",
              "      <th>ماشین</th>\n",
              "      <th>مذهبی</th>\n",
              "      <th>ورزش</th>\n",
              "      <th>کار</th>\n",
              "      <th>کامپیوتر/موبایل</th>\n",
              "      <th>کودکان</th>\n",
              "      <th>گیاهان</th>\n",
              "    </tr>\n",
              "  </thead>\n",
              "  <tbody>\n",
              "    <tr>\n",
              "      <th>0</th>\n",
              "      <td>[0.020942228, -8.114154e-05, -0.0009854127, 0....</td>\n",
              "      <td>0</td>\n",
              "      <td>0</td>\n",
              "      <td>0</td>\n",
              "      <td>0</td>\n",
              "      <td>0</td>\n",
              "      <td>0</td>\n",
              "      <td>0</td>\n",
              "      <td>1</td>\n",
              "      <td>0</td>\n",
              "      <td>0</td>\n",
              "      <td>0</td>\n",
              "      <td>0</td>\n",
              "      <td>0</td>\n",
              "      <td>0</td>\n",
              "      <td>0</td>\n",
              "      <td>1</td>\n",
              "      <td>1</td>\n",
              "      <td>0</td>\n",
              "      <td>0</td>\n",
              "      <td>0</td>\n",
              "      <td>0</td>\n",
              "      <td>0</td>\n",
              "      <td>0</td>\n",
              "    </tr>\n",
              "    <tr>\n",
              "      <th>1</th>\n",
              "      <td>[0.008679963, 0.0027223488, -0.000162347, 0.01...</td>\n",
              "      <td>0</td>\n",
              "      <td>0</td>\n",
              "      <td>0</td>\n",
              "      <td>0</td>\n",
              "      <td>0</td>\n",
              "      <td>0</td>\n",
              "      <td>0</td>\n",
              "      <td>0</td>\n",
              "      <td>0</td>\n",
              "      <td>0</td>\n",
              "      <td>0</td>\n",
              "      <td>0</td>\n",
              "      <td>0</td>\n",
              "      <td>0</td>\n",
              "      <td>0</td>\n",
              "      <td>1</td>\n",
              "      <td>1</td>\n",
              "      <td>0</td>\n",
              "      <td>0</td>\n",
              "      <td>1</td>\n",
              "      <td>0</td>\n",
              "      <td>0</td>\n",
              "      <td>0</td>\n",
              "    </tr>\n",
              "    <tr>\n",
              "      <th>2</th>\n",
              "      <td>[0.011158587, 0.01838572, -8.3516294e-05, 0.01...</td>\n",
              "      <td>0</td>\n",
              "      <td>0</td>\n",
              "      <td>0</td>\n",
              "      <td>0</td>\n",
              "      <td>0</td>\n",
              "      <td>0</td>\n",
              "      <td>0</td>\n",
              "      <td>0</td>\n",
              "      <td>0</td>\n",
              "      <td>0</td>\n",
              "      <td>0</td>\n",
              "      <td>0</td>\n",
              "      <td>0</td>\n",
              "      <td>0</td>\n",
              "      <td>0</td>\n",
              "      <td>1</td>\n",
              "      <td>1</td>\n",
              "      <td>0</td>\n",
              "      <td>0</td>\n",
              "      <td>1</td>\n",
              "      <td>0</td>\n",
              "      <td>0</td>\n",
              "      <td>0</td>\n",
              "    </tr>\n",
              "    <tr>\n",
              "      <th>3</th>\n",
              "      <td>[0.00957515, 0.013646437, 7.700363e-05, 0.0117...</td>\n",
              "      <td>0</td>\n",
              "      <td>0</td>\n",
              "      <td>0</td>\n",
              "      <td>0</td>\n",
              "      <td>0</td>\n",
              "      <td>0</td>\n",
              "      <td>0</td>\n",
              "      <td>0</td>\n",
              "      <td>0</td>\n",
              "      <td>0</td>\n",
              "      <td>0</td>\n",
              "      <td>0</td>\n",
              "      <td>0</td>\n",
              "      <td>0</td>\n",
              "      <td>0</td>\n",
              "      <td>1</td>\n",
              "      <td>1</td>\n",
              "      <td>0</td>\n",
              "      <td>0</td>\n",
              "      <td>1</td>\n",
              "      <td>0</td>\n",
              "      <td>0</td>\n",
              "      <td>0</td>\n",
              "    </tr>\n",
              "    <tr>\n",
              "      <th>4</th>\n",
              "      <td>[0.027029112, 0.0024084542, 0.0004833732, 0.00...</td>\n",
              "      <td>0</td>\n",
              "      <td>0</td>\n",
              "      <td>0</td>\n",
              "      <td>0</td>\n",
              "      <td>0</td>\n",
              "      <td>0</td>\n",
              "      <td>0</td>\n",
              "      <td>1</td>\n",
              "      <td>0</td>\n",
              "      <td>0</td>\n",
              "      <td>0</td>\n",
              "      <td>0</td>\n",
              "      <td>0</td>\n",
              "      <td>0</td>\n",
              "      <td>0</td>\n",
              "      <td>1</td>\n",
              "      <td>1</td>\n",
              "      <td>0</td>\n",
              "      <td>0</td>\n",
              "      <td>0</td>\n",
              "      <td>0</td>\n",
              "      <td>0</td>\n",
              "      <td>0</td>\n",
              "    </tr>\n",
              "  </tbody>\n",
              "</table>\n",
              "</div>"
            ],
            "text/plain": [
              "                                            sentence  اقتصاد  ...  کودکان  گیاهان\n",
              "0  [0.020942228, -8.114154e-05, -0.0009854127, 0....       0  ...       0       0\n",
              "1  [0.008679963, 0.0027223488, -0.000162347, 0.01...       0  ...       0       0\n",
              "2  [0.011158587, 0.01838572, -8.3516294e-05, 0.01...       0  ...       0       0\n",
              "3  [0.00957515, 0.013646437, 7.700363e-05, 0.0117...       0  ...       0       0\n",
              "4  [0.027029112, 0.0024084542, 0.0004833732, 0.00...       0  ...       0       0\n",
              "\n",
              "[5 rows x 24 columns]"
            ]
          },
          "metadata": {
            "tags": []
          },
          "execution_count": 12
        }
      ]
    },
    {
      "cell_type": "code",
      "metadata": {
        "id": "zfS5i6JY5wtz",
        "outputId": "b9d1d3d3-08f1-49d3-ec55-038dc070d799",
        "colab": {
          "base_uri": "https://localhost:8080/"
        }
      },
      "source": [
        "X = np.array(df_topics_laser[df_topics_laser.columns[0]])\n",
        "X = np.vstack(X)\n",
        "\n",
        "Y = df_topics_laser[df_topics_laser.columns[1:]].values\n",
        "\n",
        "X.shape, Y.shape"
      ],
      "execution_count": 13,
      "outputs": [
        {
          "output_type": "execute_result",
          "data": {
            "text/plain": [
              "((2708, 1024), (2708, 23))"
            ]
          },
          "metadata": {
            "tags": []
          },
          "execution_count": 13
        }
      ]
    },
    {
      "cell_type": "code",
      "metadata": {
        "id": "2dIU12_77FYS"
      },
      "source": [
        "X_train, X_test, y_train, y_test = train_test_split(X, Y, test_size=0.10)"
      ],
      "execution_count": 14,
      "outputs": []
    },
    {
      "cell_type": "code",
      "metadata": {
        "id": "FGgNLji77YUg",
        "outputId": "ca3ef7f1-7152-492b-95d5-3df492f875c8",
        "colab": {
          "base_uri": "https://localhost:8080/"
        }
      },
      "source": [
        "len(X_train),len(X_test),len(y_train),len(y_test)"
      ],
      "execution_count": 15,
      "outputs": [
        {
          "output_type": "execute_result",
          "data": {
            "text/plain": [
              "(2437, 271, 2437, 271)"
            ]
          },
          "metadata": {
            "tags": []
          },
          "execution_count": 15
        }
      ]
    },
    {
      "cell_type": "code",
      "metadata": {
        "id": "Ft6tF_ek3LQo",
        "outputId": "26d4e31b-ef0e-48ef-d353-700f7838746b",
        "colab": {
          "base_uri": "https://localhost:8080/",
          "height": 392
        }
      },
      "source": [
        "model = tf.keras.Sequential([\n",
        "    tf.keras.layers.Input(shape=X[0].shape, name='input_layer'),\n",
        "    tf.keras.layers.Dense(100, activation='relu', name='Dense_Layer'),\n",
        "    tf.keras.layers.Dense(100, activation='relu', name='Dense_Layer2'),\n",
        "    tf.keras.layers.Dense(n_class, activation='sigmoid', name='Output'),\n",
        "  ], name='LASER_Model')\n",
        "\n",
        "model.compile(loss='binary_crossentropy', optimizer='adam', \n",
        "              metrics=['acc',\n",
        "                       tfa.metrics.f_scores.F1Score(n_class,'weighted', threshold=0.5, name='f1'),\n",
        "                       tfa.metrics.f_scores.F1Score(n_class,'macro',threshold=0.5, name='macro'),\n",
        "                       tfa.metrics.f_scores.F1Score(n_class,'micro',threshold=0.5, name='micro'),\n",
        "                       tfa.metrics.HammingLoss(mode='multilabel',threshold=0.5, name='hamloss')])\n",
        "print(model.summary())"
      ],
      "execution_count": 28,
      "outputs": [
        {
          "output_type": "error",
          "ename": "ValueError",
          "evalue": "ignored",
          "traceback": [
            "\u001b[0;31m---------------------------------------------------------------------------\u001b[0m",
            "\u001b[0;31mValueError\u001b[0m                                Traceback (most recent call last)",
            "\u001b[0;32m<ipython-input-28-fe7160eaf93d>\u001b[0m in \u001b[0;36m<module>\u001b[0;34m()\u001b[0m\n\u001b[1;32m      4\u001b[0m     \u001b[0mtf\u001b[0m\u001b[0;34m.\u001b[0m\u001b[0mkeras\u001b[0m\u001b[0;34m.\u001b[0m\u001b[0mlayers\u001b[0m\u001b[0;34m.\u001b[0m\u001b[0mDense\u001b[0m\u001b[0;34m(\u001b[0m\u001b[0;36m100\u001b[0m\u001b[0;34m,\u001b[0m \u001b[0mactivation\u001b[0m\u001b[0;34m=\u001b[0m\u001b[0;34m'relu'\u001b[0m\u001b[0;34m,\u001b[0m \u001b[0mname\u001b[0m\u001b[0;34m=\u001b[0m\u001b[0;34m'Dense_Layer'\u001b[0m\u001b[0;34m)\u001b[0m\u001b[0;34m,\u001b[0m\u001b[0;34m\u001b[0m\u001b[0;34m\u001b[0m\u001b[0m\n\u001b[1;32m      5\u001b[0m     \u001b[0mtf\u001b[0m\u001b[0;34m.\u001b[0m\u001b[0mkeras\u001b[0m\u001b[0;34m.\u001b[0m\u001b[0mlayers\u001b[0m\u001b[0;34m.\u001b[0m\u001b[0mDense\u001b[0m\u001b[0;34m(\u001b[0m\u001b[0mn_class\u001b[0m\u001b[0;34m,\u001b[0m \u001b[0mactivation\u001b[0m\u001b[0;34m=\u001b[0m\u001b[0;34m'sigmoid'\u001b[0m\u001b[0;34m,\u001b[0m \u001b[0mname\u001b[0m\u001b[0;34m=\u001b[0m\u001b[0;34m'Output'\u001b[0m\u001b[0;34m)\u001b[0m\u001b[0;34m,\u001b[0m\u001b[0;34m\u001b[0m\u001b[0;34m\u001b[0m\u001b[0m\n\u001b[0;32m----> 6\u001b[0;31m   ], name='LASER_Model')\n\u001b[0m\u001b[1;32m      7\u001b[0m \u001b[0;34m\u001b[0m\u001b[0m\n\u001b[1;32m      8\u001b[0m model.compile(loss='binary_crossentropy', optimizer='adam', \n",
            "\u001b[0;32m/usr/local/lib/python3.6/dist-packages/tensorflow/python/training/tracking/base.py\u001b[0m in \u001b[0;36m_method_wrapper\u001b[0;34m(self, *args, **kwargs)\u001b[0m\n\u001b[1;32m    455\u001b[0m     \u001b[0mself\u001b[0m\u001b[0;34m.\u001b[0m\u001b[0m_self_setattr_tracking\u001b[0m \u001b[0;34m=\u001b[0m \u001b[0;32mFalse\u001b[0m  \u001b[0;31m# pylint: disable=protected-access\u001b[0m\u001b[0;34m\u001b[0m\u001b[0;34m\u001b[0m\u001b[0m\n\u001b[1;32m    456\u001b[0m     \u001b[0;32mtry\u001b[0m\u001b[0;34m:\u001b[0m\u001b[0;34m\u001b[0m\u001b[0;34m\u001b[0m\u001b[0m\n\u001b[0;32m--> 457\u001b[0;31m       \u001b[0mresult\u001b[0m \u001b[0;34m=\u001b[0m \u001b[0mmethod\u001b[0m\u001b[0;34m(\u001b[0m\u001b[0mself\u001b[0m\u001b[0;34m,\u001b[0m \u001b[0;34m*\u001b[0m\u001b[0margs\u001b[0m\u001b[0;34m,\u001b[0m \u001b[0;34m**\u001b[0m\u001b[0mkwargs\u001b[0m\u001b[0;34m)\u001b[0m\u001b[0;34m\u001b[0m\u001b[0;34m\u001b[0m\u001b[0m\n\u001b[0m\u001b[1;32m    458\u001b[0m     \u001b[0;32mfinally\u001b[0m\u001b[0;34m:\u001b[0m\u001b[0;34m\u001b[0m\u001b[0;34m\u001b[0m\u001b[0m\n\u001b[1;32m    459\u001b[0m       \u001b[0mself\u001b[0m\u001b[0;34m.\u001b[0m\u001b[0m_self_setattr_tracking\u001b[0m \u001b[0;34m=\u001b[0m \u001b[0mprevious_value\u001b[0m  \u001b[0;31m# pylint: disable=protected-access\u001b[0m\u001b[0;34m\u001b[0m\u001b[0;34m\u001b[0m\u001b[0m\n",
            "\u001b[0;32m/usr/local/lib/python3.6/dist-packages/tensorflow/python/keras/engine/sequential.py\u001b[0m in \u001b[0;36m__init__\u001b[0;34m(self, layers, name)\u001b[0m\n\u001b[1;32m    140\u001b[0m         \u001b[0mlayers\u001b[0m \u001b[0;34m=\u001b[0m \u001b[0;34m[\u001b[0m\u001b[0mlayers\u001b[0m\u001b[0;34m]\u001b[0m\u001b[0;34m\u001b[0m\u001b[0;34m\u001b[0m\u001b[0m\n\u001b[1;32m    141\u001b[0m       \u001b[0;32mfor\u001b[0m \u001b[0mlayer\u001b[0m \u001b[0;32min\u001b[0m \u001b[0mlayers\u001b[0m\u001b[0;34m:\u001b[0m\u001b[0;34m\u001b[0m\u001b[0;34m\u001b[0m\u001b[0m\n\u001b[0;32m--> 142\u001b[0;31m         \u001b[0mself\u001b[0m\u001b[0;34m.\u001b[0m\u001b[0madd\u001b[0m\u001b[0;34m(\u001b[0m\u001b[0mlayer\u001b[0m\u001b[0;34m)\u001b[0m\u001b[0;34m\u001b[0m\u001b[0;34m\u001b[0m\u001b[0m\n\u001b[0m\u001b[1;32m    143\u001b[0m \u001b[0;34m\u001b[0m\u001b[0m\n\u001b[1;32m    144\u001b[0m   \u001b[0;34m@\u001b[0m\u001b[0mproperty\u001b[0m\u001b[0;34m\u001b[0m\u001b[0;34m\u001b[0m\u001b[0m\n",
            "\u001b[0;32m/usr/local/lib/python3.6/dist-packages/tensorflow/python/training/tracking/base.py\u001b[0m in \u001b[0;36m_method_wrapper\u001b[0;34m(self, *args, **kwargs)\u001b[0m\n\u001b[1;32m    455\u001b[0m     \u001b[0mself\u001b[0m\u001b[0;34m.\u001b[0m\u001b[0m_self_setattr_tracking\u001b[0m \u001b[0;34m=\u001b[0m \u001b[0;32mFalse\u001b[0m  \u001b[0;31m# pylint: disable=protected-access\u001b[0m\u001b[0;34m\u001b[0m\u001b[0;34m\u001b[0m\u001b[0m\n\u001b[1;32m    456\u001b[0m     \u001b[0;32mtry\u001b[0m\u001b[0;34m:\u001b[0m\u001b[0;34m\u001b[0m\u001b[0;34m\u001b[0m\u001b[0m\n\u001b[0;32m--> 457\u001b[0;31m       \u001b[0mresult\u001b[0m \u001b[0;34m=\u001b[0m \u001b[0mmethod\u001b[0m\u001b[0;34m(\u001b[0m\u001b[0mself\u001b[0m\u001b[0;34m,\u001b[0m \u001b[0;34m*\u001b[0m\u001b[0margs\u001b[0m\u001b[0;34m,\u001b[0m \u001b[0;34m**\u001b[0m\u001b[0mkwargs\u001b[0m\u001b[0;34m)\u001b[0m\u001b[0;34m\u001b[0m\u001b[0;34m\u001b[0m\u001b[0m\n\u001b[0m\u001b[1;32m    458\u001b[0m     \u001b[0;32mfinally\u001b[0m\u001b[0;34m:\u001b[0m\u001b[0;34m\u001b[0m\u001b[0;34m\u001b[0m\u001b[0m\n\u001b[1;32m    459\u001b[0m       \u001b[0mself\u001b[0m\u001b[0;34m.\u001b[0m\u001b[0m_self_setattr_tracking\u001b[0m \u001b[0;34m=\u001b[0m \u001b[0mprevious_value\u001b[0m  \u001b[0;31m# pylint: disable=protected-access\u001b[0m\u001b[0;34m\u001b[0m\u001b[0;34m\u001b[0m\u001b[0m\n",
            "\u001b[0;32m/usr/local/lib/python3.6/dist-packages/tensorflow/python/keras/engine/sequential.py\u001b[0m in \u001b[0;36madd\u001b[0;34m(self, layer)\u001b[0m\n\u001b[1;32m    187\u001b[0m                        \u001b[0;34m'should have unique names. Name \"%s\" is already the name'\u001b[0m\u001b[0;34m\u001b[0m\u001b[0;34m\u001b[0m\u001b[0m\n\u001b[1;32m    188\u001b[0m                        \u001b[0;34m' of a layer in this model. Update the `name` argument '\u001b[0m\u001b[0;34m\u001b[0m\u001b[0;34m\u001b[0m\u001b[0m\n\u001b[0;32m--> 189\u001b[0;31m                        'to pass a unique name.' % (layer.name,))\n\u001b[0m\u001b[1;32m    190\u001b[0m \u001b[0;34m\u001b[0m\u001b[0m\n\u001b[1;32m    191\u001b[0m     \u001b[0mself\u001b[0m\u001b[0;34m.\u001b[0m\u001b[0mbuilt\u001b[0m \u001b[0;34m=\u001b[0m \u001b[0;32mFalse\u001b[0m\u001b[0;34m\u001b[0m\u001b[0;34m\u001b[0m\u001b[0m\n",
            "\u001b[0;31mValueError\u001b[0m: All layers added to a Sequential model should have unique names. Name \"Dense_Layer\" is already the name of a layer in this model. Update the `name` argument to pass a unique name."
          ]
        }
      ]
    },
    {
      "cell_type": "code",
      "metadata": {
        "id": "69rtCjqW7PeH",
        "outputId": "ad1f1e73-4681-45a3-da37-c425c9935818",
        "colab": {
          "base_uri": "https://localhost:8080/"
        }
      },
      "source": [
        "history = model.fit(X_train, y_train, batch_size=8, epochs=20, verbose=1, validation_split=0.2)"
      ],
      "execution_count": 25,
      "outputs": [
        {
          "output_type": "stream",
          "text": [
            "Epoch 1/20\n",
            "244/244 [==============================] - 2s 7ms/step - loss: 0.3049 - acc: 0.1647 - f1: 0.0056 - macro: 0.0074 - micro: 0.0060 - hamloss: 0.0894 - val_loss: 0.2617 - val_acc: 0.2398 - val_f1: 0.0000e+00 - val_macro: 0.0000e+00 - val_micro: 0.0000e+00 - val_hamloss: 0.0869\n",
            "Epoch 2/20\n",
            "244/244 [==============================] - 1s 5ms/step - loss: 0.2403 - acc: 0.2340 - f1: 0.0587 - macro: 0.0210 - micro: 0.0639 - hamloss: 0.0837 - val_loss: 0.2308 - val_acc: 0.2971 - val_f1: 0.1304 - val_macro: 0.0449 - val_micro: 0.1795 - val_hamloss: 0.0798\n",
            "Epoch 3/20\n",
            "244/244 [==============================] - 1s 5ms/step - loss: 0.2082 - acc: 0.3002 - f1: 0.2119 - macro: 0.0888 - micro: 0.2594 - hamloss: 0.0753 - val_loss: 0.2044 - val_acc: 0.3566 - val_f1: 0.2599 - val_macro: 0.1172 - val_micro: 0.3285 - val_hamloss: 0.0736\n",
            "Epoch 4/20\n",
            "244/244 [==============================] - 1s 5ms/step - loss: 0.1830 - acc: 0.3448 - f1: 0.3438 - macro: 0.1704 - micro: 0.4077 - hamloss: 0.0676 - val_loss: 0.1863 - val_acc: 0.3668 - val_f1: 0.3425 - val_macro: 0.1750 - val_micro: 0.4133 - val_hamloss: 0.0693\n",
            "Epoch 5/20\n",
            "244/244 [==============================] - 1s 5ms/step - loss: 0.1654 - acc: 0.3843 - f1: 0.4353 - macro: 0.2431 - micro: 0.4959 - hamloss: 0.0620 - val_loss: 0.1742 - val_acc: 0.4201 - val_f1: 0.3837 - val_macro: 0.2088 - val_micro: 0.4559 - val_hamloss: 0.0666\n",
            "Epoch 6/20\n",
            "244/244 [==============================] - 1s 5ms/step - loss: 0.1516 - acc: 0.4156 - f1: 0.5069 - macro: 0.3117 - micro: 0.5575 - hamloss: 0.0570 - val_loss: 0.1621 - val_acc: 0.4365 - val_f1: 0.4910 - val_macro: 0.3094 - val_micro: 0.5400 - val_hamloss: 0.0600\n",
            "Epoch 7/20\n",
            "244/244 [==============================] - 1s 5ms/step - loss: 0.1405 - acc: 0.4377 - f1: 0.5759 - macro: 0.3812 - micro: 0.6166 - hamloss: 0.0519 - val_loss: 0.1546 - val_acc: 0.4180 - val_f1: 0.5304 - val_macro: 0.3591 - val_micro: 0.5763 - val_hamloss: 0.0571\n",
            "Epoch 8/20\n",
            "244/244 [==============================] - 1s 5ms/step - loss: 0.1316 - acc: 0.4484 - f1: 0.6229 - macro: 0.4374 - micro: 0.6553 - hamloss: 0.0481 - val_loss: 0.1479 - val_acc: 0.4508 - val_f1: 0.5594 - val_macro: 0.3924 - val_micro: 0.5950 - val_hamloss: 0.0551\n",
            "Epoch 9/20\n",
            "244/244 [==============================] - 1s 5ms/step - loss: 0.1236 - acc: 0.4654 - f1: 0.6528 - macro: 0.4725 - micro: 0.6815 - hamloss: 0.0455 - val_loss: 0.1435 - val_acc: 0.4693 - val_f1: 0.6074 - val_macro: 0.4269 - val_micro: 0.6399 - val_hamloss: 0.0511\n",
            "Epoch 10/20\n",
            "244/244 [==============================] - 1s 5ms/step - loss: 0.1168 - acc: 0.4772 - f1: 0.6858 - macro: 0.5126 - micro: 0.7108 - hamloss: 0.0421 - val_loss: 0.1387 - val_acc: 0.4652 - val_f1: 0.6349 - val_macro: 0.4644 - val_micro: 0.6614 - val_hamloss: 0.0493\n",
            "Epoch 11/20\n",
            "244/244 [==============================] - 1s 5ms/step - loss: 0.1111 - acc: 0.4777 - f1: 0.7015 - macro: 0.5295 - micro: 0.7247 - hamloss: 0.0405 - val_loss: 0.1345 - val_acc: 0.4508 - val_f1: 0.6564 - val_macro: 0.4939 - val_micro: 0.6784 - val_hamloss: 0.0470\n",
            "Epoch 12/20\n",
            "244/244 [==============================] - 1s 5ms/step - loss: 0.1055 - acc: 0.4910 - f1: 0.7228 - macro: 0.5548 - micro: 0.7443 - hamloss: 0.0381 - val_loss: 0.1332 - val_acc: 0.4713 - val_f1: 0.6560 - val_macro: 0.5158 - val_micro: 0.6739 - val_hamloss: 0.0482\n",
            "Epoch 13/20\n",
            "244/244 [==============================] - 1s 5ms/step - loss: 0.1010 - acc: 0.4920 - f1: 0.7388 - macro: 0.5829 - micro: 0.7569 - hamloss: 0.0366 - val_loss: 0.1302 - val_acc: 0.4672 - val_f1: 0.6791 - val_macro: 0.5129 - val_micro: 0.7009 - val_hamloss: 0.0456\n",
            "Epoch 14/20\n",
            "244/244 [==============================] - 1s 5ms/step - loss: 0.0965 - acc: 0.4946 - f1: 0.7545 - macro: 0.6028 - micro: 0.7712 - hamloss: 0.0349 - val_loss: 0.1296 - val_acc: 0.4385 - val_f1: 0.6641 - val_macro: 0.5086 - val_micro: 0.6860 - val_hamloss: 0.0463\n",
            "Epoch 15/20\n",
            "244/244 [==============================] - 1s 5ms/step - loss: 0.0920 - acc: 0.5038 - f1: 0.7745 - macro: 0.6409 - micro: 0.7886 - hamloss: 0.0325 - val_loss: 0.1268 - val_acc: 0.4713 - val_f1: 0.6793 - val_macro: 0.5456 - val_micro: 0.6975 - val_hamloss: 0.0454\n",
            "Epoch 16/20\n",
            "244/244 [==============================] - 1s 5ms/step - loss: 0.0884 - acc: 0.5136 - f1: 0.7864 - macro: 0.6675 - micro: 0.7986 - hamloss: 0.0312 - val_loss: 0.1264 - val_acc: 0.4672 - val_f1: 0.6802 - val_macro: 0.5586 - val_micro: 0.6948 - val_hamloss: 0.0457\n",
            "Epoch 17/20\n",
            "244/244 [==============================] - 1s 5ms/step - loss: 0.0848 - acc: 0.5080 - f1: 0.7955 - macro: 0.6926 - micro: 0.8056 - hamloss: 0.0302 - val_loss: 0.1254 - val_acc: 0.4467 - val_f1: 0.6973 - val_macro: 0.5820 - val_micro: 0.7099 - val_hamloss: 0.0443\n",
            "Epoch 18/20\n",
            "244/244 [==============================] - 1s 5ms/step - loss: 0.0812 - acc: 0.5115 - f1: 0.8057 - macro: 0.7074 - micro: 0.8153 - hamloss: 0.0288 - val_loss: 0.1232 - val_acc: 0.4693 - val_f1: 0.6951 - val_macro: 0.5855 - val_micro: 0.7080 - val_hamloss: 0.0440\n",
            "Epoch 19/20\n",
            "244/244 [==============================] - 1s 5ms/step - loss: 0.0783 - acc: 0.5126 - f1: 0.8190 - macro: 0.7360 - micro: 0.8270 - hamloss: 0.0273 - val_loss: 0.1238 - val_acc: 0.4406 - val_f1: 0.7013 - val_macro: 0.5927 - val_micro: 0.7145 - val_hamloss: 0.0437\n",
            "Epoch 20/20\n",
            "244/244 [==============================] - 1s 5ms/step - loss: 0.0749 - acc: 0.5187 - f1: 0.8254 - macro: 0.7410 - micro: 0.8335 - hamloss: 0.0263 - val_loss: 0.1221 - val_acc: 0.4836 - val_f1: 0.7118 - val_macro: 0.6270 - val_micro: 0.7212 - val_hamloss: 0.0434\n"
          ],
          "name": "stdout"
        }
      ]
    },
    {
      "cell_type": "code",
      "metadata": {
        "id": "YiK0QiVIxmkW",
        "outputId": "bf762087-6162-46c5-e96b-e9d19a0a0017",
        "colab": {
          "base_uri": "https://localhost:8080/"
        }
      },
      "source": [
        "score = model.evaluate(X_test, y_test, verbose=1)"
      ],
      "execution_count": 26,
      "outputs": [
        {
          "output_type": "stream",
          "text": [
            "9/9 [==============================] - 0s 4ms/step - loss: 0.1370 - acc: 0.4613 - f1: 0.6438 - macro: 0.5106 - micro: 0.6659 - hamloss: 0.0489\n"
          ],
          "name": "stdout"
        }
      ]
    },
    {
      "cell_type": "code",
      "metadata": {
        "id": "6o8p6HcnhLET",
        "outputId": "ff783bda-388a-4051-9f58-84d3635c6e1e",
        "colab": {
          "base_uri": "https://localhost:8080/",
          "height": 573
        }
      },
      "source": [
        "import matplotlib.pyplot as plt\n",
        "\n",
        "plt.plot(history.history['acc'])\n",
        "plt.plot(history.history['val_acc'])\n",
        "\n",
        "plt.title('model accuracy')\n",
        "plt.ylabel('accuracy')\n",
        "plt.xlabel('epoch')\n",
        "plt.legend(['train','test'], loc='upper left')\n",
        "plt.show()\n",
        "\n",
        "plt.plot(history.history['loss'])\n",
        "plt.plot(history.history['val_loss'])\n",
        "\n",
        "plt.title('model loss')\n",
        "plt.ylabel('loss')\n",
        "plt.xlabel('epoch')\n",
        "plt.legend(['train','test'], loc='upper left')\n",
        "plt.show()"
      ],
      "execution_count": 27,
      "outputs": [
        {
          "output_type": "display_data",
          "data": {
            "image/png": "[encoded data removed]",
            "text/plain": [
              "<Figure size 432x288 with 1 Axes>"
            ]
          },
          "metadata": {
            "tags": [],
            "needs_background": "light"
          }
        },
        {
          "output_type": "display_data",
          "data": {
            "image/png": "[encoded data removed]",
            "text/plain": [
              "<Figure size 432x288 with 1 Axes>"
            ]
          },
          "metadata": {
            "tags": [],
            "needs_background": "light"
          }
        }
      ]
    },
    {
      "cell_type": "markdown",
      "metadata": {
        "id": "qQnFh-sk7LQB"
      },
      "source": [
        "# BERT"
      ]
    },
    {
      "cell_type": "code",
      "metadata": {
        "id": "1mhm9Px77LQN",
        "outputId": "e71deb26-e17a-4069-b6a0-adf7f65875ce",
        "colab": {
          "base_uri": "https://localhost:8080/",
          "height": 164,
          "referenced_widgets": [
            "a544224c89e94a6fb5560e752d0dd0d4",
            "6b5d5b55203c438abbcb40e9b1ca8922",
            "9a8269d67bcf4c55a5d75858020d64e5",
            "38dbc766d8174e858099112c77d8ac91",
            "aa1cad1cbca34e75ab865541234f8ccd",
            "9c3ee12b28b8477c9e25f54ce1388ee9",
            "7b97c53ea43e4271bf5e800bfad0da84",
            "7e69ab88c29540209f316f576f2d9fe3",
            "1237eb27f4e44785bef7061da5faa653",
            "6bdf11106a2e42da868da8407b08ed21",
            "12bd60e56c4e4718ba1e94aaadf2bb4f",
            "bc7b542fed824449be0c5b7b45b77086",
            "7ffb16fcda864ba682e600edb07162fc",
            "326adaa332ab4e988e491d4becf5b0cf",
            "a1613ae78cc04f0f97469818a1b63009",
            "0997377cdb4c4d4ebe37fc6444ab3293",
            "eaf1d6c739af48b686fae3162223eba3",
            "3b6bc2f2260e455995e202d2e0655c24",
            "3e42daa93be74ebaa91ba8192a90a925",
            "9310dcd9bcd04f02b75d8886dec6b982",
            "d8010bb04a024c50afaac6130810e279",
            "c4ea4b113f404411a3985e91350d8964",
            "62cb2ab50bba4f49806ed60e56d430d3",
            "6f0cd56c2de24e62b49cc106b6d8eec3"
          ]
        }
      },
      "source": [
        "config = AutoConfig.from_pretrained(\"m3hrdadfi/albert-fa-base-v2\")\n",
        "tokenizer = AutoTokenizer.from_pretrained(\"m3hrdadfi/albert-fa-base-v2\")\n",
        "bert_model = AutoModel.from_pretrained(\"m3hrdadfi/albert-fa-base-v2\")"
      ],
      "execution_count": 29,
      "outputs": [
        {
          "output_type": "display_data",
          "data": {
            "application/vnd.jupyter.widget-view+json": {
              "model_id": "a544224c89e94a6fb5560e752d0dd0d4",
              "version_minor": 0,
              "version_major": 2
            },
            "text/plain": [
              "HBox(children=(FloatProgress(value=0.0, description='Downloading', max=684.0, style=ProgressStyle(description_…"
            ]
          },
          "metadata": {
            "tags": []
          }
        },
        {
          "output_type": "stream",
          "text": [
            "\n"
          ],
          "name": "stdout"
        },
        {
          "output_type": "display_data",
          "data": {
            "application/vnd.jupyter.widget-view+json": {
              "model_id": "1237eb27f4e44785bef7061da5faa653",
              "version_minor": 0,
              "version_major": 2
            },
            "text/plain": [
              "HBox(children=(FloatProgress(value=0.0, description='Downloading', max=1882978.0, style=ProgressStyle(descript…"
            ]
          },
          "metadata": {
            "tags": []
          }
        },
        {
          "output_type": "stream",
          "text": [
            "\n"
          ],
          "name": "stdout"
        },
        {
          "output_type": "display_data",
          "data": {
            "application/vnd.jupyter.widget-view+json": {
              "model_id": "eaf1d6c739af48b686fae3162223eba3",
              "version_minor": 0,
              "version_major": 2
            },
            "text/plain": [
              "HBox(children=(FloatProgress(value=0.0, description='Downloading', max=73062448.0, style=ProgressStyle(descrip…"
            ]
          },
          "metadata": {
            "tags": []
          }
        },
        {
          "output_type": "stream",
          "text": [
            "\n"
          ],
          "name": "stdout"
        }
      ]
    },
    {
      "cell_type": "code",
      "metadata": {
        "id": "wOiozxD9kqRH"
      },
      "source": [
        "def get_embedding(sent):\n",
        "    input_sentence = torch.tensor(tokenizer.encode(sent, max_length = 500)).unsqueeze(0)\n",
        "    out = bert_model(input_sentence)\n",
        "    embeddings_of_last_layer = out[0]\n",
        "    cls_embeddings = embeddings_of_last_layer[0][0]\n",
        "    cls_embeddings = cls_embeddings.detach().numpy()\n",
        "    return cls_embeddings"
      ],
      "execution_count": 30,
      "outputs": []
    },
    {
      "cell_type": "code",
      "metadata": {
        "id": "jVAQVz_-7LQd"
      },
      "source": [
        "df_topics_bert = pd.read_csv(\"/content/drive/My Drive/topics-for-types/df_topics.csv\")"
      ],
      "execution_count": 31,
      "outputs": []
    },
    {
      "cell_type": "code",
      "metadata": {
        "id": "_dJnPuA97LQl",
        "outputId": "65a27bf9-ac76-4347-a100-46a561fe2cd7",
        "colab": {
          "base_uri": "https://localhost:8080/",
          "height": 513
        }
      },
      "source": [
        "df_topics_bert['sentence'] = df_topics_bert['sentence'].apply(lambda sent: get_embedding(sent))\n",
        "df_topics_bert.to_csv(\"/content/drive/My Drive/topics-for-types/df_topics_bert.csv\", index=False)\n",
        "df_topics_bert.head()"
      ],
      "execution_count": 32,
      "outputs": [
        {
          "output_type": "stream",
          "text": [
            "Truncation was not explicitely activated but `max_length` is provided a specific value, please use `truncation=True` to explicitely truncate examples to max length. Defaulting to 'longest_first' truncation strategy. If you encode pairs of sequences (GLUE-style) with the tokenizer you can select this strategy more precisely by providing a specific strategy to `truncation`.\n"
          ],
          "name": "stderr"
        },
        {
          "output_type": "execute_result",
          "data": {
            "text/html": [
              "<div>\n",
              "<style scoped>\n",
              "    .dataframe tbody tr th:only-of-type {\n",
              "        vertical-align: middle;\n",
              "    }\n",
              "\n",
              "    .dataframe tbody tr th {\n",
              "        vertical-align: top;\n",
              "    }\n",
              "\n",
              "    .dataframe thead th {\n",
              "        text-align: right;\n",
              "    }\n",
              "</style>\n",
              "<table border=\"1\" class=\"dataframe\">\n",
              "  <thead>\n",
              "    <tr style=\"text-align: right;\">\n",
              "      <th></th>\n",
              "      <th>sentence</th>\n",
              "      <th>اقتصاد</th>\n",
              "      <th>بازی</th>\n",
              "      <th>برنامه‌نویسی</th>\n",
              "      <th>تحصیل</th>\n",
              "      <th>تغذیه</th>\n",
              "      <th>حقوق/قانون</th>\n",
              "      <th>حیوانات</th>\n",
              "      <th>خرید</th>\n",
              "      <th>روابط</th>\n",
              "      <th>روانشناسی</th>\n",
              "      <th>زبان</th>\n",
              "      <th>زیبایی</th>\n",
              "      <th>سرگرمی</th>\n",
              "      <th>سفر</th>\n",
              "      <th>سلامت</th>\n",
              "      <th>فنی</th>\n",
              "      <th>ماشین</th>\n",
              "      <th>مذهبی</th>\n",
              "      <th>ورزش</th>\n",
              "      <th>کار</th>\n",
              "      <th>کامپیوتر/موبایل</th>\n",
              "      <th>کودکان</th>\n",
              "      <th>گیاهان</th>\n",
              "    </tr>\n",
              "  </thead>\n",
              "  <tbody>\n",
              "    <tr>\n",
              "      <th>0</th>\n",
              "      <td>[-0.5841074, -0.017078003, -0.32405344, -0.645...</td>\n",
              "      <td>0</td>\n",
              "      <td>0</td>\n",
              "      <td>0</td>\n",
              "      <td>0</td>\n",
              "      <td>0</td>\n",
              "      <td>0</td>\n",
              "      <td>0</td>\n",
              "      <td>1</td>\n",
              "      <td>0</td>\n",
              "      <td>0</td>\n",
              "      <td>0</td>\n",
              "      <td>0</td>\n",
              "      <td>0</td>\n",
              "      <td>0</td>\n",
              "      <td>0</td>\n",
              "      <td>1</td>\n",
              "      <td>1</td>\n",
              "      <td>0</td>\n",
              "      <td>0</td>\n",
              "      <td>0</td>\n",
              "      <td>0</td>\n",
              "      <td>0</td>\n",
              "      <td>0</td>\n",
              "    </tr>\n",
              "    <tr>\n",
              "      <th>1</th>\n",
              "      <td>[-0.31120673, -0.0050979797, 0.10509731, -0.36...</td>\n",
              "      <td>0</td>\n",
              "      <td>0</td>\n",
              "      <td>0</td>\n",
              "      <td>0</td>\n",
              "      <td>0</td>\n",
              "      <td>0</td>\n",
              "      <td>0</td>\n",
              "      <td>0</td>\n",
              "      <td>0</td>\n",
              "      <td>0</td>\n",
              "      <td>0</td>\n",
              "      <td>0</td>\n",
              "      <td>0</td>\n",
              "      <td>0</td>\n",
              "      <td>0</td>\n",
              "      <td>1</td>\n",
              "      <td>1</td>\n",
              "      <td>0</td>\n",
              "      <td>0</td>\n",
              "      <td>1</td>\n",
              "      <td>0</td>\n",
              "      <td>0</td>\n",
              "      <td>0</td>\n",
              "    </tr>\n",
              "    <tr>\n",
              "      <th>2</th>\n",
              "      <td>[0.05544515, -0.23301096, 0.12021764, -0.33959...</td>\n",
              "      <td>0</td>\n",
              "      <td>0</td>\n",
              "      <td>0</td>\n",
              "      <td>0</td>\n",
              "      <td>0</td>\n",
              "      <td>0</td>\n",
              "      <td>0</td>\n",
              "      <td>0</td>\n",
              "      <td>0</td>\n",
              "      <td>0</td>\n",
              "      <td>0</td>\n",
              "      <td>0</td>\n",
              "      <td>0</td>\n",
              "      <td>0</td>\n",
              "      <td>0</td>\n",
              "      <td>1</td>\n",
              "      <td>1</td>\n",
              "      <td>0</td>\n",
              "      <td>0</td>\n",
              "      <td>1</td>\n",
              "      <td>0</td>\n",
              "      <td>0</td>\n",
              "      <td>0</td>\n",
              "    </tr>\n",
              "    <tr>\n",
              "      <th>3</th>\n",
              "      <td>[0.37881416, -0.1909234, 0.16427912, -0.383240...</td>\n",
              "      <td>0</td>\n",
              "      <td>0</td>\n",
              "      <td>0</td>\n",
              "      <td>0</td>\n",
              "      <td>0</td>\n",
              "      <td>0</td>\n",
              "      <td>0</td>\n",
              "      <td>0</td>\n",
              "      <td>0</td>\n",
              "      <td>0</td>\n",
              "      <td>0</td>\n",
              "      <td>0</td>\n",
              "      <td>0</td>\n",
              "      <td>0</td>\n",
              "      <td>0</td>\n",
              "      <td>1</td>\n",
              "      <td>1</td>\n",
              "      <td>0</td>\n",
              "      <td>0</td>\n",
              "      <td>1</td>\n",
              "      <td>0</td>\n",
              "      <td>0</td>\n",
              "      <td>0</td>\n",
              "    </tr>\n",
              "    <tr>\n",
              "      <th>4</th>\n",
              "      <td>[-0.46968994, -0.2401005, 0.20189604, -0.20498...</td>\n",
              "      <td>0</td>\n",
              "      <td>0</td>\n",
              "      <td>0</td>\n",
              "      <td>0</td>\n",
              "      <td>0</td>\n",
              "      <td>0</td>\n",
              "      <td>0</td>\n",
              "      <td>1</td>\n",
              "      <td>0</td>\n",
              "      <td>0</td>\n",
              "      <td>0</td>\n",
              "      <td>0</td>\n",
              "      <td>0</td>\n",
              "      <td>0</td>\n",
              "      <td>0</td>\n",
              "      <td>1</td>\n",
              "      <td>1</td>\n",
              "      <td>0</td>\n",
              "      <td>0</td>\n",
              "      <td>0</td>\n",
              "      <td>0</td>\n",
              "      <td>0</td>\n",
              "      <td>0</td>\n",
              "    </tr>\n",
              "  </tbody>\n",
              "</table>\n",
              "</div>"
            ],
            "text/plain": [
              "                                            sentence  اقتصاد  ...  کودکان  گیاهان\n",
              "0  [-0.5841074, -0.017078003, -0.32405344, -0.645...       0  ...       0       0\n",
              "1  [-0.31120673, -0.0050979797, 0.10509731, -0.36...       0  ...       0       0\n",
              "2  [0.05544515, -0.23301096, 0.12021764, -0.33959...       0  ...       0       0\n",
              "3  [0.37881416, -0.1909234, 0.16427912, -0.383240...       0  ...       0       0\n",
              "4  [-0.46968994, -0.2401005, 0.20189604, -0.20498...       0  ...       0       0\n",
              "\n",
              "[5 rows x 24 columns]"
            ]
          },
          "metadata": {
            "tags": []
          },
          "execution_count": 32
        }
      ]
    },
    {
      "cell_type": "code",
      "metadata": {
        "id": "ipJXyeK_onoh",
        "outputId": "115a8d35-96c4-45a6-de58-6df04935d9ac",
        "colab": {
          "base_uri": "https://localhost:8080/",
          "height": 496
        }
      },
      "source": [
        "df_topics_bert = pd.read_csv(\"/content/drive/My Drive/topics-for-types/df_topics_bert.csv\")\n",
        "df_topics_bert['sentence'] = df_topics_bert['sentence'].apply(lambda x: \n",
        "                           np.fromstring(\n",
        "                               x.replace('\\n','')\n",
        "                                .replace('[','')\n",
        "                                .replace(']','')\n",
        "                                .replace('  ',' '), sep=' '))\n",
        "df_topics_bert.head()"
      ],
      "execution_count": 33,
      "outputs": [
        {
          "output_type": "execute_result",
          "data": {
            "text/html": [
              "<div>\n",
              "<style scoped>\n",
              "    .dataframe tbody tr th:only-of-type {\n",
              "        vertical-align: middle;\n",
              "    }\n",
              "\n",
              "    .dataframe tbody tr th {\n",
              "        vertical-align: top;\n",
              "    }\n",
              "\n",
              "    .dataframe thead th {\n",
              "        text-align: right;\n",
              "    }\n",
              "</style>\n",
              "<table border=\"1\" class=\"dataframe\">\n",
              "  <thead>\n",
              "    <tr style=\"text-align: right;\">\n",
              "      <th></th>\n",
              "      <th>sentence</th>\n",
              "      <th>اقتصاد</th>\n",
              "      <th>بازی</th>\n",
              "      <th>برنامه‌نویسی</th>\n",
              "      <th>تحصیل</th>\n",
              "      <th>تغذیه</th>\n",
              "      <th>حقوق/قانون</th>\n",
              "      <th>حیوانات</th>\n",
              "      <th>خرید</th>\n",
              "      <th>روابط</th>\n",
              "      <th>روانشناسی</th>\n",
              "      <th>زبان</th>\n",
              "      <th>زیبایی</th>\n",
              "      <th>سرگرمی</th>\n",
              "      <th>سفر</th>\n",
              "      <th>سلامت</th>\n",
              "      <th>فنی</th>\n",
              "      <th>ماشین</th>\n",
              "      <th>مذهبی</th>\n",
              "      <th>ورزش</th>\n",
              "      <th>کار</th>\n",
              "      <th>کامپیوتر/موبایل</th>\n",
              "      <th>کودکان</th>\n",
              "      <th>گیاهان</th>\n",
              "    </tr>\n",
              "  </thead>\n",
              "  <tbody>\n",
              "    <tr>\n",
              "      <th>0</th>\n",
              "      <td>[-0.584107399, -0.0170780029, -0.324053437, -0...</td>\n",
              "      <td>0</td>\n",
              "      <td>0</td>\n",
              "      <td>0</td>\n",
              "      <td>0</td>\n",
              "      <td>0</td>\n",
              "      <td>0</td>\n",
              "      <td>0</td>\n",
              "      <td>1</td>\n",
              "      <td>0</td>\n",
              "      <td>0</td>\n",
              "      <td>0</td>\n",
              "      <td>0</td>\n",
              "      <td>0</td>\n",
              "      <td>0</td>\n",
              "      <td>0</td>\n",
              "      <td>1</td>\n",
              "      <td>1</td>\n",
              "      <td>0</td>\n",
              "      <td>0</td>\n",
              "      <td>0</td>\n",
              "      <td>0</td>\n",
              "      <td>0</td>\n",
              "      <td>0</td>\n",
              "    </tr>\n",
              "    <tr>\n",
              "      <th>1</th>\n",
              "      <td>[-0.311206728, -0.00509797968, 0.105097309, -0...</td>\n",
              "      <td>0</td>\n",
              "      <td>0</td>\n",
              "      <td>0</td>\n",
              "      <td>0</td>\n",
              "      <td>0</td>\n",
              "      <td>0</td>\n",
              "      <td>0</td>\n",
              "      <td>0</td>\n",
              "      <td>0</td>\n",
              "      <td>0</td>\n",
              "      <td>0</td>\n",
              "      <td>0</td>\n",
              "      <td>0</td>\n",
              "      <td>0</td>\n",
              "      <td>0</td>\n",
              "      <td>1</td>\n",
              "      <td>1</td>\n",
              "      <td>0</td>\n",
              "      <td>0</td>\n",
              "      <td>1</td>\n",
              "      <td>0</td>\n",
              "      <td>0</td>\n",
              "      <td>0</td>\n",
              "    </tr>\n",
              "    <tr>\n",
              "      <th>2</th>\n",
              "      <td>[0.0554451495, -0.233010963, 0.120217644, -0.3...</td>\n",
              "      <td>0</td>\n",
              "      <td>0</td>\n",
              "      <td>0</td>\n",
              "      <td>0</td>\n",
              "      <td>0</td>\n",
              "      <td>0</td>\n",
              "      <td>0</td>\n",
              "      <td>0</td>\n",
              "      <td>0</td>\n",
              "      <td>0</td>\n",
              "      <td>0</td>\n",
              "      <td>0</td>\n",
              "      <td>0</td>\n",
              "      <td>0</td>\n",
              "      <td>0</td>\n",
              "      <td>1</td>\n",
              "      <td>1</td>\n",
              "      <td>0</td>\n",
              "      <td>0</td>\n",
              "      <td>1</td>\n",
              "      <td>0</td>\n",
              "      <td>0</td>\n",
              "      <td>0</td>\n",
              "    </tr>\n",
              "    <tr>\n",
              "      <th>3</th>\n",
              "      <td>[0.378814161, -0.190923393, 0.164279118, -0.38...</td>\n",
              "      <td>0</td>\n",
              "      <td>0</td>\n",
              "      <td>0</td>\n",
              "      <td>0</td>\n",
              "      <td>0</td>\n",
              "      <td>0</td>\n",
              "      <td>0</td>\n",
              "      <td>0</td>\n",
              "      <td>0</td>\n",
              "      <td>0</td>\n",
              "      <td>0</td>\n",
              "      <td>0</td>\n",
              "      <td>0</td>\n",
              "      <td>0</td>\n",
              "      <td>0</td>\n",
              "      <td>1</td>\n",
              "      <td>1</td>\n",
              "      <td>0</td>\n",
              "      <td>0</td>\n",
              "      <td>1</td>\n",
              "      <td>0</td>\n",
              "      <td>0</td>\n",
              "      <td>0</td>\n",
              "    </tr>\n",
              "    <tr>\n",
              "      <th>4</th>\n",
              "      <td>[-0.469689935, -0.240100503, 0.201896042, -0.2...</td>\n",
              "      <td>0</td>\n",
              "      <td>0</td>\n",
              "      <td>0</td>\n",
              "      <td>0</td>\n",
              "      <td>0</td>\n",
              "      <td>0</td>\n",
              "      <td>0</td>\n",
              "      <td>1</td>\n",
              "      <td>0</td>\n",
              "      <td>0</td>\n",
              "      <td>0</td>\n",
              "      <td>0</td>\n",
              "      <td>0</td>\n",
              "      <td>0</td>\n",
              "      <td>0</td>\n",
              "      <td>1</td>\n",
              "      <td>1</td>\n",
              "      <td>0</td>\n",
              "      <td>0</td>\n",
              "      <td>0</td>\n",
              "      <td>0</td>\n",
              "      <td>0</td>\n",
              "      <td>0</td>\n",
              "    </tr>\n",
              "  </tbody>\n",
              "</table>\n",
              "</div>"
            ],
            "text/plain": [
              "                                            sentence  اقتصاد  ...  کودکان  گیاهان\n",
              "0  [-0.584107399, -0.0170780029, -0.324053437, -0...       0  ...       0       0\n",
              "1  [-0.311206728, -0.00509797968, 0.105097309, -0...       0  ...       0       0\n",
              "2  [0.0554451495, -0.233010963, 0.120217644, -0.3...       0  ...       0       0\n",
              "3  [0.378814161, -0.190923393, 0.164279118, -0.38...       0  ...       0       0\n",
              "4  [-0.469689935, -0.240100503, 0.201896042, -0.2...       0  ...       0       0\n",
              "\n",
              "[5 rows x 24 columns]"
            ]
          },
          "metadata": {
            "tags": []
          },
          "execution_count": 33
        }
      ]
    },
    {
      "cell_type": "code",
      "metadata": {
        "id": "peiiVocu7LQq",
        "outputId": "1aae3b75-3370-4794-9bdf-1d22834f4c6e",
        "colab": {
          "base_uri": "https://localhost:8080/"
        }
      },
      "source": [
        "X = np.array(df_topics_bert[df_topics_bert.columns[0]])\n",
        "X = np.vstack(X)\n",
        "\n",
        "Y = df_topics_bert[df_topics_bert.columns[1:]].values\n",
        "\n",
        "X.shape, Y.shape"
      ],
      "execution_count": 34,
      "outputs": [
        {
          "output_type": "execute_result",
          "data": {
            "text/plain": [
              "((2708, 768), (2708, 23))"
            ]
          },
          "metadata": {
            "tags": []
          },
          "execution_count": 34
        }
      ]
    },
    {
      "cell_type": "code",
      "metadata": {
        "id": "F40dV3XV7LQt"
      },
      "source": [
        "X_train, X_test, y_train, y_test = train_test_split(X, Y, test_size=0.10)"
      ],
      "execution_count": 67,
      "outputs": []
    },
    {
      "cell_type": "code",
      "metadata": {
        "id": "PoDo8cwa7LQv",
        "outputId": "9fb8edaf-240a-4744-a4ee-0e81024b905a",
        "colab": {
          "base_uri": "https://localhost:8080/"
        }
      },
      "source": [
        "len(X_train),len(X_test),len(y_train),len(y_test)"
      ],
      "execution_count": 68,
      "outputs": [
        {
          "output_type": "execute_result",
          "data": {
            "text/plain": [
              "(2437, 271, 2437, 271)"
            ]
          },
          "metadata": {
            "tags": []
          },
          "execution_count": 68
        }
      ]
    },
    {
      "cell_type": "code",
      "metadata": {
        "id": "-6VNFGrx7LQ1",
        "outputId": "ae69af5c-e7bb-4449-d1b0-ad6941ff8ae4",
        "colab": {
          "base_uri": "https://localhost:8080/"
        }
      },
      "source": [
        "model = tf.keras.Sequential([\n",
        "    tf.keras.layers.Input(shape=X[0].shape, name='input_layer'),\n",
        "    # tf.keras.layers.Dense(32, activation='relu', name='Dense_Layer0'),\n",
        "    # tf.keras.layers.Dropout(rate=0.2, name=\"Dropout0\"),\n",
        "    tf.keras.layers.Dense(128, activation='selu', name='Dense_Layer1'),\n",
        "                          # activity_regularizer=tf.keras.regularizers.l2()),\n",
        "    \n",
        "    # tf.keras.layers.Dropout(rate=0.2, name=\"Dropout1\"),\n",
        "    # tf.keras.layers.Dense(32, activation='relu', name='Dense_Layer2'),\n",
        "                          # activity_regularizer=tf.keras.regularizers.l2()),\n",
        "    # tf.keras.layers.Dropout(rate=0.2, name=\"Dropout2\"),\n",
        "    tf.keras.layers.Dense(n_class, activation='sigmoid', name='Dense_Layer3'),\n",
        "\n",
        "  ], name='BERT_MODEL')\n",
        "\n",
        "model.compile(loss='binary_crossentropy', optimizer='adam', \n",
        "              metrics=['acc',\n",
        "                       tfa.metrics.f_scores.F1Score(n_class,'weighted', threshold=0.5, name='f1'),\n",
        "                       tfa.metrics.f_scores.F1Score(n_class,'macro',threshold=0.5, name='macro'),\n",
        "                       tfa.metrics.f_scores.F1Score(n_class,'micro',threshold=0.5, name='micro'),\n",
        "                       tfa.metrics.HammingLoss(mode='multilabel',threshold=0.5, name='hamloss')])\n",
        "print(model.summary())"
      ],
      "execution_count": 104,
      "outputs": [
        {
          "output_type": "stream",
          "text": [
            "Model: \"BERT_MODEL\"\n",
            "_________________________________________________________________\n",
            "Layer (type)                 Output Shape              Param #   \n",
            "=================================================================\n",
            "Dense_Layer1 (Dense)         (None, 128)               98432     \n",
            "_________________________________________________________________\n",
            "Dense_Layer3 (Dense)         (None, 23)                2967      \n",
            "=================================================================\n",
            "Total params: 101,399\n",
            "Trainable params: 101,399\n",
            "Non-trainable params: 0\n",
            "_________________________________________________________________\n",
            "None\n"
          ],
          "name": "stdout"
        }
      ]
    },
    {
      "cell_type": "code",
      "metadata": {
        "id": "oUMOG_Qa7LQ4",
        "outputId": "eb46a607-17eb-4878-a907-ba452744790b",
        "colab": {
          "base_uri": "https://localhost:8080/"
        }
      },
      "source": [
        "history = model.fit(X_train, y_train, batch_size=4, epochs=20, verbose=1, validation_split=0.1)"
      ],
      "execution_count": 105,
      "outputs": [
        {
          "output_type": "stream",
          "text": [
            "Epoch 1/20\n",
            "549/549 [==============================] - 3s 5ms/step - loss: 0.2112 - acc: 0.3174 - f1: 0.3706 - macro: 0.2131 - micro: 0.4069 - hamloss: 0.0738 - val_loss: 0.1841 - val_acc: 0.3115 - val_f1: 0.4854 - val_macro: 0.3115 - val_micro: 0.5490 - val_hamloss: 0.0615\n",
            "Epoch 2/20\n",
            "549/549 [==============================] - 2s 4ms/step - loss: 0.1588 - acc: 0.4104 - f1: 0.5611 - macro: 0.3852 - micro: 0.5908 - hamloss: 0.0580 - val_loss: 0.1730 - val_acc: 0.3811 - val_f1: 0.5213 - val_macro: 0.3746 - val_micro: 0.5718 - val_hamloss: 0.0633\n",
            "Epoch 3/20\n",
            "549/549 [==============================] - 2s 4ms/step - loss: 0.1391 - acc: 0.4359 - f1: 0.6297 - macro: 0.5009 - micro: 0.6480 - hamloss: 0.0522 - val_loss: 0.1663 - val_acc: 0.3402 - val_f1: 0.5359 - val_macro: 0.3919 - val_micro: 0.5902 - val_hamloss: 0.0599\n",
            "Epoch 4/20\n",
            "549/549 [==============================] - 2s 4ms/step - loss: 0.1270 - acc: 0.4583 - f1: 0.6803 - macro: 0.5608 - micro: 0.6930 - hamloss: 0.0466 - val_loss: 0.1669 - val_acc: 0.3484 - val_f1: 0.5374 - val_macro: 0.4144 - val_micro: 0.5840 - val_hamloss: 0.0640\n",
            "Epoch 5/20\n",
            "549/549 [==============================] - 2s 4ms/step - loss: 0.1156 - acc: 0.4797 - f1: 0.7070 - macro: 0.6242 - micro: 0.7167 - hamloss: 0.0436 - val_loss: 0.1569 - val_acc: 0.3893 - val_f1: 0.6120 - val_macro: 0.4886 - val_micro: 0.6321 - val_hamloss: 0.0568\n",
            "Epoch 6/20\n",
            "549/549 [==============================] - 2s 4ms/step - loss: 0.1059 - acc: 0.4852 - f1: 0.7403 - macro: 0.6833 - micro: 0.7463 - hamloss: 0.0399 - val_loss: 0.1652 - val_acc: 0.3730 - val_f1: 0.5798 - val_macro: 0.4490 - val_micro: 0.6146 - val_hamloss: 0.0563\n",
            "Epoch 7/20\n",
            "549/549 [==============================] - 2s 4ms/step - loss: 0.0999 - acc: 0.5080 - f1: 0.7548 - macro: 0.7014 - micro: 0.7602 - hamloss: 0.0378 - val_loss: 0.1608 - val_acc: 0.3648 - val_f1: 0.5794 - val_macro: 0.4472 - val_micro: 0.6178 - val_hamloss: 0.0576\n",
            "Epoch 8/20\n",
            "549/549 [==============================] - 2s 4ms/step - loss: 0.0933 - acc: 0.4975 - f1: 0.7679 - macro: 0.7241 - micro: 0.7726 - hamloss: 0.0362 - val_loss: 0.1630 - val_acc: 0.3730 - val_f1: 0.6226 - val_macro: 0.5066 - val_micro: 0.6284 - val_hamloss: 0.0634\n",
            "Epoch 9/20\n",
            "549/549 [==============================] - 2s 4ms/step - loss: 0.0856 - acc: 0.5112 - f1: 0.7984 - macro: 0.7737 - micro: 0.8011 - hamloss: 0.0322 - val_loss: 0.1682 - val_acc: 0.3770 - val_f1: 0.5901 - val_macro: 0.4574 - val_micro: 0.6183 - val_hamloss: 0.0581\n",
            "Epoch 10/20\n",
            "549/549 [==============================] - 2s 4ms/step - loss: 0.0800 - acc: 0.5007 - f1: 0.8110 - macro: 0.7845 - micro: 0.8136 - hamloss: 0.0303 - val_loss: 0.1726 - val_acc: 0.4098 - val_f1: 0.6039 - val_macro: 0.4795 - val_micro: 0.6322 - val_hamloss: 0.0533\n",
            "Epoch 11/20\n",
            "549/549 [==============================] - 2s 4ms/step - loss: 0.0742 - acc: 0.5144 - f1: 0.8222 - macro: 0.8098 - micro: 0.8245 - hamloss: 0.0286 - val_loss: 0.1684 - val_acc: 0.4549 - val_f1: 0.6069 - val_macro: 0.4732 - val_micro: 0.6271 - val_hamloss: 0.0583\n",
            "Epoch 12/20\n",
            "549/549 [==============================] - 2s 4ms/step - loss: 0.0680 - acc: 0.5262 - f1: 0.8400 - macro: 0.8360 - micro: 0.8418 - hamloss: 0.0260 - val_loss: 0.1790 - val_acc: 0.4057 - val_f1: 0.6217 - val_macro: 0.5193 - val_micro: 0.6235 - val_hamloss: 0.0652\n",
            "Epoch 13/20\n",
            "549/549 [==============================] - 2s 4ms/step - loss: 0.0659 - acc: 0.5385 - f1: 0.8504 - macro: 0.8395 - micro: 0.8522 - hamloss: 0.0243 - val_loss: 0.1745 - val_acc: 0.3975 - val_f1: 0.6100 - val_macro: 0.4552 - val_micro: 0.6280 - val_hamloss: 0.0583\n",
            "Epoch 14/20\n",
            "549/549 [==============================] - 2s 4ms/step - loss: 0.0605 - acc: 0.5312 - f1: 0.8582 - macro: 0.8532 - micro: 0.8597 - hamloss: 0.0232 - val_loss: 0.1857 - val_acc: 0.3770 - val_f1: 0.6023 - val_macro: 0.4857 - val_micro: 0.6318 - val_hamloss: 0.0540\n",
            "Epoch 15/20\n",
            "549/549 [==============================] - 2s 4ms/step - loss: 0.0553 - acc: 0.5440 - f1: 0.8786 - macro: 0.8773 - micro: 0.8796 - hamloss: 0.0201 - val_loss: 0.1781 - val_acc: 0.3934 - val_f1: 0.6325 - val_macro: 0.5646 - val_micro: 0.6527 - val_hamloss: 0.0563\n",
            "Epoch 16/20\n",
            "549/549 [==============================] - 2s 5ms/step - loss: 0.0516 - acc: 0.5349 - f1: 0.8839 - macro: 0.8857 - micro: 0.8850 - hamloss: 0.0193 - val_loss: 0.1772 - val_acc: 0.4139 - val_f1: 0.6313 - val_macro: 0.5306 - val_micro: 0.6526 - val_hamloss: 0.0529\n",
            "Epoch 17/20\n",
            "549/549 [==============================] - 2s 4ms/step - loss: 0.0488 - acc: 0.5335 - f1: 0.8882 - macro: 0.8938 - micro: 0.8895 - hamloss: 0.0185 - val_loss: 0.1733 - val_acc: 0.4262 - val_f1: 0.6377 - val_macro: 0.5368 - val_micro: 0.6469 - val_hamloss: 0.0595\n",
            "Epoch 18/20\n",
            "549/549 [==============================] - 2s 4ms/step - loss: 0.0428 - acc: 0.5431 - f1: 0.9038 - macro: 0.9124 - micro: 0.9048 - hamloss: 0.0160 - val_loss: 0.1859 - val_acc: 0.3730 - val_f1: 0.6346 - val_macro: 0.5181 - val_micro: 0.6556 - val_hamloss: 0.0554\n",
            "Epoch 19/20\n",
            "549/549 [==============================] - 2s 4ms/step - loss: 0.0417 - acc: 0.5449 - f1: 0.9090 - macro: 0.9103 - micro: 0.9097 - hamloss: 0.0153 - val_loss: 0.1858 - val_acc: 0.4385 - val_f1: 0.6320 - val_macro: 0.5303 - val_micro: 0.6475 - val_hamloss: 0.0568\n",
            "Epoch 20/20\n",
            "549/549 [==============================] - 2s 4ms/step - loss: 0.0371 - acc: 0.5554 - f1: 0.9233 - macro: 0.9348 - micro: 0.9238 - hamloss: 0.0129 - val_loss: 0.1860 - val_acc: 0.4385 - val_f1: 0.6349 - val_macro: 0.5422 - val_micro: 0.6488 - val_hamloss: 0.0560\n"
          ],
          "name": "stdout"
        }
      ]
    },
    {
      "cell_type": "code",
      "metadata": {
        "id": "luObyoYB7LQ6",
        "outputId": "3d5e4d2a-8fd0-4b22-d346-44c612fb51a5",
        "colab": {
          "base_uri": "https://localhost:8080/"
        }
      },
      "source": [
        "score = model.evaluate(X_test, y_test, verbose=1)"
      ],
      "execution_count": 106,
      "outputs": [
        {
          "output_type": "stream",
          "text": [
            "9/9 [==============================] - 0s 4ms/step - loss: 0.1778 - acc: 0.4244 - f1: 0.6766 - macro: 0.5890 - micro: 0.6861 - hamloss: 0.0485\n"
          ],
          "name": "stdout"
        }
      ]
    },
    {
      "cell_type": "code",
      "metadata": {
        "id": "LzKKewPO7LQ8"
      },
      "source": [
        "import matplotlib.pyplot as plt\n",
        "\n",
        "plt.plot(history.history['acc'])\n",
        "plt.plot(history.history['val_acc'])\n",
        "\n",
        "plt.title('model accuracy')\n",
        "plt.ylabel('accuracy')\n",
        "plt.xlabel('epoch')\n",
        "plt.legend(['train','test'], loc='upper left')\n",
        "plt.show()\n",
        "\n",
        "plt.plot(history.history['loss'])\n",
        "plt.plot(history.history['val_loss'])\n",
        "\n",
        "plt.title('model loss')\n",
        "plt.ylabel('loss')\n",
        "plt.xlabel('epoch')\n",
        "plt.legend(['train','test'], loc='upper left')\n",
        "plt.show()"
      ],
      "execution_count": null,
      "outputs": []
    },
    {
      "cell_type": "markdown",
      "metadata": {
        "id": "7qNH8DZbenUD"
      },
      "source": [
        "# Word2Vec"
      ]
    },
    {
      "cell_type": "code",
      "metadata": {
        "id": "FbnHwp3pxRD2"
      },
      "source": [
        "df_topics_lstm = pd.read_csv(\"/content/drive/My Drive/topics-for-types/df_topics.csv\")\n",
        "df_topics_lstm.head()"
      ],
      "execution_count": null,
      "outputs": []
    },
    {
      "cell_type": "code",
      "metadata": {
        "id": "hH6VbfWMf5qO"
      },
      "source": [
        "X = df_topics_lstm[df_topics_lstm.columns[0]].values\n",
        "Y = df_topics_lstm[df_topics_lstm.columns[1:]].values"
      ],
      "execution_count": null,
      "outputs": []
    },
    {
      "cell_type": "code",
      "metadata": {
        "id": "MFb1ouv4NW4z"
      },
      "source": [
        "X_train, X_test, y_train, y_test = train_test_split(X, Y, test_size=0.10)"
      ],
      "execution_count": null,
      "outputs": []
    },
    {
      "cell_type": "code",
      "metadata": {
        "id": "qEc5r95aNenl"
      },
      "source": [
        "tokenizer = Tokenizer(num_words=50000)\n",
        "tokenizer.fit_on_texts(X_train)\n",
        "\n",
        "X_train = tokenizer.texts_to_sequences(X_train)\n",
        "X_test = tokenizer.texts_to_sequences(X_test)\n",
        "vocab_size = len(tokenizer.word_index) + 1\n",
        "\n",
        "maxlen = 200\n",
        "\n",
        "X_train = pad_sequences(X_train, padding='post', maxlen=maxlen)\n",
        "X_test = pad_sequences(X_test, padding='post', maxlen=maxlen)"
      ],
      "execution_count": null,
      "outputs": []
    },
    {
      "cell_type": "code",
      "metadata": {
        "id": "4S_5yaE1P9EK",
        "outputId": "2bd119f6-1bfa-4df0-f0a2-8e7c6af9b082",
        "colab": {
          "base_uri": "https://localhost:8080/",
          "height": 34
        }
      },
      "source": [
        "vocab_size, X_train.shape, y_train.shape, X_test.shape, y_test.shape"
      ],
      "execution_count": null,
      "outputs": [
        {
          "output_type": "execute_result",
          "data": {
            "text/plain": [
              "(8612, (2181, 200), (2181, 12), (243, 200), (243, 12))"
            ]
          },
          "metadata": {
            "tags": []
          },
          "execution_count": 21
        }
      ]
    },
    {
      "cell_type": "code",
      "metadata": {
        "id": "6UrxQBoXN4Mq"
      },
      "source": [
        "embeddings_dictionary = dict()\n",
        "\n",
        "glove_file = open('drive/My Drive/nlp/similarity/embeddings/twitt_wiki_ham_blog.fa.text.100.vec', encoding=\"utf8\")\n",
        "\n",
        "for line in glove_file:\n",
        "    records = line.split()\n",
        "    word = records[0]\n",
        "    vector_dimensions = np.asarray(records[1:], dtype='float32')\n",
        "    embeddings_dictionary[word] = vector_dimensions\n",
        "glove_file.close()\n",
        "\n",
        "embedding_matrix = np.zeros((vocab_size, 100))\n",
        "for word, index in tokenizer.word_index.items():\n",
        "    embedding_vector = embeddings_dictionary.get(word)\n",
        "    if embedding_vector is not None:\n",
        "        embedding_matrix[index] = embedding_vector"
      ],
      "execution_count": null,
      "outputs": []
    },
    {
      "cell_type": "code",
      "metadata": {
        "id": "C3LLbfIiAtbY"
      },
      "source": [
        "model = tf.keras.Sequential([\n",
        "    tf.keras.layers.Input(shape=(maxlen,)),\n",
        "    tf.keras.layers.Embedding(input_dim=vocab_size, output_dim = 100, \n",
        "                            weights=[embedding_matrix],\n",
        "                            trainable=False, name='Embedding_Layer'),\n",
        "    tf.keras.layers.LSTM(200,\n",
        "                        # return_sequences=True,\n",
        "                        # stateful=True,\n",
        "                        recurrent_initializer='glorot_uniform',\n",
        "                        name='LSTM_Layer'),\n",
        "    tf.keras.layers.Dense(12, activation='sigmoid', name='Dense_Layer')\n",
        "  ], name='LSTM_Model')\n",
        "model.compile(loss='binary_crossentropy', optimizer=tf.keras.optimizers.Adam(learning_rate=0.01), metrics=['acc'])\n",
        "print(model.summary())\n",
        "print()\n",
        "print(model.layers[0].weights)"
      ],
      "execution_count": null,
      "outputs": []
    },
    {
      "cell_type": "code",
      "metadata": {
        "id": "fb1R_m8wGO7J"
      },
      "source": [
        "history = model.fit(X_train, y_train, batch_size=32, epochs=15, verbose=1, validation_split=0.2)"
      ],
      "execution_count": null,
      "outputs": []
    },
    {
      "cell_type": "code",
      "metadata": {
        "id": "EXozAvLmPxzk"
      },
      "source": [
        "score = model.evaluate(X_test, y_test, verbose=1)\n",
        "\n",
        "print(\"Test Score:\", score[0])\n",
        "print(\"Test Accuracy:\", score[1])"
      ],
      "execution_count": null,
      "outputs": []
    }
  ]
}