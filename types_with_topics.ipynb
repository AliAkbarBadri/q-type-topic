{
  "nbformat": 4,
  "nbformat_minor": 0,
  "metadata": {
    "colab": {
      "name": "tempo.ipynb",
      "provenance": [],
      "include_colab_link": true
    },
    "kernelspec": {
      "name": "python3",
      "display_name": "Python 3"
    },
    "accelerator": "GPU",
    "widgets": {
      "application/vnd.jupyter.widget-state+json": {
        "30b147f13d1e4f4bb55e34e9855e539f": {
          "model_module": "@jupyter-widgets/controls",
          "model_name": "HBoxModel",
          "state": {
            "_view_name": "HBoxView",
            "_dom_classes": [],
            "_model_name": "HBoxModel",
            "_view_module": "@jupyter-widgets/controls",
            "_model_module_version": "1.5.0",
            "_view_count": null,
            "_view_module_version": "1.5.0",
            "box_style": "",
            "layout": "IPY_MODEL_a2f8b4979bea4c84a6a490de3192524a",
            "_model_module": "@jupyter-widgets/controls",
            "children": [
              "IPY_MODEL_ca867b6b33954119b9450d0f86a33f93",
              "IPY_MODEL_a6f2c4e0d7244eb89b404d40ffe4b8cf"
            ]
          }
        },
        "a2f8b4979bea4c84a6a490de3192524a": {
          "model_module": "@jupyter-widgets/base",
          "model_name": "LayoutModel",
          "state": {
            "_view_name": "LayoutView",
            "grid_template_rows": null,
            "right": null,
            "justify_content": null,
            "_view_module": "@jupyter-widgets/base",
            "overflow": null,
            "_model_module_version": "1.2.0",
            "_view_count": null,
            "flex_flow": null,
            "width": null,
            "min_width": null,
            "border": null,
            "align_items": null,
            "bottom": null,
            "_model_module": "@jupyter-widgets/base",
            "top": null,
            "grid_column": null,
            "overflow_y": null,
            "overflow_x": null,
            "grid_auto_flow": null,
            "grid_area": null,
            "grid_template_columns": null,
            "flex": null,
            "_model_name": "LayoutModel",
            "justify_items": null,
            "grid_row": null,
            "max_height": null,
            "align_content": null,
            "visibility": null,
            "align_self": null,
            "height": null,
            "min_height": null,
            "padding": null,
            "grid_auto_rows": null,
            "grid_gap": null,
            "max_width": null,
            "order": null,
            "_view_module_version": "1.2.0",
            "grid_template_areas": null,
            "object_position": null,
            "object_fit": null,
            "grid_auto_columns": null,
            "margin": null,
            "display": null,
            "left": null
          }
        },
        "ca867b6b33954119b9450d0f86a33f93": {
          "model_module": "@jupyter-widgets/controls",
          "model_name": "FloatProgressModel",
          "state": {
            "_view_name": "ProgressView",
            "style": "IPY_MODEL_63ec15bf1c1245b18fe043101e91e9a3",
            "_dom_classes": [],
            "description": "Downloading: 100%",
            "_model_name": "FloatProgressModel",
            "bar_style": "success",
            "max": 684,
            "_view_module": "@jupyter-widgets/controls",
            "_model_module_version": "1.5.0",
            "value": 684,
            "_view_count": null,
            "_view_module_version": "1.5.0",
            "orientation": "horizontal",
            "min": 0,
            "description_tooltip": null,
            "_model_module": "@jupyter-widgets/controls",
            "layout": "IPY_MODEL_bc016e85e44341de9ec42b5847d8f2d0"
          }
        },
        "a6f2c4e0d7244eb89b404d40ffe4b8cf": {
          "model_module": "@jupyter-widgets/controls",
          "model_name": "HTMLModel",
          "state": {
            "_view_name": "HTMLView",
            "style": "IPY_MODEL_e21534bbd5e947d7858cc1d789cfcc8b",
            "_dom_classes": [],
            "description": "",
            "_model_name": "HTMLModel",
            "placeholder": "​",
            "_view_module": "@jupyter-widgets/controls",
            "_model_module_version": "1.5.0",
            "value": " 684/684 [04:09&lt;00:00, 2.74B/s]",
            "_view_count": null,
            "_view_module_version": "1.5.0",
            "description_tooltip": null,
            "_model_module": "@jupyter-widgets/controls",
            "layout": "IPY_MODEL_79d9e81062a24663b367af957b0e0bc4"
          }
        },
        "63ec15bf1c1245b18fe043101e91e9a3": {
          "model_module": "@jupyter-widgets/controls",
          "model_name": "ProgressStyleModel",
          "state": {
            "_view_name": "StyleView",
            "_model_name": "ProgressStyleModel",
            "description_width": "initial",
            "_view_module": "@jupyter-widgets/base",
            "_model_module_version": "1.5.0",
            "_view_count": null,
            "_view_module_version": "1.2.0",
            "bar_color": null,
            "_model_module": "@jupyter-widgets/controls"
          }
        },
        "bc016e85e44341de9ec42b5847d8f2d0": {
          "model_module": "@jupyter-widgets/base",
          "model_name": "LayoutModel",
          "state": {
            "_view_name": "LayoutView",
            "grid_template_rows": null,
            "right": null,
            "justify_content": null,
            "_view_module": "@jupyter-widgets/base",
            "overflow": null,
            "_model_module_version": "1.2.0",
            "_view_count": null,
            "flex_flow": null,
            "width": null,
            "min_width": null,
            "border": null,
            "align_items": null,
            "bottom": null,
            "_model_module": "@jupyter-widgets/base",
            "top": null,
            "grid_column": null,
            "overflow_y": null,
            "overflow_x": null,
            "grid_auto_flow": null,
            "grid_area": null,
            "grid_template_columns": null,
            "flex": null,
            "_model_name": "LayoutModel",
            "justify_items": null,
            "grid_row": null,
            "max_height": null,
            "align_content": null,
            "visibility": null,
            "align_self": null,
            "height": null,
            "min_height": null,
            "padding": null,
            "grid_auto_rows": null,
            "grid_gap": null,
            "max_width": null,
            "order": null,
            "_view_module_version": "1.2.0",
            "grid_template_areas": null,
            "object_position": null,
            "object_fit": null,
            "grid_auto_columns": null,
            "margin": null,
            "display": null,
            "left": null
          }
        },
        "e21534bbd5e947d7858cc1d789cfcc8b": {
          "model_module": "@jupyter-widgets/controls",
          "model_name": "DescriptionStyleModel",
          "state": {
            "_view_name": "StyleView",
            "_model_name": "DescriptionStyleModel",
            "description_width": "",
            "_view_module": "@jupyter-widgets/base",
            "_model_module_version": "1.5.0",
            "_view_count": null,
            "_view_module_version": "1.2.0",
            "_model_module": "@jupyter-widgets/controls"
          }
        },
        "79d9e81062a24663b367af957b0e0bc4": {
          "model_module": "@jupyter-widgets/base",
          "model_name": "LayoutModel",
          "state": {
            "_view_name": "LayoutView",
            "grid_template_rows": null,
            "right": null,
            "justify_content": null,
            "_view_module": "@jupyter-widgets/base",
            "overflow": null,
            "_model_module_version": "1.2.0",
            "_view_count": null,
            "flex_flow": null,
            "width": null,
            "min_width": null,
            "border": null,
            "align_items": null,
            "bottom": null,
            "_model_module": "@jupyter-widgets/base",
            "top": null,
            "grid_column": null,
            "overflow_y": null,
            "overflow_x": null,
            "grid_auto_flow": null,
            "grid_area": null,
            "grid_template_columns": null,
            "flex": null,
            "_model_name": "LayoutModel",
            "justify_items": null,
            "grid_row": null,
            "max_height": null,
            "align_content": null,
            "visibility": null,
            "align_self": null,
            "height": null,
            "min_height": null,
            "padding": null,
            "grid_auto_rows": null,
            "grid_gap": null,
            "max_width": null,
            "order": null,
            "_view_module_version": "1.2.0",
            "grid_template_areas": null,
            "object_position": null,
            "object_fit": null,
            "grid_auto_columns": null,
            "margin": null,
            "display": null,
            "left": null
          }
        },
        "eb6174e18802436a958fcaa2b8c01c8c": {
          "model_module": "@jupyter-widgets/controls",
          "model_name": "HBoxModel",
          "state": {
            "_view_name": "HBoxView",
            "_dom_classes": [],
            "_model_name": "HBoxModel",
            "_view_module": "@jupyter-widgets/controls",
            "_model_module_version": "1.5.0",
            "_view_count": null,
            "_view_module_version": "1.5.0",
            "box_style": "",
            "layout": "IPY_MODEL_516b3a1e2bf54b4f82e1bc43f7ceb767",
            "_model_module": "@jupyter-widgets/controls",
            "children": [
              "IPY_MODEL_2998637fcca24997acc0bf22f3612241",
              "IPY_MODEL_9794bea1454f4be88e40d4f080fbdec3"
            ]
          }
        },
        "516b3a1e2bf54b4f82e1bc43f7ceb767": {
          "model_module": "@jupyter-widgets/base",
          "model_name": "LayoutModel",
          "state": {
            "_view_name": "LayoutView",
            "grid_template_rows": null,
            "right": null,
            "justify_content": null,
            "_view_module": "@jupyter-widgets/base",
            "overflow": null,
            "_model_module_version": "1.2.0",
            "_view_count": null,
            "flex_flow": null,
            "width": null,
            "min_width": null,
            "border": null,
            "align_items": null,
            "bottom": null,
            "_model_module": "@jupyter-widgets/base",
            "top": null,
            "grid_column": null,
            "overflow_y": null,
            "overflow_x": null,
            "grid_auto_flow": null,
            "grid_area": null,
            "grid_template_columns": null,
            "flex": null,
            "_model_name": "LayoutModel",
            "justify_items": null,
            "grid_row": null,
            "max_height": null,
            "align_content": null,
            "visibility": null,
            "align_self": null,
            "height": null,
            "min_height": null,
            "padding": null,
            "grid_auto_rows": null,
            "grid_gap": null,
            "max_width": null,
            "order": null,
            "_view_module_version": "1.2.0",
            "grid_template_areas": null,
            "object_position": null,
            "object_fit": null,
            "grid_auto_columns": null,
            "margin": null,
            "display": null,
            "left": null
          }
        },
        "2998637fcca24997acc0bf22f3612241": {
          "model_module": "@jupyter-widgets/controls",
          "model_name": "FloatProgressModel",
          "state": {
            "_view_name": "ProgressView",
            "style": "IPY_MODEL_b896c62891f34fb5be02539042d0edb6",
            "_dom_classes": [],
            "description": "Downloading: 100%",
            "_model_name": "FloatProgressModel",
            "bar_style": "success",
            "max": 1882978,
            "_view_module": "@jupyter-widgets/controls",
            "_model_module_version": "1.5.0",
            "value": 1882978,
            "_view_count": null,
            "_view_module_version": "1.5.0",
            "orientation": "horizontal",
            "min": 0,
            "description_tooltip": null,
            "_model_module": "@jupyter-widgets/controls",
            "layout": "IPY_MODEL_518e436f18754180a59f248375907815"
          }
        },
        "9794bea1454f4be88e40d4f080fbdec3": {
          "model_module": "@jupyter-widgets/controls",
          "model_name": "HTMLModel",
          "state": {
            "_view_name": "HTMLView",
            "style": "IPY_MODEL_d718e86396a545188c665828c21810d1",
            "_dom_classes": [],
            "description": "",
            "_model_name": "HTMLModel",
            "placeholder": "​",
            "_view_module": "@jupyter-widgets/controls",
            "_model_module_version": "1.5.0",
            "value": " 1.88M/1.88M [00:00&lt;00:00, 3.27MB/s]",
            "_view_count": null,
            "_view_module_version": "1.5.0",
            "description_tooltip": null,
            "_model_module": "@jupyter-widgets/controls",
            "layout": "IPY_MODEL_baed7ef2e2fc4383b6f04efd21571579"
          }
        },
        "b896c62891f34fb5be02539042d0edb6": {
          "model_module": "@jupyter-widgets/controls",
          "model_name": "ProgressStyleModel",
          "state": {
            "_view_name": "StyleView",
            "_model_name": "ProgressStyleModel",
            "description_width": "initial",
            "_view_module": "@jupyter-widgets/base",
            "_model_module_version": "1.5.0",
            "_view_count": null,
            "_view_module_version": "1.2.0",
            "bar_color": null,
            "_model_module": "@jupyter-widgets/controls"
          }
        },
        "518e436f18754180a59f248375907815": {
          "model_module": "@jupyter-widgets/base",
          "model_name": "LayoutModel",
          "state": {
            "_view_name": "LayoutView",
            "grid_template_rows": null,
            "right": null,
            "justify_content": null,
            "_view_module": "@jupyter-widgets/base",
            "overflow": null,
            "_model_module_version": "1.2.0",
            "_view_count": null,
            "flex_flow": null,
            "width": null,
            "min_width": null,
            "border": null,
            "align_items": null,
            "bottom": null,
            "_model_module": "@jupyter-widgets/base",
            "top": null,
            "grid_column": null,
            "overflow_y": null,
            "overflow_x": null,
            "grid_auto_flow": null,
            "grid_area": null,
            "grid_template_columns": null,
            "flex": null,
            "_model_name": "LayoutModel",
            "justify_items": null,
            "grid_row": null,
            "max_height": null,
            "align_content": null,
            "visibility": null,
            "align_self": null,
            "height": null,
            "min_height": null,
            "padding": null,
            "grid_auto_rows": null,
            "grid_gap": null,
            "max_width": null,
            "order": null,
            "_view_module_version": "1.2.0",
            "grid_template_areas": null,
            "object_position": null,
            "object_fit": null,
            "grid_auto_columns": null,
            "margin": null,
            "display": null,
            "left": null
          }
        },
        "d718e86396a545188c665828c21810d1": {
          "model_module": "@jupyter-widgets/controls",
          "model_name": "DescriptionStyleModel",
          "state": {
            "_view_name": "StyleView",
            "_model_name": "DescriptionStyleModel",
            "description_width": "",
            "_view_module": "@jupyter-widgets/base",
            "_model_module_version": "1.5.0",
            "_view_count": null,
            "_view_module_version": "1.2.0",
            "_model_module": "@jupyter-widgets/controls"
          }
        },
        "baed7ef2e2fc4383b6f04efd21571579": {
          "model_module": "@jupyter-widgets/base",
          "model_name": "LayoutModel",
          "state": {
            "_view_name": "LayoutView",
            "grid_template_rows": null,
            "right": null,
            "justify_content": null,
            "_view_module": "@jupyter-widgets/base",
            "overflow": null,
            "_model_module_version": "1.2.0",
            "_view_count": null,
            "flex_flow": null,
            "width": null,
            "min_width": null,
            "border": null,
            "align_items": null,
            "bottom": null,
            "_model_module": "@jupyter-widgets/base",
            "top": null,
            "grid_column": null,
            "overflow_y": null,
            "overflow_x": null,
            "grid_auto_flow": null,
            "grid_area": null,
            "grid_template_columns": null,
            "flex": null,
            "_model_name": "LayoutModel",
            "justify_items": null,
            "grid_row": null,
            "max_height": null,
            "align_content": null,
            "visibility": null,
            "align_self": null,
            "height": null,
            "min_height": null,
            "padding": null,
            "grid_auto_rows": null,
            "grid_gap": null,
            "max_width": null,
            "order": null,
            "_view_module_version": "1.2.0",
            "grid_template_areas": null,
            "object_position": null,
            "object_fit": null,
            "grid_auto_columns": null,
            "margin": null,
            "display": null,
            "left": null
          }
        },
        "79e32da277f84e4c9471fda4dd72bf07": {
          "model_module": "@jupyter-widgets/controls",
          "model_name": "HBoxModel",
          "state": {
            "_view_name": "HBoxView",
            "_dom_classes": [],
            "_model_name": "HBoxModel",
            "_view_module": "@jupyter-widgets/controls",
            "_model_module_version": "1.5.0",
            "_view_count": null,
            "_view_module_version": "1.5.0",
            "box_style": "",
            "layout": "IPY_MODEL_f0012fefc60149f3b09f9023e5ac9148",
            "_model_module": "@jupyter-widgets/controls",
            "children": [
              "IPY_MODEL_c2737d4c3b874513b7be02d6069a8280",
              "IPY_MODEL_e20af57f4e71453f8e60d08f8e5f5c0e"
            ]
          }
        },
        "f0012fefc60149f3b09f9023e5ac9148": {
          "model_module": "@jupyter-widgets/base",
          "model_name": "LayoutModel",
          "state": {
            "_view_name": "LayoutView",
            "grid_template_rows": null,
            "right": null,
            "justify_content": null,
            "_view_module": "@jupyter-widgets/base",
            "overflow": null,
            "_model_module_version": "1.2.0",
            "_view_count": null,
            "flex_flow": null,
            "width": null,
            "min_width": null,
            "border": null,
            "align_items": null,
            "bottom": null,
            "_model_module": "@jupyter-widgets/base",
            "top": null,
            "grid_column": null,
            "overflow_y": null,
            "overflow_x": null,
            "grid_auto_flow": null,
            "grid_area": null,
            "grid_template_columns": null,
            "flex": null,
            "_model_name": "LayoutModel",
            "justify_items": null,
            "grid_row": null,
            "max_height": null,
            "align_content": null,
            "visibility": null,
            "align_self": null,
            "height": null,
            "min_height": null,
            "padding": null,
            "grid_auto_rows": null,
            "grid_gap": null,
            "max_width": null,
            "order": null,
            "_view_module_version": "1.2.0",
            "grid_template_areas": null,
            "object_position": null,
            "object_fit": null,
            "grid_auto_columns": null,
            "margin": null,
            "display": null,
            "left": null
          }
        },
        "c2737d4c3b874513b7be02d6069a8280": {
          "model_module": "@jupyter-widgets/controls",
          "model_name": "FloatProgressModel",
          "state": {
            "_view_name": "ProgressView",
            "style": "IPY_MODEL_2817a67688984e958eead64aec6b1f88",
            "_dom_classes": [],
            "description": "Downloading: 100%",
            "_model_name": "FloatProgressModel",
            "bar_style": "success",
            "max": 73062448,
            "_view_module": "@jupyter-widgets/controls",
            "_model_module_version": "1.5.0",
            "value": 73062448,
            "_view_count": null,
            "_view_module_version": "1.5.0",
            "orientation": "horizontal",
            "min": 0,
            "description_tooltip": null,
            "_model_module": "@jupyter-widgets/controls",
            "layout": "IPY_MODEL_8f4847954da24a2f91f8c89a61472d9b"
          }
        },
        "e20af57f4e71453f8e60d08f8e5f5c0e": {
          "model_module": "@jupyter-widgets/controls",
          "model_name": "HTMLModel",
          "state": {
            "_view_name": "HTMLView",
            "style": "IPY_MODEL_ed7625203a724170963cada86474e8e3",
            "_dom_classes": [],
            "description": "",
            "_model_name": "HTMLModel",
            "placeholder": "​",
            "_view_module": "@jupyter-widgets/controls",
            "_model_module_version": "1.5.0",
            "value": " 73.1M/73.1M [04:08&lt;00:00, 294kB/s]",
            "_view_count": null,
            "_view_module_version": "1.5.0",
            "description_tooltip": null,
            "_model_module": "@jupyter-widgets/controls",
            "layout": "IPY_MODEL_d88c8f8c6a884cbdb23cad7446e48ad2"
          }
        },
        "2817a67688984e958eead64aec6b1f88": {
          "model_module": "@jupyter-widgets/controls",
          "model_name": "ProgressStyleModel",
          "state": {
            "_view_name": "StyleView",
            "_model_name": "ProgressStyleModel",
            "description_width": "initial",
            "_view_module": "@jupyter-widgets/base",
            "_model_module_version": "1.5.0",
            "_view_count": null,
            "_view_module_version": "1.2.0",
            "bar_color": null,
            "_model_module": "@jupyter-widgets/controls"
          }
        },
        "8f4847954da24a2f91f8c89a61472d9b": {
          "model_module": "@jupyter-widgets/base",
          "model_name": "LayoutModel",
          "state": {
            "_view_name": "LayoutView",
            "grid_template_rows": null,
            "right": null,
            "justify_content": null,
            "_view_module": "@jupyter-widgets/base",
            "overflow": null,
            "_model_module_version": "1.2.0",
            "_view_count": null,
            "flex_flow": null,
            "width": null,
            "min_width": null,
            "border": null,
            "align_items": null,
            "bottom": null,
            "_model_module": "@jupyter-widgets/base",
            "top": null,
            "grid_column": null,
            "overflow_y": null,
            "overflow_x": null,
            "grid_auto_flow": null,
            "grid_area": null,
            "grid_template_columns": null,
            "flex": null,
            "_model_name": "LayoutModel",
            "justify_items": null,
            "grid_row": null,
            "max_height": null,
            "align_content": null,
            "visibility": null,
            "align_self": null,
            "height": null,
            "min_height": null,
            "padding": null,
            "grid_auto_rows": null,
            "grid_gap": null,
            "max_width": null,
            "order": null,
            "_view_module_version": "1.2.0",
            "grid_template_areas": null,
            "object_position": null,
            "object_fit": null,
            "grid_auto_columns": null,
            "margin": null,
            "display": null,
            "left": null
          }
        },
        "ed7625203a724170963cada86474e8e3": {
          "model_module": "@jupyter-widgets/controls",
          "model_name": "DescriptionStyleModel",
          "state": {
            "_view_name": "StyleView",
            "_model_name": "DescriptionStyleModel",
            "description_width": "",
            "_view_module": "@jupyter-widgets/base",
            "_model_module_version": "1.5.0",
            "_view_count": null,
            "_view_module_version": "1.2.0",
            "_model_module": "@jupyter-widgets/controls"
          }
        },
        "d88c8f8c6a884cbdb23cad7446e48ad2": {
          "model_module": "@jupyter-widgets/base",
          "model_name": "LayoutModel",
          "state": {
            "_view_name": "LayoutView",
            "grid_template_rows": null,
            "right": null,
            "justify_content": null,
            "_view_module": "@jupyter-widgets/base",
            "overflow": null,
            "_model_module_version": "1.2.0",
            "_view_count": null,
            "flex_flow": null,
            "width": null,
            "min_width": null,
            "border": null,
            "align_items": null,
            "bottom": null,
            "_model_module": "@jupyter-widgets/base",
            "top": null,
            "grid_column": null,
            "overflow_y": null,
            "overflow_x": null,
            "grid_auto_flow": null,
            "grid_area": null,
            "grid_template_columns": null,
            "flex": null,
            "_model_name": "LayoutModel",
            "justify_items": null,
            "grid_row": null,
            "max_height": null,
            "align_content": null,
            "visibility": null,
            "align_self": null,
            "height": null,
            "min_height": null,
            "padding": null,
            "grid_auto_rows": null,
            "grid_gap": null,
            "max_width": null,
            "order": null,
            "_view_module_version": "1.2.0",
            "grid_template_areas": null,
            "object_position": null,
            "object_fit": null,
            "grid_auto_columns": null,
            "margin": null,
            "display": null,
            "left": null
          }
        },
        "e871ee251b5341148aa1cbd8ef18ec69": {
          "model_module": "@jupyter-widgets/controls",
          "model_name": "HBoxModel",
          "state": {
            "_view_name": "HBoxView",
            "_dom_classes": [],
            "_model_name": "HBoxModel",
            "_view_module": "@jupyter-widgets/controls",
            "_model_module_version": "1.5.0",
            "_view_count": null,
            "_view_module_version": "1.5.0",
            "box_style": "",
            "layout": "IPY_MODEL_a81cfe3a13fb44a4bea9952e9afcfdaf",
            "_model_module": "@jupyter-widgets/controls",
            "children": [
              "IPY_MODEL_367b70c757e441af89fd1363e2c96ca4",
              "IPY_MODEL_47da00665e2949bbac8f0d048694d079"
            ]
          }
        },
        "a81cfe3a13fb44a4bea9952e9afcfdaf": {
          "model_module": "@jupyter-widgets/base",
          "model_name": "LayoutModel",
          "state": {
            "_view_name": "LayoutView",
            "grid_template_rows": null,
            "right": null,
            "justify_content": null,
            "_view_module": "@jupyter-widgets/base",
            "overflow": null,
            "_model_module_version": "1.2.0",
            "_view_count": null,
            "flex_flow": null,
            "width": null,
            "min_width": null,
            "border": null,
            "align_items": null,
            "bottom": null,
            "_model_module": "@jupyter-widgets/base",
            "top": null,
            "grid_column": null,
            "overflow_y": null,
            "overflow_x": null,
            "grid_auto_flow": null,
            "grid_area": null,
            "grid_template_columns": null,
            "flex": null,
            "_model_name": "LayoutModel",
            "justify_items": null,
            "grid_row": null,
            "max_height": null,
            "align_content": null,
            "visibility": null,
            "align_self": null,
            "height": null,
            "min_height": null,
            "padding": null,
            "grid_auto_rows": null,
            "grid_gap": null,
            "max_width": null,
            "order": null,
            "_view_module_version": "1.2.0",
            "grid_template_areas": null,
            "object_position": null,
            "object_fit": null,
            "grid_auto_columns": null,
            "margin": null,
            "display": null,
            "left": null
          }
        },
        "367b70c757e441af89fd1363e2c96ca4": {
          "model_module": "@jupyter-widgets/controls",
          "model_name": "FloatProgressModel",
          "state": {
            "_view_name": "ProgressView",
            "style": "IPY_MODEL_b49ec9f82d0840e98c2970ac8796ba0e",
            "_dom_classes": [],
            "description": "Downloading: 100%",
            "_model_name": "FloatProgressModel",
            "bar_style": "success",
            "max": 434,
            "_view_module": "@jupyter-widgets/controls",
            "_model_module_version": "1.5.0",
            "value": 434,
            "_view_count": null,
            "_view_module_version": "1.5.0",
            "orientation": "horizontal",
            "min": 0,
            "description_tooltip": null,
            "_model_module": "@jupyter-widgets/controls",
            "layout": "IPY_MODEL_f600658defc04c6185cd139db9c1ddb8"
          }
        },
        "47da00665e2949bbac8f0d048694d079": {
          "model_module": "@jupyter-widgets/controls",
          "model_name": "HTMLModel",
          "state": {
            "_view_name": "HTMLView",
            "style": "IPY_MODEL_fe33ffe7192447108f703720f624bfa9",
            "_dom_classes": [],
            "description": "",
            "_model_name": "HTMLModel",
            "placeholder": "​",
            "_view_module": "@jupyter-widgets/controls",
            "_model_module_version": "1.5.0",
            "value": " 434/434 [00:00&lt;00:00, 643B/s]",
            "_view_count": null,
            "_view_module_version": "1.5.0",
            "description_tooltip": null,
            "_model_module": "@jupyter-widgets/controls",
            "layout": "IPY_MODEL_034f52afa0574ef2a3ea5da773a2fc21"
          }
        },
        "b49ec9f82d0840e98c2970ac8796ba0e": {
          "model_module": "@jupyter-widgets/controls",
          "model_name": "ProgressStyleModel",
          "state": {
            "_view_name": "StyleView",
            "_model_name": "ProgressStyleModel",
            "description_width": "initial",
            "_view_module": "@jupyter-widgets/base",
            "_model_module_version": "1.5.0",
            "_view_count": null,
            "_view_module_version": "1.2.0",
            "bar_color": null,
            "_model_module": "@jupyter-widgets/controls"
          }
        },
        "f600658defc04c6185cd139db9c1ddb8": {
          "model_module": "@jupyter-widgets/base",
          "model_name": "LayoutModel",
          "state": {
            "_view_name": "LayoutView",
            "grid_template_rows": null,
            "right": null,
            "justify_content": null,
            "_view_module": "@jupyter-widgets/base",
            "overflow": null,
            "_model_module_version": "1.2.0",
            "_view_count": null,
            "flex_flow": null,
            "width": null,
            "min_width": null,
            "border": null,
            "align_items": null,
            "bottom": null,
            "_model_module": "@jupyter-widgets/base",
            "top": null,
            "grid_column": null,
            "overflow_y": null,
            "overflow_x": null,
            "grid_auto_flow": null,
            "grid_area": null,
            "grid_template_columns": null,
            "flex": null,
            "_model_name": "LayoutModel",
            "justify_items": null,
            "grid_row": null,
            "max_height": null,
            "align_content": null,
            "visibility": null,
            "align_self": null,
            "height": null,
            "min_height": null,
            "padding": null,
            "grid_auto_rows": null,
            "grid_gap": null,
            "max_width": null,
            "order": null,
            "_view_module_version": "1.2.0",
            "grid_template_areas": null,
            "object_position": null,
            "object_fit": null,
            "grid_auto_columns": null,
            "margin": null,
            "display": null,
            "left": null
          }
        },
        "fe33ffe7192447108f703720f624bfa9": {
          "model_module": "@jupyter-widgets/controls",
          "model_name": "DescriptionStyleModel",
          "state": {
            "_view_name": "StyleView",
            "_model_name": "DescriptionStyleModel",
            "description_width": "",
            "_view_module": "@jupyter-widgets/base",
            "_model_module_version": "1.5.0",
            "_view_count": null,
            "_view_module_version": "1.2.0",
            "_model_module": "@jupyter-widgets/controls"
          }
        },
        "034f52afa0574ef2a3ea5da773a2fc21": {
          "model_module": "@jupyter-widgets/base",
          "model_name": "LayoutModel",
          "state": {
            "_view_name": "LayoutView",
            "grid_template_rows": null,
            "right": null,
            "justify_content": null,
            "_view_module": "@jupyter-widgets/base",
            "overflow": null,
            "_model_module_version": "1.2.0",
            "_view_count": null,
            "flex_flow": null,
            "width": null,
            "min_width": null,
            "border": null,
            "align_items": null,
            "bottom": null,
            "_model_module": "@jupyter-widgets/base",
            "top": null,
            "grid_column": null,
            "overflow_y": null,
            "overflow_x": null,
            "grid_auto_flow": null,
            "grid_area": null,
            "grid_template_columns": null,
            "flex": null,
            "_model_name": "LayoutModel",
            "justify_items": null,
            "grid_row": null,
            "max_height": null,
            "align_content": null,
            "visibility": null,
            "align_self": null,
            "height": null,
            "min_height": null,
            "padding": null,
            "grid_auto_rows": null,
            "grid_gap": null,
            "max_width": null,
            "order": null,
            "_view_module_version": "1.2.0",
            "grid_template_areas": null,
            "object_position": null,
            "object_fit": null,
            "grid_auto_columns": null,
            "margin": null,
            "display": null,
            "left": null
          }
        },
        "2b3844ad73f245459ff39d62e8193a96": {
          "model_module": "@jupyter-widgets/controls",
          "model_name": "HBoxModel",
          "state": {
            "_view_name": "HBoxView",
            "_dom_classes": [],
            "_model_name": "HBoxModel",
            "_view_module": "@jupyter-widgets/controls",
            "_model_module_version": "1.5.0",
            "_view_count": null,
            "_view_module_version": "1.5.0",
            "box_style": "",
            "layout": "IPY_MODEL_9956d40030af4247b300082460bb92c1",
            "_model_module": "@jupyter-widgets/controls",
            "children": [
              "IPY_MODEL_1e14c4fd34bf4cfc80d4004438dc3ba0",
              "IPY_MODEL_d16c8d16b1a14cb0924f36b1d1ff8269"
            ]
          }
        },
        "9956d40030af4247b300082460bb92c1": {
          "model_module": "@jupyter-widgets/base",
          "model_name": "LayoutModel",
          "state": {
            "_view_name": "LayoutView",
            "grid_template_rows": null,
            "right": null,
            "justify_content": null,
            "_view_module": "@jupyter-widgets/base",
            "overflow": null,
            "_model_module_version": "1.2.0",
            "_view_count": null,
            "flex_flow": null,
            "width": null,
            "min_width": null,
            "border": null,
            "align_items": null,
            "bottom": null,
            "_model_module": "@jupyter-widgets/base",
            "top": null,
            "grid_column": null,
            "overflow_y": null,
            "overflow_x": null,
            "grid_auto_flow": null,
            "grid_area": null,
            "grid_template_columns": null,
            "flex": null,
            "_model_name": "LayoutModel",
            "justify_items": null,
            "grid_row": null,
            "max_height": null,
            "align_content": null,
            "visibility": null,
            "align_self": null,
            "height": null,
            "min_height": null,
            "padding": null,
            "grid_auto_rows": null,
            "grid_gap": null,
            "max_width": null,
            "order": null,
            "_view_module_version": "1.2.0",
            "grid_template_areas": null,
            "object_position": null,
            "object_fit": null,
            "grid_auto_columns": null,
            "margin": null,
            "display": null,
            "left": null
          }
        },
        "1e14c4fd34bf4cfc80d4004438dc3ba0": {
          "model_module": "@jupyter-widgets/controls",
          "model_name": "FloatProgressModel",
          "state": {
            "_view_name": "ProgressView",
            "style": "IPY_MODEL_ca526f917cc6456abead77d360cfbb60",
            "_dom_classes": [],
            "description": "Downloading: 100%",
            "_model_name": "FloatProgressModel",
            "bar_style": "success",
            "max": 1215509,
            "_view_module": "@jupyter-widgets/controls",
            "_model_module_version": "1.5.0",
            "value": 1215509,
            "_view_count": null,
            "_view_module_version": "1.5.0",
            "orientation": "horizontal",
            "min": 0,
            "description_tooltip": null,
            "_model_module": "@jupyter-widgets/controls",
            "layout": "IPY_MODEL_44324737340341c089db8858bd3f08bb"
          }
        },
        "d16c8d16b1a14cb0924f36b1d1ff8269": {
          "model_module": "@jupyter-widgets/controls",
          "model_name": "HTMLModel",
          "state": {
            "_view_name": "HTMLView",
            "style": "IPY_MODEL_b8a0c876901d4e8daef13d4dd580a533",
            "_dom_classes": [],
            "description": "",
            "_model_name": "HTMLModel",
            "placeholder": "​",
            "_view_module": "@jupyter-widgets/controls",
            "_model_module_version": "1.5.0",
            "value": " 1.22M/1.22M [00:01&lt;00:00, 738kB/s]",
            "_view_count": null,
            "_view_module_version": "1.5.0",
            "description_tooltip": null,
            "_model_module": "@jupyter-widgets/controls",
            "layout": "IPY_MODEL_7af9029ac27f44b4a4b3e94df96f6ecf"
          }
        },
        "ca526f917cc6456abead77d360cfbb60": {
          "model_module": "@jupyter-widgets/controls",
          "model_name": "ProgressStyleModel",
          "state": {
            "_view_name": "StyleView",
            "_model_name": "ProgressStyleModel",
            "description_width": "initial",
            "_view_module": "@jupyter-widgets/base",
            "_model_module_version": "1.5.0",
            "_view_count": null,
            "_view_module_version": "1.2.0",
            "bar_color": null,
            "_model_module": "@jupyter-widgets/controls"
          }
        },
        "44324737340341c089db8858bd3f08bb": {
          "model_module": "@jupyter-widgets/base",
          "model_name": "LayoutModel",
          "state": {
            "_view_name": "LayoutView",
            "grid_template_rows": null,
            "right": null,
            "justify_content": null,
            "_view_module": "@jupyter-widgets/base",
            "overflow": null,
            "_model_module_version": "1.2.0",
            "_view_count": null,
            "flex_flow": null,
            "width": null,
            "min_width": null,
            "border": null,
            "align_items": null,
            "bottom": null,
            "_model_module": "@jupyter-widgets/base",
            "top": null,
            "grid_column": null,
            "overflow_y": null,
            "overflow_x": null,
            "grid_auto_flow": null,
            "grid_area": null,
            "grid_template_columns": null,
            "flex": null,
            "_model_name": "LayoutModel",
            "justify_items": null,
            "grid_row": null,
            "max_height": null,
            "align_content": null,
            "visibility": null,
            "align_self": null,
            "height": null,
            "min_height": null,
            "padding": null,
            "grid_auto_rows": null,
            "grid_gap": null,
            "max_width": null,
            "order": null,
            "_view_module_version": "1.2.0",
            "grid_template_areas": null,
            "object_position": null,
            "object_fit": null,
            "grid_auto_columns": null,
            "margin": null,
            "display": null,
            "left": null
          }
        },
        "b8a0c876901d4e8daef13d4dd580a533": {
          "model_module": "@jupyter-widgets/controls",
          "model_name": "DescriptionStyleModel",
          "state": {
            "_view_name": "StyleView",
            "_model_name": "DescriptionStyleModel",
            "description_width": "",
            "_view_module": "@jupyter-widgets/base",
            "_model_module_version": "1.5.0",
            "_view_count": null,
            "_view_module_version": "1.2.0",
            "_model_module": "@jupyter-widgets/controls"
          }
        },
        "7af9029ac27f44b4a4b3e94df96f6ecf": {
          "model_module": "@jupyter-widgets/base",
          "model_name": "LayoutModel",
          "state": {
            "_view_name": "LayoutView",
            "grid_template_rows": null,
            "right": null,
            "justify_content": null,
            "_view_module": "@jupyter-widgets/base",
            "overflow": null,
            "_model_module_version": "1.2.0",
            "_view_count": null,
            "flex_flow": null,
            "width": null,
            "min_width": null,
            "border": null,
            "align_items": null,
            "bottom": null,
            "_model_module": "@jupyter-widgets/base",
            "top": null,
            "grid_column": null,
            "overflow_y": null,
            "overflow_x": null,
            "grid_auto_flow": null,
            "grid_area": null,
            "grid_template_columns": null,
            "flex": null,
            "_model_name": "LayoutModel",
            "justify_items": null,
            "grid_row": null,
            "max_height": null,
            "align_content": null,
            "visibility": null,
            "align_self": null,
            "height": null,
            "min_height": null,
            "padding": null,
            "grid_auto_rows": null,
            "grid_gap": null,
            "max_width": null,
            "order": null,
            "_view_module_version": "1.2.0",
            "grid_template_areas": null,
            "object_position": null,
            "object_fit": null,
            "grid_auto_columns": null,
            "margin": null,
            "display": null,
            "left": null
          }
        },
        "72b3464c537b40b7a345f5dcb04483ea": {
          "model_module": "@jupyter-widgets/controls",
          "model_name": "HBoxModel",
          "state": {
            "_view_name": "HBoxView",
            "_dom_classes": [],
            "_model_name": "HBoxModel",
            "_view_module": "@jupyter-widgets/controls",
            "_model_module_version": "1.5.0",
            "_view_count": null,
            "_view_module_version": "1.5.0",
            "box_style": "",
            "layout": "IPY_MODEL_2eedd35f05e849eba3cb9569e5d21412",
            "_model_module": "@jupyter-widgets/controls",
            "children": [
              "IPY_MODEL_820abb12f4e444d1aa5ee5cc4bb7ab08",
              "IPY_MODEL_f2a7e34cf2cc4586844015b779e9950c"
            ]
          }
        },
        "2eedd35f05e849eba3cb9569e5d21412": {
          "model_module": "@jupyter-widgets/base",
          "model_name": "LayoutModel",
          "state": {
            "_view_name": "LayoutView",
            "grid_template_rows": null,
            "right": null,
            "justify_content": null,
            "_view_module": "@jupyter-widgets/base",
            "overflow": null,
            "_model_module_version": "1.2.0",
            "_view_count": null,
            "flex_flow": null,
            "width": null,
            "min_width": null,
            "border": null,
            "align_items": null,
            "bottom": null,
            "_model_module": "@jupyter-widgets/base",
            "top": null,
            "grid_column": null,
            "overflow_y": null,
            "overflow_x": null,
            "grid_auto_flow": null,
            "grid_area": null,
            "grid_template_columns": null,
            "flex": null,
            "_model_name": "LayoutModel",
            "justify_items": null,
            "grid_row": null,
            "max_height": null,
            "align_content": null,
            "visibility": null,
            "align_self": null,
            "height": null,
            "min_height": null,
            "padding": null,
            "grid_auto_rows": null,
            "grid_gap": null,
            "max_width": null,
            "order": null,
            "_view_module_version": "1.2.0",
            "grid_template_areas": null,
            "object_position": null,
            "object_fit": null,
            "grid_auto_columns": null,
            "margin": null,
            "display": null,
            "left": null
          }
        },
        "820abb12f4e444d1aa5ee5cc4bb7ab08": {
          "model_module": "@jupyter-widgets/controls",
          "model_name": "FloatProgressModel",
          "state": {
            "_view_name": "ProgressView",
            "style": "IPY_MODEL_b8b72e98ab6842b281f4cbe134df62ed",
            "_dom_classes": [],
            "description": "Downloading: 100%",
            "_model_name": "FloatProgressModel",
            "bar_style": "success",
            "max": 654186735,
            "_view_module": "@jupyter-widgets/controls",
            "_model_module_version": "1.5.0",
            "value": 654186735,
            "_view_count": null,
            "_view_module_version": "1.5.0",
            "orientation": "horizontal",
            "min": 0,
            "description_tooltip": null,
            "_model_module": "@jupyter-widgets/controls",
            "layout": "IPY_MODEL_a3ea03245b0c4e4c80c7b0a366db5649"
          }
        },
        "f2a7e34cf2cc4586844015b779e9950c": {
          "model_module": "@jupyter-widgets/controls",
          "model_name": "HTMLModel",
          "state": {
            "_view_name": "HTMLView",
            "style": "IPY_MODEL_ccffb61beecf40948b33fb0ce48b982a",
            "_dom_classes": [],
            "description": "",
            "_model_name": "HTMLModel",
            "placeholder": "​",
            "_view_module": "@jupyter-widgets/controls",
            "_model_module_version": "1.5.0",
            "value": " 654M/654M [00:10&lt;00:00, 63.2MB/s]",
            "_view_count": null,
            "_view_module_version": "1.5.0",
            "description_tooltip": null,
            "_model_module": "@jupyter-widgets/controls",
            "layout": "IPY_MODEL_43e95404b035471687dcdfef0ebbc2dd"
          }
        },
        "b8b72e98ab6842b281f4cbe134df62ed": {
          "model_module": "@jupyter-widgets/controls",
          "model_name": "ProgressStyleModel",
          "state": {
            "_view_name": "StyleView",
            "_model_name": "ProgressStyleModel",
            "description_width": "initial",
            "_view_module": "@jupyter-widgets/base",
            "_model_module_version": "1.5.0",
            "_view_count": null,
            "_view_module_version": "1.2.0",
            "bar_color": null,
            "_model_module": "@jupyter-widgets/controls"
          }
        },
        "a3ea03245b0c4e4c80c7b0a366db5649": {
          "model_module": "@jupyter-widgets/base",
          "model_name": "LayoutModel",
          "state": {
            "_view_name": "LayoutView",
            "grid_template_rows": null,
            "right": null,
            "justify_content": null,
            "_view_module": "@jupyter-widgets/base",
            "overflow": null,
            "_model_module_version": "1.2.0",
            "_view_count": null,
            "flex_flow": null,
            "width": null,
            "min_width": null,
            "border": null,
            "align_items": null,
            "bottom": null,
            "_model_module": "@jupyter-widgets/base",
            "top": null,
            "grid_column": null,
            "overflow_y": null,
            "overflow_x": null,
            "grid_auto_flow": null,
            "grid_area": null,
            "grid_template_columns": null,
            "flex": null,
            "_model_name": "LayoutModel",
            "justify_items": null,
            "grid_row": null,
            "max_height": null,
            "align_content": null,
            "visibility": null,
            "align_self": null,
            "height": null,
            "min_height": null,
            "padding": null,
            "grid_auto_rows": null,
            "grid_gap": null,
            "max_width": null,
            "order": null,
            "_view_module_version": "1.2.0",
            "grid_template_areas": null,
            "object_position": null,
            "object_fit": null,
            "grid_auto_columns": null,
            "margin": null,
            "display": null,
            "left": null
          }
        },
        "ccffb61beecf40948b33fb0ce48b982a": {
          "model_module": "@jupyter-widgets/controls",
          "model_name": "DescriptionStyleModel",
          "state": {
            "_view_name": "StyleView",
            "_model_name": "DescriptionStyleModel",
            "description_width": "",
            "_view_module": "@jupyter-widgets/base",
            "_model_module_version": "1.5.0",
            "_view_count": null,
            "_view_module_version": "1.2.0",
            "_model_module": "@jupyter-widgets/controls"
          }
        },
        "43e95404b035471687dcdfef0ebbc2dd": {
          "model_module": "@jupyter-widgets/base",
          "model_name": "LayoutModel",
          "state": {
            "_view_name": "LayoutView",
            "grid_template_rows": null,
            "right": null,
            "justify_content": null,
            "_view_module": "@jupyter-widgets/base",
            "overflow": null,
            "_model_module_version": "1.2.0",
            "_view_count": null,
            "flex_flow": null,
            "width": null,
            "min_width": null,
            "border": null,
            "align_items": null,
            "bottom": null,
            "_model_module": "@jupyter-widgets/base",
            "top": null,
            "grid_column": null,
            "overflow_y": null,
            "overflow_x": null,
            "grid_auto_flow": null,
            "grid_area": null,
            "grid_template_columns": null,
            "flex": null,
            "_model_name": "LayoutModel",
            "justify_items": null,
            "grid_row": null,
            "max_height": null,
            "align_content": null,
            "visibility": null,
            "align_self": null,
            "height": null,
            "min_height": null,
            "padding": null,
            "grid_auto_rows": null,
            "grid_gap": null,
            "max_width": null,
            "order": null,
            "_view_module_version": "1.2.0",
            "grid_template_areas": null,
            "object_position": null,
            "object_fit": null,
            "grid_auto_columns": null,
            "margin": null,
            "display": null,
            "left": null
          }
        }
      }
    }
  },
  "cells": [
    {
      "cell_type": "markdown",
      "metadata": {
        "id": "view-in-github",
        "colab_type": "text"
      },
      "source": [
        "<a href=\"https://colab.research.google.com/github/AliAkbarBadri/topics-for-types/blob/main/types_with_topics.ipynb\" target=\"_parent\"><img src=\"https://colab.research.google.com/assets/colab-badge.svg\" alt=\"Open In Colab\"/></a>"
      ]
    },
    {
      "cell_type": "markdown",
      "metadata": {
        "id": "35118jEtNm5E"
      },
      "source": [
        "# Setup"
      ]
    },
    {
      "cell_type": "code",
      "metadata": {
        "id": "SJFNjxht1SE5",
        "outputId": "5d1b485d-9276-4960-f9f7-8c08bfcd479f",
        "colab": {
          "base_uri": "https://localhost:8080/"
        }
      },
      "source": [
        "! pip -q install laserembeddings\n",
        "! python -m laserembeddings download-models\n",
        "! pip -q install transformers\n",
        "! pip -q install parsivar"
      ],
      "execution_count": 1,
      "outputs": [
        {
          "output_type": "stream",
          "text": [
            "\u001b[K     |████████████████████████████████| 860kB 10.1MB/s \n",
            "\u001b[K     |████████████████████████████████| 51kB 8.6MB/s \n",
            "\u001b[?25h  Building wheel for sacremoses (setup.py) ... \u001b[?25l\u001b[?25hdone\n",
            "Downloading models into /usr/local/lib/python3.6/dist-packages/laserembeddings/data\n",
            "\n",
            "✅   Downloaded https://dl.fbaipublicfiles.com/laser/models/93langs.fcodes    \n",
            "✅   Downloaded https://dl.fbaipublicfiles.com/laser/models/93langs.fvocab    \n",
            "✅   Downloaded https://dl.fbaipublicfiles.com/laser/models/bilstm.93langs.2018-12-26.pt    \n",
            "\n",
            "✨ You're all set!\n",
            "\u001b[K     |████████████████████████████████| 1.3MB 10.6MB/s \n",
            "\u001b[K     |████████████████████████████████| 1.1MB 48.1MB/s \n",
            "\u001b[K     |████████████████████████████████| 2.9MB 54.3MB/s \n",
            "\u001b[K     |████████████████████████████████| 36.2MB 75kB/s \n",
            "\u001b[K     |████████████████████████████████| 1.5MB 53.3MB/s \n",
            "\u001b[?25h  Building wheel for parsivar (setup.py) ... \u001b[?25l\u001b[?25hdone\n",
            "  Building wheel for nltk (setup.py) ... \u001b[?25l\u001b[?25hdone\n"
          ],
          "name": "stdout"
        }
      ]
    },
    {
      "cell_type": "code",
      "metadata": {
        "id": "bxA_PSMaBhzU"
      },
      "source": [
        "import pandas as pd\n",
        "import numpy as np\n",
        "import numpy as np\n",
        "import matplotlib.pyplot as plt\n",
        "import os\n",
        "import tensorflow as tf\n",
        "import tensorflow_addons as tfa\n",
        "from tensorflow.keras.preprocessing.text import Tokenizer\n",
        "from tensorflow.keras.preprocessing.sequence import pad_sequences\n",
        "import torch\n",
        "from sklearn.model_selection import train_test_split\n",
        "from transformers import AutoConfig, AutoTokenizer, AutoModel\n",
        "from laserembeddings import Laser\n",
        "from parsivar import *\n",
        "from __future__ import unicode_literals"
      ],
      "execution_count": 2,
      "outputs": []
    },
    {
      "cell_type": "code",
      "metadata": {
        "id": "LCVAXfOLRn17",
        "outputId": "23583c95-98e4-4cbe-920c-c574e24a1cb0",
        "colab": {
          "base_uri": "https://localhost:8080/"
        }
      },
      "source": [
        "from google.colab import drive\n",
        "drive.mount('/content/drive')"
      ],
      "execution_count": 3,
      "outputs": [
        {
          "output_type": "stream",
          "text": [
            "Mounted at /content/drive\n"
          ],
          "name": "stdout"
        }
      ]
    },
    {
      "cell_type": "markdown",
      "metadata": {
        "id": "n07be6VRujZ7"
      },
      "source": [
        "# Read Topics"
      ]
    },
    {
      "cell_type": "code",
      "metadata": {
        "id": "ZwqIZdpFui1X",
        "outputId": "fc95f233-613e-4df4-b194-5784827e50a6",
        "colab": {
          "base_uri": "https://localhost:8080/",
          "height": 564
        }
      },
      "source": [
        "df_topics = pd.read_csv(\"/content/drive/My Drive/topics-for-types/df_topics.csv\")\n",
        "df_topics.head()"
      ],
      "execution_count": 19,
      "outputs": [
        {
          "output_type": "execute_result",
          "data": {
            "text/html": [
              "<div>\n",
              "<style scoped>\n",
              "    .dataframe tbody tr th:only-of-type {\n",
              "        vertical-align: middle;\n",
              "    }\n",
              "\n",
              "    .dataframe tbody tr th {\n",
              "        vertical-align: top;\n",
              "    }\n",
              "\n",
              "    .dataframe thead th {\n",
              "        text-align: right;\n",
              "    }\n",
              "</style>\n",
              "<table border=\"1\" class=\"dataframe\">\n",
              "  <thead>\n",
              "    <tr style=\"text-align: right;\">\n",
              "      <th></th>\n",
              "      <th>sentence</th>\n",
              "      <th>اقتصاد</th>\n",
              "      <th>بازی</th>\n",
              "      <th>برنامه‌نویسی</th>\n",
              "      <th>تحصیل</th>\n",
              "      <th>تغذیه</th>\n",
              "      <th>حقوق/قانون</th>\n",
              "      <th>حیوانات</th>\n",
              "      <th>خرید</th>\n",
              "      <th>روابط</th>\n",
              "      <th>روانشناسی</th>\n",
              "      <th>زبان</th>\n",
              "      <th>زیبایی</th>\n",
              "      <th>سرگرمی</th>\n",
              "      <th>سفر</th>\n",
              "      <th>سلامت</th>\n",
              "      <th>فنی</th>\n",
              "      <th>ماشین</th>\n",
              "      <th>مذهبی</th>\n",
              "      <th>ورزش</th>\n",
              "      <th>کار</th>\n",
              "      <th>کامپیوتر/موبایل</th>\n",
              "      <th>کودکان</th>\n",
              "      <th>گیاهان</th>\n",
              "    </tr>\n",
              "  </thead>\n",
              "  <tbody>\n",
              "    <tr>\n",
              "      <th>0</th>\n",
              "      <td>تفاوت ترمز عقب دیسکی و کاسه ای چیست؟</td>\n",
              "      <td>0</td>\n",
              "      <td>0</td>\n",
              "      <td>0</td>\n",
              "      <td>0</td>\n",
              "      <td>0</td>\n",
              "      <td>0</td>\n",
              "      <td>0</td>\n",
              "      <td>1</td>\n",
              "      <td>0</td>\n",
              "      <td>0</td>\n",
              "      <td>0</td>\n",
              "      <td>0</td>\n",
              "      <td>0</td>\n",
              "      <td>0</td>\n",
              "      <td>0</td>\n",
              "      <td>1</td>\n",
              "      <td>1</td>\n",
              "      <td>0</td>\n",
              "      <td>0</td>\n",
              "      <td>0</td>\n",
              "      <td>0</td>\n",
              "      <td>0</td>\n",
              "      <td>0</td>\n",
              "    </tr>\n",
              "    <tr>\n",
              "      <th>1</th>\n",
              "      <td>آیا ترمز ضدقفل ABS در همه چرخ ها عمل می کند؟</td>\n",
              "      <td>0</td>\n",
              "      <td>0</td>\n",
              "      <td>0</td>\n",
              "      <td>0</td>\n",
              "      <td>0</td>\n",
              "      <td>0</td>\n",
              "      <td>0</td>\n",
              "      <td>0</td>\n",
              "      <td>0</td>\n",
              "      <td>0</td>\n",
              "      <td>0</td>\n",
              "      <td>0</td>\n",
              "      <td>0</td>\n",
              "      <td>0</td>\n",
              "      <td>0</td>\n",
              "      <td>1</td>\n",
              "      <td>1</td>\n",
              "      <td>0</td>\n",
              "      <td>0</td>\n",
              "      <td>1</td>\n",
              "      <td>0</td>\n",
              "      <td>0</td>\n",
              "      <td>0</td>\n",
              "    </tr>\n",
              "    <tr>\n",
              "      <th>2</th>\n",
              "      <td>چرا باوجود نصب بودن ترمز ABS بر روی خودرو، ترم...</td>\n",
              "      <td>0</td>\n",
              "      <td>0</td>\n",
              "      <td>0</td>\n",
              "      <td>0</td>\n",
              "      <td>0</td>\n",
              "      <td>0</td>\n",
              "      <td>0</td>\n",
              "      <td>0</td>\n",
              "      <td>0</td>\n",
              "      <td>0</td>\n",
              "      <td>0</td>\n",
              "      <td>0</td>\n",
              "      <td>0</td>\n",
              "      <td>0</td>\n",
              "      <td>0</td>\n",
              "      <td>1</td>\n",
              "      <td>1</td>\n",
              "      <td>0</td>\n",
              "      <td>0</td>\n",
              "      <td>1</td>\n",
              "      <td>0</td>\n",
              "      <td>0</td>\n",
              "      <td>0</td>\n",
              "    </tr>\n",
              "    <tr>\n",
              "      <th>3</th>\n",
              "      <td>چرا با وجود نصب بودن Airbag بر روی خودرو، در ه...</td>\n",
              "      <td>0</td>\n",
              "      <td>0</td>\n",
              "      <td>0</td>\n",
              "      <td>0</td>\n",
              "      <td>0</td>\n",
              "      <td>0</td>\n",
              "      <td>0</td>\n",
              "      <td>0</td>\n",
              "      <td>0</td>\n",
              "      <td>0</td>\n",
              "      <td>0</td>\n",
              "      <td>0</td>\n",
              "      <td>0</td>\n",
              "      <td>0</td>\n",
              "      <td>0</td>\n",
              "      <td>1</td>\n",
              "      <td>1</td>\n",
              "      <td>0</td>\n",
              "      <td>0</td>\n",
              "      <td>1</td>\n",
              "      <td>0</td>\n",
              "      <td>0</td>\n",
              "      <td>0</td>\n",
              "    </tr>\n",
              "    <tr>\n",
              "      <th>4</th>\n",
              "      <td>کلاس های مختلف خودرو چگونه شناسایی می شوند؟</td>\n",
              "      <td>0</td>\n",
              "      <td>0</td>\n",
              "      <td>0</td>\n",
              "      <td>0</td>\n",
              "      <td>0</td>\n",
              "      <td>0</td>\n",
              "      <td>0</td>\n",
              "      <td>1</td>\n",
              "      <td>0</td>\n",
              "      <td>0</td>\n",
              "      <td>0</td>\n",
              "      <td>0</td>\n",
              "      <td>0</td>\n",
              "      <td>0</td>\n",
              "      <td>0</td>\n",
              "      <td>1</td>\n",
              "      <td>1</td>\n",
              "      <td>0</td>\n",
              "      <td>0</td>\n",
              "      <td>0</td>\n",
              "      <td>0</td>\n",
              "      <td>0</td>\n",
              "      <td>0</td>\n",
              "    </tr>\n",
              "  </tbody>\n",
              "</table>\n",
              "</div>"
            ],
            "text/plain": [
              "                                            sentence  اقتصاد  ...  کودکان  گیاهان\n",
              "0              تفاوت ترمز عقب دیسکی و کاسه ای چیست؟        0  ...       0       0\n",
              "1     آیا ترمز ضدقفل ABS در همه چرخ ها عمل می کند؟         0  ...       0       0\n",
              "2  چرا باوجود نصب بودن ترمز ABS بر روی خودرو، ترم...       0  ...       0       0\n",
              "3  چرا با وجود نصب بودن Airbag بر روی خودرو، در ه...       0  ...       0       0\n",
              "4       کلاس های مختلف خودرو چگونه شناسایی می شوند؟        0  ...       0       0\n",
              "\n",
              "[5 rows x 24 columns]"
            ]
          },
          "metadata": {
            "tags": []
          },
          "execution_count": 19
        }
      ]
    },
    {
      "cell_type": "code",
      "metadata": {
        "id": "Iy9SZUROzRxp",
        "outputId": "439cf448-2a85-4f2c-e3c9-d692f4b37c7a",
        "colab": {
          "base_uri": "https://localhost:8080/"
        }
      },
      "source": [
        "df_topics_np = df_topics[df_topics.columns[1:]].to_numpy()\n",
        "df_topics_np"
      ],
      "execution_count": 20,
      "outputs": [
        {
          "output_type": "execute_result",
          "data": {
            "text/plain": [
              "array([[0, 0, 0, ..., 0, 0, 0],\n",
              "       [0, 0, 0, ..., 0, 0, 0],\n",
              "       [0, 0, 0, ..., 0, 0, 0],\n",
              "       ...,\n",
              "       [0, 0, 0, ..., 0, 0, 0],\n",
              "       [0, 0, 0, ..., 0, 0, 0],\n",
              "       [0, 0, 0, ..., 0, 0, 0]])"
            ]
          },
          "metadata": {
            "tags": []
          },
          "execution_count": 20
        }
      ]
    },
    {
      "cell_type": "markdown",
      "metadata": {
        "id": "YOWqOnmkpowp"
      },
      "source": [
        "# LASER"
      ]
    },
    {
      "cell_type": "code",
      "metadata": {
        "id": "36sadEN82ZUu"
      },
      "source": [
        "laser = Laser()"
      ],
      "execution_count": 10,
      "outputs": []
    },
    {
      "cell_type": "code",
      "metadata": {
        "id": "lSQdhjdD8Osl",
        "outputId": "47167993-d88f-40dd-c505-273656215721",
        "colab": {
          "base_uri": "https://localhost:8080/",
          "height": 419
        }
      },
      "source": [
        "df_types_laser = pd.read_csv(\"/content/drive/My Drive/topics-for-types/df_types.csv\")\n",
        "df_types_laser['id'] = df_types_laser.index\n",
        "df_types_laser"
      ],
      "execution_count": 65,
      "outputs": [
        {
          "output_type": "execute_result",
          "data": {
            "text/html": [
              "<div>\n",
              "<style scoped>\n",
              "    .dataframe tbody tr th:only-of-type {\n",
              "        vertical-align: middle;\n",
              "    }\n",
              "\n",
              "    .dataframe tbody tr th {\n",
              "        vertical-align: top;\n",
              "    }\n",
              "\n",
              "    .dataframe thead th {\n",
              "        text-align: right;\n",
              "    }\n",
              "</style>\n",
              "<table border=\"1\" class=\"dataframe\">\n",
              "  <thead>\n",
              "    <tr style=\"text-align: right;\">\n",
              "      <th></th>\n",
              "      <th>sentence</th>\n",
              "      <th>انتخاب</th>\n",
              "      <th>بله/خیر</th>\n",
              "      <th>ترجمه</th>\n",
              "      <th>تعامل</th>\n",
              "      <th>تعریف</th>\n",
              "      <th>توضیح</th>\n",
              "      <th>دلیل</th>\n",
              "      <th>ریاضی</th>\n",
              "      <th>لیست</th>\n",
              "      <th>نظر</th>\n",
              "      <th>واقعیت</th>\n",
              "      <th>پیشنهاد</th>\n",
              "      <th>id</th>\n",
              "    </tr>\n",
              "  </thead>\n",
              "  <tbody>\n",
              "    <tr>\n",
              "      <th>0</th>\n",
              "      <td>تفاوت ترمز عقب دیسکی و کاسه ای چیست؟</td>\n",
              "      <td>0</td>\n",
              "      <td>0</td>\n",
              "      <td>0</td>\n",
              "      <td>0</td>\n",
              "      <td>1</td>\n",
              "      <td>1</td>\n",
              "      <td>0</td>\n",
              "      <td>0</td>\n",
              "      <td>0</td>\n",
              "      <td>1</td>\n",
              "      <td>0</td>\n",
              "      <td>0</td>\n",
              "      <td>0</td>\n",
              "    </tr>\n",
              "    <tr>\n",
              "      <th>1</th>\n",
              "      <td>آیا ترمز ضدقفل ABS در همه چرخ ها عمل می کند؟</td>\n",
              "      <td>0</td>\n",
              "      <td>1</td>\n",
              "      <td>0</td>\n",
              "      <td>0</td>\n",
              "      <td>0</td>\n",
              "      <td>1</td>\n",
              "      <td>0</td>\n",
              "      <td>0</td>\n",
              "      <td>0</td>\n",
              "      <td>1</td>\n",
              "      <td>0</td>\n",
              "      <td>0</td>\n",
              "      <td>1</td>\n",
              "    </tr>\n",
              "    <tr>\n",
              "      <th>2</th>\n",
              "      <td>چرا باوجود نصب بودن ترمز ABS بر روی خودرو، ترم...</td>\n",
              "      <td>0</td>\n",
              "      <td>0</td>\n",
              "      <td>0</td>\n",
              "      <td>0</td>\n",
              "      <td>0</td>\n",
              "      <td>1</td>\n",
              "      <td>1</td>\n",
              "      <td>0</td>\n",
              "      <td>0</td>\n",
              "      <td>1</td>\n",
              "      <td>0</td>\n",
              "      <td>0</td>\n",
              "      <td>2</td>\n",
              "    </tr>\n",
              "    <tr>\n",
              "      <th>3</th>\n",
              "      <td>چرا با وجود نصب بودن Airbag بر روی خودرو، در ه...</td>\n",
              "      <td>0</td>\n",
              "      <td>0</td>\n",
              "      <td>0</td>\n",
              "      <td>0</td>\n",
              "      <td>0</td>\n",
              "      <td>1</td>\n",
              "      <td>1</td>\n",
              "      <td>0</td>\n",
              "      <td>0</td>\n",
              "      <td>1</td>\n",
              "      <td>0</td>\n",
              "      <td>0</td>\n",
              "      <td>3</td>\n",
              "    </tr>\n",
              "    <tr>\n",
              "      <th>4</th>\n",
              "      <td>کلاس های مختلف خودرو چگونه شناسایی می شوند؟</td>\n",
              "      <td>0</td>\n",
              "      <td>0</td>\n",
              "      <td>0</td>\n",
              "      <td>0</td>\n",
              "      <td>1</td>\n",
              "      <td>0</td>\n",
              "      <td>0</td>\n",
              "      <td>0</td>\n",
              "      <td>1</td>\n",
              "      <td>1</td>\n",
              "      <td>0</td>\n",
              "      <td>0</td>\n",
              "      <td>4</td>\n",
              "    </tr>\n",
              "    <tr>\n",
              "      <th>...</th>\n",
              "      <td>...</td>\n",
              "      <td>...</td>\n",
              "      <td>...</td>\n",
              "      <td>...</td>\n",
              "      <td>...</td>\n",
              "      <td>...</td>\n",
              "      <td>...</td>\n",
              "      <td>...</td>\n",
              "      <td>...</td>\n",
              "      <td>...</td>\n",
              "      <td>...</td>\n",
              "      <td>...</td>\n",
              "      <td>...</td>\n",
              "      <td>...</td>\n",
              "    </tr>\n",
              "    <tr>\n",
              "      <th>2419</th>\n",
              "      <td>تاثیر قرص های لاغری چگونه است؟</td>\n",
              "      <td>0</td>\n",
              "      <td>0</td>\n",
              "      <td>0</td>\n",
              "      <td>0</td>\n",
              "      <td>0</td>\n",
              "      <td>1</td>\n",
              "      <td>0</td>\n",
              "      <td>0</td>\n",
              "      <td>0</td>\n",
              "      <td>0</td>\n",
              "      <td>0</td>\n",
              "      <td>0</td>\n",
              "      <td>2419</td>\n",
              "    </tr>\n",
              "    <tr>\n",
              "      <th>2420</th>\n",
              "      <td>عوارض قرص های لاغری در زمان بارداری چیست؟</td>\n",
              "      <td>0</td>\n",
              "      <td>0</td>\n",
              "      <td>0</td>\n",
              "      <td>0</td>\n",
              "      <td>0</td>\n",
              "      <td>1</td>\n",
              "      <td>0</td>\n",
              "      <td>0</td>\n",
              "      <td>1</td>\n",
              "      <td>0</td>\n",
              "      <td>0</td>\n",
              "      <td>0</td>\n",
              "      <td>2420</td>\n",
              "    </tr>\n",
              "    <tr>\n",
              "      <th>2421</th>\n",
              "      <td>برای آموزش سه تار چه متد هایی وجود دارد؟</td>\n",
              "      <td>0</td>\n",
              "      <td>0</td>\n",
              "      <td>0</td>\n",
              "      <td>0</td>\n",
              "      <td>0</td>\n",
              "      <td>0</td>\n",
              "      <td>0</td>\n",
              "      <td>0</td>\n",
              "      <td>1</td>\n",
              "      <td>0</td>\n",
              "      <td>0</td>\n",
              "      <td>0</td>\n",
              "      <td>2421</td>\n",
              "    </tr>\n",
              "    <tr>\n",
              "      <th>2422</th>\n",
              "      <td>آیا نواختن سه تار سخت است؟</td>\n",
              "      <td>0</td>\n",
              "      <td>1</td>\n",
              "      <td>0</td>\n",
              "      <td>0</td>\n",
              "      <td>0</td>\n",
              "      <td>0</td>\n",
              "      <td>0</td>\n",
              "      <td>0</td>\n",
              "      <td>0</td>\n",
              "      <td>0</td>\n",
              "      <td>0</td>\n",
              "      <td>0</td>\n",
              "      <td>2422</td>\n",
              "    </tr>\n",
              "    <tr>\n",
              "      <th>2423</th>\n",
              "      <td>شیوه آموزش برای ساز چگونه است؟ آیا در طی دوره ...</td>\n",
              "      <td>0</td>\n",
              "      <td>1</td>\n",
              "      <td>0</td>\n",
              "      <td>0</td>\n",
              "      <td>0</td>\n",
              "      <td>1</td>\n",
              "      <td>0</td>\n",
              "      <td>0</td>\n",
              "      <td>0</td>\n",
              "      <td>0</td>\n",
              "      <td>0</td>\n",
              "      <td>0</td>\n",
              "      <td>2423</td>\n",
              "    </tr>\n",
              "  </tbody>\n",
              "</table>\n",
              "<p>2424 rows × 14 columns</p>\n",
              "</div>"
            ],
            "text/plain": [
              "                                               sentence  انتخاب  ...  پیشنهاد    id\n",
              "0                 تفاوت ترمز عقب دیسکی و کاسه ای چیست؟        0  ...        0     0\n",
              "1        آیا ترمز ضدقفل ABS در همه چرخ ها عمل می کند؟         0  ...        0     1\n",
              "2     چرا باوجود نصب بودن ترمز ABS بر روی خودرو، ترم...       0  ...        0     2\n",
              "3     چرا با وجود نصب بودن Airbag بر روی خودرو، در ه...       0  ...        0     3\n",
              "4          کلاس های مختلف خودرو چگونه شناسایی می شوند؟        0  ...        0     4\n",
              "...                                                 ...     ...  ...      ...   ...\n",
              "2419                     تاثیر قرص های لاغری چگونه است؟       0  ...        0  2419\n",
              "2420          عوارض قرص های لاغری در زمان بارداری چیست؟       0  ...        0  2420\n",
              "2421           برای آموزش سه تار چه متد هایی وجود دارد؟       0  ...        0  2421\n",
              "2422                         آیا نواختن سه تار سخت است؟       0  ...        0  2422\n",
              "2423  شیوه آموزش برای ساز چگونه است؟ آیا در طی دوره ...       0  ...        0  2423\n",
              "\n",
              "[2424 rows x 14 columns]"
            ]
          },
          "metadata": {
            "tags": []
          },
          "execution_count": 65
        }
      ]
    },
    {
      "cell_type": "code",
      "metadata": {
        "id": "opZheLr-1fI6",
        "outputId": "e31b99db-8759-4eff-acc8-f97b45869852",
        "colab": {
          "base_uri": "https://localhost:8080/",
          "height": 204
        }
      },
      "source": [
        "df_types_laser['sentence'] = df_types_laser.apply(lambda row: np.concatenate((np.array(laser.embed_sentences(row.sentence, lang='fa')[0]), df_topics_np[row.id])), axis=1)\n",
        "df_types_laser = df_types_laser[df_types_laser.columns[:-1]]\n",
        "df_types_laser.head()"
      ],
      "execution_count": 67,
      "outputs": [
        {
          "output_type": "execute_result",
          "data": {
            "text/html": [
              "<div>\n",
              "<style scoped>\n",
              "    .dataframe tbody tr th:only-of-type {\n",
              "        vertical-align: middle;\n",
              "    }\n",
              "\n",
              "    .dataframe tbody tr th {\n",
              "        vertical-align: top;\n",
              "    }\n",
              "\n",
              "    .dataframe thead th {\n",
              "        text-align: right;\n",
              "    }\n",
              "</style>\n",
              "<table border=\"1\" class=\"dataframe\">\n",
              "  <thead>\n",
              "    <tr style=\"text-align: right;\">\n",
              "      <th></th>\n",
              "      <th>sentence</th>\n",
              "      <th>انتخاب</th>\n",
              "      <th>بله/خیر</th>\n",
              "      <th>ترجمه</th>\n",
              "      <th>تعامل</th>\n",
              "      <th>تعریف</th>\n",
              "      <th>توضیح</th>\n",
              "      <th>دلیل</th>\n",
              "      <th>ریاضی</th>\n",
              "      <th>لیست</th>\n",
              "      <th>نظر</th>\n",
              "      <th>واقعیت</th>\n",
              "      <th>پیشنهاد</th>\n",
              "    </tr>\n",
              "  </thead>\n",
              "  <tbody>\n",
              "    <tr>\n",
              "      <th>0</th>\n",
              "      <td>[0.02094222791492939, -8.114153752103448e-05, ...</td>\n",
              "      <td>0</td>\n",
              "      <td>0</td>\n",
              "      <td>0</td>\n",
              "      <td>0</td>\n",
              "      <td>1</td>\n",
              "      <td>1</td>\n",
              "      <td>0</td>\n",
              "      <td>0</td>\n",
              "      <td>0</td>\n",
              "      <td>1</td>\n",
              "      <td>0</td>\n",
              "      <td>0</td>\n",
              "    </tr>\n",
              "    <tr>\n",
              "      <th>1</th>\n",
              "      <td>[0.00867996271699667, 0.0027223487850278616, -...</td>\n",
              "      <td>0</td>\n",
              "      <td>1</td>\n",
              "      <td>0</td>\n",
              "      <td>0</td>\n",
              "      <td>0</td>\n",
              "      <td>1</td>\n",
              "      <td>0</td>\n",
              "      <td>0</td>\n",
              "      <td>0</td>\n",
              "      <td>1</td>\n",
              "      <td>0</td>\n",
              "      <td>0</td>\n",
              "    </tr>\n",
              "    <tr>\n",
              "      <th>2</th>\n",
              "      <td>[0.011158587411046028, 0.018385719507932663, -...</td>\n",
              "      <td>0</td>\n",
              "      <td>0</td>\n",
              "      <td>0</td>\n",
              "      <td>0</td>\n",
              "      <td>0</td>\n",
              "      <td>1</td>\n",
              "      <td>1</td>\n",
              "      <td>0</td>\n",
              "      <td>0</td>\n",
              "      <td>1</td>\n",
              "      <td>0</td>\n",
              "      <td>0</td>\n",
              "    </tr>\n",
              "    <tr>\n",
              "      <th>3</th>\n",
              "      <td>[0.009575149975717068, 0.013646436855196953, 7...</td>\n",
              "      <td>0</td>\n",
              "      <td>0</td>\n",
              "      <td>0</td>\n",
              "      <td>0</td>\n",
              "      <td>0</td>\n",
              "      <td>1</td>\n",
              "      <td>1</td>\n",
              "      <td>0</td>\n",
              "      <td>0</td>\n",
              "      <td>1</td>\n",
              "      <td>0</td>\n",
              "      <td>0</td>\n",
              "    </tr>\n",
              "    <tr>\n",
              "      <th>4</th>\n",
              "      <td>[0.027029111981391907, 0.002408454194664955, 0...</td>\n",
              "      <td>0</td>\n",
              "      <td>0</td>\n",
              "      <td>0</td>\n",
              "      <td>0</td>\n",
              "      <td>1</td>\n",
              "      <td>0</td>\n",
              "      <td>0</td>\n",
              "      <td>0</td>\n",
              "      <td>1</td>\n",
              "      <td>1</td>\n",
              "      <td>0</td>\n",
              "      <td>0</td>\n",
              "    </tr>\n",
              "  </tbody>\n",
              "</table>\n",
              "</div>"
            ],
            "text/plain": [
              "                                            sentence  انتخاب  ...  واقعیت  پیشنهاد\n",
              "0  [0.02094222791492939, -8.114153752103448e-05, ...       0  ...       0        0\n",
              "1  [0.00867996271699667, 0.0027223487850278616, -...       0  ...       0        0\n",
              "2  [0.011158587411046028, 0.018385719507932663, -...       0  ...       0        0\n",
              "3  [0.009575149975717068, 0.013646436855196953, 7...       0  ...       0        0\n",
              "4  [0.027029111981391907, 0.002408454194664955, 0...       0  ...       0        0\n",
              "\n",
              "[5 rows x 13 columns]"
            ]
          },
          "metadata": {
            "tags": []
          },
          "execution_count": 67
        }
      ]
    },
    {
      "cell_type": "code",
      "metadata": {
        "id": "zfS5i6JY5wtz",
        "outputId": "be8e4abb-a9f5-4947-f647-9d50621ca33b",
        "colab": {
          "base_uri": "https://localhost:8080/"
        }
      },
      "source": [
        "X = np.array(df_types_laser[df_types_laser.columns[0]])\n",
        "X = np.vstack(X)\n",
        "\n",
        "Y = df_types_laser[df_types_laser.columns[1:]].values\n",
        "n_class = Y.shape[1]\n",
        "X.shape, Y.shape"
      ],
      "execution_count": 70,
      "outputs": [
        {
          "output_type": "execute_result",
          "data": {
            "text/plain": [
              "((2424, 1047), (2424, 12))"
            ]
          },
          "metadata": {
            "tags": []
          },
          "execution_count": 70
        }
      ]
    },
    {
      "cell_type": "code",
      "metadata": {
        "id": "2dIU12_77FYS"
      },
      "source": [
        "X_train, X_test, y_train, y_test = train_test_split(X, Y, test_size=0.10)"
      ],
      "execution_count": 71,
      "outputs": []
    },
    {
      "cell_type": "code",
      "metadata": {
        "id": "FGgNLji77YUg",
        "outputId": "5929349b-ed4f-4afb-d66f-211b2ffd0f3e",
        "colab": {
          "base_uri": "https://localhost:8080/"
        }
      },
      "source": [
        "len(X_train),len(X_test),len(y_train),len(y_test)"
      ],
      "execution_count": 72,
      "outputs": [
        {
          "output_type": "execute_result",
          "data": {
            "text/plain": [
              "(2181, 243, 2181, 243)"
            ]
          },
          "metadata": {
            "tags": []
          },
          "execution_count": 72
        }
      ]
    },
    {
      "cell_type": "code",
      "metadata": {
        "id": "Ft6tF_ek3LQo",
        "outputId": "659afea9-0fa0-432b-8f42-0e5cc9696ba8",
        "colab": {
          "base_uri": "https://localhost:8080/"
        }
      },
      "source": [
        "model = tf.keras.Sequential([\n",
        "    tf.keras.layers.Input(shape=X[0].shape, name='input_layer'),\n",
        "    tf.keras.layers.Dense(100, activation='relu', name='Dense_Layer'),\n",
        "    tf.keras.layers.Dense(100, activation='relu', name='Dense_Layer2'),\n",
        "    tf.keras.layers.Dense(n_class, activation='sigmoid', name='Output'),\n",
        "  ], name='LASER_Model')\n",
        "\n",
        "model.compile(loss='binary_crossentropy', optimizer='adam', \n",
        "              metrics=['acc',\n",
        "                       tfa.metrics.f_scores.F1Score(n_class,'weighted', threshold=0.5, name='f1'),\n",
        "                       tfa.metrics.f_scores.F1Score(n_class,'macro',threshold=0.5, name='macro'),\n",
        "                       tfa.metrics.f_scores.F1Score(n_class,'micro',threshold=0.5, name='micro'),\n",
        "                       tfa.metrics.HammingLoss(mode='multilabel',threshold=0.5, name='hamloss')])\n",
        "print(model.summary())"
      ],
      "execution_count": 82,
      "outputs": [
        {
          "output_type": "stream",
          "text": [
            "Model: \"LASER_Model\"\n",
            "_________________________________________________________________\n",
            "Layer (type)                 Output Shape              Param #   \n",
            "=================================================================\n",
            "Dense_Layer (Dense)          (None, 100)               104800    \n",
            "_________________________________________________________________\n",
            "Dense_Layer2 (Dense)         (None, 100)               10100     \n",
            "_________________________________________________________________\n",
            "Output (Dense)               (None, 12)                1212      \n",
            "=================================================================\n",
            "Total params: 116,112\n",
            "Trainable params: 116,112\n",
            "Non-trainable params: 0\n",
            "_________________________________________________________________\n",
            "None\n"
          ],
          "name": "stdout"
        }
      ]
    },
    {
      "cell_type": "code",
      "metadata": {
        "id": "69rtCjqW7PeH",
        "outputId": "c0a7ebe2-d504-4cb9-9044-b7572653952e",
        "colab": {
          "base_uri": "https://localhost:8080/"
        }
      },
      "source": [
        "history = model.fit(X_train, y_train, batch_size=8, epochs=20, verbose=1, validation_split=0.2)"
      ],
      "execution_count": 83,
      "outputs": [
        {
          "output_type": "stream",
          "text": [
            "Epoch 1/20\n",
            "218/218 [==============================] - 1s 6ms/step - loss: 0.3197 - acc: 0.4713 - f1: 0.4422 - macro: 0.1311 - micro: 0.5503 - hamloss: 0.1218 - val_loss: 0.2514 - val_acc: 0.4805 - val_f1: 0.5414 - val_macro: 0.1650 - val_micro: 0.6376 - val_hamloss: 0.1014\n",
            "Epoch 2/20\n",
            "218/218 [==============================] - 1s 4ms/step - loss: 0.2379 - acc: 0.5384 - f1: 0.5956 - macro: 0.2065 - micro: 0.6751 - hamloss: 0.0956 - val_loss: 0.2178 - val_acc: 0.5606 - val_f1: 0.6231 - val_macro: 0.2303 - val_micro: 0.6987 - val_hamloss: 0.0871\n",
            "Epoch 3/20\n",
            "218/218 [==============================] - 1s 4ms/step - loss: 0.2075 - acc: 0.6674 - f1: 0.6555 - macro: 0.2540 - micro: 0.7214 - hamloss: 0.0824 - val_loss: 0.2088 - val_acc: 0.6522 - val_f1: 0.6693 - val_macro: 0.2716 - val_micro: 0.7265 - val_hamloss: 0.0837\n",
            "Epoch 4/20\n",
            "218/218 [==============================] - 1s 5ms/step - loss: 0.1913 - acc: 0.7013 - f1: 0.6855 - macro: 0.2855 - micro: 0.7425 - hamloss: 0.0766 - val_loss: 0.1924 - val_acc: 0.7300 - val_f1: 0.6890 - val_macro: 0.2946 - val_micro: 0.7406 - val_hamloss: 0.0753\n",
            "Epoch 5/20\n",
            "218/218 [==============================] - 1s 4ms/step - loss: 0.1782 - acc: 0.7047 - f1: 0.7184 - macro: 0.3344 - micro: 0.7595 - hamloss: 0.0722 - val_loss: 0.1860 - val_acc: 0.6911 - val_f1: 0.7107 - val_macro: 0.3233 - val_micro: 0.7511 - val_hamloss: 0.0738\n",
            "Epoch 6/20\n",
            "218/218 [==============================] - 1s 5ms/step - loss: 0.1657 - acc: 0.7213 - f1: 0.7501 - macro: 0.3762 - micro: 0.7822 - hamloss: 0.0660 - val_loss: 0.1789 - val_acc: 0.7437 - val_f1: 0.7253 - val_macro: 0.3403 - val_micro: 0.7579 - val_hamloss: 0.0702\n",
            "Epoch 7/20\n",
            "218/218 [==============================] - 1s 5ms/step - loss: 0.1529 - acc: 0.7133 - f1: 0.7783 - macro: 0.4080 - micro: 0.8033 - hamloss: 0.0604 - val_loss: 0.1762 - val_acc: 0.7185 - val_f1: 0.7379 - val_macro: 0.3614 - val_micro: 0.7625 - val_hamloss: 0.0696\n",
            "Epoch 8/20\n",
            "218/218 [==============================] - 1s 5ms/step - loss: 0.1435 - acc: 0.7259 - f1: 0.7970 - macro: 0.4322 - micro: 0.8189 - hamloss: 0.0559 - val_loss: 0.1704 - val_acc: 0.7506 - val_f1: 0.7400 - val_macro: 0.3638 - val_micro: 0.7726 - val_hamloss: 0.0677\n",
            "Epoch 9/20\n",
            "218/218 [==============================] - 1s 5ms/step - loss: 0.1320 - acc: 0.7311 - f1: 0.8120 - macro: 0.4469 - micro: 0.8324 - hamloss: 0.0520 - val_loss: 0.1690 - val_acc: 0.7506 - val_f1: 0.7466 - val_macro: 0.3692 - val_micro: 0.7762 - val_hamloss: 0.0667\n",
            "Epoch 10/20\n",
            "218/218 [==============================] - 1s 4ms/step - loss: 0.1235 - acc: 0.7299 - f1: 0.8268 - macro: 0.4710 - micro: 0.8452 - hamloss: 0.0482 - val_loss: 0.1691 - val_acc: 0.7323 - val_f1: 0.7470 - val_macro: 0.3691 - val_micro: 0.7724 - val_hamloss: 0.0692\n",
            "Epoch 11/20\n",
            "218/218 [==============================] - 1s 4ms/step - loss: 0.1148 - acc: 0.7219 - f1: 0.8417 - macro: 0.5062 - micro: 0.8570 - hamloss: 0.0447 - val_loss: 0.1689 - val_acc: 0.7162 - val_f1: 0.7580 - val_macro: 0.3897 - val_micro: 0.7789 - val_hamloss: 0.0688\n",
            "Epoch 12/20\n",
            "218/218 [==============================] - 1s 4ms/step - loss: 0.1057 - acc: 0.7294 - f1: 0.8569 - macro: 0.5274 - micro: 0.8704 - hamloss: 0.0408 - val_loss: 0.1765 - val_acc: 0.7231 - val_f1: 0.7638 - val_macro: 0.4064 - val_micro: 0.7835 - val_hamloss: 0.0662\n",
            "Epoch 13/20\n",
            "218/218 [==============================] - 1s 4ms/step - loss: 0.0984 - acc: 0.7236 - f1: 0.8671 - macro: 0.5456 - micro: 0.8798 - hamloss: 0.0378 - val_loss: 0.1740 - val_acc: 0.7231 - val_f1: 0.7669 - val_macro: 0.4138 - val_micro: 0.7886 - val_hamloss: 0.0650\n",
            "Epoch 14/20\n",
            "218/218 [==============================] - 1s 4ms/step - loss: 0.0885 - acc: 0.7236 - f1: 0.8837 - macro: 0.5787 - micro: 0.8952 - hamloss: 0.0330 - val_loss: 0.1790 - val_acc: 0.7117 - val_f1: 0.7530 - val_macro: 0.4161 - val_micro: 0.7713 - val_hamloss: 0.0675\n",
            "Epoch 15/20\n",
            "218/218 [==============================] - 1s 5ms/step - loss: 0.0806 - acc: 0.7248 - f1: 0.8953 - macro: 0.5870 - micro: 0.9043 - hamloss: 0.0301 - val_loss: 0.1808 - val_acc: 0.7162 - val_f1: 0.7623 - val_macro: 0.4170 - val_micro: 0.7797 - val_hamloss: 0.0662\n",
            "Epoch 16/20\n",
            "218/218 [==============================] - 1s 5ms/step - loss: 0.0717 - acc: 0.7219 - f1: 0.9107 - macro: 0.6388 - micro: 0.9180 - hamloss: 0.0261 - val_loss: 0.1885 - val_acc: 0.7094 - val_f1: 0.7593 - val_macro: 0.4161 - val_micro: 0.7772 - val_hamloss: 0.0664\n",
            "Epoch 17/20\n",
            "218/218 [==============================] - 1s 4ms/step - loss: 0.0658 - acc: 0.7173 - f1: 0.9205 - macro: 0.6712 - micro: 0.9261 - hamloss: 0.0235 - val_loss: 0.1877 - val_acc: 0.7094 - val_f1: 0.7631 - val_macro: 0.4196 - val_micro: 0.7795 - val_hamloss: 0.0681\n",
            "Epoch 18/20\n",
            "218/218 [==============================] - 1s 5ms/step - loss: 0.0571 - acc: 0.7351 - f1: 0.9386 - macro: 0.7194 - micro: 0.9426 - hamloss: 0.0183 - val_loss: 0.1977 - val_acc: 0.6819 - val_f1: 0.7759 - val_macro: 0.4799 - val_micro: 0.7875 - val_hamloss: 0.0664\n",
            "Epoch 19/20\n",
            "218/218 [==============================] - 1s 5ms/step - loss: 0.0510 - acc: 0.7271 - f1: 0.9487 - macro: 0.7571 - micro: 0.9518 - hamloss: 0.0154 - val_loss: 0.2062 - val_acc: 0.6865 - val_f1: 0.7651 - val_macro: 0.4689 - val_micro: 0.7736 - val_hamloss: 0.0719\n",
            "Epoch 20/20\n",
            "218/218 [==============================] - 1s 4ms/step - loss: 0.0442 - acc: 0.7208 - f1: 0.9574 - macro: 0.7638 - micro: 0.9599 - hamloss: 0.0128 - val_loss: 0.2116 - val_acc: 0.6934 - val_f1: 0.7724 - val_macro: 0.4815 - val_micro: 0.7819 - val_hamloss: 0.0679\n"
          ],
          "name": "stdout"
        }
      ]
    },
    {
      "cell_type": "code",
      "metadata": {
        "id": "YiK0QiVIxmkW",
        "outputId": "de23986d-7993-4304-d8bc-7d5be1b85ea6",
        "colab": {
          "base_uri": "https://localhost:8080/"
        }
      },
      "source": [
        "score = model.evaluate(X_test, y_test, verbose=1)"
      ],
      "execution_count": 84,
      "outputs": [
        {
          "output_type": "stream",
          "text": [
            "8/8 [==============================] - 0s 3ms/step - loss: 0.1874 - acc: 0.6667 - f1: 0.7754 - macro: 0.4297 - micro: 0.7817 - hamloss: 0.0672\n"
          ],
          "name": "stdout"
        }
      ]
    },
    {
      "cell_type": "code",
      "metadata": {
        "id": "6o8p6HcnhLET",
        "outputId": "83916548-323c-41b0-96d9-79cb725143cf",
        "colab": {
          "base_uri": "https://localhost:8080/",
          "height": 573
        }
      },
      "source": [
        "import matplotlib.pyplot as plt\n",
        "\n",
        "plt.plot(history.history['acc'])\n",
        "plt.plot(history.history['val_acc'])\n",
        "\n",
        "plt.title('model accuracy')\n",
        "plt.ylabel('accuracy')\n",
        "plt.xlabel('epoch')\n",
        "plt.legend(['train','test'], loc='upper left')\n",
        "plt.show()\n",
        "\n",
        "plt.plot(history.history['loss'])\n",
        "plt.plot(history.history['val_loss'])\n",
        "\n",
        "plt.title('model loss')\n",
        "plt.ylabel('loss')\n",
        "plt.xlabel('epoch')\n",
        "plt.legend(['train','test'], loc='upper left')\n",
        "plt.show()"
      ],
      "execution_count": 85,
      "outputs": [
        {
          "output_type": "display_data",
          "data": {
            "image/png": "[encoded data removed]",
            "text/plain": [
              "<Figure size 432x288 with 1 Axes>"
            ]
          },
          "metadata": {
            "tags": [],
            "needs_background": "light"
          }
        },
        {
          "output_type": "display_data",
          "data": {
            "image/png": "[encoded data removed]",
            "text/plain": [
              "<Figure size 432x288 with 1 Axes>"
            ]
          },
          "metadata": {
            "tags": [],
            "needs_background": "light"
          }
        }
      ]
    },
    {
      "cell_type": "markdown",
      "metadata": {
        "id": "qQnFh-sk7LQB"
      },
      "source": [
        "# ALBERT"
      ]
    },
    {
      "cell_type": "code",
      "metadata": {
        "id": "1mhm9Px77LQN",
        "outputId": "f9a7e50d-7fef-4c74-98c1-cf78fcdd0f29",
        "colab": {
          "base_uri": "https://localhost:8080/",
          "height": 164,
          "referenced_widgets": [
            "30b147f13d1e4f4bb55e34e9855e539f",
            "a2f8b4979bea4c84a6a490de3192524a",
            "ca867b6b33954119b9450d0f86a33f93",
            "a6f2c4e0d7244eb89b404d40ffe4b8cf",
            "63ec15bf1c1245b18fe043101e91e9a3",
            "bc016e85e44341de9ec42b5847d8f2d0",
            "e21534bbd5e947d7858cc1d789cfcc8b",
            "79d9e81062a24663b367af957b0e0bc4",
            "eb6174e18802436a958fcaa2b8c01c8c",
            "516b3a1e2bf54b4f82e1bc43f7ceb767",
            "2998637fcca24997acc0bf22f3612241",
            "9794bea1454f4be88e40d4f080fbdec3",
            "b896c62891f34fb5be02539042d0edb6",
            "518e436f18754180a59f248375907815",
            "d718e86396a545188c665828c21810d1",
            "baed7ef2e2fc4383b6f04efd21571579",
            "79e32da277f84e4c9471fda4dd72bf07",
            "f0012fefc60149f3b09f9023e5ac9148",
            "c2737d4c3b874513b7be02d6069a8280",
            "e20af57f4e71453f8e60d08f8e5f5c0e",
            "2817a67688984e958eead64aec6b1f88",
            "8f4847954da24a2f91f8c89a61472d9b",
            "ed7625203a724170963cada86474e8e3",
            "d88c8f8c6a884cbdb23cad7446e48ad2"
          ]
        }
      },
      "source": [
        "# config = AutoConfig.from_pretrained(\"m3hrdadfi/albert-fa-base-v2\")\n",
        "# tokenizer = AutoTokenizer.from_pretrained(\"m3hrdadfi/albert-fa-base-v2\")\n",
        "# bert_model = AutoModel.from_pretrained(\"m3hrdadfi/albert-fa-base-v2\")"
      ],
      "execution_count": 86,
      "outputs": [
        {
          "output_type": "display_data",
          "data": {
            "application/vnd.jupyter.widget-view+json": {
              "model_id": "30b147f13d1e4f4bb55e34e9855e539f",
              "version_minor": 0,
              "version_major": 2
            },
            "text/plain": [
              "HBox(children=(FloatProgress(value=0.0, description='Downloading', max=684.0, style=ProgressStyle(description_…"
            ]
          },
          "metadata": {
            "tags": []
          }
        },
        {
          "output_type": "stream",
          "text": [
            "\n"
          ],
          "name": "stdout"
        },
        {
          "output_type": "display_data",
          "data": {
            "application/vnd.jupyter.widget-view+json": {
              "model_id": "eb6174e18802436a958fcaa2b8c01c8c",
              "version_minor": 0,
              "version_major": 2
            },
            "text/plain": [
              "HBox(children=(FloatProgress(value=0.0, description='Downloading', max=1882978.0, style=ProgressStyle(descript…"
            ]
          },
          "metadata": {
            "tags": []
          }
        },
        {
          "output_type": "stream",
          "text": [
            "\n"
          ],
          "name": "stdout"
        },
        {
          "output_type": "display_data",
          "data": {
            "application/vnd.jupyter.widget-view+json": {
              "model_id": "79e32da277f84e4c9471fda4dd72bf07",
              "version_minor": 0,
              "version_major": 2
            },
            "text/plain": [
              "HBox(children=(FloatProgress(value=0.0, description='Downloading', max=73062448.0, style=ProgressStyle(descrip…"
            ]
          },
          "metadata": {
            "tags": []
          }
        },
        {
          "output_type": "stream",
          "text": [
            "\n"
          ],
          "name": "stdout"
        }
      ]
    },
    {
      "cell_type": "code",
      "metadata": {
        "id": "wOiozxD9kqRH"
      },
      "source": [
        "# def get_embedding(sent):\n",
        "#     input_sentence = torch.tensor(tokenizer.encode(sent, max_length = 500)).unsqueeze(0)\n",
        "#     out = bert_model(input_sentence)\n",
        "#     embeddings_of_last_layer = out[0]\n",
        "#     cls_embeddings = embeddings_of_last_layer[0][0]\n",
        "#     cls_embeddings = cls_embeddings.detach().numpy()\n",
        "#     return cls_embeddings"
      ],
      "execution_count": null,
      "outputs": []
    },
    {
      "cell_type": "code",
      "metadata": {
        "id": "jVAQVz_-7LQd"
      },
      "source": [
        "# df_types_bert = pd.read_csv(\"/content/drive/My Drive/topics-for-types/df_types.csv\")"
      ],
      "execution_count": null,
      "outputs": []
    },
    {
      "cell_type": "code",
      "metadata": {
        "id": "_dJnPuA97LQl",
        "outputId": "6b042228-2099-4636-fd4a-d73516e37812",
        "colab": {
          "base_uri": "https://localhost:8080/",
          "height": 204
        }
      },
      "source": [
        "# df_types_bert['sentence'] = df_types_bert['sentence'].apply(lambda sent: get_embedding(sent))\n",
        "# df_types_bert.to_csv(\"/content/drive/My Drive/topics-for-types/df_types_bert.csv\", index=False)\n",
        "# df_types_bert.head()"
      ],
      "execution_count": null,
      "outputs": [
        {
          "output_type": "execute_result",
          "data": {
            "text/html": [
              "<div>\n",
              "<style scoped>\n",
              "    .dataframe tbody tr th:only-of-type {\n",
              "        vertical-align: middle;\n",
              "    }\n",
              "\n",
              "    .dataframe tbody tr th {\n",
              "        vertical-align: top;\n",
              "    }\n",
              "\n",
              "    .dataframe thead th {\n",
              "        text-align: right;\n",
              "    }\n",
              "</style>\n",
              "<table border=\"1\" class=\"dataframe\">\n",
              "  <thead>\n",
              "    <tr style=\"text-align: right;\">\n",
              "      <th></th>\n",
              "      <th>sentence</th>\n",
              "      <th>انتخاب</th>\n",
              "      <th>بله/خیر</th>\n",
              "      <th>ترجمه</th>\n",
              "      <th>تعامل</th>\n",
              "      <th>تعریف</th>\n",
              "      <th>توضیح</th>\n",
              "      <th>دلیل</th>\n",
              "      <th>ریاضی</th>\n",
              "      <th>لیست</th>\n",
              "      <th>نظر</th>\n",
              "      <th>واقعیت</th>\n",
              "      <th>پیشنهاد</th>\n",
              "    </tr>\n",
              "  </thead>\n",
              "  <tbody>\n",
              "    <tr>\n",
              "      <th>0</th>\n",
              "      <td>[-0.5841074, -0.017078003, -0.32405344, -0.645...</td>\n",
              "      <td>0</td>\n",
              "      <td>0</td>\n",
              "      <td>0</td>\n",
              "      <td>0</td>\n",
              "      <td>1</td>\n",
              "      <td>1</td>\n",
              "      <td>0</td>\n",
              "      <td>0</td>\n",
              "      <td>0</td>\n",
              "      <td>1</td>\n",
              "      <td>0</td>\n",
              "      <td>0</td>\n",
              "    </tr>\n",
              "    <tr>\n",
              "      <th>1</th>\n",
              "      <td>[-0.31120673, -0.0050979797, 0.10509731, -0.36...</td>\n",
              "      <td>0</td>\n",
              "      <td>1</td>\n",
              "      <td>0</td>\n",
              "      <td>0</td>\n",
              "      <td>0</td>\n",
              "      <td>1</td>\n",
              "      <td>0</td>\n",
              "      <td>0</td>\n",
              "      <td>0</td>\n",
              "      <td>1</td>\n",
              "      <td>0</td>\n",
              "      <td>0</td>\n",
              "    </tr>\n",
              "    <tr>\n",
              "      <th>2</th>\n",
              "      <td>[0.05544515, -0.23301096, 0.12021764, -0.33959...</td>\n",
              "      <td>0</td>\n",
              "      <td>0</td>\n",
              "      <td>0</td>\n",
              "      <td>0</td>\n",
              "      <td>0</td>\n",
              "      <td>1</td>\n",
              "      <td>1</td>\n",
              "      <td>0</td>\n",
              "      <td>0</td>\n",
              "      <td>1</td>\n",
              "      <td>0</td>\n",
              "      <td>0</td>\n",
              "    </tr>\n",
              "    <tr>\n",
              "      <th>3</th>\n",
              "      <td>[0.37881416, -0.1909234, 0.16427912, -0.383240...</td>\n",
              "      <td>0</td>\n",
              "      <td>0</td>\n",
              "      <td>0</td>\n",
              "      <td>0</td>\n",
              "      <td>0</td>\n",
              "      <td>1</td>\n",
              "      <td>1</td>\n",
              "      <td>0</td>\n",
              "      <td>0</td>\n",
              "      <td>1</td>\n",
              "      <td>0</td>\n",
              "      <td>0</td>\n",
              "    </tr>\n",
              "    <tr>\n",
              "      <th>4</th>\n",
              "      <td>[-0.46968994, -0.2401005, 0.20189604, -0.20498...</td>\n",
              "      <td>0</td>\n",
              "      <td>0</td>\n",
              "      <td>0</td>\n",
              "      <td>0</td>\n",
              "      <td>1</td>\n",
              "      <td>0</td>\n",
              "      <td>0</td>\n",
              "      <td>0</td>\n",
              "      <td>1</td>\n",
              "      <td>1</td>\n",
              "      <td>0</td>\n",
              "      <td>0</td>\n",
              "    </tr>\n",
              "  </tbody>\n",
              "</table>\n",
              "</div>"
            ],
            "text/plain": [
              "                                            sentence  انتخاب  ...  واقعیت  پیشنهاد\n",
              "0  [-0.5841074, -0.017078003, -0.32405344, -0.645...       0  ...       0        0\n",
              "1  [-0.31120673, -0.0050979797, 0.10509731, -0.36...       0  ...       0        0\n",
              "2  [0.05544515, -0.23301096, 0.12021764, -0.33959...       0  ...       0        0\n",
              "3  [0.37881416, -0.1909234, 0.16427912, -0.383240...       0  ...       0        0\n",
              "4  [-0.46968994, -0.2401005, 0.20189604, -0.20498...       0  ...       0        0\n",
              "\n",
              "[5 rows x 13 columns]"
            ]
          },
          "metadata": {
            "tags": []
          },
          "execution_count": 90
        }
      ]
    },
    {
      "cell_type": "code",
      "metadata": {
        "id": "ipJXyeK_onoh",
        "outputId": "5f6952cc-6b7c-4efd-8c3c-d0f75212ec26",
        "colab": {
          "base_uri": "https://localhost:8080/",
          "height": 204
        }
      },
      "source": [
        "df_types_albert = pd.read_csv(\"/content/drive/My Drive/topics-for-types/df_types_albert.csv\")\n",
        "df_types_albert['sentence'] = df_types_albert['sentence'].apply(lambda x: \n",
        "                           np.fromstring(\n",
        "                               x.replace('\\n','')\n",
        "                                .replace('[','')\n",
        "                                .replace(']','')\n",
        "                                .replace('  ',' '), sep=' '))\n",
        "df_types_albert['id'] = df_types_albert.index\n",
        "df_types_albert.head()"
      ],
      "execution_count": 89,
      "outputs": [
        {
          "output_type": "execute_result",
          "data": {
            "text/html": [
              "<div>\n",
              "<style scoped>\n",
              "    .dataframe tbody tr th:only-of-type {\n",
              "        vertical-align: middle;\n",
              "    }\n",
              "\n",
              "    .dataframe tbody tr th {\n",
              "        vertical-align: top;\n",
              "    }\n",
              "\n",
              "    .dataframe thead th {\n",
              "        text-align: right;\n",
              "    }\n",
              "</style>\n",
              "<table border=\"1\" class=\"dataframe\">\n",
              "  <thead>\n",
              "    <tr style=\"text-align: right;\">\n",
              "      <th></th>\n",
              "      <th>sentence</th>\n",
              "      <th>انتخاب</th>\n",
              "      <th>بله/خیر</th>\n",
              "      <th>ترجمه</th>\n",
              "      <th>تعامل</th>\n",
              "      <th>تعریف</th>\n",
              "      <th>توضیح</th>\n",
              "      <th>دلیل</th>\n",
              "      <th>ریاضی</th>\n",
              "      <th>لیست</th>\n",
              "      <th>نظر</th>\n",
              "      <th>واقعیت</th>\n",
              "      <th>پیشنهاد</th>\n",
              "      <th>id</th>\n",
              "    </tr>\n",
              "  </thead>\n",
              "  <tbody>\n",
              "    <tr>\n",
              "      <th>0</th>\n",
              "      <td>[-0.584107399, -0.0170780029, -0.324053437, -0...</td>\n",
              "      <td>0</td>\n",
              "      <td>0</td>\n",
              "      <td>0</td>\n",
              "      <td>0</td>\n",
              "      <td>1</td>\n",
              "      <td>1</td>\n",
              "      <td>0</td>\n",
              "      <td>0</td>\n",
              "      <td>0</td>\n",
              "      <td>1</td>\n",
              "      <td>0</td>\n",
              "      <td>0</td>\n",
              "      <td>0</td>\n",
              "    </tr>\n",
              "    <tr>\n",
              "      <th>1</th>\n",
              "      <td>[-0.311206728, -0.00509797968, 0.105097309, -0...</td>\n",
              "      <td>0</td>\n",
              "      <td>1</td>\n",
              "      <td>0</td>\n",
              "      <td>0</td>\n",
              "      <td>0</td>\n",
              "      <td>1</td>\n",
              "      <td>0</td>\n",
              "      <td>0</td>\n",
              "      <td>0</td>\n",
              "      <td>1</td>\n",
              "      <td>0</td>\n",
              "      <td>0</td>\n",
              "      <td>1</td>\n",
              "    </tr>\n",
              "    <tr>\n",
              "      <th>2</th>\n",
              "      <td>[0.0554451495, -0.233010963, 0.120217644, -0.3...</td>\n",
              "      <td>0</td>\n",
              "      <td>0</td>\n",
              "      <td>0</td>\n",
              "      <td>0</td>\n",
              "      <td>0</td>\n",
              "      <td>1</td>\n",
              "      <td>1</td>\n",
              "      <td>0</td>\n",
              "      <td>0</td>\n",
              "      <td>1</td>\n",
              "      <td>0</td>\n",
              "      <td>0</td>\n",
              "      <td>2</td>\n",
              "    </tr>\n",
              "    <tr>\n",
              "      <th>3</th>\n",
              "      <td>[0.378814161, -0.190923393, 0.164279118, -0.38...</td>\n",
              "      <td>0</td>\n",
              "      <td>0</td>\n",
              "      <td>0</td>\n",
              "      <td>0</td>\n",
              "      <td>0</td>\n",
              "      <td>1</td>\n",
              "      <td>1</td>\n",
              "      <td>0</td>\n",
              "      <td>0</td>\n",
              "      <td>1</td>\n",
              "      <td>0</td>\n",
              "      <td>0</td>\n",
              "      <td>3</td>\n",
              "    </tr>\n",
              "    <tr>\n",
              "      <th>4</th>\n",
              "      <td>[-0.469689935, -0.240100503, 0.201896042, -0.2...</td>\n",
              "      <td>0</td>\n",
              "      <td>0</td>\n",
              "      <td>0</td>\n",
              "      <td>0</td>\n",
              "      <td>1</td>\n",
              "      <td>0</td>\n",
              "      <td>0</td>\n",
              "      <td>0</td>\n",
              "      <td>1</td>\n",
              "      <td>1</td>\n",
              "      <td>0</td>\n",
              "      <td>0</td>\n",
              "      <td>4</td>\n",
              "    </tr>\n",
              "  </tbody>\n",
              "</table>\n",
              "</div>"
            ],
            "text/plain": [
              "                                            sentence  انتخاب  ...  پیشنهاد  id\n",
              "0  [-0.584107399, -0.0170780029, -0.324053437, -0...       0  ...        0   0\n",
              "1  [-0.311206728, -0.00509797968, 0.105097309, -0...       0  ...        0   1\n",
              "2  [0.0554451495, -0.233010963, 0.120217644, -0.3...       0  ...        0   2\n",
              "3  [0.378814161, -0.190923393, 0.164279118, -0.38...       0  ...        0   3\n",
              "4  [-0.469689935, -0.240100503, 0.201896042, -0.2...       0  ...        0   4\n",
              "\n",
              "[5 rows x 14 columns]"
            ]
          },
          "metadata": {
            "tags": []
          },
          "execution_count": 89
        }
      ]
    },
    {
      "cell_type": "code",
      "metadata": {
        "id": "FwAUQv3DDAYr",
        "outputId": "50e75646-42f3-4523-8b71-6cd59f44e075",
        "colab": {
          "base_uri": "https://localhost:8080/",
          "height": 204
        }
      },
      "source": [
        "df_types_albert['sentence'] = df_types_albert.apply(lambda row: np.concatenate((row.sentence, df_topics_np[row.id])), axis=1)\n",
        "df_types_albert = df_types_albert[df_types_albert.columns[:-1]]\n",
        "df_types_albert.head()"
      ],
      "execution_count": 91,
      "outputs": [
        {
          "output_type": "execute_result",
          "data": {
            "text/html": [
              "<div>\n",
              "<style scoped>\n",
              "    .dataframe tbody tr th:only-of-type {\n",
              "        vertical-align: middle;\n",
              "    }\n",
              "\n",
              "    .dataframe tbody tr th {\n",
              "        vertical-align: top;\n",
              "    }\n",
              "\n",
              "    .dataframe thead th {\n",
              "        text-align: right;\n",
              "    }\n",
              "</style>\n",
              "<table border=\"1\" class=\"dataframe\">\n",
              "  <thead>\n",
              "    <tr style=\"text-align: right;\">\n",
              "      <th></th>\n",
              "      <th>sentence</th>\n",
              "      <th>انتخاب</th>\n",
              "      <th>بله/خیر</th>\n",
              "      <th>ترجمه</th>\n",
              "      <th>تعامل</th>\n",
              "      <th>تعریف</th>\n",
              "      <th>توضیح</th>\n",
              "      <th>دلیل</th>\n",
              "      <th>ریاضی</th>\n",
              "      <th>لیست</th>\n",
              "      <th>نظر</th>\n",
              "      <th>واقعیت</th>\n",
              "      <th>پیشنهاد</th>\n",
              "    </tr>\n",
              "  </thead>\n",
              "  <tbody>\n",
              "    <tr>\n",
              "      <th>0</th>\n",
              "      <td>[-0.584107399, -0.0170780029, -0.324053437, -0...</td>\n",
              "      <td>0</td>\n",
              "      <td>0</td>\n",
              "      <td>0</td>\n",
              "      <td>0</td>\n",
              "      <td>1</td>\n",
              "      <td>1</td>\n",
              "      <td>0</td>\n",
              "      <td>0</td>\n",
              "      <td>0</td>\n",
              "      <td>1</td>\n",
              "      <td>0</td>\n",
              "      <td>0</td>\n",
              "    </tr>\n",
              "    <tr>\n",
              "      <th>1</th>\n",
              "      <td>[-0.311206728, -0.00509797968, 0.105097309, -0...</td>\n",
              "      <td>0</td>\n",
              "      <td>1</td>\n",
              "      <td>0</td>\n",
              "      <td>0</td>\n",
              "      <td>0</td>\n",
              "      <td>1</td>\n",
              "      <td>0</td>\n",
              "      <td>0</td>\n",
              "      <td>0</td>\n",
              "      <td>1</td>\n",
              "      <td>0</td>\n",
              "      <td>0</td>\n",
              "    </tr>\n",
              "    <tr>\n",
              "      <th>2</th>\n",
              "      <td>[0.0554451495, -0.233010963, 0.120217644, -0.3...</td>\n",
              "      <td>0</td>\n",
              "      <td>0</td>\n",
              "      <td>0</td>\n",
              "      <td>0</td>\n",
              "      <td>0</td>\n",
              "      <td>1</td>\n",
              "      <td>1</td>\n",
              "      <td>0</td>\n",
              "      <td>0</td>\n",
              "      <td>1</td>\n",
              "      <td>0</td>\n",
              "      <td>0</td>\n",
              "    </tr>\n",
              "    <tr>\n",
              "      <th>3</th>\n",
              "      <td>[0.378814161, -0.190923393, 0.164279118, -0.38...</td>\n",
              "      <td>0</td>\n",
              "      <td>0</td>\n",
              "      <td>0</td>\n",
              "      <td>0</td>\n",
              "      <td>0</td>\n",
              "      <td>1</td>\n",
              "      <td>1</td>\n",
              "      <td>0</td>\n",
              "      <td>0</td>\n",
              "      <td>1</td>\n",
              "      <td>0</td>\n",
              "      <td>0</td>\n",
              "    </tr>\n",
              "    <tr>\n",
              "      <th>4</th>\n",
              "      <td>[-0.469689935, -0.240100503, 0.201896042, -0.2...</td>\n",
              "      <td>0</td>\n",
              "      <td>0</td>\n",
              "      <td>0</td>\n",
              "      <td>0</td>\n",
              "      <td>1</td>\n",
              "      <td>0</td>\n",
              "      <td>0</td>\n",
              "      <td>0</td>\n",
              "      <td>1</td>\n",
              "      <td>1</td>\n",
              "      <td>0</td>\n",
              "      <td>0</td>\n",
              "    </tr>\n",
              "  </tbody>\n",
              "</table>\n",
              "</div>"
            ],
            "text/plain": [
              "                                            sentence  انتخاب  ...  واقعیت  پیشنهاد\n",
              "0  [-0.584107399, -0.0170780029, -0.324053437, -0...       0  ...       0        0\n",
              "1  [-0.311206728, -0.00509797968, 0.105097309, -0...       0  ...       0        0\n",
              "2  [0.0554451495, -0.233010963, 0.120217644, -0.3...       0  ...       0        0\n",
              "3  [0.378814161, -0.190923393, 0.164279118, -0.38...       0  ...       0        0\n",
              "4  [-0.469689935, -0.240100503, 0.201896042, -0.2...       0  ...       0        0\n",
              "\n",
              "[5 rows x 13 columns]"
            ]
          },
          "metadata": {
            "tags": []
          },
          "execution_count": 91
        }
      ]
    },
    {
      "cell_type": "code",
      "metadata": {
        "id": "ewRFYMGaDYcN",
        "outputId": "76da0c19-a744-4fec-97a5-95ca8f2d2707",
        "colab": {
          "base_uri": "https://localhost:8080/"
        }
      },
      "source": [
        "len(df_types_albert.loc[0].sentence)"
      ],
      "execution_count": 92,
      "outputs": [
        {
          "output_type": "execute_result",
          "data": {
            "text/plain": [
              "791"
            ]
          },
          "metadata": {
            "tags": []
          },
          "execution_count": 92
        }
      ]
    },
    {
      "cell_type": "code",
      "metadata": {
        "id": "peiiVocu7LQq",
        "outputId": "e660ed39-05f2-48df-ce38-46588511ba2f",
        "colab": {
          "base_uri": "https://localhost:8080/"
        }
      },
      "source": [
        "X = np.array(df_types_albert[df_types_albert.columns[0]])\n",
        "X = np.vstack(X)\n",
        "\n",
        "Y = df_types_albert[df_types_albert.columns[1:]].values\n",
        "\n",
        "X.shape, Y.shape"
      ],
      "execution_count": 93,
      "outputs": [
        {
          "output_type": "execute_result",
          "data": {
            "text/plain": [
              "((2424, 791), (2424, 12))"
            ]
          },
          "metadata": {
            "tags": []
          },
          "execution_count": 93
        }
      ]
    },
    {
      "cell_type": "code",
      "metadata": {
        "id": "F40dV3XV7LQt"
      },
      "source": [
        "X_train, X_test, y_train, y_test = train_test_split(X, Y, test_size=0.10)"
      ],
      "execution_count": 94,
      "outputs": []
    },
    {
      "cell_type": "code",
      "metadata": {
        "id": "PoDo8cwa7LQv",
        "outputId": "605c2214-2888-4f56-ad09-f587d3d9010a",
        "colab": {
          "base_uri": "https://localhost:8080/"
        }
      },
      "source": [
        "len(X_train),len(X_test),len(y_train),len(y_test)"
      ],
      "execution_count": 95,
      "outputs": [
        {
          "output_type": "execute_result",
          "data": {
            "text/plain": [
              "(2181, 243, 2181, 243)"
            ]
          },
          "metadata": {
            "tags": []
          },
          "execution_count": 95
        }
      ]
    },
    {
      "cell_type": "code",
      "metadata": {
        "id": "-6VNFGrx7LQ1",
        "outputId": "4bcee6f4-9718-4d67-9519-6a9a82dd67e3",
        "colab": {
          "base_uri": "https://localhost:8080/"
        }
      },
      "source": [
        "model = tf.keras.Sequential([\n",
        "    tf.keras.layers.Input(shape=X[0].shape, name='input_layer'),\n",
        "    tf.keras.layers.Dense(32, activation='relu', name='Dense_Layer'),\n",
        "                          # activity_regularizer=tf.keras.regularizers.l2()),\n",
        "    # tf.keras.layers.Dropout(rate=0.2, name=\"Dropout\"),\n",
        "    # tf.keras.layers.Dense(100, activation='relu', name='Dense_Layer2',\n",
        "                          # activity_regularizer=tf.keras.regularizers.l2()),\n",
        "    # tf.keras.layers.Dropout(rate=0.2, name=\"Dropout2\"),\n",
        "    tf.keras.layers.Dense(n_class, activation='sigmoid', name='Dense_Layer3'),\n",
        "\n",
        "  ], name='ALBERT_MODEL')\n",
        "\n",
        "model.compile(loss='binary_crossentropy', optimizer='adam', \n",
        "              metrics=['acc',\n",
        "                       tfa.metrics.f_scores.F1Score(n_class,'weighted', threshold=0.5, name='f1'),\n",
        "                       tfa.metrics.f_scores.F1Score(n_class,'macro',threshold=0.5, name='macro'),\n",
        "                       tfa.metrics.f_scores.F1Score(n_class,'micro',threshold=0.5, name='micro'),\n",
        "                       tfa.metrics.HammingLoss(mode='multilabel',threshold=0.5, name='hamloss')])\n",
        "print(model.summary())"
      ],
      "execution_count": 108,
      "outputs": [
        {
          "output_type": "stream",
          "text": [
            "Model: \"ALBERT_MODEL\"\n",
            "_________________________________________________________________\n",
            "Layer (type)                 Output Shape              Param #   \n",
            "=================================================================\n",
            "Dense_Layer (Dense)          (None, 32)                25344     \n",
            "_________________________________________________________________\n",
            "Dense_Layer3 (Dense)         (None, 12)                396       \n",
            "=================================================================\n",
            "Total params: 25,740\n",
            "Trainable params: 25,740\n",
            "Non-trainable params: 0\n",
            "_________________________________________________________________\n",
            "None\n"
          ],
          "name": "stdout"
        }
      ]
    },
    {
      "cell_type": "code",
      "metadata": {
        "id": "oUMOG_Qa7LQ4",
        "outputId": "e3db3f0c-b64d-46ec-89c0-6ad4d662ddca",
        "colab": {
          "base_uri": "https://localhost:8080/"
        }
      },
      "source": [
        "history = model.fit(X_train, y_train, batch_size=8, epochs=20, verbose=1, validation_split=0.2)"
      ],
      "execution_count": 109,
      "outputs": [
        {
          "output_type": "stream",
          "text": [
            "Epoch 1/20\n",
            "218/218 [==============================] - 1s 5ms/step - loss: 0.2655 - acc: 0.4880 - f1: 0.5465 - macro: 0.1714 - micro: 0.6282 - hamloss: 0.1062 - val_loss: 0.2310 - val_acc: 0.6293 - val_f1: 0.6227 - val_macro: 0.2037 - val_micro: 0.7171 - val_hamloss: 0.0849\n",
            "Epoch 2/20\n",
            "218/218 [==============================] - 1s 4ms/step - loss: 0.2159 - acc: 0.6095 - f1: 0.6358 - macro: 0.2455 - micro: 0.7035 - hamloss: 0.0863 - val_loss: 0.2099 - val_acc: 0.6522 - val_f1: 0.6783 - val_macro: 0.2873 - val_micro: 0.7340 - val_hamloss: 0.0799\n",
            "Epoch 3/20\n",
            "218/218 [==============================] - 1s 4ms/step - loss: 0.1971 - acc: 0.6439 - f1: 0.6791 - macro: 0.2951 - micro: 0.7291 - hamloss: 0.0798 - val_loss: 0.1976 - val_acc: 0.6773 - val_f1: 0.6849 - val_macro: 0.2956 - val_micro: 0.7366 - val_hamloss: 0.0767\n",
            "Epoch 4/20\n",
            "218/218 [==============================] - 1s 4ms/step - loss: 0.1855 - acc: 0.6651 - f1: 0.7075 - macro: 0.3325 - micro: 0.7492 - hamloss: 0.0746 - val_loss: 0.1949 - val_acc: 0.6728 - val_f1: 0.6928 - val_macro: 0.3129 - val_micro: 0.7337 - val_hamloss: 0.0763\n",
            "Epoch 5/20\n",
            "218/218 [==============================] - 1s 4ms/step - loss: 0.1777 - acc: 0.6789 - f1: 0.7227 - macro: 0.3564 - micro: 0.7566 - hamloss: 0.0730 - val_loss: 0.1916 - val_acc: 0.6934 - val_f1: 0.7038 - val_macro: 0.3378 - val_micro: 0.7407 - val_hamloss: 0.0770\n",
            "Epoch 6/20\n",
            "218/218 [==============================] - 1s 4ms/step - loss: 0.1690 - acc: 0.6909 - f1: 0.7446 - macro: 0.3907 - micro: 0.7750 - hamloss: 0.0676 - val_loss: 0.1850 - val_acc: 0.7002 - val_f1: 0.7391 - val_macro: 0.3893 - val_micro: 0.7651 - val_hamloss: 0.0704\n",
            "Epoch 7/20\n",
            "218/218 [==============================] - 1s 4ms/step - loss: 0.1625 - acc: 0.6967 - f1: 0.7604 - macro: 0.4119 - micro: 0.7872 - hamloss: 0.0643 - val_loss: 0.1846 - val_acc: 0.6636 - val_f1: 0.7332 - val_macro: 0.3804 - val_micro: 0.7564 - val_hamloss: 0.0725\n",
            "Epoch 8/20\n",
            "218/218 [==============================] - 1s 4ms/step - loss: 0.1584 - acc: 0.6995 - f1: 0.7649 - macro: 0.4268 - micro: 0.7891 - hamloss: 0.0635 - val_loss: 0.1894 - val_acc: 0.6613 - val_f1: 0.7183 - val_macro: 0.3761 - val_micro: 0.7408 - val_hamloss: 0.0782\n",
            "Epoch 9/20\n",
            "218/218 [==============================] - 1s 4ms/step - loss: 0.1530 - acc: 0.7013 - f1: 0.7768 - macro: 0.4430 - micro: 0.7980 - hamloss: 0.0614 - val_loss: 0.1806 - val_acc: 0.6957 - val_f1: 0.7456 - val_macro: 0.3916 - val_micro: 0.7772 - val_hamloss: 0.0671\n",
            "Epoch 10/20\n",
            "218/218 [==============================] - 1s 4ms/step - loss: 0.1490 - acc: 0.7093 - f1: 0.7796 - macro: 0.4506 - micro: 0.8006 - hamloss: 0.0605 - val_loss: 0.1803 - val_acc: 0.6842 - val_f1: 0.7472 - val_macro: 0.3975 - val_micro: 0.7717 - val_hamloss: 0.0702\n",
            "Epoch 11/20\n",
            "218/218 [==============================] - 1s 4ms/step - loss: 0.1416 - acc: 0.7081 - f1: 0.7924 - macro: 0.4661 - micro: 0.8117 - hamloss: 0.0572 - val_loss: 0.1876 - val_acc: 0.6911 - val_f1: 0.7275 - val_macro: 0.3956 - val_micro: 0.7464 - val_hamloss: 0.0744\n",
            "Epoch 12/20\n",
            "218/218 [==============================] - 1s 4ms/step - loss: 0.1369 - acc: 0.7081 - f1: 0.8052 - macro: 0.4845 - micro: 0.8224 - hamloss: 0.0542 - val_loss: 0.1866 - val_acc: 0.6819 - val_f1: 0.7379 - val_macro: 0.3902 - val_micro: 0.7676 - val_hamloss: 0.0711\n",
            "Epoch 13/20\n",
            "218/218 [==============================] - 1s 4ms/step - loss: 0.1354 - acc: 0.6984 - f1: 0.8024 - macro: 0.5269 - micro: 0.8178 - hamloss: 0.0557 - val_loss: 0.1880 - val_acc: 0.6911 - val_f1: 0.7452 - val_macro: 0.4071 - val_micro: 0.7694 - val_hamloss: 0.0713\n",
            "Epoch 14/20\n",
            "218/218 [==============================] - 1s 4ms/step - loss: 0.1289 - acc: 0.7127 - f1: 0.8165 - macro: 0.5322 - micro: 0.8309 - hamloss: 0.0517 - val_loss: 0.1822 - val_acc: 0.6590 - val_f1: 0.7559 - val_macro: 0.4057 - val_micro: 0.7767 - val_hamloss: 0.0686\n",
            "Epoch 15/20\n",
            "218/218 [==============================] - 1s 4ms/step - loss: 0.1240 - acc: 0.7104 - f1: 0.8308 - macro: 0.5677 - micro: 0.8438 - hamloss: 0.0481 - val_loss: 0.1822 - val_acc: 0.7140 - val_f1: 0.7514 - val_macro: 0.4036 - val_micro: 0.7708 - val_hamloss: 0.0713\n",
            "Epoch 16/20\n",
            "218/218 [==============================] - 1s 4ms/step - loss: 0.1210 - acc: 0.7076 - f1: 0.8325 - macro: 0.5789 - micro: 0.8449 - hamloss: 0.0477 - val_loss: 0.1869 - val_acc: 0.6705 - val_f1: 0.7427 - val_macro: 0.4032 - val_micro: 0.7593 - val_hamloss: 0.0740\n",
            "Epoch 17/20\n",
            "218/218 [==============================] - 1s 4ms/step - loss: 0.1184 - acc: 0.7127 - f1: 0.8402 - macro: 0.5986 - micro: 0.8516 - hamloss: 0.0457 - val_loss: 0.1946 - val_acc: 0.6499 - val_f1: 0.7528 - val_macro: 0.4192 - val_micro: 0.7672 - val_hamloss: 0.0753\n",
            "Epoch 18/20\n",
            "218/218 [==============================] - 1s 4ms/step - loss: 0.1154 - acc: 0.7087 - f1: 0.8450 - macro: 0.6185 - micro: 0.8548 - hamloss: 0.0448 - val_loss: 0.1934 - val_acc: 0.6705 - val_f1: 0.7386 - val_macro: 0.3981 - val_micro: 0.7576 - val_hamloss: 0.0763\n",
            "Epoch 19/20\n",
            "218/218 [==============================] - 1s 4ms/step - loss: 0.1122 - acc: 0.7202 - f1: 0.8469 - macro: 0.6116 - micro: 0.8573 - hamloss: 0.0442 - val_loss: 0.1869 - val_acc: 0.7025 - val_f1: 0.7578 - val_macro: 0.4141 - val_micro: 0.7754 - val_hamloss: 0.0696\n",
            "Epoch 20/20\n",
            "218/218 [==============================] - 1s 4ms/step - loss: 0.1088 - acc: 0.7076 - f1: 0.8554 - macro: 0.6124 - micro: 0.8649 - hamloss: 0.0418 - val_loss: 0.1899 - val_acc: 0.6957 - val_f1: 0.7276 - val_macro: 0.4075 - val_micro: 0.7385 - val_hamloss: 0.0772\n"
          ],
          "name": "stdout"
        }
      ]
    },
    {
      "cell_type": "code",
      "metadata": {
        "id": "luObyoYB7LQ6",
        "outputId": "d01564e5-a5bf-4ea1-8501-042aee8d5ceb",
        "colab": {
          "base_uri": "https://localhost:8080/"
        }
      },
      "source": [
        "score = model.evaluate(X_test, y_test, verbose=1)"
      ],
      "execution_count": 110,
      "outputs": [
        {
          "output_type": "stream",
          "text": [
            "8/8 [==============================] - 0s 3ms/step - loss: 0.2068 - acc: 0.6914 - f1: 0.7109 - macro: 0.4773 - micro: 0.7335 - hamloss: 0.0802\n"
          ],
          "name": "stdout"
        }
      ]
    },
    {
      "cell_type": "code",
      "metadata": {
        "id": "LzKKewPO7LQ8",
        "outputId": "f2743bb4-bb8c-4544-d949-954c89c49255",
        "colab": {
          "base_uri": "https://localhost:8080/",
          "height": 573
        }
      },
      "source": [
        "import matplotlib.pyplot as plt\n",
        "\n",
        "plt.plot(history.history['acc'])\n",
        "plt.plot(history.history['val_acc'])\n",
        "\n",
        "plt.title('model accuracy')\n",
        "plt.ylabel('accuracy')\n",
        "plt.xlabel('epoch')\n",
        "plt.legend(['train','test'], loc='upper left')\n",
        "plt.show()\n",
        "\n",
        "plt.plot(history.history['loss'])\n",
        "plt.plot(history.history['val_loss'])\n",
        "\n",
        "plt.title('model loss')\n",
        "plt.ylabel('loss')\n",
        "plt.xlabel('epoch')\n",
        "plt.legend(['train','test'], loc='upper left')\n",
        "plt.show()"
      ],
      "execution_count": 111,
      "outputs": [
        {
          "output_type": "display_data",
          "data": {
            "image/png": "[encoded data removed]",
            "text/plain": [
              "<Figure size 432x288 with 1 Axes>"
            ]
          },
          "metadata": {
            "tags": [],
            "needs_background": "light"
          }
        },
        {
          "output_type": "display_data",
          "data": {
            "image/png": "[encoded data removed]",
            "text/plain": [
              "<Figure size 432x288 with 1 Axes>"
            ]
          },
          "metadata": {
            "tags": [],
            "needs_background": "light"
          }
        }
      ]
    },
    {
      "cell_type": "markdown",
      "metadata": {
        "id": "23bqPkUFAUc8"
      },
      "source": [
        "# BERT"
      ]
    },
    {
      "cell_type": "code",
      "metadata": {
        "id": "fJlCUsYvAUdG",
        "outputId": "a8df1819-243b-47dd-81f0-fb5c05e6d1c1",
        "colab": {
          "base_uri": "https://localhost:8080/",
          "height": 164,
          "referenced_widgets": [
            "e871ee251b5341148aa1cbd8ef18ec69",
            "a81cfe3a13fb44a4bea9952e9afcfdaf",
            "367b70c757e441af89fd1363e2c96ca4",
            "47da00665e2949bbac8f0d048694d079",
            "b49ec9f82d0840e98c2970ac8796ba0e",
            "f600658defc04c6185cd139db9c1ddb8",
            "fe33ffe7192447108f703720f624bfa9",
            "034f52afa0574ef2a3ea5da773a2fc21",
            "2b3844ad73f245459ff39d62e8193a96",
            "9956d40030af4247b300082460bb92c1",
            "1e14c4fd34bf4cfc80d4004438dc3ba0",
            "d16c8d16b1a14cb0924f36b1d1ff8269",
            "ca526f917cc6456abead77d360cfbb60",
            "44324737340341c089db8858bd3f08bb",
            "b8a0c876901d4e8daef13d4dd580a533",
            "7af9029ac27f44b4a4b3e94df96f6ecf",
            "72b3464c537b40b7a345f5dcb04483ea",
            "2eedd35f05e849eba3cb9569e5d21412",
            "820abb12f4e444d1aa5ee5cc4bb7ab08",
            "f2a7e34cf2cc4586844015b779e9950c",
            "b8b72e98ab6842b281f4cbe134df62ed",
            "a3ea03245b0c4e4c80c7b0a366db5649",
            "ccffb61beecf40948b33fb0ce48b982a",
            "43e95404b035471687dcdfef0ebbc2dd"
          ]
        }
      },
      "source": [
        "# bert_tokenizer = AutoTokenizer.from_pretrained(\"HooshvareLab/bert-base-parsbert-uncased\")  \n",
        "# bert_model = AutoModel.from_pretrained(\"HooshvareLab/bert-base-parsbert-uncased\")"
      ],
      "execution_count": null,
      "outputs": [
        {
          "output_type": "display_data",
          "data": {
            "application/vnd.jupyter.widget-view+json": {
              "model_id": "e871ee251b5341148aa1cbd8ef18ec69",
              "version_minor": 0,
              "version_major": 2
            },
            "text/plain": [
              "HBox(children=(FloatProgress(value=0.0, description='Downloading', max=434.0, style=ProgressStyle(description_…"
            ]
          },
          "metadata": {
            "tags": []
          }
        },
        {
          "output_type": "stream",
          "text": [
            "\n"
          ],
          "name": "stdout"
        },
        {
          "output_type": "display_data",
          "data": {
            "application/vnd.jupyter.widget-view+json": {
              "model_id": "2b3844ad73f245459ff39d62e8193a96",
              "version_minor": 0,
              "version_major": 2
            },
            "text/plain": [
              "HBox(children=(FloatProgress(value=0.0, description='Downloading', max=1215509.0, style=ProgressStyle(descript…"
            ]
          },
          "metadata": {
            "tags": []
          }
        },
        {
          "output_type": "stream",
          "text": [
            "\n"
          ],
          "name": "stdout"
        },
        {
          "output_type": "display_data",
          "data": {
            "application/vnd.jupyter.widget-view+json": {
              "model_id": "72b3464c537b40b7a345f5dcb04483ea",
              "version_minor": 0,
              "version_major": 2
            },
            "text/plain": [
              "HBox(children=(FloatProgress(value=0.0, description='Downloading', max=654186735.0, style=ProgressStyle(descri…"
            ]
          },
          "metadata": {
            "tags": []
          }
        },
        {
          "output_type": "stream",
          "text": [
            "\n"
          ],
          "name": "stdout"
        }
      ]
    },
    {
      "cell_type": "code",
      "metadata": {
        "id": "Qt1MMIH6AUdO"
      },
      "source": [
        "# def get_embedding(sent):\n",
        "#     input_sentence = torch.tensor(bert_tokenizer.encode(sent, max_length = 500)).unsqueeze(0)\n",
        "#     out = bert_model(input_sentence)\n",
        "#     embeddings_of_last_layer = out[0]\n",
        "#     cls_embeddings = embeddings_of_last_layer[0][0]\n",
        "#     cls_embeddings = cls_embeddings.detach().numpy()\n",
        "#     return cls_embeddings"
      ],
      "execution_count": null,
      "outputs": []
    },
    {
      "cell_type": "code",
      "metadata": {
        "id": "xKLAAlQFAUdT"
      },
      "source": [
        "# df_types_bert = pd.read_csv(\"/content/drive/My Drive/topics-for-types/df_types.csv\")"
      ],
      "execution_count": null,
      "outputs": []
    },
    {
      "cell_type": "code",
      "metadata": {
        "id": "WlvIB05WAUdX",
        "outputId": "682eafd9-d47f-4484-d9ec-34c3b4dcddef",
        "colab": {
          "base_uri": "https://localhost:8080/",
          "height": 241
        }
      },
      "source": [
        "# df_types_bert['sentence'] = df_types_bert['sentence'].apply(lambda sent: get_embedding(sent))\n",
        "# df_types_bert.to_csv(\"/content/drive/My Drive/topics-for-types/df_types_bert.csv\", index=False)\n",
        "# df_types_bert.head()"
      ],
      "execution_count": null,
      "outputs": [
        {
          "output_type": "stream",
          "text": [
            "Truncation was not explicitely activated but `max_length` is provided a specific value, please use `truncation=True` to explicitely truncate examples to max length. Defaulting to 'longest_first' truncation strategy. If you encode pairs of sequences (GLUE-style) with the tokenizer you can select this strategy more precisely by providing a specific strategy to `truncation`.\n"
          ],
          "name": "stderr"
        },
        {
          "output_type": "execute_result",
          "data": {
            "text/html": [
              "<div>\n",
              "<style scoped>\n",
              "    .dataframe tbody tr th:only-of-type {\n",
              "        vertical-align: middle;\n",
              "    }\n",
              "\n",
              "    .dataframe tbody tr th {\n",
              "        vertical-align: top;\n",
              "    }\n",
              "\n",
              "    .dataframe thead th {\n",
              "        text-align: right;\n",
              "    }\n",
              "</style>\n",
              "<table border=\"1\" class=\"dataframe\">\n",
              "  <thead>\n",
              "    <tr style=\"text-align: right;\">\n",
              "      <th></th>\n",
              "      <th>sentence</th>\n",
              "      <th>انتخاب</th>\n",
              "      <th>بله/خیر</th>\n",
              "      <th>ترجمه</th>\n",
              "      <th>تعامل</th>\n",
              "      <th>تعریف</th>\n",
              "      <th>توضیح</th>\n",
              "      <th>دلیل</th>\n",
              "      <th>ریاضی</th>\n",
              "      <th>لیست</th>\n",
              "      <th>نظر</th>\n",
              "      <th>واقعیت</th>\n",
              "      <th>پیشنهاد</th>\n",
              "    </tr>\n",
              "  </thead>\n",
              "  <tbody>\n",
              "    <tr>\n",
              "      <th>0</th>\n",
              "      <td>[-0.9806155, -0.25270098, -0.73519176, 0.52485...</td>\n",
              "      <td>0</td>\n",
              "      <td>0</td>\n",
              "      <td>0</td>\n",
              "      <td>0</td>\n",
              "      <td>1</td>\n",
              "      <td>1</td>\n",
              "      <td>0</td>\n",
              "      <td>0</td>\n",
              "      <td>0</td>\n",
              "      <td>1</td>\n",
              "      <td>0</td>\n",
              "      <td>0</td>\n",
              "    </tr>\n",
              "    <tr>\n",
              "      <th>1</th>\n",
              "      <td>[-1.2237562, -1.0405048, -0.82329005, -0.51480...</td>\n",
              "      <td>0</td>\n",
              "      <td>1</td>\n",
              "      <td>0</td>\n",
              "      <td>0</td>\n",
              "      <td>0</td>\n",
              "      <td>1</td>\n",
              "      <td>0</td>\n",
              "      <td>0</td>\n",
              "      <td>0</td>\n",
              "      <td>1</td>\n",
              "      <td>0</td>\n",
              "      <td>0</td>\n",
              "    </tr>\n",
              "    <tr>\n",
              "      <th>2</th>\n",
              "      <td>[-0.17114322, -0.8240524, -0.23230526, -0.3026...</td>\n",
              "      <td>0</td>\n",
              "      <td>0</td>\n",
              "      <td>0</td>\n",
              "      <td>0</td>\n",
              "      <td>0</td>\n",
              "      <td>1</td>\n",
              "      <td>1</td>\n",
              "      <td>0</td>\n",
              "      <td>0</td>\n",
              "      <td>1</td>\n",
              "      <td>0</td>\n",
              "      <td>0</td>\n",
              "    </tr>\n",
              "    <tr>\n",
              "      <th>3</th>\n",
              "      <td>[-0.033276368, -0.39518848, -0.75779915, -0.28...</td>\n",
              "      <td>0</td>\n",
              "      <td>0</td>\n",
              "      <td>0</td>\n",
              "      <td>0</td>\n",
              "      <td>0</td>\n",
              "      <td>1</td>\n",
              "      <td>1</td>\n",
              "      <td>0</td>\n",
              "      <td>0</td>\n",
              "      <td>1</td>\n",
              "      <td>0</td>\n",
              "      <td>0</td>\n",
              "    </tr>\n",
              "    <tr>\n",
              "      <th>4</th>\n",
              "      <td>[-1.226232, -0.88978004, -1.1824298, -0.173771...</td>\n",
              "      <td>0</td>\n",
              "      <td>0</td>\n",
              "      <td>0</td>\n",
              "      <td>0</td>\n",
              "      <td>1</td>\n",
              "      <td>0</td>\n",
              "      <td>0</td>\n",
              "      <td>0</td>\n",
              "      <td>1</td>\n",
              "      <td>1</td>\n",
              "      <td>0</td>\n",
              "      <td>0</td>\n",
              "    </tr>\n",
              "  </tbody>\n",
              "</table>\n",
              "</div>"
            ],
            "text/plain": [
              "                                            sentence  انتخاب  ...  واقعیت  پیشنهاد\n",
              "0  [-0.9806155, -0.25270098, -0.73519176, 0.52485...       0  ...       0        0\n",
              "1  [-1.2237562, -1.0405048, -0.82329005, -0.51480...       0  ...       0        0\n",
              "2  [-0.17114322, -0.8240524, -0.23230526, -0.3026...       0  ...       0        0\n",
              "3  [-0.033276368, -0.39518848, -0.75779915, -0.28...       0  ...       0        0\n",
              "4  [-1.226232, -0.88978004, -1.1824298, -0.173771...       0  ...       0        0\n",
              "\n",
              "[5 rows x 13 columns]"
            ]
          },
          "metadata": {
            "tags": []
          },
          "execution_count": 45
        }
      ]
    },
    {
      "cell_type": "code",
      "metadata": {
        "id": "0OfgbRxhAUdc",
        "outputId": "858bf72c-d883-4c65-81b9-4c3edc03a6a5",
        "colab": {
          "base_uri": "https://localhost:8080/",
          "height": 204
        }
      },
      "source": [
        "df_types_bert = pd.read_csv(\"/content/drive/My Drive/topics-for-types/df_types_albert.csv\")\n",
        "df_types_bert['sentence'] = df_types_bert['sentence'].apply(lambda x: \n",
        "                           np.fromstring(\n",
        "                               x.replace('\\n','')\n",
        "                                .replace('[','')\n",
        "                                .replace(']','')\n",
        "                                .replace('  ',' '), sep=' '))\n",
        "df_types_bert['id'] = df_types_bert.index\n",
        "df_types_bert.head()"
      ],
      "execution_count": 112,
      "outputs": [
        {
          "output_type": "execute_result",
          "data": {
            "text/html": [
              "<div>\n",
              "<style scoped>\n",
              "    .dataframe tbody tr th:only-of-type {\n",
              "        vertical-align: middle;\n",
              "    }\n",
              "\n",
              "    .dataframe tbody tr th {\n",
              "        vertical-align: top;\n",
              "    }\n",
              "\n",
              "    .dataframe thead th {\n",
              "        text-align: right;\n",
              "    }\n",
              "</style>\n",
              "<table border=\"1\" class=\"dataframe\">\n",
              "  <thead>\n",
              "    <tr style=\"text-align: right;\">\n",
              "      <th></th>\n",
              "      <th>sentence</th>\n",
              "      <th>انتخاب</th>\n",
              "      <th>بله/خیر</th>\n",
              "      <th>ترجمه</th>\n",
              "      <th>تعامل</th>\n",
              "      <th>تعریف</th>\n",
              "      <th>توضیح</th>\n",
              "      <th>دلیل</th>\n",
              "      <th>ریاضی</th>\n",
              "      <th>لیست</th>\n",
              "      <th>نظر</th>\n",
              "      <th>واقعیت</th>\n",
              "      <th>پیشنهاد</th>\n",
              "      <th>id</th>\n",
              "    </tr>\n",
              "  </thead>\n",
              "  <tbody>\n",
              "    <tr>\n",
              "      <th>0</th>\n",
              "      <td>[-0.584107399, -0.0170780029, -0.324053437, -0...</td>\n",
              "      <td>0</td>\n",
              "      <td>0</td>\n",
              "      <td>0</td>\n",
              "      <td>0</td>\n",
              "      <td>1</td>\n",
              "      <td>1</td>\n",
              "      <td>0</td>\n",
              "      <td>0</td>\n",
              "      <td>0</td>\n",
              "      <td>1</td>\n",
              "      <td>0</td>\n",
              "      <td>0</td>\n",
              "      <td>0</td>\n",
              "    </tr>\n",
              "    <tr>\n",
              "      <th>1</th>\n",
              "      <td>[-0.311206728, -0.00509797968, 0.105097309, -0...</td>\n",
              "      <td>0</td>\n",
              "      <td>1</td>\n",
              "      <td>0</td>\n",
              "      <td>0</td>\n",
              "      <td>0</td>\n",
              "      <td>1</td>\n",
              "      <td>0</td>\n",
              "      <td>0</td>\n",
              "      <td>0</td>\n",
              "      <td>1</td>\n",
              "      <td>0</td>\n",
              "      <td>0</td>\n",
              "      <td>1</td>\n",
              "    </tr>\n",
              "    <tr>\n",
              "      <th>2</th>\n",
              "      <td>[0.0554451495, -0.233010963, 0.120217644, -0.3...</td>\n",
              "      <td>0</td>\n",
              "      <td>0</td>\n",
              "      <td>0</td>\n",
              "      <td>0</td>\n",
              "      <td>0</td>\n",
              "      <td>1</td>\n",
              "      <td>1</td>\n",
              "      <td>0</td>\n",
              "      <td>0</td>\n",
              "      <td>1</td>\n",
              "      <td>0</td>\n",
              "      <td>0</td>\n",
              "      <td>2</td>\n",
              "    </tr>\n",
              "    <tr>\n",
              "      <th>3</th>\n",
              "      <td>[0.378814161, -0.190923393, 0.164279118, -0.38...</td>\n",
              "      <td>0</td>\n",
              "      <td>0</td>\n",
              "      <td>0</td>\n",
              "      <td>0</td>\n",
              "      <td>0</td>\n",
              "      <td>1</td>\n",
              "      <td>1</td>\n",
              "      <td>0</td>\n",
              "      <td>0</td>\n",
              "      <td>1</td>\n",
              "      <td>0</td>\n",
              "      <td>0</td>\n",
              "      <td>3</td>\n",
              "    </tr>\n",
              "    <tr>\n",
              "      <th>4</th>\n",
              "      <td>[-0.469689935, -0.240100503, 0.201896042, -0.2...</td>\n",
              "      <td>0</td>\n",
              "      <td>0</td>\n",
              "      <td>0</td>\n",
              "      <td>0</td>\n",
              "      <td>1</td>\n",
              "      <td>0</td>\n",
              "      <td>0</td>\n",
              "      <td>0</td>\n",
              "      <td>1</td>\n",
              "      <td>1</td>\n",
              "      <td>0</td>\n",
              "      <td>0</td>\n",
              "      <td>4</td>\n",
              "    </tr>\n",
              "  </tbody>\n",
              "</table>\n",
              "</div>"
            ],
            "text/plain": [
              "                                            sentence  انتخاب  ...  پیشنهاد  id\n",
              "0  [-0.584107399, -0.0170780029, -0.324053437, -0...       0  ...        0   0\n",
              "1  [-0.311206728, -0.00509797968, 0.105097309, -0...       0  ...        0   1\n",
              "2  [0.0554451495, -0.233010963, 0.120217644, -0.3...       0  ...        0   2\n",
              "3  [0.378814161, -0.190923393, 0.164279118, -0.38...       0  ...        0   3\n",
              "4  [-0.469689935, -0.240100503, 0.201896042, -0.2...       0  ...        0   4\n",
              "\n",
              "[5 rows x 14 columns]"
            ]
          },
          "metadata": {
            "tags": []
          },
          "execution_count": 112
        }
      ]
    },
    {
      "cell_type": "code",
      "metadata": {
        "id": "9PzD0HWsHVPn",
        "outputId": "e2c4500e-09eb-4f83-ef3f-8c997af987db",
        "colab": {
          "base_uri": "https://localhost:8080/",
          "height": 204
        }
      },
      "source": [
        "df_types_bert['sentence'] = df_types_bert.apply(lambda row: np.concatenate((row.sentence, df_topics_np[row.id])), axis=1)\n",
        "df_types_bert = df_types_bert[df_types_bert.columns[:-1]]\n",
        "df_types_bert.head()"
      ],
      "execution_count": 113,
      "outputs": [
        {
          "output_type": "execute_result",
          "data": {
            "text/html": [
              "<div>\n",
              "<style scoped>\n",
              "    .dataframe tbody tr th:only-of-type {\n",
              "        vertical-align: middle;\n",
              "    }\n",
              "\n",
              "    .dataframe tbody tr th {\n",
              "        vertical-align: top;\n",
              "    }\n",
              "\n",
              "    .dataframe thead th {\n",
              "        text-align: right;\n",
              "    }\n",
              "</style>\n",
              "<table border=\"1\" class=\"dataframe\">\n",
              "  <thead>\n",
              "    <tr style=\"text-align: right;\">\n",
              "      <th></th>\n",
              "      <th>sentence</th>\n",
              "      <th>انتخاب</th>\n",
              "      <th>بله/خیر</th>\n",
              "      <th>ترجمه</th>\n",
              "      <th>تعامل</th>\n",
              "      <th>تعریف</th>\n",
              "      <th>توضیح</th>\n",
              "      <th>دلیل</th>\n",
              "      <th>ریاضی</th>\n",
              "      <th>لیست</th>\n",
              "      <th>نظر</th>\n",
              "      <th>واقعیت</th>\n",
              "      <th>پیشنهاد</th>\n",
              "    </tr>\n",
              "  </thead>\n",
              "  <tbody>\n",
              "    <tr>\n",
              "      <th>0</th>\n",
              "      <td>[-0.584107399, -0.0170780029, -0.324053437, -0...</td>\n",
              "      <td>0</td>\n",
              "      <td>0</td>\n",
              "      <td>0</td>\n",
              "      <td>0</td>\n",
              "      <td>1</td>\n",
              "      <td>1</td>\n",
              "      <td>0</td>\n",
              "      <td>0</td>\n",
              "      <td>0</td>\n",
              "      <td>1</td>\n",
              "      <td>0</td>\n",
              "      <td>0</td>\n",
              "    </tr>\n",
              "    <tr>\n",
              "      <th>1</th>\n",
              "      <td>[-0.311206728, -0.00509797968, 0.105097309, -0...</td>\n",
              "      <td>0</td>\n",
              "      <td>1</td>\n",
              "      <td>0</td>\n",
              "      <td>0</td>\n",
              "      <td>0</td>\n",
              "      <td>1</td>\n",
              "      <td>0</td>\n",
              "      <td>0</td>\n",
              "      <td>0</td>\n",
              "      <td>1</td>\n",
              "      <td>0</td>\n",
              "      <td>0</td>\n",
              "    </tr>\n",
              "    <tr>\n",
              "      <th>2</th>\n",
              "      <td>[0.0554451495, -0.233010963, 0.120217644, -0.3...</td>\n",
              "      <td>0</td>\n",
              "      <td>0</td>\n",
              "      <td>0</td>\n",
              "      <td>0</td>\n",
              "      <td>0</td>\n",
              "      <td>1</td>\n",
              "      <td>1</td>\n",
              "      <td>0</td>\n",
              "      <td>0</td>\n",
              "      <td>1</td>\n",
              "      <td>0</td>\n",
              "      <td>0</td>\n",
              "    </tr>\n",
              "    <tr>\n",
              "      <th>3</th>\n",
              "      <td>[0.378814161, -0.190923393, 0.164279118, -0.38...</td>\n",
              "      <td>0</td>\n",
              "      <td>0</td>\n",
              "      <td>0</td>\n",
              "      <td>0</td>\n",
              "      <td>0</td>\n",
              "      <td>1</td>\n",
              "      <td>1</td>\n",
              "      <td>0</td>\n",
              "      <td>0</td>\n",
              "      <td>1</td>\n",
              "      <td>0</td>\n",
              "      <td>0</td>\n",
              "    </tr>\n",
              "    <tr>\n",
              "      <th>4</th>\n",
              "      <td>[-0.469689935, -0.240100503, 0.201896042, -0.2...</td>\n",
              "      <td>0</td>\n",
              "      <td>0</td>\n",
              "      <td>0</td>\n",
              "      <td>0</td>\n",
              "      <td>1</td>\n",
              "      <td>0</td>\n",
              "      <td>0</td>\n",
              "      <td>0</td>\n",
              "      <td>1</td>\n",
              "      <td>1</td>\n",
              "      <td>0</td>\n",
              "      <td>0</td>\n",
              "    </tr>\n",
              "  </tbody>\n",
              "</table>\n",
              "</div>"
            ],
            "text/plain": [
              "                                            sentence  انتخاب  ...  واقعیت  پیشنهاد\n",
              "0  [-0.584107399, -0.0170780029, -0.324053437, -0...       0  ...       0        0\n",
              "1  [-0.311206728, -0.00509797968, 0.105097309, -0...       0  ...       0        0\n",
              "2  [0.0554451495, -0.233010963, 0.120217644, -0.3...       0  ...       0        0\n",
              "3  [0.378814161, -0.190923393, 0.164279118, -0.38...       0  ...       0        0\n",
              "4  [-0.469689935, -0.240100503, 0.201896042, -0.2...       0  ...       0        0\n",
              "\n",
              "[5 rows x 13 columns]"
            ]
          },
          "metadata": {
            "tags": []
          },
          "execution_count": 113
        }
      ]
    },
    {
      "cell_type": "code",
      "metadata": {
        "id": "3aUvvNqHHfLe",
        "outputId": "d8fddf2c-754f-4c7e-c318-6ff0ed851067",
        "colab": {
          "base_uri": "https://localhost:8080/"
        }
      },
      "source": [
        "len(df_types_bert.loc[0].sentence)"
      ],
      "execution_count": 114,
      "outputs": [
        {
          "output_type": "execute_result",
          "data": {
            "text/plain": [
              "791"
            ]
          },
          "metadata": {
            "tags": []
          },
          "execution_count": 114
        }
      ]
    },
    {
      "cell_type": "code",
      "metadata": {
        "id": "P3B3OnEnAUdm",
        "outputId": "9ac8e8e2-e57b-4dee-ac5b-593da66d7425",
        "colab": {
          "base_uri": "https://localhost:8080/"
        }
      },
      "source": [
        "X = np.array(df_types_bert[df_types_bert.columns[0]])\n",
        "X = np.vstack(X)\n",
        "\n",
        "Y = df_types_bert[df_types_bert.columns[1:]].values\n",
        "\n",
        "X.shape, Y.shape"
      ],
      "execution_count": 115,
      "outputs": [
        {
          "output_type": "execute_result",
          "data": {
            "text/plain": [
              "((2424, 791), (2424, 12))"
            ]
          },
          "metadata": {
            "tags": []
          },
          "execution_count": 115
        }
      ]
    },
    {
      "cell_type": "code",
      "metadata": {
        "id": "OEFvpohhAUdq"
      },
      "source": [
        "X_train, X_test, y_train, y_test = train_test_split(X, Y, test_size=0.10)"
      ],
      "execution_count": 116,
      "outputs": []
    },
    {
      "cell_type": "code",
      "metadata": {
        "id": "ncFwOkV2AUds",
        "outputId": "e3f7320f-8390-4d11-d08c-4612ce474f6d",
        "colab": {
          "base_uri": "https://localhost:8080/"
        }
      },
      "source": [
        "len(X_train),len(X_test),len(y_train),len(y_test)"
      ],
      "execution_count": 117,
      "outputs": [
        {
          "output_type": "execute_result",
          "data": {
            "text/plain": [
              "(2181, 243, 2181, 243)"
            ]
          },
          "metadata": {
            "tags": []
          },
          "execution_count": 117
        }
      ]
    },
    {
      "cell_type": "code",
      "metadata": {
        "id": "dcee_NDVAUdv",
        "outputId": "05b3cc1f-8d9b-4aca-a668-f01b2f8b40e6",
        "colab": {
          "base_uri": "https://localhost:8080/"
        }
      },
      "source": [
        "model = tf.keras.Sequential([\n",
        "    tf.keras.layers.Input(shape=X[0].shape, name='input_layer'),\n",
        "    tf.keras.layers.Dense(128, activation='relu', name='Dense_Layer',\n",
        "                          activity_regularizer=tf.keras.regularizers.l2()),\n",
        "    # tf.keras.layers.Dropout(rate=0.2, name=\"Dropout\"),\n",
        "    # tf.keras.layers.Dense(100, activation='relu', name='Dense_Layer2',\n",
        "                          # activity_regularizer=tf.keras.regularizers.l2()),\n",
        "    # tf.keras.layers.Dropout(rate=0.2, name=\"Dropout2\"),\n",
        "    tf.keras.layers.Dense(12, activation='sigmoid', name='Dense_Layer3'),\n",
        "\n",
        "  ], name='BERT_MODEL')\n",
        "\n",
        "model.compile(loss='binary_crossentropy', optimizer='rmsprop', \n",
        "              metrics=['acc',\n",
        "                       tfa.metrics.f_scores.F1Score(12,'weighted', threshold=0.5, name='f1'),\n",
        "                       tfa.metrics.f_scores.F1Score(12,'macro',threshold=0.5, name='macro'),\n",
        "                       tfa.metrics.f_scores.F1Score(12,'micro',threshold=0.5, name='micro'),\n",
        "                       tfa.metrics.HammingLoss(mode='multilabel',threshold=0.5, name='hamloss')])\n",
        "print(model.summary())"
      ],
      "execution_count": 118,
      "outputs": [
        {
          "output_type": "stream",
          "text": [
            "Model: \"BERT_MODEL\"\n",
            "_________________________________________________________________\n",
            "Layer (type)                 Output Shape              Param #   \n",
            "=================================================================\n",
            "Dense_Layer (Dense)          (None, 128)               101376    \n",
            "_________________________________________________________________\n",
            "Dense_Layer3 (Dense)         (None, 12)                1548      \n",
            "=================================================================\n",
            "Total params: 102,924\n",
            "Trainable params: 102,924\n",
            "Non-trainable params: 0\n",
            "_________________________________________________________________\n",
            "None\n"
          ],
          "name": "stdout"
        }
      ]
    },
    {
      "cell_type": "code",
      "metadata": {
        "id": "JsHJjxnfAUdy",
        "outputId": "b64b27ca-187c-40a4-8a22-945b37bf4725",
        "colab": {
          "base_uri": "https://localhost:8080/"
        }
      },
      "source": [
        "history = model.fit(X_train, y_train, batch_size=8, epochs=15, verbose=1, validation_split=0.2)"
      ],
      "execution_count": 119,
      "outputs": [
        {
          "output_type": "stream",
          "text": [
            "Epoch 1/15\n",
            "218/218 [==============================] - 1s 6ms/step - loss: 0.4263 - acc: 0.5092 - f1: 0.4806 - macro: 0.1415 - micro: 0.5849 - hamloss: 0.1093 - val_loss: 0.3472 - val_acc: 0.5584 - val_f1: 0.5097 - val_macro: 0.1518 - val_micro: 0.6151 - val_hamloss: 0.1014\n",
            "Epoch 2/15\n",
            "218/218 [==============================] - 1s 4ms/step - loss: 0.3169 - acc: 0.6290 - f1: 0.5936 - macro: 0.1893 - micro: 0.6842 - hamloss: 0.0889 - val_loss: 0.3012 - val_acc: 0.6659 - val_f1: 0.6097 - val_macro: 0.1981 - val_micro: 0.6989 - val_hamloss: 0.0854\n",
            "Epoch 3/15\n",
            "218/218 [==============================] - 1s 4ms/step - loss: 0.2800 - acc: 0.6709 - f1: 0.6150 - macro: 0.2027 - micro: 0.7014 - hamloss: 0.0846 - val_loss: 0.2856 - val_acc: 0.6705 - val_f1: 0.6272 - val_macro: 0.2204 - val_micro: 0.7059 - val_hamloss: 0.0849\n",
            "Epoch 4/15\n",
            "218/218 [==============================] - 1s 5ms/step - loss: 0.2567 - acc: 0.6875 - f1: 0.6439 - macro: 0.2331 - micro: 0.7212 - hamloss: 0.0796 - val_loss: 0.2629 - val_acc: 0.6728 - val_f1: 0.6420 - val_macro: 0.2464 - val_micro: 0.7140 - val_hamloss: 0.0852\n",
            "Epoch 5/15\n",
            "218/218 [==============================] - 1s 4ms/step - loss: 0.2409 - acc: 0.6978 - f1: 0.6769 - macro: 0.2714 - micro: 0.7401 - hamloss: 0.0753 - val_loss: 0.2755 - val_acc: 0.7185 - val_f1: 0.6464 - val_macro: 0.2769 - val_micro: 0.7078 - val_hamloss: 0.0841\n",
            "Epoch 6/15\n",
            "218/218 [==============================] - 1s 5ms/step - loss: 0.2296 - acc: 0.7058 - f1: 0.6921 - macro: 0.2853 - micro: 0.7506 - hamloss: 0.0722 - val_loss: 0.2444 - val_acc: 0.6842 - val_f1: 0.6592 - val_macro: 0.2618 - val_micro: 0.7315 - val_hamloss: 0.0784\n",
            "Epoch 7/15\n",
            "218/218 [==============================] - 1s 4ms/step - loss: 0.2188 - acc: 0.7087 - f1: 0.7054 - macro: 0.3031 - micro: 0.7590 - hamloss: 0.0698 - val_loss: 0.2401 - val_acc: 0.6659 - val_f1: 0.6913 - val_macro: 0.3183 - val_micro: 0.7387 - val_hamloss: 0.0761\n",
            "Epoch 8/15\n",
            "218/218 [==============================] - 1s 5ms/step - loss: 0.2073 - acc: 0.7087 - f1: 0.7290 - macro: 0.3353 - micro: 0.7739 - hamloss: 0.0661 - val_loss: 0.2427 - val_acc: 0.6911 - val_f1: 0.6741 - val_macro: 0.2993 - val_micro: 0.7329 - val_hamloss: 0.0774\n",
            "Epoch 9/15\n",
            "218/218 [==============================] - 1s 4ms/step - loss: 0.1981 - acc: 0.7202 - f1: 0.7498 - macro: 0.3626 - micro: 0.7873 - hamloss: 0.0626 - val_loss: 0.2381 - val_acc: 0.6888 - val_f1: 0.6673 - val_macro: 0.2977 - val_micro: 0.7243 - val_hamloss: 0.0809\n",
            "Epoch 10/15\n",
            "218/218 [==============================] - 1s 5ms/step - loss: 0.1914 - acc: 0.7179 - f1: 0.7653 - macro: 0.3799 - micro: 0.7995 - hamloss: 0.0593 - val_loss: 0.2342 - val_acc: 0.6613 - val_f1: 0.6882 - val_macro: 0.3278 - val_micro: 0.7275 - val_hamloss: 0.0791\n",
            "Epoch 11/15\n",
            "218/218 [==============================] - 1s 5ms/step - loss: 0.1841 - acc: 0.7081 - f1: 0.7841 - macro: 0.4007 - micro: 0.8152 - hamloss: 0.0549 - val_loss: 0.2261 - val_acc: 0.6842 - val_f1: 0.7316 - val_macro: 0.3731 - val_micro: 0.7625 - val_hamloss: 0.0725\n",
            "Epoch 12/15\n",
            "218/218 [==============================] - 1s 4ms/step - loss: 0.1759 - acc: 0.7213 - f1: 0.7970 - macro: 0.4181 - micro: 0.8250 - hamloss: 0.0521 - val_loss: 0.2224 - val_acc: 0.6659 - val_f1: 0.7140 - val_macro: 0.3675 - val_micro: 0.7429 - val_hamloss: 0.0759\n",
            "Epoch 13/15\n",
            "218/218 [==============================] - 1s 5ms/step - loss: 0.1695 - acc: 0.7179 - f1: 0.8101 - macro: 0.4362 - micro: 0.8343 - hamloss: 0.0497 - val_loss: 0.2248 - val_acc: 0.6705 - val_f1: 0.7082 - val_macro: 0.3569 - val_micro: 0.7380 - val_hamloss: 0.0789\n",
            "Epoch 14/15\n",
            "218/218 [==============================] - 1s 5ms/step - loss: 0.1621 - acc: 0.7242 - f1: 0.8165 - macro: 0.4398 - micro: 0.8409 - hamloss: 0.0476 - val_loss: 0.2325 - val_acc: 0.6339 - val_f1: 0.7124 - val_macro: 0.3622 - val_micro: 0.7449 - val_hamloss: 0.0770\n",
            "Epoch 15/15\n",
            "218/218 [==============================] - 1s 4ms/step - loss: 0.1569 - acc: 0.7162 - f1: 0.8229 - macro: 0.4542 - micro: 0.8455 - hamloss: 0.0464 - val_loss: 0.2432 - val_acc: 0.6728 - val_f1: 0.7007 - val_macro: 0.3448 - val_micro: 0.7365 - val_hamloss: 0.0791\n"
          ],
          "name": "stdout"
        }
      ]
    },
    {
      "cell_type": "code",
      "metadata": {
        "id": "EhQtPSx7AUd1",
        "outputId": "700f4289-03e2-4be3-9257-4e1e24b16c2a",
        "colab": {
          "base_uri": "https://localhost:8080/"
        }
      },
      "source": [
        "score = model.evaluate(X_test, y_test, verbose=1)"
      ],
      "execution_count": 120,
      "outputs": [
        {
          "output_type": "stream",
          "text": [
            "8/8 [==============================] - 0s 3ms/step - loss: 0.2245 - acc: 0.7325 - f1: 0.7073 - macro: 0.3488 - micro: 0.7355 - hamloss: 0.0782\n"
          ],
          "name": "stdout"
        }
      ]
    },
    {
      "cell_type": "code",
      "metadata": {
        "id": "xrv_f2T2AUd8",
        "outputId": "ef74f507-1e7e-47ef-f1f8-e6972db2e492",
        "colab": {
          "base_uri": "https://localhost:8080/",
          "height": 573
        }
      },
      "source": [
        "import matplotlib.pyplot as plt\n",
        "\n",
        "plt.plot(history.history['acc'])\n",
        "plt.plot(history.history['val_acc'])\n",
        "\n",
        "plt.title('model accuracy')\n",
        "plt.ylabel('accuracy')\n",
        "plt.xlabel('epoch')\n",
        "plt.legend(['train','test'], loc='upper left')\n",
        "plt.show()\n",
        "\n",
        "plt.plot(history.history['loss'])\n",
        "plt.plot(history.history['val_loss'])\n",
        "\n",
        "plt.title('model loss')\n",
        "plt.ylabel('loss')\n",
        "plt.xlabel('epoch')\n",
        "plt.legend(['train','test'], loc='upper left')\n",
        "plt.show()"
      ],
      "execution_count": 121,
      "outputs": [
        {
          "output_type": "display_data",
          "data": {
            "image/png": "[encoded data removed]",
            "text/plain": [
              "<Figure size 432x288 with 1 Axes>"
            ]
          },
          "metadata": {
            "tags": [],
            "needs_background": "light"
          }
        },
        {
          "output_type": "display_data",
          "data": {
            "image/png": "[encoded data removed]",
            "text/plain": [
              "<Figure size 432x288 with 1 Axes>"
            ]
          },
          "metadata": {
            "tags": [],
            "needs_background": "light"
          }
        }
      ]
    },
    {
      "cell_type": "markdown",
      "metadata": {
        "id": "2CJ7mBfEpd3D"
      },
      "source": [
        "# Word2Vec"
      ]
    },
    {
      "cell_type": "code",
      "metadata": {
        "id": "YrFdZonTpg5I"
      },
      "source": [
        "embeddings_dictionary = dict()\n",
        "\n",
        "w2v_file = open('drive/My Drive/nlp/similarity/embeddings/twitt_wiki_ham_blog.fa.text.100.vec', encoding=\"utf8\")\n",
        "\n",
        "for line in w2v_file:\n",
        "    records = line.split()\n",
        "    word = records[0]\n",
        "    vector_dimensions = np.asarray(records[1:], dtype='float32')\n",
        "    embeddings_dictionary[word] = vector_dimensions\n",
        "w2v_file.close()"
      ],
      "execution_count": 122,
      "outputs": []
    },
    {
      "cell_type": "code",
      "metadata": {
        "id": "nFjnlaZapkHS",
        "outputId": "60ee9d4b-ca63-4c06-b217-8bc337bddaef",
        "colab": {
          "base_uri": "https://localhost:8080/",
          "height": 204
        }
      },
      "source": [
        "df_types_w2v = pd.read_csv(\"/content/drive/My Drive/topics-for-types/df_types.csv\")\n",
        "df_types_w2v['id'] = df_types_w2v.index\n",
        "df_types_w2v.head()"
      ],
      "execution_count": 126,
      "outputs": [
        {
          "output_type": "execute_result",
          "data": {
            "text/html": [
              "<div>\n",
              "<style scoped>\n",
              "    .dataframe tbody tr th:only-of-type {\n",
              "        vertical-align: middle;\n",
              "    }\n",
              "\n",
              "    .dataframe tbody tr th {\n",
              "        vertical-align: top;\n",
              "    }\n",
              "\n",
              "    .dataframe thead th {\n",
              "        text-align: right;\n",
              "    }\n",
              "</style>\n",
              "<table border=\"1\" class=\"dataframe\">\n",
              "  <thead>\n",
              "    <tr style=\"text-align: right;\">\n",
              "      <th></th>\n",
              "      <th>sentence</th>\n",
              "      <th>انتخاب</th>\n",
              "      <th>بله/خیر</th>\n",
              "      <th>ترجمه</th>\n",
              "      <th>تعامل</th>\n",
              "      <th>تعریف</th>\n",
              "      <th>توضیح</th>\n",
              "      <th>دلیل</th>\n",
              "      <th>ریاضی</th>\n",
              "      <th>لیست</th>\n",
              "      <th>نظر</th>\n",
              "      <th>واقعیت</th>\n",
              "      <th>پیشنهاد</th>\n",
              "      <th>id</th>\n",
              "    </tr>\n",
              "  </thead>\n",
              "  <tbody>\n",
              "    <tr>\n",
              "      <th>0</th>\n",
              "      <td>تفاوت ترمز عقب دیسکی و کاسه ای چیست؟</td>\n",
              "      <td>0</td>\n",
              "      <td>0</td>\n",
              "      <td>0</td>\n",
              "      <td>0</td>\n",
              "      <td>1</td>\n",
              "      <td>1</td>\n",
              "      <td>0</td>\n",
              "      <td>0</td>\n",
              "      <td>0</td>\n",
              "      <td>1</td>\n",
              "      <td>0</td>\n",
              "      <td>0</td>\n",
              "      <td>0</td>\n",
              "    </tr>\n",
              "    <tr>\n",
              "      <th>1</th>\n",
              "      <td>آیا ترمز ضدقفل ABS در همه چرخ ها عمل می کند؟</td>\n",
              "      <td>0</td>\n",
              "      <td>1</td>\n",
              "      <td>0</td>\n",
              "      <td>0</td>\n",
              "      <td>0</td>\n",
              "      <td>1</td>\n",
              "      <td>0</td>\n",
              "      <td>0</td>\n",
              "      <td>0</td>\n",
              "      <td>1</td>\n",
              "      <td>0</td>\n",
              "      <td>0</td>\n",
              "      <td>1</td>\n",
              "    </tr>\n",
              "    <tr>\n",
              "      <th>2</th>\n",
              "      <td>چرا باوجود نصب بودن ترمز ABS بر روی خودرو، ترم...</td>\n",
              "      <td>0</td>\n",
              "      <td>0</td>\n",
              "      <td>0</td>\n",
              "      <td>0</td>\n",
              "      <td>0</td>\n",
              "      <td>1</td>\n",
              "      <td>1</td>\n",
              "      <td>0</td>\n",
              "      <td>0</td>\n",
              "      <td>1</td>\n",
              "      <td>0</td>\n",
              "      <td>0</td>\n",
              "      <td>2</td>\n",
              "    </tr>\n",
              "    <tr>\n",
              "      <th>3</th>\n",
              "      <td>چرا با وجود نصب بودن Airbag بر روی خودرو، در ه...</td>\n",
              "      <td>0</td>\n",
              "      <td>0</td>\n",
              "      <td>0</td>\n",
              "      <td>0</td>\n",
              "      <td>0</td>\n",
              "      <td>1</td>\n",
              "      <td>1</td>\n",
              "      <td>0</td>\n",
              "      <td>0</td>\n",
              "      <td>1</td>\n",
              "      <td>0</td>\n",
              "      <td>0</td>\n",
              "      <td>3</td>\n",
              "    </tr>\n",
              "    <tr>\n",
              "      <th>4</th>\n",
              "      <td>کلاس های مختلف خودرو چگونه شناسایی می شوند؟</td>\n",
              "      <td>0</td>\n",
              "      <td>0</td>\n",
              "      <td>0</td>\n",
              "      <td>0</td>\n",
              "      <td>1</td>\n",
              "      <td>0</td>\n",
              "      <td>0</td>\n",
              "      <td>0</td>\n",
              "      <td>1</td>\n",
              "      <td>1</td>\n",
              "      <td>0</td>\n",
              "      <td>0</td>\n",
              "      <td>4</td>\n",
              "    </tr>\n",
              "  </tbody>\n",
              "</table>\n",
              "</div>"
            ],
            "text/plain": [
              "                                            sentence  انتخاب  ...  پیشنهاد  id\n",
              "0              تفاوت ترمز عقب دیسکی و کاسه ای چیست؟        0  ...        0   0\n",
              "1     آیا ترمز ضدقفل ABS در همه چرخ ها عمل می کند؟         0  ...        0   1\n",
              "2  چرا باوجود نصب بودن ترمز ABS بر روی خودرو، ترم...       0  ...        0   2\n",
              "3  چرا با وجود نصب بودن Airbag بر روی خودرو، در ه...       0  ...        0   3\n",
              "4       کلاس های مختلف خودرو چگونه شناسایی می شوند؟        0  ...        0   4\n",
              "\n",
              "[5 rows x 14 columns]"
            ]
          },
          "metadata": {
            "tags": []
          },
          "execution_count": 126
        }
      ]
    },
    {
      "cell_type": "code",
      "metadata": {
        "id": "Xe6bcjJNpp4v"
      },
      "source": [
        "parsivar_tokenizer = Tokenizer()\n",
        "parsivar_normalizer = Normalizer(statistical_space_correction=False)"
      ],
      "execution_count": 124,
      "outputs": []
    },
    {
      "cell_type": "code",
      "metadata": {
        "id": "q3GgK-oOptpK"
      },
      "source": [
        "def get_w2v_embedding(sent):\n",
        "    sent_tokens = parsivar_tokenizer.tokenize_words(parsivar_normalizer.normalize(sent))\n",
        "    tokens_embeddings = []\n",
        "    for token in sent_tokens:\n",
        "      if token in embeddings_dictionary.keys():\n",
        "        tokens_embeddings.append(embeddings_dictionary[token])\n",
        "    sent_embedding = np.mean(tokens_embeddings, axis=0)\n",
        "    return sent_embedding"
      ],
      "execution_count": 128,
      "outputs": []
    },
    {
      "cell_type": "code",
      "metadata": {
        "id": "JL1t0jYMJqc8",
        "outputId": "665118d5-d9de-4bcb-9f7f-7a890a61c42a",
        "colab": {
          "base_uri": "https://localhost:8080/"
        }
      },
      "source": [
        "len(get_w2v_embedding(df_types_w2v.loc[0].sentence))"
      ],
      "execution_count": 129,
      "outputs": [
        {
          "output_type": "execute_result",
          "data": {
            "text/plain": [
              "100"
            ]
          },
          "metadata": {
            "tags": []
          },
          "execution_count": 129
        }
      ]
    },
    {
      "cell_type": "code",
      "metadata": {
        "id": "vjdlAtOXpvqa",
        "outputId": "55e1ef6f-94b9-47f0-c994-452e74500792",
        "colab": {
          "base_uri": "https://localhost:8080/",
          "height": 204
        }
      },
      "source": [
        "df_types_w2v['sentence'] = df_types_w2v.apply(lambda row: np.concatenate((get_w2v_embedding(row.sentence),df_topics_np[row.id])), axis=1)\n",
        "df_types_w2v = df_types_w2v[df_types_w2v.columns[:-1]]\n",
        "df_types_w2v.head()"
      ],
      "execution_count": 132,
      "outputs": [
        {
          "output_type": "execute_result",
          "data": {
            "text/html": [
              "<div>\n",
              "<style scoped>\n",
              "    .dataframe tbody tr th:only-of-type {\n",
              "        vertical-align: middle;\n",
              "    }\n",
              "\n",
              "    .dataframe tbody tr th {\n",
              "        vertical-align: top;\n",
              "    }\n",
              "\n",
              "    .dataframe thead th {\n",
              "        text-align: right;\n",
              "    }\n",
              "</style>\n",
              "<table border=\"1\" class=\"dataframe\">\n",
              "  <thead>\n",
              "    <tr style=\"text-align: right;\">\n",
              "      <th></th>\n",
              "      <th>sentence</th>\n",
              "      <th>انتخاب</th>\n",
              "      <th>بله/خیر</th>\n",
              "      <th>ترجمه</th>\n",
              "      <th>تعامل</th>\n",
              "      <th>تعریف</th>\n",
              "      <th>توضیح</th>\n",
              "      <th>دلیل</th>\n",
              "      <th>ریاضی</th>\n",
              "      <th>لیست</th>\n",
              "      <th>نظر</th>\n",
              "      <th>واقعیت</th>\n",
              "      <th>پیشنهاد</th>\n",
              "    </tr>\n",
              "  </thead>\n",
              "  <tbody>\n",
              "    <tr>\n",
              "      <th>0</th>\n",
              "      <td>[0.15668366849422455, -0.283892422914505, 0.90...</td>\n",
              "      <td>0</td>\n",
              "      <td>0</td>\n",
              "      <td>0</td>\n",
              "      <td>0</td>\n",
              "      <td>1</td>\n",
              "      <td>1</td>\n",
              "      <td>0</td>\n",
              "      <td>0</td>\n",
              "      <td>0</td>\n",
              "      <td>1</td>\n",
              "      <td>0</td>\n",
              "      <td>0</td>\n",
              "    </tr>\n",
              "    <tr>\n",
              "      <th>1</th>\n",
              "      <td>[-0.12556250393390656, -1.6543718576431274, -0...</td>\n",
              "      <td>0</td>\n",
              "      <td>1</td>\n",
              "      <td>0</td>\n",
              "      <td>0</td>\n",
              "      <td>0</td>\n",
              "      <td>1</td>\n",
              "      <td>0</td>\n",
              "      <td>0</td>\n",
              "      <td>0</td>\n",
              "      <td>1</td>\n",
              "      <td>0</td>\n",
              "      <td>0</td>\n",
              "    </tr>\n",
              "    <tr>\n",
              "      <th>2</th>\n",
              "      <td>[-0.06706424802541733, -1.07315993309021, 1.26...</td>\n",
              "      <td>0</td>\n",
              "      <td>0</td>\n",
              "      <td>0</td>\n",
              "      <td>0</td>\n",
              "      <td>0</td>\n",
              "      <td>1</td>\n",
              "      <td>1</td>\n",
              "      <td>0</td>\n",
              "      <td>0</td>\n",
              "      <td>1</td>\n",
              "      <td>0</td>\n",
              "      <td>0</td>\n",
              "    </tr>\n",
              "    <tr>\n",
              "      <th>3</th>\n",
              "      <td>[0.3817482888698578, -1.376911997795105, 0.927...</td>\n",
              "      <td>0</td>\n",
              "      <td>0</td>\n",
              "      <td>0</td>\n",
              "      <td>0</td>\n",
              "      <td>0</td>\n",
              "      <td>1</td>\n",
              "      <td>1</td>\n",
              "      <td>0</td>\n",
              "      <td>0</td>\n",
              "      <td>1</td>\n",
              "      <td>0</td>\n",
              "      <td>0</td>\n",
              "    </tr>\n",
              "    <tr>\n",
              "      <th>4</th>\n",
              "      <td>[0.9607437252998352, -0.7673529982566833, -2.3...</td>\n",
              "      <td>0</td>\n",
              "      <td>0</td>\n",
              "      <td>0</td>\n",
              "      <td>0</td>\n",
              "      <td>1</td>\n",
              "      <td>0</td>\n",
              "      <td>0</td>\n",
              "      <td>0</td>\n",
              "      <td>1</td>\n",
              "      <td>1</td>\n",
              "      <td>0</td>\n",
              "      <td>0</td>\n",
              "    </tr>\n",
              "  </tbody>\n",
              "</table>\n",
              "</div>"
            ],
            "text/plain": [
              "                                            sentence  انتخاب  ...  واقعیت  پیشنهاد\n",
              "0  [0.15668366849422455, -0.283892422914505, 0.90...       0  ...       0        0\n",
              "1  [-0.12556250393390656, -1.6543718576431274, -0...       0  ...       0        0\n",
              "2  [-0.06706424802541733, -1.07315993309021, 1.26...       0  ...       0        0\n",
              "3  [0.3817482888698578, -1.376911997795105, 0.927...       0  ...       0        0\n",
              "4  [0.9607437252998352, -0.7673529982566833, -2.3...       0  ...       0        0\n",
              "\n",
              "[5 rows x 13 columns]"
            ]
          },
          "metadata": {
            "tags": []
          },
          "execution_count": 132
        }
      ]
    },
    {
      "cell_type": "code",
      "metadata": {
        "id": "d-KVgmCeJ_Y5",
        "outputId": "a40a2286-1b63-4af2-bb47-97926e845013",
        "colab": {
          "base_uri": "https://localhost:8080/"
        }
      },
      "source": [
        "len(df_types_w2v.loc[0].sentence)"
      ],
      "execution_count": 133,
      "outputs": [
        {
          "output_type": "execute_result",
          "data": {
            "text/plain": [
              "123"
            ]
          },
          "metadata": {
            "tags": []
          },
          "execution_count": 133
        }
      ]
    },
    {
      "cell_type": "code",
      "metadata": {
        "id": "GApcDQmPpxfV",
        "outputId": "b8606c43-1e30-4662-b9cb-4fc33d9f644e",
        "colab": {
          "base_uri": "https://localhost:8080/"
        }
      },
      "source": [
        "X = np.array(df_types_w2v[df_types_w2v.columns[0]])\n",
        "X = np.vstack(X)\n",
        "\n",
        "Y = df_types_w2v[df_types_w2v.columns[1:]].values\n",
        "n_class = Y.shape[1]\n",
        "\n",
        "X.shape, Y.shape"
      ],
      "execution_count": 134,
      "outputs": [
        {
          "output_type": "execute_result",
          "data": {
            "text/plain": [
              "((2424, 123), (2424, 12))"
            ]
          },
          "metadata": {
            "tags": []
          },
          "execution_count": 134
        }
      ]
    },
    {
      "cell_type": "code",
      "metadata": {
        "id": "B2txSut1p1DA"
      },
      "source": [
        "X_train, X_test, y_train, y_test = train_test_split(X, Y, test_size=0.10)"
      ],
      "execution_count": 135,
      "outputs": []
    },
    {
      "cell_type": "code",
      "metadata": {
        "id": "5mjBisxAp22H",
        "outputId": "d7b8a7ec-e5d3-46c8-8ed1-a10c27768b64",
        "colab": {
          "base_uri": "https://localhost:8080/"
        }
      },
      "source": [
        "len(X_train),len(X_test),len(y_train),len(y_test)"
      ],
      "execution_count": 136,
      "outputs": [
        {
          "output_type": "execute_result",
          "data": {
            "text/plain": [
              "(2181, 243, 2181, 243)"
            ]
          },
          "metadata": {
            "tags": []
          },
          "execution_count": 136
        }
      ]
    },
    {
      "cell_type": "code",
      "metadata": {
        "id": "rNEztRRWp-WX",
        "outputId": "c3adf2bf-d484-4792-cd50-ef7ced6608c6",
        "colab": {
          "base_uri": "https://localhost:8080/"
        }
      },
      "source": [
        "model = tf.keras.Sequential([\n",
        "    tf.keras.layers.Input(shape=X[0].shape, name='input_layer'),\n",
        "    # tf.keras.layers.Dense(32, activation='relu', name='Dense_Layer0'),\n",
        "    # tf.keras.layers.Dropout(rate=0.2, name=\"Dropout0\"),\n",
        "    tf.keras.layers.Dense(16, activation='relu', name='Dense_Layer1'),\n",
        "                          # activity_regularizer=tf.keras.regularizers.l2()),\n",
        "    \n",
        "    # tf.keras.layers.Dropout(rate=0.2, name=\"Dropout1\"),\n",
        "    # tf.keras.layers.Dense(32, activation='relu', name='Dense_Layer2'),\n",
        "                          # activity_regularizer=tf.keras.regularizers.l2()),\n",
        "    # tf.keras.layers.Dropout(rate=0.2, name=\"Dropout2\"),\n",
        "    tf.keras.layers.Dense(n_class, activation='sigmoid', name='Dense_Layer3'),\n",
        "\n",
        "  ], name='Word2Vec_MODEL')\n",
        "\n",
        "model.compile(loss='binary_crossentropy', optimizer='adam', \n",
        "              metrics=['acc',\n",
        "                       tfa.metrics.f_scores.F1Score(n_class,'weighted', threshold=0.5, name='f1'),\n",
        "                       tfa.metrics.f_scores.F1Score(n_class,'macro',threshold=0.5, name='macro'),\n",
        "                       tfa.metrics.f_scores.F1Score(n_class,'micro',threshold=0.5, name='micro'),\n",
        "                       tfa.metrics.HammingLoss(mode='multilabel',threshold=0.5, name='hamloss')])\n",
        "print(model.summary())"
      ],
      "execution_count": 137,
      "outputs": [
        {
          "output_type": "stream",
          "text": [
            "Model: \"Word2Vec_MODEL\"\n",
            "_________________________________________________________________\n",
            "Layer (type)                 Output Shape              Param #   \n",
            "=================================================================\n",
            "Dense_Layer1 (Dense)         (None, 16)                1984      \n",
            "_________________________________________________________________\n",
            "Dense_Layer3 (Dense)         (None, 12)                204       \n",
            "=================================================================\n",
            "Total params: 2,188\n",
            "Trainable params: 2,188\n",
            "Non-trainable params: 0\n",
            "_________________________________________________________________\n",
            "None\n"
          ],
          "name": "stdout"
        }
      ]
    },
    {
      "cell_type": "code",
      "metadata": {
        "id": "7T4nHgUuqAPb",
        "outputId": "211e029d-bc1d-40c2-dedc-a3c737b4c2f3",
        "colab": {
          "base_uri": "https://localhost:8080/"
        }
      },
      "source": [
        "history = model.fit(X_train, y_train, batch_size=8, epochs=20, verbose=1, validation_split=0.2)"
      ],
      "execution_count": 138,
      "outputs": [
        {
          "output_type": "stream",
          "text": [
            "Epoch 1/20\n",
            "218/218 [==============================] - 1s 5ms/step - loss: 0.3794 - acc: 0.4243 - f1: 0.4562 - macro: 0.1767 - micro: 0.4634 - hamloss: 0.1674 - val_loss: 0.2863 - val_acc: 0.4737 - val_f1: 0.4892 - val_macro: 0.1672 - val_micro: 0.5798 - val_hamloss: 0.1175\n",
            "Epoch 2/20\n",
            "218/218 [==============================] - 1s 4ms/step - loss: 0.2598 - acc: 0.4776 - f1: 0.5571 - macro: 0.2152 - micro: 0.6273 - hamloss: 0.1059 - val_loss: 0.2661 - val_acc: 0.4874 - val_f1: 0.5521 - val_macro: 0.2203 - val_micro: 0.6302 - val_hamloss: 0.1083\n",
            "Epoch 3/20\n",
            "218/218 [==============================] - 1s 4ms/step - loss: 0.2399 - acc: 0.5120 - f1: 0.6096 - macro: 0.2565 - micro: 0.6680 - hamloss: 0.0978 - val_loss: 0.2553 - val_acc: 0.5995 - val_f1: 0.5760 - val_macro: 0.2317 - val_micro: 0.6501 - val_hamloss: 0.1022\n",
            "Epoch 4/20\n",
            "218/218 [==============================] - 1s 4ms/step - loss: 0.2265 - acc: 0.5700 - f1: 0.6427 - macro: 0.2895 - micro: 0.6930 - hamloss: 0.0916 - val_loss: 0.2446 - val_acc: 0.5904 - val_f1: 0.5865 - val_macro: 0.2344 - val_micro: 0.6559 - val_hamloss: 0.1013\n",
            "Epoch 5/20\n",
            "218/218 [==============================] - 1s 4ms/step - loss: 0.2167 - acc: 0.5889 - f1: 0.6677 - macro: 0.3128 - micro: 0.7139 - hamloss: 0.0857 - val_loss: 0.2381 - val_acc: 0.6270 - val_f1: 0.6197 - val_macro: 0.2750 - val_micro: 0.6761 - val_hamloss: 0.0961\n",
            "Epoch 6/20\n",
            "218/218 [==============================] - 1s 4ms/step - loss: 0.2101 - acc: 0.6141 - f1: 0.6772 - macro: 0.3210 - micro: 0.7191 - hamloss: 0.0841 - val_loss: 0.2356 - val_acc: 0.6041 - val_f1: 0.6231 - val_macro: 0.2857 - val_micro: 0.6767 - val_hamloss: 0.0978\n",
            "Epoch 7/20\n",
            "218/218 [==============================] - 1s 4ms/step - loss: 0.2042 - acc: 0.6307 - f1: 0.6901 - macro: 0.3339 - micro: 0.7291 - hamloss: 0.0816 - val_loss: 0.2335 - val_acc: 0.6178 - val_f1: 0.6215 - val_macro: 0.2855 - val_micro: 0.6714 - val_hamloss: 0.0965\n",
            "Epoch 8/20\n",
            "218/218 [==============================] - 1s 4ms/step - loss: 0.1997 - acc: 0.6359 - f1: 0.6945 - macro: 0.3413 - micro: 0.7322 - hamloss: 0.0804 - val_loss: 0.2293 - val_acc: 0.6270 - val_f1: 0.6313 - val_macro: 0.2889 - val_micro: 0.6806 - val_hamloss: 0.0963\n",
            "Epoch 9/20\n",
            "218/218 [==============================] - 1s 4ms/step - loss: 0.1952 - acc: 0.6439 - f1: 0.7090 - macro: 0.3548 - micro: 0.7434 - hamloss: 0.0774 - val_loss: 0.2307 - val_acc: 0.6339 - val_f1: 0.6447 - val_macro: 0.3134 - val_micro: 0.6893 - val_hamloss: 0.0927\n",
            "Epoch 10/20\n",
            "218/218 [==============================] - 1s 5ms/step - loss: 0.1915 - acc: 0.6479 - f1: 0.7153 - macro: 0.3615 - micro: 0.7471 - hamloss: 0.0763 - val_loss: 0.2276 - val_acc: 0.6453 - val_f1: 0.6437 - val_macro: 0.3064 - val_micro: 0.6885 - val_hamloss: 0.0942\n",
            "Epoch 11/20\n",
            "218/218 [==============================] - 1s 4ms/step - loss: 0.1884 - acc: 0.6491 - f1: 0.7170 - macro: 0.3691 - micro: 0.7480 - hamloss: 0.0761 - val_loss: 0.2274 - val_acc: 0.6384 - val_f1: 0.6540 - val_macro: 0.3210 - val_micro: 0.6948 - val_hamloss: 0.0925\n",
            "Epoch 12/20\n",
            "218/218 [==============================] - 1s 4ms/step - loss: 0.1859 - acc: 0.6456 - f1: 0.7208 - macro: 0.3714 - micro: 0.7518 - hamloss: 0.0751 - val_loss: 0.2280 - val_acc: 0.6430 - val_f1: 0.6568 - val_macro: 0.3268 - val_micro: 0.6985 - val_hamloss: 0.0904\n",
            "Epoch 13/20\n",
            "218/218 [==============================] - 1s 4ms/step - loss: 0.1835 - acc: 0.6577 - f1: 0.7231 - macro: 0.3731 - micro: 0.7546 - hamloss: 0.0738 - val_loss: 0.2259 - val_acc: 0.6407 - val_f1: 0.6586 - val_macro: 0.3304 - val_micro: 0.6897 - val_hamloss: 0.0927\n",
            "Epoch 14/20\n",
            "218/218 [==============================] - 1s 4ms/step - loss: 0.1806 - acc: 0.6502 - f1: 0.7356 - macro: 0.3965 - micro: 0.7623 - hamloss: 0.0716 - val_loss: 0.2257 - val_acc: 0.6499 - val_f1: 0.6523 - val_macro: 0.3214 - val_micro: 0.6922 - val_hamloss: 0.0921\n",
            "Epoch 15/20\n",
            "218/218 [==============================] - 1s 4ms/step - loss: 0.1790 - acc: 0.6474 - f1: 0.7335 - macro: 0.3892 - micro: 0.7609 - hamloss: 0.0726 - val_loss: 0.2279 - val_acc: 0.6545 - val_f1: 0.6471 - val_macro: 0.3210 - val_micro: 0.6866 - val_hamloss: 0.0938\n",
            "Epoch 16/20\n",
            "218/218 [==============================] - 1s 4ms/step - loss: 0.1765 - acc: 0.6462 - f1: 0.7389 - macro: 0.4048 - micro: 0.7647 - hamloss: 0.0710 - val_loss: 0.2284 - val_acc: 0.6453 - val_f1: 0.6506 - val_macro: 0.3225 - val_micro: 0.6892 - val_hamloss: 0.0931\n",
            "Epoch 17/20\n",
            "218/218 [==============================] - 1s 4ms/step - loss: 0.1745 - acc: 0.6537 - f1: 0.7451 - macro: 0.4068 - micro: 0.7689 - hamloss: 0.0702 - val_loss: 0.2297 - val_acc: 0.6430 - val_f1: 0.6473 - val_macro: 0.3244 - val_micro: 0.6828 - val_hamloss: 0.0952\n",
            "Epoch 18/20\n",
            "218/218 [==============================] - 1s 4ms/step - loss: 0.1730 - acc: 0.6508 - f1: 0.7433 - macro: 0.4005 - micro: 0.7689 - hamloss: 0.0700 - val_loss: 0.2278 - val_acc: 0.6499 - val_f1: 0.6486 - val_macro: 0.3214 - val_micro: 0.6875 - val_hamloss: 0.0936\n",
            "Epoch 19/20\n",
            "218/218 [==============================] - 1s 4ms/step - loss: 0.1712 - acc: 0.6514 - f1: 0.7501 - macro: 0.4137 - micro: 0.7742 - hamloss: 0.0682 - val_loss: 0.2291 - val_acc: 0.6384 - val_f1: 0.6587 - val_macro: 0.3316 - val_micro: 0.6933 - val_hamloss: 0.0923\n",
            "Epoch 20/20\n",
            "218/218 [==============================] - 1s 4ms/step - loss: 0.1697 - acc: 0.6583 - f1: 0.7508 - macro: 0.4100 - micro: 0.7744 - hamloss: 0.0681 - val_loss: 0.2308 - val_acc: 0.6430 - val_f1: 0.6566 - val_macro: 0.3376 - val_micro: 0.6914 - val_hamloss: 0.0936\n"
          ],
          "name": "stdout"
        }
      ]
    },
    {
      "cell_type": "code",
      "metadata": {
        "id": "a0rWezRVqAoq",
        "outputId": "b566436b-42a1-47a9-8f98-e3ebb791bad9",
        "colab": {
          "base_uri": "https://localhost:8080/"
        }
      },
      "source": [
        "score = model.evaluate(X_test, y_test, verbose=1)"
      ],
      "execution_count": 139,
      "outputs": [
        {
          "output_type": "stream",
          "text": [
            "8/8 [==============================] - 0s 4ms/step - loss: 0.2155 - acc: 0.5761 - f1: 0.7135 - macro: 0.3384 - micro: 0.7398 - hamloss: 0.0806\n"
          ],
          "name": "stdout"
        }
      ]
    },
    {
      "cell_type": "code",
      "metadata": {
        "id": "ZGz_KLOBqCTL",
        "outputId": "37004b36-93ce-4262-860c-937d229daf4f",
        "colab": {
          "base_uri": "https://localhost:8080/",
          "height": 573
        }
      },
      "source": [
        "import matplotlib.pyplot as plt\n",
        "\n",
        "plt.plot(history.history['acc'])\n",
        "plt.plot(history.history['val_acc'])\n",
        "\n",
        "plt.title('model accuracy')\n",
        "plt.ylabel('accuracy')\n",
        "plt.xlabel('epoch')\n",
        "plt.legend(['train','test'], loc='upper left')\n",
        "plt.show()\n",
        "\n",
        "plt.plot(history.history['loss'])\n",
        "plt.plot(history.history['val_loss'])\n",
        "\n",
        "plt.title('model loss')\n",
        "plt.ylabel('loss')\n",
        "plt.xlabel('epoch')\n",
        "plt.legend(['train','test'], loc='upper left')\n",
        "plt.show()"
      ],
      "execution_count": 140,
      "outputs": [
        {
          "output_type": "display_data",
          "data": {
            "image/png": "[encoded data removed]",
            "text/plain": [
              "<Figure size 432x288 with 1 Axes>"
            ]
          },
          "metadata": {
            "tags": [],
            "needs_background": "light"
          }
        },
        {
          "output_type": "display_data",
          "data": {
            "image/png": "[encoded data removed]",
            "text/plain": [
              "<Figure size 432x288 with 1 Axes>"
            ]
          },
          "metadata": {
            "tags": [],
            "needs_background": "light"
          }
        }
      ]
    }
  ]
}