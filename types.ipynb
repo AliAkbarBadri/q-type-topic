{
  "nbformat": 4,
  "nbformat_minor": 0,
  "metadata": {
    "colab": {
      "name": "tempo.ipynb",
      "provenance": [],
      "include_colab_link": true
    },
    "kernelspec": {
      "name": "python3",
      "display_name": "Python 3"
    },
    "accelerator": "GPU",
    "widgets": {
      "application/vnd.jupyter.widget-state+json": {
        "724c4db26949490da0a2804034ebada3": {
          "model_module": "@jupyter-widgets/controls",
          "model_name": "HBoxModel",
          "state": {
            "_view_name": "HBoxView",
            "_dom_classes": [],
            "_model_name": "HBoxModel",
            "_view_module": "@jupyter-widgets/controls",
            "_model_module_version": "1.5.0",
            "_view_count": null,
            "_view_module_version": "1.5.0",
            "box_style": "",
            "layout": "IPY_MODEL_517f922a3f2848a48c8c65762a627035",
            "_model_module": "@jupyter-widgets/controls",
            "children": [
              "IPY_MODEL_c8b531171f4e48e39656866ab2c6c81c",
              "IPY_MODEL_4fe35c2631d54f5fbb21a8131e645944"
            ]
          }
        },
        "517f922a3f2848a48c8c65762a627035": {
          "model_module": "@jupyter-widgets/base",
          "model_name": "LayoutModel",
          "state": {
            "_view_name": "LayoutView",
            "grid_template_rows": null,
            "right": null,
            "justify_content": null,
            "_view_module": "@jupyter-widgets/base",
            "overflow": null,
            "_model_module_version": "1.2.0",
            "_view_count": null,
            "flex_flow": null,
            "width": null,
            "min_width": null,
            "border": null,
            "align_items": null,
            "bottom": null,
            "_model_module": "@jupyter-widgets/base",
            "top": null,
            "grid_column": null,
            "overflow_y": null,
            "overflow_x": null,
            "grid_auto_flow": null,
            "grid_area": null,
            "grid_template_columns": null,
            "flex": null,
            "_model_name": "LayoutModel",
            "justify_items": null,
            "grid_row": null,
            "max_height": null,
            "align_content": null,
            "visibility": null,
            "align_self": null,
            "height": null,
            "min_height": null,
            "padding": null,
            "grid_auto_rows": null,
            "grid_gap": null,
            "max_width": null,
            "order": null,
            "_view_module_version": "1.2.0",
            "grid_template_areas": null,
            "object_position": null,
            "object_fit": null,
            "grid_auto_columns": null,
            "margin": null,
            "display": null,
            "left": null
          }
        },
        "c8b531171f4e48e39656866ab2c6c81c": {
          "model_module": "@jupyter-widgets/controls",
          "model_name": "FloatProgressModel",
          "state": {
            "_view_name": "ProgressView",
            "style": "IPY_MODEL_b21bdeb21db44406b4a297f63af80d3c",
            "_dom_classes": [],
            "description": "Downloading: 100%",
            "_model_name": "FloatProgressModel",
            "bar_style": "success",
            "max": 684,
            "_view_module": "@jupyter-widgets/controls",
            "_model_module_version": "1.5.0",
            "value": 684,
            "_view_count": null,
            "_view_module_version": "1.5.0",
            "orientation": "horizontal",
            "min": 0,
            "description_tooltip": null,
            "_model_module": "@jupyter-widgets/controls",
            "layout": "IPY_MODEL_8832c9eb91a542b585c8c1528aef0ebd"
          }
        },
        "4fe35c2631d54f5fbb21a8131e645944": {
          "model_module": "@jupyter-widgets/controls",
          "model_name": "HTMLModel",
          "state": {
            "_view_name": "HTMLView",
            "style": "IPY_MODEL_a29a33791ff94d1dac593e8f93ecb086",
            "_dom_classes": [],
            "description": "",
            "_model_name": "HTMLModel",
            "placeholder": "​",
            "_view_module": "@jupyter-widgets/controls",
            "_model_module_version": "1.5.0",
            "value": " 684/684 [00:56&lt;00:00, 12.1B/s]",
            "_view_count": null,
            "_view_module_version": "1.5.0",
            "description_tooltip": null,
            "_model_module": "@jupyter-widgets/controls",
            "layout": "IPY_MODEL_bf0446fc203445699f7ab5cb95a8bdd4"
          }
        },
        "b21bdeb21db44406b4a297f63af80d3c": {
          "model_module": "@jupyter-widgets/controls",
          "model_name": "ProgressStyleModel",
          "state": {
            "_view_name": "StyleView",
            "_model_name": "ProgressStyleModel",
            "description_width": "initial",
            "_view_module": "@jupyter-widgets/base",
            "_model_module_version": "1.5.0",
            "_view_count": null,
            "_view_module_version": "1.2.0",
            "bar_color": null,
            "_model_module": "@jupyter-widgets/controls"
          }
        },
        "8832c9eb91a542b585c8c1528aef0ebd": {
          "model_module": "@jupyter-widgets/base",
          "model_name": "LayoutModel",
          "state": {
            "_view_name": "LayoutView",
            "grid_template_rows": null,
            "right": null,
            "justify_content": null,
            "_view_module": "@jupyter-widgets/base",
            "overflow": null,
            "_model_module_version": "1.2.0",
            "_view_count": null,
            "flex_flow": null,
            "width": null,
            "min_width": null,
            "border": null,
            "align_items": null,
            "bottom": null,
            "_model_module": "@jupyter-widgets/base",
            "top": null,
            "grid_column": null,
            "overflow_y": null,
            "overflow_x": null,
            "grid_auto_flow": null,
            "grid_area": null,
            "grid_template_columns": null,
            "flex": null,
            "_model_name": "LayoutModel",
            "justify_items": null,
            "grid_row": null,
            "max_height": null,
            "align_content": null,
            "visibility": null,
            "align_self": null,
            "height": null,
            "min_height": null,
            "padding": null,
            "grid_auto_rows": null,
            "grid_gap": null,
            "max_width": null,
            "order": null,
            "_view_module_version": "1.2.0",
            "grid_template_areas": null,
            "object_position": null,
            "object_fit": null,
            "grid_auto_columns": null,
            "margin": null,
            "display": null,
            "left": null
          }
        },
        "a29a33791ff94d1dac593e8f93ecb086": {
          "model_module": "@jupyter-widgets/controls",
          "model_name": "DescriptionStyleModel",
          "state": {
            "_view_name": "StyleView",
            "_model_name": "DescriptionStyleModel",
            "description_width": "",
            "_view_module": "@jupyter-widgets/base",
            "_model_module_version": "1.5.0",
            "_view_count": null,
            "_view_module_version": "1.2.0",
            "_model_module": "@jupyter-widgets/controls"
          }
        },
        "bf0446fc203445699f7ab5cb95a8bdd4": {
          "model_module": "@jupyter-widgets/base",
          "model_name": "LayoutModel",
          "state": {
            "_view_name": "LayoutView",
            "grid_template_rows": null,
            "right": null,
            "justify_content": null,
            "_view_module": "@jupyter-widgets/base",
            "overflow": null,
            "_model_module_version": "1.2.0",
            "_view_count": null,
            "flex_flow": null,
            "width": null,
            "min_width": null,
            "border": null,
            "align_items": null,
            "bottom": null,
            "_model_module": "@jupyter-widgets/base",
            "top": null,
            "grid_column": null,
            "overflow_y": null,
            "overflow_x": null,
            "grid_auto_flow": null,
            "grid_area": null,
            "grid_template_columns": null,
            "flex": null,
            "_model_name": "LayoutModel",
            "justify_items": null,
            "grid_row": null,
            "max_height": null,
            "align_content": null,
            "visibility": null,
            "align_self": null,
            "height": null,
            "min_height": null,
            "padding": null,
            "grid_auto_rows": null,
            "grid_gap": null,
            "max_width": null,
            "order": null,
            "_view_module_version": "1.2.0",
            "grid_template_areas": null,
            "object_position": null,
            "object_fit": null,
            "grid_auto_columns": null,
            "margin": null,
            "display": null,
            "left": null
          }
        },
        "a0fbebe18f5b4dd4b7ababd93c7f53dc": {
          "model_module": "@jupyter-widgets/controls",
          "model_name": "HBoxModel",
          "state": {
            "_view_name": "HBoxView",
            "_dom_classes": [],
            "_model_name": "HBoxModel",
            "_view_module": "@jupyter-widgets/controls",
            "_model_module_version": "1.5.0",
            "_view_count": null,
            "_view_module_version": "1.5.0",
            "box_style": "",
            "layout": "IPY_MODEL_87d8b3cce15b412bb6525ce35c37d612",
            "_model_module": "@jupyter-widgets/controls",
            "children": [
              "IPY_MODEL_fdb2e32c24c04d4495be357750a18841",
              "IPY_MODEL_09ae7e04926e4d9eb0aebc42235f67cf"
            ]
          }
        },
        "87d8b3cce15b412bb6525ce35c37d612": {
          "model_module": "@jupyter-widgets/base",
          "model_name": "LayoutModel",
          "state": {
            "_view_name": "LayoutView",
            "grid_template_rows": null,
            "right": null,
            "justify_content": null,
            "_view_module": "@jupyter-widgets/base",
            "overflow": null,
            "_model_module_version": "1.2.0",
            "_view_count": null,
            "flex_flow": null,
            "width": null,
            "min_width": null,
            "border": null,
            "align_items": null,
            "bottom": null,
            "_model_module": "@jupyter-widgets/base",
            "top": null,
            "grid_column": null,
            "overflow_y": null,
            "overflow_x": null,
            "grid_auto_flow": null,
            "grid_area": null,
            "grid_template_columns": null,
            "flex": null,
            "_model_name": "LayoutModel",
            "justify_items": null,
            "grid_row": null,
            "max_height": null,
            "align_content": null,
            "visibility": null,
            "align_self": null,
            "height": null,
            "min_height": null,
            "padding": null,
            "grid_auto_rows": null,
            "grid_gap": null,
            "max_width": null,
            "order": null,
            "_view_module_version": "1.2.0",
            "grid_template_areas": null,
            "object_position": null,
            "object_fit": null,
            "grid_auto_columns": null,
            "margin": null,
            "display": null,
            "left": null
          }
        },
        "fdb2e32c24c04d4495be357750a18841": {
          "model_module": "@jupyter-widgets/controls",
          "model_name": "FloatProgressModel",
          "state": {
            "_view_name": "ProgressView",
            "style": "IPY_MODEL_f50dea3366e14a15b39bb0ba872a1d01",
            "_dom_classes": [],
            "description": "Downloading: 100%",
            "_model_name": "FloatProgressModel",
            "bar_style": "success",
            "max": 1882978,
            "_view_module": "@jupyter-widgets/controls",
            "_model_module_version": "1.5.0",
            "value": 1882978,
            "_view_count": null,
            "_view_module_version": "1.5.0",
            "orientation": "horizontal",
            "min": 0,
            "description_tooltip": null,
            "_model_module": "@jupyter-widgets/controls",
            "layout": "IPY_MODEL_96c4a1145cad4b449d9fdb27b89f62a7"
          }
        },
        "09ae7e04926e4d9eb0aebc42235f67cf": {
          "model_module": "@jupyter-widgets/controls",
          "model_name": "HTMLModel",
          "state": {
            "_view_name": "HTMLView",
            "style": "IPY_MODEL_dbb762d16e634df0be4a3729f912ee5e",
            "_dom_classes": [],
            "description": "",
            "_model_name": "HTMLModel",
            "placeholder": "​",
            "_view_module": "@jupyter-widgets/controls",
            "_model_module_version": "1.5.0",
            "value": " 1.88M/1.88M [00:02&lt;00:00, 813kB/s]",
            "_view_count": null,
            "_view_module_version": "1.5.0",
            "description_tooltip": null,
            "_model_module": "@jupyter-widgets/controls",
            "layout": "IPY_MODEL_dba693ae3cfb45649444a20f4065f7fc"
          }
        },
        "f50dea3366e14a15b39bb0ba872a1d01": {
          "model_module": "@jupyter-widgets/controls",
          "model_name": "ProgressStyleModel",
          "state": {
            "_view_name": "StyleView",
            "_model_name": "ProgressStyleModel",
            "description_width": "initial",
            "_view_module": "@jupyter-widgets/base",
            "_model_module_version": "1.5.0",
            "_view_count": null,
            "_view_module_version": "1.2.0",
            "bar_color": null,
            "_model_module": "@jupyter-widgets/controls"
          }
        },
        "96c4a1145cad4b449d9fdb27b89f62a7": {
          "model_module": "@jupyter-widgets/base",
          "model_name": "LayoutModel",
          "state": {
            "_view_name": "LayoutView",
            "grid_template_rows": null,
            "right": null,
            "justify_content": null,
            "_view_module": "@jupyter-widgets/base",
            "overflow": null,
            "_model_module_version": "1.2.0",
            "_view_count": null,
            "flex_flow": null,
            "width": null,
            "min_width": null,
            "border": null,
            "align_items": null,
            "bottom": null,
            "_model_module": "@jupyter-widgets/base",
            "top": null,
            "grid_column": null,
            "overflow_y": null,
            "overflow_x": null,
            "grid_auto_flow": null,
            "grid_area": null,
            "grid_template_columns": null,
            "flex": null,
            "_model_name": "LayoutModel",
            "justify_items": null,
            "grid_row": null,
            "max_height": null,
            "align_content": null,
            "visibility": null,
            "align_self": null,
            "height": null,
            "min_height": null,
            "padding": null,
            "grid_auto_rows": null,
            "grid_gap": null,
            "max_width": null,
            "order": null,
            "_view_module_version": "1.2.0",
            "grid_template_areas": null,
            "object_position": null,
            "object_fit": null,
            "grid_auto_columns": null,
            "margin": null,
            "display": null,
            "left": null
          }
        },
        "dbb762d16e634df0be4a3729f912ee5e": {
          "model_module": "@jupyter-widgets/controls",
          "model_name": "DescriptionStyleModel",
          "state": {
            "_view_name": "StyleView",
            "_model_name": "DescriptionStyleModel",
            "description_width": "",
            "_view_module": "@jupyter-widgets/base",
            "_model_module_version": "1.5.0",
            "_view_count": null,
            "_view_module_version": "1.2.0",
            "_model_module": "@jupyter-widgets/controls"
          }
        },
        "dba693ae3cfb45649444a20f4065f7fc": {
          "model_module": "@jupyter-widgets/base",
          "model_name": "LayoutModel",
          "state": {
            "_view_name": "LayoutView",
            "grid_template_rows": null,
            "right": null,
            "justify_content": null,
            "_view_module": "@jupyter-widgets/base",
            "overflow": null,
            "_model_module_version": "1.2.0",
            "_view_count": null,
            "flex_flow": null,
            "width": null,
            "min_width": null,
            "border": null,
            "align_items": null,
            "bottom": null,
            "_model_module": "@jupyter-widgets/base",
            "top": null,
            "grid_column": null,
            "overflow_y": null,
            "overflow_x": null,
            "grid_auto_flow": null,
            "grid_area": null,
            "grid_template_columns": null,
            "flex": null,
            "_model_name": "LayoutModel",
            "justify_items": null,
            "grid_row": null,
            "max_height": null,
            "align_content": null,
            "visibility": null,
            "align_self": null,
            "height": null,
            "min_height": null,
            "padding": null,
            "grid_auto_rows": null,
            "grid_gap": null,
            "max_width": null,
            "order": null,
            "_view_module_version": "1.2.0",
            "grid_template_areas": null,
            "object_position": null,
            "object_fit": null,
            "grid_auto_columns": null,
            "margin": null,
            "display": null,
            "left": null
          }
        },
        "2d8dea53fd80444882d395cf7cbc2b50": {
          "model_module": "@jupyter-widgets/controls",
          "model_name": "HBoxModel",
          "state": {
            "_view_name": "HBoxView",
            "_dom_classes": [],
            "_model_name": "HBoxModel",
            "_view_module": "@jupyter-widgets/controls",
            "_model_module_version": "1.5.0",
            "_view_count": null,
            "_view_module_version": "1.5.0",
            "box_style": "",
            "layout": "IPY_MODEL_718807eb240b4d9a962aa8329c290a72",
            "_model_module": "@jupyter-widgets/controls",
            "children": [
              "IPY_MODEL_399d94913a484ea7b4803b9e1596afad",
              "IPY_MODEL_578a2c24ddd343fdb4656385d70c31e6"
            ]
          }
        },
        "718807eb240b4d9a962aa8329c290a72": {
          "model_module": "@jupyter-widgets/base",
          "model_name": "LayoutModel",
          "state": {
            "_view_name": "LayoutView",
            "grid_template_rows": null,
            "right": null,
            "justify_content": null,
            "_view_module": "@jupyter-widgets/base",
            "overflow": null,
            "_model_module_version": "1.2.0",
            "_view_count": null,
            "flex_flow": null,
            "width": null,
            "min_width": null,
            "border": null,
            "align_items": null,
            "bottom": null,
            "_model_module": "@jupyter-widgets/base",
            "top": null,
            "grid_column": null,
            "overflow_y": null,
            "overflow_x": null,
            "grid_auto_flow": null,
            "grid_area": null,
            "grid_template_columns": null,
            "flex": null,
            "_model_name": "LayoutModel",
            "justify_items": null,
            "grid_row": null,
            "max_height": null,
            "align_content": null,
            "visibility": null,
            "align_self": null,
            "height": null,
            "min_height": null,
            "padding": null,
            "grid_auto_rows": null,
            "grid_gap": null,
            "max_width": null,
            "order": null,
            "_view_module_version": "1.2.0",
            "grid_template_areas": null,
            "object_position": null,
            "object_fit": null,
            "grid_auto_columns": null,
            "margin": null,
            "display": null,
            "left": null
          }
        },
        "399d94913a484ea7b4803b9e1596afad": {
          "model_module": "@jupyter-widgets/controls",
          "model_name": "FloatProgressModel",
          "state": {
            "_view_name": "ProgressView",
            "style": "IPY_MODEL_fea84831149c4bf19fa2a9c1f18d6e15",
            "_dom_classes": [],
            "description": "Downloading: 100%",
            "_model_name": "FloatProgressModel",
            "bar_style": "success",
            "max": 73062448,
            "_view_module": "@jupyter-widgets/controls",
            "_model_module_version": "1.5.0",
            "value": 73062448,
            "_view_count": null,
            "_view_module_version": "1.5.0",
            "orientation": "horizontal",
            "min": 0,
            "description_tooltip": null,
            "_model_module": "@jupyter-widgets/controls",
            "layout": "IPY_MODEL_b3a6d818ffff4564aaa300601c684581"
          }
        },
        "578a2c24ddd343fdb4656385d70c31e6": {
          "model_module": "@jupyter-widgets/controls",
          "model_name": "HTMLModel",
          "state": {
            "_view_name": "HTMLView",
            "style": "IPY_MODEL_15830902c45740d4bc177592b79ae876",
            "_dom_classes": [],
            "description": "",
            "_model_name": "HTMLModel",
            "placeholder": "​",
            "_view_module": "@jupyter-widgets/controls",
            "_model_module_version": "1.5.0",
            "value": " 73.1M/73.1M [00:53&lt;00:00, 1.37MB/s]",
            "_view_count": null,
            "_view_module_version": "1.5.0",
            "description_tooltip": null,
            "_model_module": "@jupyter-widgets/controls",
            "layout": "IPY_MODEL_df8f4266c6064157a1686404397b1e9b"
          }
        },
        "fea84831149c4bf19fa2a9c1f18d6e15": {
          "model_module": "@jupyter-widgets/controls",
          "model_name": "ProgressStyleModel",
          "state": {
            "_view_name": "StyleView",
            "_model_name": "ProgressStyleModel",
            "description_width": "initial",
            "_view_module": "@jupyter-widgets/base",
            "_model_module_version": "1.5.0",
            "_view_count": null,
            "_view_module_version": "1.2.0",
            "bar_color": null,
            "_model_module": "@jupyter-widgets/controls"
          }
        },
        "b3a6d818ffff4564aaa300601c684581": {
          "model_module": "@jupyter-widgets/base",
          "model_name": "LayoutModel",
          "state": {
            "_view_name": "LayoutView",
            "grid_template_rows": null,
            "right": null,
            "justify_content": null,
            "_view_module": "@jupyter-widgets/base",
            "overflow": null,
            "_model_module_version": "1.2.0",
            "_view_count": null,
            "flex_flow": null,
            "width": null,
            "min_width": null,
            "border": null,
            "align_items": null,
            "bottom": null,
            "_model_module": "@jupyter-widgets/base",
            "top": null,
            "grid_column": null,
            "overflow_y": null,
            "overflow_x": null,
            "grid_auto_flow": null,
            "grid_area": null,
            "grid_template_columns": null,
            "flex": null,
            "_model_name": "LayoutModel",
            "justify_items": null,
            "grid_row": null,
            "max_height": null,
            "align_content": null,
            "visibility": null,
            "align_self": null,
            "height": null,
            "min_height": null,
            "padding": null,
            "grid_auto_rows": null,
            "grid_gap": null,
            "max_width": null,
            "order": null,
            "_view_module_version": "1.2.0",
            "grid_template_areas": null,
            "object_position": null,
            "object_fit": null,
            "grid_auto_columns": null,
            "margin": null,
            "display": null,
            "left": null
          }
        },
        "15830902c45740d4bc177592b79ae876": {
          "model_module": "@jupyter-widgets/controls",
          "model_name": "DescriptionStyleModel",
          "state": {
            "_view_name": "StyleView",
            "_model_name": "DescriptionStyleModel",
            "description_width": "",
            "_view_module": "@jupyter-widgets/base",
            "_model_module_version": "1.5.0",
            "_view_count": null,
            "_view_module_version": "1.2.0",
            "_model_module": "@jupyter-widgets/controls"
          }
        },
        "df8f4266c6064157a1686404397b1e9b": {
          "model_module": "@jupyter-widgets/base",
          "model_name": "LayoutModel",
          "state": {
            "_view_name": "LayoutView",
            "grid_template_rows": null,
            "right": null,
            "justify_content": null,
            "_view_module": "@jupyter-widgets/base",
            "overflow": null,
            "_model_module_version": "1.2.0",
            "_view_count": null,
            "flex_flow": null,
            "width": null,
            "min_width": null,
            "border": null,
            "align_items": null,
            "bottom": null,
            "_model_module": "@jupyter-widgets/base",
            "top": null,
            "grid_column": null,
            "overflow_y": null,
            "overflow_x": null,
            "grid_auto_flow": null,
            "grid_area": null,
            "grid_template_columns": null,
            "flex": null,
            "_model_name": "LayoutModel",
            "justify_items": null,
            "grid_row": null,
            "max_height": null,
            "align_content": null,
            "visibility": null,
            "align_self": null,
            "height": null,
            "min_height": null,
            "padding": null,
            "grid_auto_rows": null,
            "grid_gap": null,
            "max_width": null,
            "order": null,
            "_view_module_version": "1.2.0",
            "grid_template_areas": null,
            "object_position": null,
            "object_fit": null,
            "grid_auto_columns": null,
            "margin": null,
            "display": null,
            "left": null
          }
        }
      }
    }
  },
  "cells": [
    {
      "cell_type": "markdown",
      "metadata": {
        "id": "view-in-github",
        "colab_type": "text"
      },
      "source": [
        "<a href=\"https://colab.research.google.com/github/AliAkbarBadri/topics-for-types/blob/main/types.ipynb\" target=\"_parent\"><img src=\"https://colab.research.google.com/assets/colab-badge.svg\" alt=\"Open In Colab\"/></a>"
      ]
    },
    {
      "cell_type": "markdown",
      "metadata": {
        "id": "35118jEtNm5E"
      },
      "source": [
        "# Setup"
      ]
    },
    {
      "cell_type": "code",
      "metadata": {
        "id": "SJFNjxht1SE5",
        "outputId": "5cd30060-54cb-4451-eea1-9539f0a93d10",
        "colab": {
          "base_uri": "https://localhost:8080/",
          "height": 238
        }
      },
      "source": [
        "! pip -q install laserembeddings\n",
        "! python -m laserembeddings download-models\n",
        "! pip -q install transformers"
      ],
      "execution_count": 1,
      "outputs": [
        {
          "output_type": "stream",
          "text": [
            "\u001b[K     |████████████████████████████████| 51kB 4.3MB/s \n",
            "\u001b[K     |████████████████████████████████| 860kB 15.7MB/s \n",
            "\u001b[?25h  Building wheel for sacremoses (setup.py) ... \u001b[?25l\u001b[?25hdone\n",
            "Downloading models into /usr/local/lib/python3.6/dist-packages/laserembeddings/data\n",
            "\n",
            "✅   Downloaded https://dl.fbaipublicfiles.com/laser/models/93langs.fcodes    \n",
            "✅   Downloaded https://dl.fbaipublicfiles.com/laser/models/93langs.fvocab    \n",
            "✅   Downloaded https://dl.fbaipublicfiles.com/laser/models/bilstm.93langs.2018-12-26.pt    \n",
            "\n",
            "✨ You're all set!\n",
            "\u001b[K     |████████████████████████████████| 1.3MB 4.5MB/s \n",
            "\u001b[K     |████████████████████████████████| 2.9MB 23.9MB/s \n",
            "\u001b[K     |████████████████████████████████| 1.1MB 32.3MB/s \n",
            "\u001b[?25h"
          ],
          "name": "stdout"
        }
      ]
    },
    {
      "cell_type": "code",
      "metadata": {
        "id": "bxA_PSMaBhzU"
      },
      "source": [
        "import pandas as pd\n",
        "import numpy as np\n",
        "import numpy as np\n",
        "import matplotlib.pyplot as plt\n",
        "import os\n",
        "import tensorflow as tf\n",
        "from tensorflow.keras.preprocessing.text import Tokenizer\n",
        "from tensorflow.keras.preprocessing.sequence import pad_sequences\n",
        "import torch\n",
        "from sklearn.model_selection import train_test_split\n",
        "from transformers import AutoConfig, AutoTokenizer, AutoModel\n",
        "from laserembeddings import Laser\n",
        "from __future__ import unicode_literals"
      ],
      "execution_count": 2,
      "outputs": []
    },
    {
      "cell_type": "code",
      "metadata": {
        "id": "LCVAXfOLRn17",
        "outputId": "0e33fc0a-175a-47a0-f4d5-bfdde91aaed2",
        "colab": {
          "base_uri": "https://localhost:8080/",
          "height": 34
        }
      },
      "source": [
        "from google.colab import drive\n",
        "drive.mount('/content/drive')"
      ],
      "execution_count": 3,
      "outputs": [
        {
          "output_type": "stream",
          "text": [
            "Mounted at /content/drive\n"
          ],
          "name": "stdout"
        }
      ]
    },
    {
      "cell_type": "markdown",
      "metadata": {
        "id": "YOWqOnmkpowp"
      },
      "source": [
        "# LASER"
      ]
    },
    {
      "cell_type": "code",
      "metadata": {
        "id": "36sadEN82ZUu"
      },
      "source": [
        "laser = Laser()"
      ],
      "execution_count": 4,
      "outputs": []
    },
    {
      "cell_type": "code",
      "metadata": {
        "id": "lSQdhjdD8Osl",
        "outputId": "b0d3e3b1-eb44-4b8e-ecf3-9d473c84925b",
        "colab": {
          "base_uri": "https://localhost:8080/",
          "height": 204
        }
      },
      "source": [
        "df_types_laser = pd.read_csv(\"/content/drive/My Drive/topics-for-types/df_types.csv\")\n",
        "df_types_laser.head()"
      ],
      "execution_count": 5,
      "outputs": [
        {
          "output_type": "execute_result",
          "data": {
            "text/html": [
              "<div>\n",
              "<style scoped>\n",
              "    .dataframe tbody tr th:only-of-type {\n",
              "        vertical-align: middle;\n",
              "    }\n",
              "\n",
              "    .dataframe tbody tr th {\n",
              "        vertical-align: top;\n",
              "    }\n",
              "\n",
              "    .dataframe thead th {\n",
              "        text-align: right;\n",
              "    }\n",
              "</style>\n",
              "<table border=\"1\" class=\"dataframe\">\n",
              "  <thead>\n",
              "    <tr style=\"text-align: right;\">\n",
              "      <th></th>\n",
              "      <th>sentence</th>\n",
              "      <th>انتخاب</th>\n",
              "      <th>بله/خیر</th>\n",
              "      <th>ترجمه</th>\n",
              "      <th>تعامل</th>\n",
              "      <th>تعریف</th>\n",
              "      <th>توضیح</th>\n",
              "      <th>دلیل</th>\n",
              "      <th>ریاضی</th>\n",
              "      <th>لیست</th>\n",
              "      <th>نظر</th>\n",
              "      <th>واقعیت</th>\n",
              "      <th>پیشنهاد</th>\n",
              "    </tr>\n",
              "  </thead>\n",
              "  <tbody>\n",
              "    <tr>\n",
              "      <th>0</th>\n",
              "      <td>تفاوت ترمز عقب دیسکی و کاسه ای چیست؟</td>\n",
              "      <td>0</td>\n",
              "      <td>0</td>\n",
              "      <td>0</td>\n",
              "      <td>0</td>\n",
              "      <td>1</td>\n",
              "      <td>1</td>\n",
              "      <td>0</td>\n",
              "      <td>0</td>\n",
              "      <td>0</td>\n",
              "      <td>1</td>\n",
              "      <td>0</td>\n",
              "      <td>0</td>\n",
              "    </tr>\n",
              "    <tr>\n",
              "      <th>1</th>\n",
              "      <td>آیا ترمز ضدقفل ABS در همه چرخ ها عمل می کند؟</td>\n",
              "      <td>0</td>\n",
              "      <td>1</td>\n",
              "      <td>0</td>\n",
              "      <td>0</td>\n",
              "      <td>0</td>\n",
              "      <td>1</td>\n",
              "      <td>0</td>\n",
              "      <td>0</td>\n",
              "      <td>0</td>\n",
              "      <td>1</td>\n",
              "      <td>0</td>\n",
              "      <td>0</td>\n",
              "    </tr>\n",
              "    <tr>\n",
              "      <th>2</th>\n",
              "      <td>چرا باوجود نصب بودن ترمز ABS بر روی خودرو، ترم...</td>\n",
              "      <td>0</td>\n",
              "      <td>0</td>\n",
              "      <td>0</td>\n",
              "      <td>0</td>\n",
              "      <td>0</td>\n",
              "      <td>1</td>\n",
              "      <td>1</td>\n",
              "      <td>0</td>\n",
              "      <td>0</td>\n",
              "      <td>1</td>\n",
              "      <td>0</td>\n",
              "      <td>0</td>\n",
              "    </tr>\n",
              "    <tr>\n",
              "      <th>3</th>\n",
              "      <td>چرا با وجود نصب بودن Airbag بر روی خودرو، در ه...</td>\n",
              "      <td>0</td>\n",
              "      <td>0</td>\n",
              "      <td>0</td>\n",
              "      <td>0</td>\n",
              "      <td>0</td>\n",
              "      <td>1</td>\n",
              "      <td>1</td>\n",
              "      <td>0</td>\n",
              "      <td>0</td>\n",
              "      <td>1</td>\n",
              "      <td>0</td>\n",
              "      <td>0</td>\n",
              "    </tr>\n",
              "    <tr>\n",
              "      <th>4</th>\n",
              "      <td>کلاس های مختلف خودرو چگونه شناسایی می شوند؟</td>\n",
              "      <td>0</td>\n",
              "      <td>0</td>\n",
              "      <td>0</td>\n",
              "      <td>0</td>\n",
              "      <td>1</td>\n",
              "      <td>0</td>\n",
              "      <td>0</td>\n",
              "      <td>0</td>\n",
              "      <td>1</td>\n",
              "      <td>1</td>\n",
              "      <td>0</td>\n",
              "      <td>0</td>\n",
              "    </tr>\n",
              "  </tbody>\n",
              "</table>\n",
              "</div>"
            ],
            "text/plain": [
              "                                            sentence  انتخاب  ...  واقعیت  پیشنهاد\n",
              "0              تفاوت ترمز عقب دیسکی و کاسه ای چیست؟        0  ...       0        0\n",
              "1     آیا ترمز ضدقفل ABS در همه چرخ ها عمل می کند؟         0  ...       0        0\n",
              "2  چرا باوجود نصب بودن ترمز ABS بر روی خودرو، ترم...       0  ...       0        0\n",
              "3  چرا با وجود نصب بودن Airbag بر روی خودرو، در ه...       0  ...       0        0\n",
              "4       کلاس های مختلف خودرو چگونه شناسایی می شوند؟        0  ...       0        0\n",
              "\n",
              "[5 rows x 13 columns]"
            ]
          },
          "metadata": {
            "tags": []
          },
          "execution_count": 5
        }
      ]
    },
    {
      "cell_type": "code",
      "metadata": {
        "id": "opZheLr-1fI6",
        "outputId": "62a8e00d-cac5-49a4-a0e2-9092e5746368",
        "colab": {
          "base_uri": "https://localhost:8080/",
          "height": 204
        }
      },
      "source": [
        "df_types_laser['sentence'] = df_types_laser['sentence'].apply(lambda sent: laser.embed_sentences(sent, lang='fa')[0])\n",
        "df_types_laser.head()"
      ],
      "execution_count": 6,
      "outputs": [
        {
          "output_type": "execute_result",
          "data": {
            "text/html": [
              "<div>\n",
              "<style scoped>\n",
              "    .dataframe tbody tr th:only-of-type {\n",
              "        vertical-align: middle;\n",
              "    }\n",
              "\n",
              "    .dataframe tbody tr th {\n",
              "        vertical-align: top;\n",
              "    }\n",
              "\n",
              "    .dataframe thead th {\n",
              "        text-align: right;\n",
              "    }\n",
              "</style>\n",
              "<table border=\"1\" class=\"dataframe\">\n",
              "  <thead>\n",
              "    <tr style=\"text-align: right;\">\n",
              "      <th></th>\n",
              "      <th>sentence</th>\n",
              "      <th>انتخاب</th>\n",
              "      <th>بله/خیر</th>\n",
              "      <th>ترجمه</th>\n",
              "      <th>تعامل</th>\n",
              "      <th>تعریف</th>\n",
              "      <th>توضیح</th>\n",
              "      <th>دلیل</th>\n",
              "      <th>ریاضی</th>\n",
              "      <th>لیست</th>\n",
              "      <th>نظر</th>\n",
              "      <th>واقعیت</th>\n",
              "      <th>پیشنهاد</th>\n",
              "    </tr>\n",
              "  </thead>\n",
              "  <tbody>\n",
              "    <tr>\n",
              "      <th>0</th>\n",
              "      <td>[0.020942228, -8.114154e-05, -0.0009854112, 0....</td>\n",
              "      <td>0</td>\n",
              "      <td>0</td>\n",
              "      <td>0</td>\n",
              "      <td>0</td>\n",
              "      <td>1</td>\n",
              "      <td>1</td>\n",
              "      <td>0</td>\n",
              "      <td>0</td>\n",
              "      <td>0</td>\n",
              "      <td>1</td>\n",
              "      <td>0</td>\n",
              "      <td>0</td>\n",
              "    </tr>\n",
              "    <tr>\n",
              "      <th>1</th>\n",
              "      <td>[0.00867996, 0.0027223467, -0.00016234924, 0.0...</td>\n",
              "      <td>0</td>\n",
              "      <td>1</td>\n",
              "      <td>0</td>\n",
              "      <td>0</td>\n",
              "      <td>0</td>\n",
              "      <td>1</td>\n",
              "      <td>0</td>\n",
              "      <td>0</td>\n",
              "      <td>0</td>\n",
              "      <td>1</td>\n",
              "      <td>0</td>\n",
              "      <td>0</td>\n",
              "    </tr>\n",
              "    <tr>\n",
              "      <th>2</th>\n",
              "      <td>[0.011158594, 0.018385716, -8.350732e-05, 0.01...</td>\n",
              "      <td>0</td>\n",
              "      <td>0</td>\n",
              "      <td>0</td>\n",
              "      <td>0</td>\n",
              "      <td>0</td>\n",
              "      <td>1</td>\n",
              "      <td>1</td>\n",
              "      <td>0</td>\n",
              "      <td>0</td>\n",
              "      <td>1</td>\n",
              "      <td>0</td>\n",
              "      <td>0</td>\n",
              "    </tr>\n",
              "    <tr>\n",
              "      <th>3</th>\n",
              "      <td>[0.009575151, 0.01364643, 7.700209e-05, 0.0117...</td>\n",
              "      <td>0</td>\n",
              "      <td>0</td>\n",
              "      <td>0</td>\n",
              "      <td>0</td>\n",
              "      <td>0</td>\n",
              "      <td>1</td>\n",
              "      <td>1</td>\n",
              "      <td>0</td>\n",
              "      <td>0</td>\n",
              "      <td>1</td>\n",
              "      <td>0</td>\n",
              "      <td>0</td>\n",
              "    </tr>\n",
              "    <tr>\n",
              "      <th>4</th>\n",
              "      <td>[0.027029106, 0.002408459, 0.00048337242, 0.00...</td>\n",
              "      <td>0</td>\n",
              "      <td>0</td>\n",
              "      <td>0</td>\n",
              "      <td>0</td>\n",
              "      <td>1</td>\n",
              "      <td>0</td>\n",
              "      <td>0</td>\n",
              "      <td>0</td>\n",
              "      <td>1</td>\n",
              "      <td>1</td>\n",
              "      <td>0</td>\n",
              "      <td>0</td>\n",
              "    </tr>\n",
              "  </tbody>\n",
              "</table>\n",
              "</div>"
            ],
            "text/plain": [
              "                                            sentence  انتخاب  ...  واقعیت  پیشنهاد\n",
              "0  [0.020942228, -8.114154e-05, -0.0009854112, 0....       0  ...       0        0\n",
              "1  [0.00867996, 0.0027223467, -0.00016234924, 0.0...       0  ...       0        0\n",
              "2  [0.011158594, 0.018385716, -8.350732e-05, 0.01...       0  ...       0        0\n",
              "3  [0.009575151, 0.01364643, 7.700209e-05, 0.0117...       0  ...       0        0\n",
              "4  [0.027029106, 0.002408459, 0.00048337242, 0.00...       0  ...       0        0\n",
              "\n",
              "[5 rows x 13 columns]"
            ]
          },
          "metadata": {
            "tags": []
          },
          "execution_count": 6
        }
      ]
    },
    {
      "cell_type": "code",
      "metadata": {
        "id": "zfS5i6JY5wtz",
        "outputId": "c366998a-648d-4f14-bfb4-68c2fddace5e",
        "colab": {
          "base_uri": "https://localhost:8080/",
          "height": 34
        }
      },
      "source": [
        "X = np.array(df_types_laser[df_types_laser.columns[0]])\n",
        "X = np.vstack(X)\n",
        "\n",
        "Y = df_types_laser[df_types_laser.columns[1:]].values\n",
        "\n",
        "X.shape, Y.shape"
      ],
      "execution_count": 7,
      "outputs": [
        {
          "output_type": "execute_result",
          "data": {
            "text/plain": [
              "((2424, 1024), (2424, 12))"
            ]
          },
          "metadata": {
            "tags": []
          },
          "execution_count": 7
        }
      ]
    },
    {
      "cell_type": "code",
      "metadata": {
        "id": "2dIU12_77FYS"
      },
      "source": [
        "X_train, X_test, y_train, y_test = train_test_split(X, Y, test_size=0.10)"
      ],
      "execution_count": 8,
      "outputs": []
    },
    {
      "cell_type": "code",
      "metadata": {
        "id": "FGgNLji77YUg",
        "outputId": "44afc971-237e-483b-d0fa-b840529df0f0",
        "colab": {
          "base_uri": "https://localhost:8080/",
          "height": 34
        }
      },
      "source": [
        "len(X_train),len(X_test),len(y_train),len(y_test)"
      ],
      "execution_count": 9,
      "outputs": [
        {
          "output_type": "execute_result",
          "data": {
            "text/plain": [
              "(2181, 243, 2181, 243)"
            ]
          },
          "metadata": {
            "tags": []
          },
          "execution_count": 9
        }
      ]
    },
    {
      "cell_type": "markdown",
      "metadata": {
        "id": "wQE3Snlkq_V4"
      },
      "source": [
        "**metrics**\n",
        "  - F-measure\n",
        "  - HammingLoss\n",
        "  - Accuracy\n",
        "  - Macro F-Measure\n",
        "  - Micro F-Measure\n",
        "\n"
      ]
    },
    {
      "cell_type": "code",
      "metadata": {
        "id": "J5c-hzZcpwVo"
      },
      "source": [
        "import tensorflow_addons as tfa"
      ],
      "execution_count": 21,
      "outputs": []
    },
    {
      "cell_type": "code",
      "metadata": {
        "id": "e3A2qNWsPAle"
      },
      "source": [
        "def tf_f1_score(y_true, y_hat, thresh=0.5):\n",
        "    \"\"\"Computes 3 different f1 scores, micro macro\n",
        "    weighted.\n",
        "    micro: f1 score accross the classes, as 1\n",
        "    macro: mean of f1 scores per class\n",
        "    weighted: weighted average of f1 scores per class,\n",
        "            weighted from the support of each class\n",
        "\n",
        "\n",
        "    Args:\n",
        "        y_true (Tensor): labels, with shape (batch, num_classes)\n",
        "        y_pred (Tensor): model's predictions, same shape as y_true\n",
        "\n",
        "    Returns:\n",
        "        tuple(Tensor): (micro, macro, weighted)\n",
        "                    tuple of the computed f1 scores\n",
        "    \"\"\"\n",
        "\n",
        "    f1s = [0, 0, 0]\n",
        "\n",
        "    y_true = tf.cast(y_true, tf.float64)\n",
        "    y_pred = tf.cast(tf.greater(y_hat, thresh), tf.float64)\n",
        "\n",
        "    for i, axis in enumerate([None, 0]):\n",
        "        TP = tf.math.count_nonzero(y_pred * y_true, axis=axis)\n",
        "        FP = tf.math.count_nonzero(y_pred * (y_true - 1), axis=axis)\n",
        "        FN = tf.math.count_nonzero((y_pred - 1) * y_true, axis=axis)\n",
        "\n",
        "        precision = TP / (TP + FP)\n",
        "        recall = TP / (TP + FN)\n",
        "        f1 = 2 * precision * recall / (precision + recall)\n",
        "\n",
        "        f1s[i] = tf.reduce_mean(f1)\n",
        "\n",
        "    weights = tf.reduce_sum(y_true, axis=0)\n",
        "    weights /= tf.reduce_sum(weights)\n",
        "\n",
        "    f1s[2] = tf.reduce_sum(f1 * weights)\n",
        "    return f1s\n",
        "\n",
        "    # micro, macro, weighted = f1s\n",
        "    # return micro.numpy(), macro.numpy(), weighted.numpy()"
      ],
      "execution_count": 122,
      "outputs": []
    },
    {
      "cell_type": "code",
      "metadata": {
        "id": "AOc8y1CoPYvf",
        "outputId": "ae3e48a9-d692-4bc9-8b61-c577fcda2fcc",
        "colab": {
          "base_uri": "https://localhost:8080/",
          "height": 68
        }
      },
      "source": [
        "actuals = tf.constant([[1, 0, 1, 0],\n",
        "                       [0, 1, 0, 1],\n",
        "                       [0, 0, 0,1]], \n",
        "                      dtype=tf.int32)\n",
        "predictions = tf.constant([[0.82, 0.5, 0.90, 0],\n",
        "                           [0, 1, 0.4, 0.98],\n",
        "                           [0.89, 0.79, 0, 0.3]],\n",
        "                           dtype=tf.float32)\n",
        "f1s = tf_f1_score(actuals, predictions)\n",
        "print(\"Micro: \",f1s[0].numpy())\n",
        "print(\"Macro: \",f1s[1].numpy())\n",
        "print(\"Weighted: \",f1s[2].numpy())"
      ],
      "execution_count": 124,
      "outputs": [
        {
          "output_type": "stream",
          "text": [
            "Micro:  0.7272727272727272\n",
            "Macro:  0.75\n",
            "Weighted:  0.7333333333333334\n"
          ],
          "name": "stdout"
        }
      ]
    },
    {
      "cell_type": "code",
      "metadata": {
        "id": "bbKIqcXskS4J"
      },
      "source": [
        "def f1(y, y_hat, thresh=0.5):\n",
        "    y_pred = tf.cast(tf.greater(y_hat, thresh), tf.float32)\n",
        "    tp = tf.cast(tf.math.count_nonzero(y_pred * y, axis=0), tf.float32)\n",
        "    fp = tf.cast(tf.math.count_nonzero(y_pred * (1 - y), axis=0), tf.float32)\n",
        "    fn = tf.cast(tf.math.count_nonzero((1 - y_pred) * y, axis=0), tf.float32)\n",
        "    f1 = 2*tp / (2*tp + fn + fp + 1e-16)\n",
        "    return f1\n",
        "\n",
        "def micro_f1(y, y_hat, thresh=0.5):\n",
        "    y_pred = tf.cast(tf.greater(y_hat, thresh), tf.float32)\n",
        "    tp = tf.cast(tf.math.count_nonzero(y_pred * y, axis=1), tf.float32)\n",
        "    fp = tf.cast(tf.math.count_nonzero(y_pred * (1 - y), axis=1), tf.float32)\n",
        "    fn = tf.cast(tf.math.count_nonzero((1 - y_pred) * y, axis=1), tf.float32)\n",
        "    f1_measure = 2*tp / (2*tp + fn + fp + 1e-16)\n",
        "    return tf.reduce_mean(f1_measure)\n",
        "\n",
        "def macro_f1(y, y_hat, thresh=0.5):\n",
        "    f1_measure = f1(y, y_hat)\n",
        "    macro_f1 = tf.reduce_mean(f1_measure)\n",
        "    return macro_f1"
      ],
      "execution_count": 87,
      "outputs": []
    },
    {
      "cell_type": "code",
      "metadata": {
        "id": "EQhtRnYA4H8z",
        "outputId": "2f2a1d47-2d35-4836-b274-2d8848183832",
        "colab": {
          "base_uri": "https://localhost:8080/",
          "height": 119
        }
      },
      "source": [
        "hamloss = tfa.metrics.HammingLoss(mode='multilabel', threshold=0.5)\n",
        "macro = tfa.metrics.f_scores.F1Score(4,'macro',threshold=0.5, name='macro')\n",
        "micro = tfa.metrics.f_scores.F1Score(4,'micro',threshold=0.5, name='micro')\n",
        "f1 = tfa.metrics.f_scores.F1Score(4,None,threshold=0.5, name='f1')\n",
        "weighted = tfa.metrics.f_scores.F1Score(4,'weighted',threshold=0.5, name='f1')\n",
        "\n",
        "actuals = tf.constant([[1, 0, 1, 0],\n",
        "                       [0, 1, 0, 1],\n",
        "                       [0, 0, 0,1]], \n",
        "                      dtype=tf.int32)\n",
        "predictions = tf.constant([[0.82, 0.5, 0.90, 0],\n",
        "                           [0, 1, 0.4, 0.98],\n",
        "                           [0.89, 0.79, 0, 0.3]],\n",
        "                           dtype=tf.float32)\n",
        "\n",
        "f1.update_state(actuals, predictions)\n",
        "macro.update_state(actuals, predictions)\n",
        "micro.update_state(actuals, predictions)\n",
        "weighted.update_state(actuals, predictions)\n",
        "hamloss.update_state(actuals, predictions)\n",
        "\n",
        "\n",
        "\n",
        "print('Hamming loss: ', hamloss.result().numpy()) # 0.16666667\n",
        "print('-------')\n",
        "\n",
        "print('F1: ', f1.result().numpy())\n",
        "print('Micro: ', micro.result().numpy())\n",
        "print('Macro: ', macro.result().numpy())\n",
        "print('Weighted: ', weighted.result().numpy())\n",
        "\n",
        "# print(tf.reduce_mean(f1.result().numpy()))\n",
        "# print(\"------\")\n",
        "# print(\"F1: \", f1(actuals, predictions).numpy())\n",
        "# print(\"Macro: \",macro_f1(actuals, predictions).numpy())\n",
        "# print(\"Micro: \",micro_f1(actuals, predictions).numpy())\n"
      ],
      "execution_count": 125,
      "outputs": [
        {
          "output_type": "stream",
          "text": [
            "Hamming loss:  0.25\n",
            "-------\n",
            "F1:  [0.6666667 0.6666667 1.        0.6666667]\n",
            "Micro:  0.72727275\n",
            "Macro:  0.75\n",
            "Weighted:  0.73333335\n"
          ],
          "name": "stdout"
        }
      ]
    },
    {
      "cell_type": "code",
      "metadata": {
        "id": "Ft6tF_ek3LQo",
        "outputId": "dadd09a5-77dd-449b-8a98-a874e7c31579",
        "colab": {
          "base_uri": "https://localhost:8080/",
          "height": 238
        }
      },
      "source": [
        "model = tf.keras.Sequential([\n",
        "    tf.keras.layers.Input(shape=X[0].shape, name='input_layer'),\n",
        "    tf.keras.layers.Dense(100, activation='relu', name='Dense_Layer'),\n",
        "    tf.keras.layers.Dense(12, activation='sigmoid', name='Output'),\n",
        "  ], name='LASER_Model')\n",
        "\n",
        "model.compile(loss='binary_crossentropy', optimizer='adam', \n",
        "              metrics=['acc',\n",
        "                       tfa.metrics.f_scores.F1Score(12,'weighted', threshold=0.5, name='f1'),\n",
        "                       tfa.metrics.f_scores.F1Score(12,'macro',threshold=0.5, name='macro'),\n",
        "                       tfa.metrics.f_scores.F1Score(12,'micro',threshold=0.5, name='micro'),\n",
        "                       tfa.metrics.HammingLoss(mode='multilabel',threshold=0.5, name='hamloss')])\n",
        "print(model.summary())"
      ],
      "execution_count": 126,
      "outputs": [
        {
          "output_type": "stream",
          "text": [
            "Model: \"LASER_Model\"\n",
            "_________________________________________________________________\n",
            "Layer (type)                 Output Shape              Param #   \n",
            "=================================================================\n",
            "Dense_Layer (Dense)          (None, 100)               102500    \n",
            "_________________________________________________________________\n",
            "Output (Dense)               (None, 12)                1212      \n",
            "=================================================================\n",
            "Total params: 103,712\n",
            "Trainable params: 103,712\n",
            "Non-trainable params: 0\n",
            "_________________________________________________________________\n",
            "None\n"
          ],
          "name": "stdout"
        }
      ]
    },
    {
      "cell_type": "code",
      "metadata": {
        "id": "69rtCjqW7PeH",
        "outputId": "c9126d40-bd36-491c-a677-32091f82644b",
        "colab": {
          "base_uri": "https://localhost:8080/",
          "height": 717
        }
      },
      "source": [
        "history = model.fit(X_train, y_train, batch_size=8, epochs=20, verbose=1, validation_split=0.2)"
      ],
      "execution_count": 127,
      "outputs": [
        {
          "output_type": "stream",
          "text": [
            "Epoch 1/20\n",
            "218/218 [==============================] - 1s 5ms/step - loss: 0.3458 - acc: 0.4834 - f1: 0.3750 - macro: 0.0991 - micro: 0.5216 - hamloss: 0.1214 - val_loss: 0.2786 - val_acc: 0.4943 - val_f1: 0.4261 - val_macro: 0.1172 - val_micro: 0.5710 - val_hamloss: 0.1117\n",
            "Epoch 2/20\n",
            "218/218 [==============================] - 1s 4ms/step - loss: 0.2647 - acc: 0.4627 - f1: 0.4807 - macro: 0.1390 - micro: 0.5966 - hamloss: 0.1082 - val_loss: 0.2543 - val_acc: 0.4577 - val_f1: 0.5250 - val_macro: 0.1611 - val_micro: 0.6256 - val_hamloss: 0.1032\n",
            "Epoch 3/20\n",
            "218/218 [==============================] - 1s 4ms/step - loss: 0.2431 - acc: 0.4805 - f1: 0.5741 - macro: 0.1863 - micro: 0.6604 - hamloss: 0.0964 - val_loss: 0.2382 - val_acc: 0.4943 - val_f1: 0.5988 - val_macro: 0.2060 - val_micro: 0.6820 - val_hamloss: 0.0923\n",
            "Epoch 4/20\n",
            "218/218 [==============================] - 1s 4ms/step - loss: 0.2252 - acc: 0.5883 - f1: 0.6242 - macro: 0.2138 - micro: 0.7039 - hamloss: 0.0867 - val_loss: 0.2252 - val_acc: 0.5744 - val_f1: 0.6247 - val_macro: 0.2275 - val_micro: 0.6976 - val_hamloss: 0.0894\n",
            "Epoch 5/20\n",
            "218/218 [==============================] - 1s 4ms/step - loss: 0.2110 - acc: 0.6485 - f1: 0.6386 - macro: 0.2225 - micro: 0.7152 - hamloss: 0.0832 - val_loss: 0.2141 - val_acc: 0.6476 - val_f1: 0.6304 - val_macro: 0.2332 - val_micro: 0.7040 - val_hamloss: 0.0877\n",
            "Epoch 6/20\n",
            "218/218 [==============================] - 1s 4ms/step - loss: 0.1990 - acc: 0.6864 - f1: 0.6565 - macro: 0.2425 - micro: 0.7254 - hamloss: 0.0800 - val_loss: 0.2061 - val_acc: 0.6636 - val_f1: 0.6459 - val_macro: 0.2524 - val_micro: 0.7134 - val_hamloss: 0.0835\n",
            "Epoch 7/20\n",
            "218/218 [==============================] - 1s 4ms/step - loss: 0.1891 - acc: 0.6995 - f1: 0.6759 - macro: 0.2624 - micro: 0.7395 - hamloss: 0.0759 - val_loss: 0.2000 - val_acc: 0.6796 - val_f1: 0.6571 - val_macro: 0.2654 - val_micro: 0.7188 - val_hamloss: 0.0809\n",
            "Epoch 8/20\n",
            "218/218 [==============================] - 1s 4ms/step - loss: 0.1808 - acc: 0.7104 - f1: 0.7014 - macro: 0.2946 - micro: 0.7540 - hamloss: 0.0720 - val_loss: 0.1964 - val_acc: 0.6934 - val_f1: 0.6774 - val_macro: 0.3067 - val_micro: 0.7308 - val_hamloss: 0.0784\n",
            "Epoch 9/20\n",
            "218/218 [==============================] - 1s 4ms/step - loss: 0.1741 - acc: 0.7156 - f1: 0.7227 - macro: 0.3285 - micro: 0.7662 - hamloss: 0.0688 - val_loss: 0.1937 - val_acc: 0.6659 - val_f1: 0.6981 - val_macro: 0.3229 - val_micro: 0.7432 - val_hamloss: 0.0772\n",
            "Epoch 10/20\n",
            "218/218 [==============================] - 1s 4ms/step - loss: 0.1673 - acc: 0.7225 - f1: 0.7451 - macro: 0.3590 - micro: 0.7806 - hamloss: 0.0654 - val_loss: 0.1877 - val_acc: 0.7094 - val_f1: 0.7155 - val_macro: 0.3634 - val_micro: 0.7531 - val_hamloss: 0.0723\n",
            "Epoch 11/20\n",
            "218/218 [==============================] - 1s 4ms/step - loss: 0.1615 - acc: 0.7276 - f1: 0.7569 - macro: 0.3774 - micro: 0.7886 - hamloss: 0.0633 - val_loss: 0.1853 - val_acc: 0.7002 - val_f1: 0.7245 - val_macro: 0.3702 - val_micro: 0.7572 - val_hamloss: 0.0709\n",
            "Epoch 12/20\n",
            "218/218 [==============================] - 1s 4ms/step - loss: 0.1564 - acc: 0.7328 - f1: 0.7666 - macro: 0.3958 - micro: 0.7948 - hamloss: 0.0617 - val_loss: 0.1844 - val_acc: 0.6934 - val_f1: 0.7247 - val_macro: 0.3682 - val_micro: 0.7575 - val_hamloss: 0.0736\n",
            "Epoch 13/20\n",
            "218/218 [==============================] - 1s 4ms/step - loss: 0.1518 - acc: 0.7311 - f1: 0.7805 - macro: 0.4155 - micro: 0.8053 - hamloss: 0.0590 - val_loss: 0.1823 - val_acc: 0.6888 - val_f1: 0.7252 - val_macro: 0.3681 - val_micro: 0.7614 - val_hamloss: 0.0707\n",
            "Epoch 14/20\n",
            "218/218 [==============================] - 1s 4ms/step - loss: 0.1470 - acc: 0.7345 - f1: 0.7840 - macro: 0.4268 - micro: 0.8084 - hamloss: 0.0581 - val_loss: 0.1812 - val_acc: 0.6773 - val_f1: 0.7314 - val_macro: 0.3769 - val_micro: 0.7628 - val_hamloss: 0.0715\n",
            "Epoch 15/20\n",
            "218/218 [==============================] - 1s 4ms/step - loss: 0.1430 - acc: 0.7317 - f1: 0.7982 - macro: 0.4463 - micro: 0.8197 - hamloss: 0.0549 - val_loss: 0.1799 - val_acc: 0.6957 - val_f1: 0.7322 - val_macro: 0.3748 - val_micro: 0.7679 - val_hamloss: 0.0690\n",
            "Epoch 16/20\n",
            "218/218 [==============================] - 1s 4ms/step - loss: 0.1392 - acc: 0.7328 - f1: 0.8018 - macro: 0.4571 - micro: 0.8220 - hamloss: 0.0543 - val_loss: 0.1821 - val_acc: 0.6796 - val_f1: 0.7349 - val_macro: 0.3852 - val_micro: 0.7653 - val_hamloss: 0.0707\n",
            "Epoch 17/20\n",
            "218/218 [==============================] - 1s 4ms/step - loss: 0.1352 - acc: 0.7317 - f1: 0.8098 - macro: 0.4681 - micro: 0.8289 - hamloss: 0.0525 - val_loss: 0.1787 - val_acc: 0.6773 - val_f1: 0.7430 - val_macro: 0.3893 - val_micro: 0.7717 - val_hamloss: 0.0696\n",
            "Epoch 18/20\n",
            "218/218 [==============================] - 1s 4ms/step - loss: 0.1320 - acc: 0.7339 - f1: 0.8167 - macro: 0.4773 - micro: 0.8344 - hamloss: 0.0508 - val_loss: 0.1817 - val_acc: 0.6796 - val_f1: 0.7375 - val_macro: 0.3851 - val_micro: 0.7690 - val_hamloss: 0.0706\n",
            "Epoch 19/20\n",
            "218/218 [==============================] - 1s 4ms/step - loss: 0.1289 - acc: 0.7294 - f1: 0.8202 - macro: 0.4846 - micro: 0.8373 - hamloss: 0.0503 - val_loss: 0.1778 - val_acc: 0.6751 - val_f1: 0.7464 - val_macro: 0.3931 - val_micro: 0.7728 - val_hamloss: 0.0669\n",
            "Epoch 20/20\n",
            "218/218 [==============================] - 1s 4ms/step - loss: 0.1259 - acc: 0.7322 - f1: 0.8274 - macro: 0.4989 - micro: 0.8434 - hamloss: 0.0482 - val_loss: 0.1786 - val_acc: 0.6705 - val_f1: 0.7425 - val_macro: 0.3866 - val_micro: 0.7680 - val_hamloss: 0.0707\n"
          ],
          "name": "stdout"
        }
      ]
    },
    {
      "cell_type": "code",
      "metadata": {
        "id": "YiK0QiVIxmkW",
        "outputId": "41c23e3b-a3a7-4e1d-94cb-299b71f45e4c",
        "colab": {
          "base_uri": "https://localhost:8080/",
          "height": 34
        }
      },
      "source": [
        "score = model.evaluate(X_test, y_test, verbose=1)"
      ],
      "execution_count": 128,
      "outputs": [
        {
          "output_type": "stream",
          "text": [
            "8/8 [==============================] - 0s 3ms/step - loss: 0.1957 - acc: 0.6049 - f1: 0.7468 - macro: 0.3873 - micro: 0.7639 - hamloss: 0.0754\n"
          ],
          "name": "stdout"
        }
      ]
    },
    {
      "cell_type": "code",
      "metadata": {
        "id": "6o8p6HcnhLET",
        "outputId": "6d2670bc-3a63-464a-ef42-60719af93f25",
        "colab": {
          "base_uri": "https://localhost:8080/",
          "height": 573
        }
      },
      "source": [
        "import matplotlib.pyplot as plt\n",
        "\n",
        "plt.plot(history.history['acc'])\n",
        "plt.plot(history.history['val_acc'])\n",
        "\n",
        "plt.title('model accuracy')\n",
        "plt.ylabel('accuracy')\n",
        "plt.xlabel('epoch')\n",
        "plt.legend(['train','test'], loc='upper left')\n",
        "plt.show()\n",
        "\n",
        "plt.plot(history.history['loss'])\n",
        "plt.plot(history.history['val_loss'])\n",
        "\n",
        "plt.title('model loss')\n",
        "plt.ylabel('loss')\n",
        "plt.xlabel('epoch')\n",
        "plt.legend(['train','test'], loc='upper left')\n",
        "plt.show()"
      ],
      "execution_count": 129,
      "outputs": [
        {
          "output_type": "display_data",
          "data": {
            "image/png": "[encoded data removed]",
            "text/plain": [
              "<Figure size 432x288 with 1 Axes>"
            ]
          },
          "metadata": {
            "tags": [],
            "needs_background": "light"
          }
        },
        {
          "output_type": "display_data",
          "data": {
            "image/png": "[encoded data removed]",
            "text/plain": [
              "<Figure size 432x288 with 1 Axes>"
            ]
          },
          "metadata": {
            "tags": [],
            "needs_background": "light"
          }
        }
      ]
    },
    {
      "cell_type": "markdown",
      "metadata": {
        "id": "qQnFh-sk7LQB"
      },
      "source": [
        "# BERT"
      ]
    },
    {
      "cell_type": "code",
      "metadata": {
        "id": "1mhm9Px77LQN",
        "outputId": "b6e65c2c-ac7a-4222-e9fa-4775ef31461d",
        "colab": {
          "base_uri": "https://localhost:8080/",
          "height": 164,
          "referenced_widgets": [
            "724c4db26949490da0a2804034ebada3",
            "517f922a3f2848a48c8c65762a627035",
            "c8b531171f4e48e39656866ab2c6c81c",
            "4fe35c2631d54f5fbb21a8131e645944",
            "b21bdeb21db44406b4a297f63af80d3c",
            "8832c9eb91a542b585c8c1528aef0ebd",
            "a29a33791ff94d1dac593e8f93ecb086",
            "bf0446fc203445699f7ab5cb95a8bdd4",
            "a0fbebe18f5b4dd4b7ababd93c7f53dc",
            "87d8b3cce15b412bb6525ce35c37d612",
            "fdb2e32c24c04d4495be357750a18841",
            "09ae7e04926e4d9eb0aebc42235f67cf",
            "f50dea3366e14a15b39bb0ba872a1d01",
            "96c4a1145cad4b449d9fdb27b89f62a7",
            "dbb762d16e634df0be4a3729f912ee5e",
            "dba693ae3cfb45649444a20f4065f7fc",
            "2d8dea53fd80444882d395cf7cbc2b50",
            "718807eb240b4d9a962aa8329c290a72",
            "399d94913a484ea7b4803b9e1596afad",
            "578a2c24ddd343fdb4656385d70c31e6",
            "fea84831149c4bf19fa2a9c1f18d6e15",
            "b3a6d818ffff4564aaa300601c684581",
            "15830902c45740d4bc177592b79ae876",
            "df8f4266c6064157a1686404397b1e9b"
          ]
        }
      },
      "source": [
        "config = AutoConfig.from_pretrained(\"m3hrdadfi/albert-fa-base-v2\")\n",
        "tokenizer = AutoTokenizer.from_pretrained(\"m3hrdadfi/albert-fa-base-v2\")\n",
        "bert_model = AutoModel.from_pretrained(\"m3hrdadfi/albert-fa-base-v2\")"
      ],
      "execution_count": 130,
      "outputs": [
        {
          "output_type": "display_data",
          "data": {
            "application/vnd.jupyter.widget-view+json": {
              "model_id": "724c4db26949490da0a2804034ebada3",
              "version_minor": 0,
              "version_major": 2
            },
            "text/plain": [
              "HBox(children=(FloatProgress(value=0.0, description='Downloading', max=684.0, style=ProgressStyle(description_…"
            ]
          },
          "metadata": {
            "tags": []
          }
        },
        {
          "output_type": "stream",
          "text": [
            "\n"
          ],
          "name": "stdout"
        },
        {
          "output_type": "display_data",
          "data": {
            "application/vnd.jupyter.widget-view+json": {
              "model_id": "a0fbebe18f5b4dd4b7ababd93c7f53dc",
              "version_minor": 0,
              "version_major": 2
            },
            "text/plain": [
              "HBox(children=(FloatProgress(value=0.0, description='Downloading', max=1882978.0, style=ProgressStyle(descript…"
            ]
          },
          "metadata": {
            "tags": []
          }
        },
        {
          "output_type": "stream",
          "text": [
            "\n"
          ],
          "name": "stdout"
        },
        {
          "output_type": "display_data",
          "data": {
            "application/vnd.jupyter.widget-view+json": {
              "model_id": "2d8dea53fd80444882d395cf7cbc2b50",
              "version_minor": 0,
              "version_major": 2
            },
            "text/plain": [
              "HBox(children=(FloatProgress(value=0.0, description='Downloading', max=73062448.0, style=ProgressStyle(descrip…"
            ]
          },
          "metadata": {
            "tags": []
          }
        },
        {
          "output_type": "stream",
          "text": [
            "\n"
          ],
          "name": "stdout"
        }
      ]
    },
    {
      "cell_type": "code",
      "metadata": {
        "id": "wOiozxD9kqRH"
      },
      "source": [
        "# def get_embedding(sent):\n",
        "#     input_sentence = torch.tensor(tokenizer.encode(sent, max_length = 500)).unsqueeze(0)\n",
        "#     out = bert_model(input_sentence)\n",
        "#     embeddings_of_last_layer = out[0]\n",
        "#     cls_embeddings = embeddings_of_last_layer[0][0]\n",
        "#     cls_embeddings = cls_embeddings.detach().numpy()\n",
        "#     return cls_embeddings"
      ],
      "execution_count": null,
      "outputs": []
    },
    {
      "cell_type": "code",
      "metadata": {
        "id": "jVAQVz_-7LQd"
      },
      "source": [
        "# df_types_bert = pd.read_csv(\"/content/drive/My Drive/topics-for-types/df_types.csv\")"
      ],
      "execution_count": null,
      "outputs": []
    },
    {
      "cell_type": "code",
      "metadata": {
        "id": "_dJnPuA97LQl",
        "outputId": "6b042228-2099-4636-fd4a-d73516e37812",
        "colab": {
          "base_uri": "https://localhost:8080/",
          "height": 204
        }
      },
      "source": [
        "# df_types_bert['sentence'] = df_types_bert['sentence'].apply(lambda sent: get_embedding(sent))\n",
        "# df_types_bert.to_csv(\"/content/drive/My Drive/topics-for-types/df_types_bert.csv\", index=False)\n",
        "# df_types_bert.head()"
      ],
      "execution_count": null,
      "outputs": [
        {
          "output_type": "execute_result",
          "data": {
            "text/html": [
              "<div>\n",
              "<style scoped>\n",
              "    .dataframe tbody tr th:only-of-type {\n",
              "        vertical-align: middle;\n",
              "    }\n",
              "\n",
              "    .dataframe tbody tr th {\n",
              "        vertical-align: top;\n",
              "    }\n",
              "\n",
              "    .dataframe thead th {\n",
              "        text-align: right;\n",
              "    }\n",
              "</style>\n",
              "<table border=\"1\" class=\"dataframe\">\n",
              "  <thead>\n",
              "    <tr style=\"text-align: right;\">\n",
              "      <th></th>\n",
              "      <th>sentence</th>\n",
              "      <th>انتخاب</th>\n",
              "      <th>بله/خیر</th>\n",
              "      <th>ترجمه</th>\n",
              "      <th>تعامل</th>\n",
              "      <th>تعریف</th>\n",
              "      <th>توضیح</th>\n",
              "      <th>دلیل</th>\n",
              "      <th>ریاضی</th>\n",
              "      <th>لیست</th>\n",
              "      <th>نظر</th>\n",
              "      <th>واقعیت</th>\n",
              "      <th>پیشنهاد</th>\n",
              "    </tr>\n",
              "  </thead>\n",
              "  <tbody>\n",
              "    <tr>\n",
              "      <th>0</th>\n",
              "      <td>[-0.5841074, -0.017078003, -0.32405344, -0.645...</td>\n",
              "      <td>0</td>\n",
              "      <td>0</td>\n",
              "      <td>0</td>\n",
              "      <td>0</td>\n",
              "      <td>1</td>\n",
              "      <td>1</td>\n",
              "      <td>0</td>\n",
              "      <td>0</td>\n",
              "      <td>0</td>\n",
              "      <td>1</td>\n",
              "      <td>0</td>\n",
              "      <td>0</td>\n",
              "    </tr>\n",
              "    <tr>\n",
              "      <th>1</th>\n",
              "      <td>[-0.31120673, -0.0050979797, 0.10509731, -0.36...</td>\n",
              "      <td>0</td>\n",
              "      <td>1</td>\n",
              "      <td>0</td>\n",
              "      <td>0</td>\n",
              "      <td>0</td>\n",
              "      <td>1</td>\n",
              "      <td>0</td>\n",
              "      <td>0</td>\n",
              "      <td>0</td>\n",
              "      <td>1</td>\n",
              "      <td>0</td>\n",
              "      <td>0</td>\n",
              "    </tr>\n",
              "    <tr>\n",
              "      <th>2</th>\n",
              "      <td>[0.05544515, -0.23301096, 0.12021764, -0.33959...</td>\n",
              "      <td>0</td>\n",
              "      <td>0</td>\n",
              "      <td>0</td>\n",
              "      <td>0</td>\n",
              "      <td>0</td>\n",
              "      <td>1</td>\n",
              "      <td>1</td>\n",
              "      <td>0</td>\n",
              "      <td>0</td>\n",
              "      <td>1</td>\n",
              "      <td>0</td>\n",
              "      <td>0</td>\n",
              "    </tr>\n",
              "    <tr>\n",
              "      <th>3</th>\n",
              "      <td>[0.37881416, -0.1909234, 0.16427912, -0.383240...</td>\n",
              "      <td>0</td>\n",
              "      <td>0</td>\n",
              "      <td>0</td>\n",
              "      <td>0</td>\n",
              "      <td>0</td>\n",
              "      <td>1</td>\n",
              "      <td>1</td>\n",
              "      <td>0</td>\n",
              "      <td>0</td>\n",
              "      <td>1</td>\n",
              "      <td>0</td>\n",
              "      <td>0</td>\n",
              "    </tr>\n",
              "    <tr>\n",
              "      <th>4</th>\n",
              "      <td>[-0.46968994, -0.2401005, 0.20189604, -0.20498...</td>\n",
              "      <td>0</td>\n",
              "      <td>0</td>\n",
              "      <td>0</td>\n",
              "      <td>0</td>\n",
              "      <td>1</td>\n",
              "      <td>0</td>\n",
              "      <td>0</td>\n",
              "      <td>0</td>\n",
              "      <td>1</td>\n",
              "      <td>1</td>\n",
              "      <td>0</td>\n",
              "      <td>0</td>\n",
              "    </tr>\n",
              "  </tbody>\n",
              "</table>\n",
              "</div>"
            ],
            "text/plain": [
              "                                            sentence  انتخاب  ...  واقعیت  پیشنهاد\n",
              "0  [-0.5841074, -0.017078003, -0.32405344, -0.645...       0  ...       0        0\n",
              "1  [-0.31120673, -0.0050979797, 0.10509731, -0.36...       0  ...       0        0\n",
              "2  [0.05544515, -0.23301096, 0.12021764, -0.33959...       0  ...       0        0\n",
              "3  [0.37881416, -0.1909234, 0.16427912, -0.383240...       0  ...       0        0\n",
              "4  [-0.46968994, -0.2401005, 0.20189604, -0.20498...       0  ...       0        0\n",
              "\n",
              "[5 rows x 13 columns]"
            ]
          },
          "metadata": {
            "tags": []
          },
          "execution_count": 90
        }
      ]
    },
    {
      "cell_type": "code",
      "metadata": {
        "id": "ipJXyeK_onoh",
        "outputId": "b3668ca4-c78a-497c-9070-d69b6a069d58",
        "colab": {
          "base_uri": "https://localhost:8080/",
          "height": 204
        }
      },
      "source": [
        "df_types_bert = pd.read_csv(\"/content/drive/My Drive/topics-for-types/df_types_bert.csv\")\n",
        "df_types_bert['sentence'] = df_types_bert['sentence'].apply(lambda x: \n",
        "                           np.fromstring(\n",
        "                               x.replace('\\n','')\n",
        "                                .replace('[','')\n",
        "                                .replace(']','')\n",
        "                                .replace('  ',' '), sep=' '))\n",
        "df_types_bert.head()"
      ],
      "execution_count": 131,
      "outputs": [
        {
          "output_type": "execute_result",
          "data": {
            "text/html": [
              "<div>\n",
              "<style scoped>\n",
              "    .dataframe tbody tr th:only-of-type {\n",
              "        vertical-align: middle;\n",
              "    }\n",
              "\n",
              "    .dataframe tbody tr th {\n",
              "        vertical-align: top;\n",
              "    }\n",
              "\n",
              "    .dataframe thead th {\n",
              "        text-align: right;\n",
              "    }\n",
              "</style>\n",
              "<table border=\"1\" class=\"dataframe\">\n",
              "  <thead>\n",
              "    <tr style=\"text-align: right;\">\n",
              "      <th></th>\n",
              "      <th>sentence</th>\n",
              "      <th>انتخاب</th>\n",
              "      <th>بله/خیر</th>\n",
              "      <th>ترجمه</th>\n",
              "      <th>تعامل</th>\n",
              "      <th>تعریف</th>\n",
              "      <th>توضیح</th>\n",
              "      <th>دلیل</th>\n",
              "      <th>ریاضی</th>\n",
              "      <th>لیست</th>\n",
              "      <th>نظر</th>\n",
              "      <th>واقعیت</th>\n",
              "      <th>پیشنهاد</th>\n",
              "    </tr>\n",
              "  </thead>\n",
              "  <tbody>\n",
              "    <tr>\n",
              "      <th>0</th>\n",
              "      <td>[-0.584107399, -0.0170780029, -0.324053437, -0...</td>\n",
              "      <td>0</td>\n",
              "      <td>0</td>\n",
              "      <td>0</td>\n",
              "      <td>0</td>\n",
              "      <td>1</td>\n",
              "      <td>1</td>\n",
              "      <td>0</td>\n",
              "      <td>0</td>\n",
              "      <td>0</td>\n",
              "      <td>1</td>\n",
              "      <td>0</td>\n",
              "      <td>0</td>\n",
              "    </tr>\n",
              "    <tr>\n",
              "      <th>1</th>\n",
              "      <td>[-0.311206728, -0.00509797968, 0.105097309, -0...</td>\n",
              "      <td>0</td>\n",
              "      <td>1</td>\n",
              "      <td>0</td>\n",
              "      <td>0</td>\n",
              "      <td>0</td>\n",
              "      <td>1</td>\n",
              "      <td>0</td>\n",
              "      <td>0</td>\n",
              "      <td>0</td>\n",
              "      <td>1</td>\n",
              "      <td>0</td>\n",
              "      <td>0</td>\n",
              "    </tr>\n",
              "    <tr>\n",
              "      <th>2</th>\n",
              "      <td>[0.0554451495, -0.233010963, 0.120217644, -0.3...</td>\n",
              "      <td>0</td>\n",
              "      <td>0</td>\n",
              "      <td>0</td>\n",
              "      <td>0</td>\n",
              "      <td>0</td>\n",
              "      <td>1</td>\n",
              "      <td>1</td>\n",
              "      <td>0</td>\n",
              "      <td>0</td>\n",
              "      <td>1</td>\n",
              "      <td>0</td>\n",
              "      <td>0</td>\n",
              "    </tr>\n",
              "    <tr>\n",
              "      <th>3</th>\n",
              "      <td>[0.378814161, -0.190923393, 0.164279118, -0.38...</td>\n",
              "      <td>0</td>\n",
              "      <td>0</td>\n",
              "      <td>0</td>\n",
              "      <td>0</td>\n",
              "      <td>0</td>\n",
              "      <td>1</td>\n",
              "      <td>1</td>\n",
              "      <td>0</td>\n",
              "      <td>0</td>\n",
              "      <td>1</td>\n",
              "      <td>0</td>\n",
              "      <td>0</td>\n",
              "    </tr>\n",
              "    <tr>\n",
              "      <th>4</th>\n",
              "      <td>[-0.469689935, -0.240100503, 0.201896042, -0.2...</td>\n",
              "      <td>0</td>\n",
              "      <td>0</td>\n",
              "      <td>0</td>\n",
              "      <td>0</td>\n",
              "      <td>1</td>\n",
              "      <td>0</td>\n",
              "      <td>0</td>\n",
              "      <td>0</td>\n",
              "      <td>1</td>\n",
              "      <td>1</td>\n",
              "      <td>0</td>\n",
              "      <td>0</td>\n",
              "    </tr>\n",
              "  </tbody>\n",
              "</table>\n",
              "</div>"
            ],
            "text/plain": [
              "                                            sentence  انتخاب  ...  واقعیت  پیشنهاد\n",
              "0  [-0.584107399, -0.0170780029, -0.324053437, -0...       0  ...       0        0\n",
              "1  [-0.311206728, -0.00509797968, 0.105097309, -0...       0  ...       0        0\n",
              "2  [0.0554451495, -0.233010963, 0.120217644, -0.3...       0  ...       0        0\n",
              "3  [0.378814161, -0.190923393, 0.164279118, -0.38...       0  ...       0        0\n",
              "4  [-0.469689935, -0.240100503, 0.201896042, -0.2...       0  ...       0        0\n",
              "\n",
              "[5 rows x 13 columns]"
            ]
          },
          "metadata": {
            "tags": []
          },
          "execution_count": 131
        }
      ]
    },
    {
      "cell_type": "code",
      "metadata": {
        "id": "peiiVocu7LQq",
        "outputId": "1af480d2-64f5-4b7f-d83b-0a733c9293a4",
        "colab": {
          "base_uri": "https://localhost:8080/",
          "height": 34
        }
      },
      "source": [
        "X = np.array(df_types_bert[df_types_bert.columns[0]])\n",
        "X = np.vstack(X)\n",
        "\n",
        "Y = df_types_bert[df_types_bert.columns[1:]].values\n",
        "\n",
        "X.shape, Y.shape"
      ],
      "execution_count": 132,
      "outputs": [
        {
          "output_type": "execute_result",
          "data": {
            "text/plain": [
              "((2424, 768), (2424, 12))"
            ]
          },
          "metadata": {
            "tags": []
          },
          "execution_count": 132
        }
      ]
    },
    {
      "cell_type": "code",
      "metadata": {
        "id": "F40dV3XV7LQt"
      },
      "source": [
        "X_train, X_test, y_train, y_test = train_test_split(X, Y, test_size=0.20)"
      ],
      "execution_count": 133,
      "outputs": []
    },
    {
      "cell_type": "code",
      "metadata": {
        "id": "PoDo8cwa7LQv",
        "outputId": "9baac009-0d88-4997-abf0-0fa747ef52f3",
        "colab": {
          "base_uri": "https://localhost:8080/",
          "height": 34
        }
      },
      "source": [
        "len(X_train),len(X_test),len(y_train),len(y_test)"
      ],
      "execution_count": 134,
      "outputs": [
        {
          "output_type": "execute_result",
          "data": {
            "text/plain": [
              "(1939, 485, 1939, 485)"
            ]
          },
          "metadata": {
            "tags": []
          },
          "execution_count": 134
        }
      ]
    },
    {
      "cell_type": "code",
      "metadata": {
        "id": "-6VNFGrx7LQ1",
        "outputId": "40ae81f8-dc3a-4247-c336-0a7d14f97691",
        "colab": {
          "base_uri": "https://localhost:8080/",
          "height": 238
        }
      },
      "source": [
        "model = tf.keras.Sequential([\n",
        "    tf.keras.layers.Input(shape=X[0].shape, name='input_layer'),\n",
        "    tf.keras.layers.Dense(100, activation='relu', name='Dense_Layer',\n",
        "                          activity_regularizer=tf.keras.regularizers.l2()),\n",
        "    # tf.keras.layers.Dropout(rate=0.2, name=\"Dropout\"),\n",
        "    # tf.keras.layers.Dense(100, activation='relu', name='Dense_Layer2',\n",
        "                          # activity_regularizer=tf.keras.regularizers.l2()),\n",
        "    # tf.keras.layers.Dropout(rate=0.2, name=\"Dropout2\"),\n",
        "    tf.keras.layers.Dense(12, activation='sigmoid', name='Dense_Layer3'),\n",
        "\n",
        "  ], name='BERT_MODEL')\n",
        "\n",
        "model.compile(loss='binary_crossentropy', optimizer='adam', \n",
        "              metrics=['acc',\n",
        "                       tfa.metrics.f_scores.F1Score(12,'weighted', threshold=0.5, name='f1'),\n",
        "                       tfa.metrics.f_scores.F1Score(12,'macro',threshold=0.5, name='macro'),\n",
        "                       tfa.metrics.f_scores.F1Score(12,'micro',threshold=0.5, name='micro'),\n",
        "                       tfa.metrics.HammingLoss(mode='multilabel',threshold=0.5, name='hamloss')])\n",
        "print(model.summary())"
      ],
      "execution_count": 135,
      "outputs": [
        {
          "output_type": "stream",
          "text": [
            "Model: \"BERT_MODEL\"\n",
            "_________________________________________________________________\n",
            "Layer (type)                 Output Shape              Param #   \n",
            "=================================================================\n",
            "Dense_Layer (Dense)          (None, 100)               76900     \n",
            "_________________________________________________________________\n",
            "Dense_Layer3 (Dense)         (None, 12)                1212      \n",
            "=================================================================\n",
            "Total params: 78,112\n",
            "Trainable params: 78,112\n",
            "Non-trainable params: 0\n",
            "_________________________________________________________________\n",
            "None\n"
          ],
          "name": "stdout"
        }
      ]
    },
    {
      "cell_type": "code",
      "metadata": {
        "id": "oUMOG_Qa7LQ4",
        "outputId": "66feb417-1475-430f-c2e4-6e6ef7ec2b45",
        "colab": {
          "base_uri": "https://localhost:8080/",
          "height": 717
        }
      },
      "source": [
        "history = model.fit(X_train, y_train, batch_size=8, epochs=20, verbose=1, validation_split=0.2)"
      ],
      "execution_count": 136,
      "outputs": [
        {
          "output_type": "stream",
          "text": [
            "Epoch 1/20\n",
            "194/194 [==============================] - 1s 7ms/step - loss: 0.4624 - acc: 0.5255 - f1: 0.5369 - macro: 0.1805 - micro: 0.6046 - hamloss: 0.1144 - val_loss: 0.3691 - val_acc: 0.5979 - val_f1: 0.5414 - val_macro: 0.1615 - val_micro: 0.6403 - val_hamloss: 0.0956\n",
            "Epoch 2/20\n",
            "194/194 [==============================] - 1s 5ms/step - loss: 0.3395 - acc: 0.6518 - f1: 0.5835 - macro: 0.1887 - micro: 0.6777 - hamloss: 0.0914 - val_loss: 0.3221 - val_acc: 0.6701 - val_f1: 0.5743 - val_macro: 0.1729 - val_micro: 0.6661 - val_hamloss: 0.0883\n",
            "Epoch 3/20\n",
            "194/194 [==============================] - 1s 5ms/step - loss: 0.3024 - acc: 0.7008 - f1: 0.6030 - macro: 0.1961 - micro: 0.6968 - hamloss: 0.0861 - val_loss: 0.2941 - val_acc: 0.7062 - val_f1: 0.5908 - val_macro: 0.1807 - val_micro: 0.6774 - val_hamloss: 0.0861\n",
            "Epoch 4/20\n",
            "194/194 [==============================] - 1s 5ms/step - loss: 0.2801 - acc: 0.7079 - f1: 0.6138 - macro: 0.2026 - micro: 0.7049 - hamloss: 0.0838 - val_loss: 0.2794 - val_acc: 0.6881 - val_f1: 0.6337 - val_macro: 0.2096 - val_micro: 0.7102 - val_hamloss: 0.0810\n",
            "Epoch 5/20\n",
            "194/194 [==============================] - 1s 5ms/step - loss: 0.2616 - acc: 0.7195 - f1: 0.6413 - macro: 0.2251 - micro: 0.7232 - hamloss: 0.0788 - val_loss: 0.2676 - val_acc: 0.6830 - val_f1: 0.6364 - val_macro: 0.2180 - val_micro: 0.7085 - val_hamloss: 0.0838\n",
            "Epoch 6/20\n",
            "194/194 [==============================] - 1s 5ms/step - loss: 0.2482 - acc: 0.7279 - f1: 0.6651 - macro: 0.2473 - micro: 0.7382 - hamloss: 0.0751 - val_loss: 0.2681 - val_acc: 0.6521 - val_f1: 0.6381 - val_macro: 0.2144 - val_micro: 0.7114 - val_hamloss: 0.0851\n",
            "Epoch 7/20\n",
            "194/194 [==============================] - 1s 5ms/step - loss: 0.2382 - acc: 0.7221 - f1: 0.6819 - macro: 0.2644 - micro: 0.7481 - hamloss: 0.0721 - val_loss: 0.2583 - val_acc: 0.6804 - val_f1: 0.6621 - val_macro: 0.2628 - val_micro: 0.7156 - val_hamloss: 0.0808\n",
            "Epoch 8/20\n",
            "194/194 [==============================] - 1s 5ms/step - loss: 0.2280 - acc: 0.7331 - f1: 0.7034 - macro: 0.2900 - micro: 0.7604 - hamloss: 0.0694 - val_loss: 0.2562 - val_acc: 0.6675 - val_f1: 0.6453 - val_macro: 0.2454 - val_micro: 0.7041 - val_hamloss: 0.0827\n",
            "Epoch 9/20\n",
            "194/194 [==============================] - 1s 5ms/step - loss: 0.2220 - acc: 0.7208 - f1: 0.7249 - macro: 0.3177 - micro: 0.7751 - hamloss: 0.0661 - val_loss: 0.2575 - val_acc: 0.7113 - val_f1: 0.6437 - val_macro: 0.2570 - val_micro: 0.7086 - val_hamloss: 0.0816\n",
            "Epoch 10/20\n",
            "194/194 [==============================] - 1s 5ms/step - loss: 0.2150 - acc: 0.7221 - f1: 0.7354 - macro: 0.3346 - micro: 0.7780 - hamloss: 0.0649 - val_loss: 0.2540 - val_acc: 0.6392 - val_f1: 0.6756 - val_macro: 0.2943 - val_micro: 0.7181 - val_hamloss: 0.0840\n",
            "Epoch 11/20\n",
            "194/194 [==============================] - 1s 5ms/step - loss: 0.2077 - acc: 0.7260 - f1: 0.7500 - macro: 0.3512 - micro: 0.7886 - hamloss: 0.0622 - val_loss: 0.2450 - val_acc: 0.6933 - val_f1: 0.6604 - val_macro: 0.2950 - val_micro: 0.7080 - val_hamloss: 0.0829\n",
            "Epoch 12/20\n",
            "194/194 [==============================] - 1s 5ms/step - loss: 0.2006 - acc: 0.7292 - f1: 0.7668 - macro: 0.3738 - micro: 0.8020 - hamloss: 0.0589 - val_loss: 0.2541 - val_acc: 0.6057 - val_f1: 0.6855 - val_macro: 0.3230 - val_micro: 0.7173 - val_hamloss: 0.0855\n",
            "Epoch 13/20\n",
            "194/194 [==============================] - 1s 5ms/step - loss: 0.1944 - acc: 0.7247 - f1: 0.7754 - macro: 0.3878 - micro: 0.8065 - hamloss: 0.0576 - val_loss: 0.2445 - val_acc: 0.6340 - val_f1: 0.6963 - val_macro: 0.3311 - val_micro: 0.7270 - val_hamloss: 0.0823\n",
            "Epoch 14/20\n",
            "194/194 [==============================] - 1s 5ms/step - loss: 0.1938 - acc: 0.7189 - f1: 0.7799 - macro: 0.3891 - micro: 0.8114 - hamloss: 0.0564 - val_loss: 0.2539 - val_acc: 0.6392 - val_f1: 0.6746 - val_macro: 0.3394 - val_micro: 0.7099 - val_hamloss: 0.0827\n",
            "Epoch 15/20\n",
            "194/194 [==============================] - 1s 5ms/step - loss: 0.1885 - acc: 0.7286 - f1: 0.7884 - macro: 0.4074 - micro: 0.8158 - hamloss: 0.0550 - val_loss: 0.2413 - val_acc: 0.6881 - val_f1: 0.6764 - val_macro: 0.3185 - val_micro: 0.7088 - val_hamloss: 0.0842\n",
            "Epoch 16/20\n",
            "194/194 [==============================] - 1s 5ms/step - loss: 0.1822 - acc: 0.7363 - f1: 0.7953 - macro: 0.4146 - micro: 0.8214 - hamloss: 0.0536 - val_loss: 0.2424 - val_acc: 0.6675 - val_f1: 0.7087 - val_macro: 0.3637 - val_micro: 0.7282 - val_hamloss: 0.0803\n",
            "Epoch 17/20\n",
            "194/194 [==============================] - 1s 5ms/step - loss: 0.1777 - acc: 0.7447 - f1: 0.8079 - macro: 0.4318 - micro: 0.8314 - hamloss: 0.0507 - val_loss: 0.2370 - val_acc: 0.7088 - val_f1: 0.7026 - val_macro: 0.3473 - val_micro: 0.7353 - val_hamloss: 0.0784\n",
            "Epoch 18/20\n",
            "194/194 [==============================] - 1s 5ms/step - loss: 0.1702 - acc: 0.7369 - f1: 0.8165 - macro: 0.4407 - micro: 0.8387 - hamloss: 0.0489 - val_loss: 0.2352 - val_acc: 0.6959 - val_f1: 0.7028 - val_macro: 0.3524 - val_micro: 0.7296 - val_hamloss: 0.0788\n",
            "Epoch 19/20\n",
            "194/194 [==============================] - 1s 5ms/step - loss: 0.1682 - acc: 0.7305 - f1: 0.8164 - macro: 0.4431 - micro: 0.8375 - hamloss: 0.0491 - val_loss: 0.2373 - val_acc: 0.6830 - val_f1: 0.6970 - val_macro: 0.3502 - val_micro: 0.7209 - val_hamloss: 0.0818\n",
            "Epoch 20/20\n",
            "194/194 [==============================] - 1s 5ms/step - loss: 0.1651 - acc: 0.7337 - f1: 0.8281 - macro: 0.4563 - micro: 0.8477 - hamloss: 0.0464 - val_loss: 0.2405 - val_acc: 0.7139 - val_f1: 0.6684 - val_macro: 0.3031 - val_micro: 0.7104 - val_hamloss: 0.0844\n"
          ],
          "name": "stdout"
        }
      ]
    },
    {
      "cell_type": "code",
      "metadata": {
        "id": "luObyoYB7LQ6",
        "outputId": "2ce5ea71-7465-4084-d766-08b6a8c73472",
        "colab": {
          "base_uri": "https://localhost:8080/",
          "height": 34
        }
      },
      "source": [
        "score = model.evaluate(X_test, y_test, verbose=1)"
      ],
      "execution_count": 137,
      "outputs": [
        {
          "output_type": "stream",
          "text": [
            "16/16 [==============================] - 0s 4ms/step - loss: 0.2431 - acc: 0.7175 - f1: 0.6816 - macro: 0.3071 - micro: 0.7249 - hamloss: 0.0806\n"
          ],
          "name": "stdout"
        }
      ]
    },
    {
      "cell_type": "code",
      "metadata": {
        "id": "LzKKewPO7LQ8",
        "outputId": "acc32922-f2da-4abf-edee-f61ecee60680",
        "colab": {
          "base_uri": "https://localhost:8080/",
          "height": 573
        }
      },
      "source": [
        "import matplotlib.pyplot as plt\n",
        "\n",
        "plt.plot(history.history['acc'])\n",
        "plt.plot(history.history['val_acc'])\n",
        "\n",
        "plt.title('model accuracy')\n",
        "plt.ylabel('accuracy')\n",
        "plt.xlabel('epoch')\n",
        "plt.legend(['train','test'], loc='upper left')\n",
        "plt.show()\n",
        "\n",
        "plt.plot(history.history['loss'])\n",
        "plt.plot(history.history['val_loss'])\n",
        "\n",
        "plt.title('model loss')\n",
        "plt.ylabel('loss')\n",
        "plt.xlabel('epoch')\n",
        "plt.legend(['train','test'], loc='upper left')\n",
        "plt.show()"
      ],
      "execution_count": 138,
      "outputs": [
        {
          "output_type": "display_data",
          "data": {
            "image/png": "[encoded data removed]",
            "text/plain": [
              "<Figure size 432x288 with 1 Axes>"
            ]
          },
          "metadata": {
            "tags": [],
            "needs_background": "light"
          }
        },
        {
          "output_type": "display_data",
          "data": {
            "image/png": "[encoded data removed]",
            "text/plain": [
              "<Figure size 432x288 with 1 Axes>"
            ]
          },
          "metadata": {
            "tags": [],
            "needs_background": "light"
          }
        }
      ]
    },
    {
      "cell_type": "markdown",
      "metadata": {
        "id": "7qNH8DZbenUD"
      },
      "source": [
        "# Word2Vec"
      ]
    },
    {
      "cell_type": "code",
      "metadata": {
        "id": "FbnHwp3pxRD2",
        "outputId": "d6911c15-f16f-4cad-d586-4f3cf4d568db",
        "colab": {
          "base_uri": "https://localhost:8080/"
        }
      },
      "source": [
        "df_types_lstm = pd.read_csv(\"/content/drive/My Drive/topics-for-types/df_types.csv\")\n",
        "df_types_lstm.head()"
      ],
      "execution_count": null,
      "outputs": [
        {
          "output_type": "execute_result",
          "data": {
            "text/html": [
              "<div>\n",
              "<style scoped>\n",
              "    .dataframe tbody tr th:only-of-type {\n",
              "        vertical-align: middle;\n",
              "    }\n",
              "\n",
              "    .dataframe tbody tr th {\n",
              "        vertical-align: top;\n",
              "    }\n",
              "\n",
              "    .dataframe thead th {\n",
              "        text-align: right;\n",
              "    }\n",
              "</style>\n",
              "<table border=\"1\" class=\"dataframe\">\n",
              "  <thead>\n",
              "    <tr style=\"text-align: right;\">\n",
              "      <th></th>\n",
              "      <th>sentence</th>\n",
              "      <th>انتخاب</th>\n",
              "      <th>بله/خیر</th>\n",
              "      <th>ترجمه</th>\n",
              "      <th>تعامل</th>\n",
              "      <th>تعریف</th>\n",
              "      <th>توضیح</th>\n",
              "      <th>دلیل</th>\n",
              "      <th>ریاضی</th>\n",
              "      <th>لیست</th>\n",
              "      <th>نظر</th>\n",
              "      <th>واقعیت</th>\n",
              "      <th>پیشنهاد</th>\n",
              "    </tr>\n",
              "  </thead>\n",
              "  <tbody>\n",
              "    <tr>\n",
              "      <th>0</th>\n",
              "      <td>تفاوت ترمز عقب دیسکی و کاسه ای چیست؟</td>\n",
              "      <td>0</td>\n",
              "      <td>0</td>\n",
              "      <td>0</td>\n",
              "      <td>0</td>\n",
              "      <td>1</td>\n",
              "      <td>1</td>\n",
              "      <td>0</td>\n",
              "      <td>0</td>\n",
              "      <td>0</td>\n",
              "      <td>1</td>\n",
              "      <td>0</td>\n",
              "      <td>0</td>\n",
              "    </tr>\n",
              "    <tr>\n",
              "      <th>1</th>\n",
              "      <td>آیا ترمز ضدقفل ABS در همه چرخ ها عمل می کند؟</td>\n",
              "      <td>0</td>\n",
              "      <td>1</td>\n",
              "      <td>0</td>\n",
              "      <td>0</td>\n",
              "      <td>0</td>\n",
              "      <td>1</td>\n",
              "      <td>0</td>\n",
              "      <td>0</td>\n",
              "      <td>0</td>\n",
              "      <td>1</td>\n",
              "      <td>0</td>\n",
              "      <td>0</td>\n",
              "    </tr>\n",
              "    <tr>\n",
              "      <th>2</th>\n",
              "      <td>چرا باوجود نصب بودن ترمز ABS بر روی خودرو، ترم...</td>\n",
              "      <td>0</td>\n",
              "      <td>0</td>\n",
              "      <td>0</td>\n",
              "      <td>0</td>\n",
              "      <td>0</td>\n",
              "      <td>1</td>\n",
              "      <td>1</td>\n",
              "      <td>0</td>\n",
              "      <td>0</td>\n",
              "      <td>1</td>\n",
              "      <td>0</td>\n",
              "      <td>0</td>\n",
              "    </tr>\n",
              "    <tr>\n",
              "      <th>3</th>\n",
              "      <td>چرا با وجود نصب بودن Airbag بر روی خودرو، در ه...</td>\n",
              "      <td>0</td>\n",
              "      <td>0</td>\n",
              "      <td>0</td>\n",
              "      <td>0</td>\n",
              "      <td>0</td>\n",
              "      <td>1</td>\n",
              "      <td>1</td>\n",
              "      <td>0</td>\n",
              "      <td>0</td>\n",
              "      <td>1</td>\n",
              "      <td>0</td>\n",
              "      <td>0</td>\n",
              "    </tr>\n",
              "    <tr>\n",
              "      <th>4</th>\n",
              "      <td>کلاس های مختلف خودرو چگونه شناسایی می شوند؟</td>\n",
              "      <td>0</td>\n",
              "      <td>0</td>\n",
              "      <td>0</td>\n",
              "      <td>0</td>\n",
              "      <td>1</td>\n",
              "      <td>0</td>\n",
              "      <td>0</td>\n",
              "      <td>0</td>\n",
              "      <td>1</td>\n",
              "      <td>1</td>\n",
              "      <td>0</td>\n",
              "      <td>0</td>\n",
              "    </tr>\n",
              "  </tbody>\n",
              "</table>\n",
              "</div>"
            ],
            "text/plain": [
              "                                            sentence  انتخاب  ...  واقعیت  پیشنهاد\n",
              "0              تفاوت ترمز عقب دیسکی و کاسه ای چیست؟        0  ...       0        0\n",
              "1     آیا ترمز ضدقفل ABS در همه چرخ ها عمل می کند؟         0  ...       0        0\n",
              "2  چرا باوجود نصب بودن ترمز ABS بر روی خودرو، ترم...       0  ...       0        0\n",
              "3  چرا با وجود نصب بودن Airbag بر روی خودرو، در ه...       0  ...       0        0\n",
              "4       کلاس های مختلف خودرو چگونه شناسایی می شوند؟        0  ...       0        0\n",
              "\n",
              "[5 rows x 13 columns]"
            ]
          },
          "metadata": {
            "tags": []
          },
          "execution_count": 17
        }
      ]
    },
    {
      "cell_type": "code",
      "metadata": {
        "id": "hH6VbfWMf5qO"
      },
      "source": [
        "X = df_types_lstm[df_types_lstm.columns[0]].values\n",
        "Y = df_types_lstm[df_types_lstm.columns[1:]].values"
      ],
      "execution_count": null,
      "outputs": []
    },
    {
      "cell_type": "code",
      "metadata": {
        "id": "MFb1ouv4NW4z"
      },
      "source": [
        "X_train, X_test, y_train, y_test = train_test_split(X, Y, test_size=0.10)"
      ],
      "execution_count": null,
      "outputs": []
    },
    {
      "cell_type": "code",
      "metadata": {
        "id": "qEc5r95aNenl"
      },
      "source": [
        "tokenizer = Tokenizer(num_words=50000)\n",
        "tokenizer.fit_on_texts(X_train)\n",
        "\n",
        "X_train = tokenizer.texts_to_sequences(X_train)\n",
        "X_test = tokenizer.texts_to_sequences(X_test)\n",
        "vocab_size = len(tokenizer.word_index) + 1\n",
        "\n",
        "maxlen = 200\n",
        "\n",
        "X_train = pad_sequences(X_train, padding='post', maxlen=maxlen)\n",
        "X_test = pad_sequences(X_test, padding='post', maxlen=maxlen)"
      ],
      "execution_count": null,
      "outputs": []
    },
    {
      "cell_type": "code",
      "metadata": {
        "id": "4S_5yaE1P9EK",
        "outputId": "15a70687-5531-4424-a618-cb99c9096f52",
        "colab": {
          "base_uri": "https://localhost:8080/"
        }
      },
      "source": [
        "vocab_size, X_train.shape, y_train.shape, X_test.shape, y_test.shape"
      ],
      "execution_count": null,
      "outputs": [
        {
          "output_type": "execute_result",
          "data": {
            "text/plain": [
              "(8587, (2181, 200), (2181, 12), (243, 200), (243, 12))"
            ]
          },
          "metadata": {
            "tags": []
          },
          "execution_count": 87
        }
      ]
    },
    {
      "cell_type": "code",
      "metadata": {
        "id": "6UrxQBoXN4Mq"
      },
      "source": [
        "embeddings_dictionary = dict()\n",
        "\n",
        "glove_file = open('drive/My Drive/nlp/similarity/embeddings/twitt_wiki_ham_blog.fa.text.100.vec', encoding=\"utf8\")\n",
        "\n",
        "for line in glove_file:\n",
        "    records = line.split()\n",
        "    word = records[0]\n",
        "    vector_dimensions = np.asarray(records[1:], dtype='float32')\n",
        "    embeddings_dictionary[word] = vector_dimensions\n",
        "glove_file.close()\n",
        "\n",
        "embedding_matrix = np.zeros((vocab_size, 100))\n",
        "for word, index in tokenizer.word_index.items():\n",
        "    embedding_vector = embeddings_dictionary.get(word)\n",
        "    if embedding_vector is not None:\n",
        "        embedding_matrix[index] = embedding_vector"
      ],
      "execution_count": null,
      "outputs": []
    },
    {
      "cell_type": "code",
      "metadata": {
        "id": "C3LLbfIiAtbY",
        "outputId": "2ad94038-a4dd-47f4-e4ef-ce1a9bf9038d",
        "colab": {
          "base_uri": "https://localhost:8080/"
        }
      },
      "source": [
        "model = tf.keras.Sequential([\n",
        "    tf.keras.layers.Input(shape=(maxlen,)),\n",
        "    tf.keras.layers.Embedding(input_dim=vocab_size, output_dim = 100, \n",
        "                            weights=[embedding_matrix],\n",
        "                            trainable=False, name='Embedding_Layer'),\n",
        "    tf.keras.layers.LSTM(200,\n",
        "                        # return_sequences=True,\n",
        "                        # stateful=True,\n",
        "                        recurrent_initializer='glorot_uniform',\n",
        "                        name='LSTM_Layer'),\n",
        "    tf.keras.layers.Dense(100, activation='relu', name='Dense_Layer1'),\n",
        "    tf.keras.layers.Dense(12, activation='sigmoid', name='Dense_Layer2')\n",
        "  ], name='LSTM_Model')\n",
        "model.compile(loss='binary_crossentropy', optimizer=tf.keras.optimizers.Adam(learning_rate=0.01), metrics=['acc'])\n",
        "print(model.summary())\n",
        "print()\n",
        "print(model.layers[0].weights)"
      ],
      "execution_count": null,
      "outputs": [
        {
          "output_type": "stream",
          "text": [
            "Model: \"LSTM_Model\"\n",
            "_________________________________________________________________\n",
            "Layer (type)                 Output Shape              Param #   \n",
            "=================================================================\n",
            "Embedding_Layer (Embedding)  (None, 200, 100)          858700    \n",
            "_________________________________________________________________\n",
            "LSTM_Layer (LSTM)            (None, 200)               240800    \n",
            "_________________________________________________________________\n",
            "Dense_Layer1 (Dense)         (None, 100)               20100     \n",
            "_________________________________________________________________\n",
            "Dense_Layer2 (Dense)         (None, 12)                1212      \n",
            "=================================================================\n",
            "Total params: 1,120,812\n",
            "Trainable params: 262,112\n",
            "Non-trainable params: 858,700\n",
            "_________________________________________________________________\n",
            "None\n",
            "\n",
            "[<tf.Variable 'Embedding_Layer/embeddings:0' shape=(8587, 100) dtype=float32, numpy=\n",
            "array([[ 0.      ,  0.      ,  0.      , ...,  0.      ,  0.      ,\n",
            "         0.      ],\n",
            "       [-2.222517, -0.428454, -1.253941, ...,  0.361452,  1.804778,\n",
            "        -0.216301],\n",
            "       [-0.132566, -4.901635, -1.319971, ...,  0.09917 ,  4.036689,\n",
            "        -0.957019],\n",
            "       ...,\n",
            "       [ 0.      ,  0.      ,  0.      , ...,  0.      ,  0.      ,\n",
            "         0.      ],\n",
            "       [ 0.116143,  2.81084 ,  5.221838, ..., -0.886493, -1.085259,\n",
            "         4.880859],\n",
            "       [ 0.      ,  0.      ,  0.      , ...,  0.      ,  0.      ,\n",
            "         0.      ]], dtype=float32)>]\n"
          ],
          "name": "stdout"
        }
      ]
    },
    {
      "cell_type": "code",
      "metadata": {
        "id": "fb1R_m8wGO7J",
        "outputId": "6f856602-2e8f-4c03-ebcf-6c308cd57af9",
        "colab": {
          "base_uri": "https://localhost:8080/"
        }
      },
      "source": [
        "history = model.fit(X_train, y_train, batch_size=8, epochs=15, verbose=1, validation_split=0.2)"
      ],
      "execution_count": null,
      "outputs": [
        {
          "output_type": "stream",
          "text": [
            "Epoch 1/15\n",
            "218/218 [==============================] - 3s 14ms/step - loss: 0.2905 - acc: 0.4862 - val_loss: 0.2934 - val_acc: 0.5263\n",
            "Epoch 2/15\n",
            "218/218 [==============================] - 3s 14ms/step - loss: 0.2893 - acc: 0.4857 - val_loss: 0.2911 - val_acc: 0.5263\n",
            "Epoch 3/15\n",
            "218/218 [==============================] - 3s 14ms/step - loss: 0.2890 - acc: 0.4857 - val_loss: 0.2918 - val_acc: 0.5263\n",
            "Epoch 4/15\n",
            "218/218 [==============================] - 3s 14ms/step - loss: 0.2885 - acc: 0.4857 - val_loss: 0.2915 - val_acc: 0.5263\n",
            "Epoch 5/15\n",
            "218/218 [==============================] - 3s 14ms/step - loss: 0.2886 - acc: 0.4857 - val_loss: 0.2920 - val_acc: 0.5263\n",
            "Epoch 6/15\n",
            "218/218 [==============================] - 3s 15ms/step - loss: 0.2881 - acc: 0.4857 - val_loss: 0.2900 - val_acc: 0.5263\n",
            "Epoch 7/15\n",
            "218/218 [==============================] - 3s 15ms/step - loss: 0.2884 - acc: 0.4857 - val_loss: 0.2900 - val_acc: 0.5263\n",
            "Epoch 8/15\n",
            "218/218 [==============================] - 3s 15ms/step - loss: 0.2877 - acc: 0.4857 - val_loss: 0.2906 - val_acc: 0.5263\n",
            "Epoch 9/15\n",
            "218/218 [==============================] - 3s 14ms/step - loss: 0.2880 - acc: 0.4857 - val_loss: 0.2898 - val_acc: 0.5263\n",
            "Epoch 10/15\n",
            "218/218 [==============================] - 3s 15ms/step - loss: 0.2880 - acc: 0.4857 - val_loss: 0.2899 - val_acc: 0.5263\n",
            "Epoch 11/15\n",
            "218/218 [==============================] - 3s 15ms/step - loss: 0.2879 - acc: 0.4857 - val_loss: 0.2908 - val_acc: 0.5263\n",
            "Epoch 12/15\n",
            "218/218 [==============================] - 3s 15ms/step - loss: 0.2878 - acc: 0.4857 - val_loss: 0.2907 - val_acc: 0.5263\n",
            "Epoch 13/15\n",
            "218/218 [==============================] - 3s 15ms/step - loss: 0.2874 - acc: 0.4857 - val_loss: 0.2907 - val_acc: 0.5263\n",
            "Epoch 14/15\n",
            "218/218 [==============================] - 3s 15ms/step - loss: 0.2876 - acc: 0.4857 - val_loss: 0.2893 - val_acc: 0.5263\n",
            "Epoch 15/15\n",
            "218/218 [==============================] - 3s 14ms/step - loss: 0.2876 - acc: 0.4857 - val_loss: 0.2900 - val_acc: 0.5263\n"
          ],
          "name": "stdout"
        }
      ]
    },
    {
      "cell_type": "code",
      "metadata": {
        "id": "EXozAvLmPxzk",
        "outputId": "f844c913-0b68-4701-dcd8-2a83ed85ae21",
        "colab": {
          "base_uri": "https://localhost:8080/"
        }
      },
      "source": [
        "score = model.evaluate(X_test, y_test, verbose=1)\n",
        "\n",
        "print(\"Test Score:\", score[0])\n",
        "print(\"Test Accuracy:\", score[1])"
      ],
      "execution_count": null,
      "outputs": [
        {
          "output_type": "stream",
          "text": [
            "8/8 [==============================] - 0s 8ms/step - loss: 0.2996 - acc: 0.4321\n",
            "Test Score: 0.29961177706718445\n",
            "Test Accuracy: 0.43209877610206604\n"
          ],
          "name": "stdout"
        }
      ]
    }
  ]
}