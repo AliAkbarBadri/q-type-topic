{
  "nbformat": 4,
  "nbformat_minor": 0,
  "metadata": {
    "colab": {
      "name": "tempo.ipynb",
      "provenance": [],
      "include_colab_link": true
    },
    "kernelspec": {
      "name": "python3",
      "display_name": "Python 3"
    },
    "accelerator": "GPU",
    "widgets": {
      "application/vnd.jupyter.widget-state+json": {
        "39f6c9d4302e4ccca80b18e15beba696": {
          "model_module": "@jupyter-widgets/controls",
          "model_name": "HBoxModel",
          "state": {
            "_view_name": "HBoxView",
            "_dom_classes": [],
            "_model_name": "HBoxModel",
            "_view_module": "@jupyter-widgets/controls",
            "_model_module_version": "1.5.0",
            "_view_count": null,
            "_view_module_version": "1.5.0",
            "box_style": "",
            "layout": "IPY_MODEL_9a19e68d09aa452b9fa79d7e227161aa",
            "_model_module": "@jupyter-widgets/controls",
            "children": [
              "IPY_MODEL_7c9a3230cc844ae481112486be430ac2",
              "IPY_MODEL_f94842a2d3d7482d95ba70ccc967f5ac"
            ]
          }
        },
        "9a19e68d09aa452b9fa79d7e227161aa": {
          "model_module": "@jupyter-widgets/base",
          "model_name": "LayoutModel",
          "state": {
            "_view_name": "LayoutView",
            "grid_template_rows": null,
            "right": null,
            "justify_content": null,
            "_view_module": "@jupyter-widgets/base",
            "overflow": null,
            "_model_module_version": "1.2.0",
            "_view_count": null,
            "flex_flow": null,
            "width": null,
            "min_width": null,
            "border": null,
            "align_items": null,
            "bottom": null,
            "_model_module": "@jupyter-widgets/base",
            "top": null,
            "grid_column": null,
            "overflow_y": null,
            "overflow_x": null,
            "grid_auto_flow": null,
            "grid_area": null,
            "grid_template_columns": null,
            "flex": null,
            "_model_name": "LayoutModel",
            "justify_items": null,
            "grid_row": null,
            "max_height": null,
            "align_content": null,
            "visibility": null,
            "align_self": null,
            "height": null,
            "min_height": null,
            "padding": null,
            "grid_auto_rows": null,
            "grid_gap": null,
            "max_width": null,
            "order": null,
            "_view_module_version": "1.2.0",
            "grid_template_areas": null,
            "object_position": null,
            "object_fit": null,
            "grid_auto_columns": null,
            "margin": null,
            "display": null,
            "left": null
          }
        },
        "7c9a3230cc844ae481112486be430ac2": {
          "model_module": "@jupyter-widgets/controls",
          "model_name": "FloatProgressModel",
          "state": {
            "_view_name": "ProgressView",
            "style": "IPY_MODEL_f15cc57f838a4bcf92b2f6954e41fede",
            "_dom_classes": [],
            "description": "Downloading: 100%",
            "_model_name": "FloatProgressModel",
            "bar_style": "success",
            "max": 684,
            "_view_module": "@jupyter-widgets/controls",
            "_model_module_version": "1.5.0",
            "value": 684,
            "_view_count": null,
            "_view_module_version": "1.5.0",
            "orientation": "horizontal",
            "min": 0,
            "description_tooltip": null,
            "_model_module": "@jupyter-widgets/controls",
            "layout": "IPY_MODEL_89426513af8d41d6a56258f63f42882c"
          }
        },
        "f94842a2d3d7482d95ba70ccc967f5ac": {
          "model_module": "@jupyter-widgets/controls",
          "model_name": "HTMLModel",
          "state": {
            "_view_name": "HTMLView",
            "style": "IPY_MODEL_d68fa942cf9e4a28b0e5bbf75037defa",
            "_dom_classes": [],
            "description": "",
            "_model_name": "HTMLModel",
            "placeholder": "​",
            "_view_module": "@jupyter-widgets/controls",
            "_model_module_version": "1.5.0",
            "value": " 684/684 [01:01&lt;00:00, 11.1B/s]",
            "_view_count": null,
            "_view_module_version": "1.5.0",
            "description_tooltip": null,
            "_model_module": "@jupyter-widgets/controls",
            "layout": "IPY_MODEL_d7af221ea5cb45099e0f52d5a3bd57e1"
          }
        },
        "f15cc57f838a4bcf92b2f6954e41fede": {
          "model_module": "@jupyter-widgets/controls",
          "model_name": "ProgressStyleModel",
          "state": {
            "_view_name": "StyleView",
            "_model_name": "ProgressStyleModel",
            "description_width": "initial",
            "_view_module": "@jupyter-widgets/base",
            "_model_module_version": "1.5.0",
            "_view_count": null,
            "_view_module_version": "1.2.0",
            "bar_color": null,
            "_model_module": "@jupyter-widgets/controls"
          }
        },
        "89426513af8d41d6a56258f63f42882c": {
          "model_module": "@jupyter-widgets/base",
          "model_name": "LayoutModel",
          "state": {
            "_view_name": "LayoutView",
            "grid_template_rows": null,
            "right": null,
            "justify_content": null,
            "_view_module": "@jupyter-widgets/base",
            "overflow": null,
            "_model_module_version": "1.2.0",
            "_view_count": null,
            "flex_flow": null,
            "width": null,
            "min_width": null,
            "border": null,
            "align_items": null,
            "bottom": null,
            "_model_module": "@jupyter-widgets/base",
            "top": null,
            "grid_column": null,
            "overflow_y": null,
            "overflow_x": null,
            "grid_auto_flow": null,
            "grid_area": null,
            "grid_template_columns": null,
            "flex": null,
            "_model_name": "LayoutModel",
            "justify_items": null,
            "grid_row": null,
            "max_height": null,
            "align_content": null,
            "visibility": null,
            "align_self": null,
            "height": null,
            "min_height": null,
            "padding": null,
            "grid_auto_rows": null,
            "grid_gap": null,
            "max_width": null,
            "order": null,
            "_view_module_version": "1.2.0",
            "grid_template_areas": null,
            "object_position": null,
            "object_fit": null,
            "grid_auto_columns": null,
            "margin": null,
            "display": null,
            "left": null
          }
        },
        "d68fa942cf9e4a28b0e5bbf75037defa": {
          "model_module": "@jupyter-widgets/controls",
          "model_name": "DescriptionStyleModel",
          "state": {
            "_view_name": "StyleView",
            "_model_name": "DescriptionStyleModel",
            "description_width": "",
            "_view_module": "@jupyter-widgets/base",
            "_model_module_version": "1.5.0",
            "_view_count": null,
            "_view_module_version": "1.2.0",
            "_model_module": "@jupyter-widgets/controls"
          }
        },
        "d7af221ea5cb45099e0f52d5a3bd57e1": {
          "model_module": "@jupyter-widgets/base",
          "model_name": "LayoutModel",
          "state": {
            "_view_name": "LayoutView",
            "grid_template_rows": null,
            "right": null,
            "justify_content": null,
            "_view_module": "@jupyter-widgets/base",
            "overflow": null,
            "_model_module_version": "1.2.0",
            "_view_count": null,
            "flex_flow": null,
            "width": null,
            "min_width": null,
            "border": null,
            "align_items": null,
            "bottom": null,
            "_model_module": "@jupyter-widgets/base",
            "top": null,
            "grid_column": null,
            "overflow_y": null,
            "overflow_x": null,
            "grid_auto_flow": null,
            "grid_area": null,
            "grid_template_columns": null,
            "flex": null,
            "_model_name": "LayoutModel",
            "justify_items": null,
            "grid_row": null,
            "max_height": null,
            "align_content": null,
            "visibility": null,
            "align_self": null,
            "height": null,
            "min_height": null,
            "padding": null,
            "grid_auto_rows": null,
            "grid_gap": null,
            "max_width": null,
            "order": null,
            "_view_module_version": "1.2.0",
            "grid_template_areas": null,
            "object_position": null,
            "object_fit": null,
            "grid_auto_columns": null,
            "margin": null,
            "display": null,
            "left": null
          }
        },
        "396da19a79854a0289180eeec54504e7": {
          "model_module": "@jupyter-widgets/controls",
          "model_name": "HBoxModel",
          "state": {
            "_view_name": "HBoxView",
            "_dom_classes": [],
            "_model_name": "HBoxModel",
            "_view_module": "@jupyter-widgets/controls",
            "_model_module_version": "1.5.0",
            "_view_count": null,
            "_view_module_version": "1.5.0",
            "box_style": "",
            "layout": "IPY_MODEL_e1326b2147414a60a379fc15e96216ad",
            "_model_module": "@jupyter-widgets/controls",
            "children": [
              "IPY_MODEL_ede69a60d0d24c54bc0defcdb7725c1b",
              "IPY_MODEL_2b5e283434ee45129127fa0efe9cd18a"
            ]
          }
        },
        "e1326b2147414a60a379fc15e96216ad": {
          "model_module": "@jupyter-widgets/base",
          "model_name": "LayoutModel",
          "state": {
            "_view_name": "LayoutView",
            "grid_template_rows": null,
            "right": null,
            "justify_content": null,
            "_view_module": "@jupyter-widgets/base",
            "overflow": null,
            "_model_module_version": "1.2.0",
            "_view_count": null,
            "flex_flow": null,
            "width": null,
            "min_width": null,
            "border": null,
            "align_items": null,
            "bottom": null,
            "_model_module": "@jupyter-widgets/base",
            "top": null,
            "grid_column": null,
            "overflow_y": null,
            "overflow_x": null,
            "grid_auto_flow": null,
            "grid_area": null,
            "grid_template_columns": null,
            "flex": null,
            "_model_name": "LayoutModel",
            "justify_items": null,
            "grid_row": null,
            "max_height": null,
            "align_content": null,
            "visibility": null,
            "align_self": null,
            "height": null,
            "min_height": null,
            "padding": null,
            "grid_auto_rows": null,
            "grid_gap": null,
            "max_width": null,
            "order": null,
            "_view_module_version": "1.2.0",
            "grid_template_areas": null,
            "object_position": null,
            "object_fit": null,
            "grid_auto_columns": null,
            "margin": null,
            "display": null,
            "left": null
          }
        },
        "ede69a60d0d24c54bc0defcdb7725c1b": {
          "model_module": "@jupyter-widgets/controls",
          "model_name": "FloatProgressModel",
          "state": {
            "_view_name": "ProgressView",
            "style": "IPY_MODEL_14144ea4504e443cb2509615b1f92bec",
            "_dom_classes": [],
            "description": "Downloading: 100%",
            "_model_name": "FloatProgressModel",
            "bar_style": "success",
            "max": 1882978,
            "_view_module": "@jupyter-widgets/controls",
            "_model_module_version": "1.5.0",
            "value": 1882978,
            "_view_count": null,
            "_view_module_version": "1.5.0",
            "orientation": "horizontal",
            "min": 0,
            "description_tooltip": null,
            "_model_module": "@jupyter-widgets/controls",
            "layout": "IPY_MODEL_71cbc9f5580047cba6714c20e28f4b60"
          }
        },
        "2b5e283434ee45129127fa0efe9cd18a": {
          "model_module": "@jupyter-widgets/controls",
          "model_name": "HTMLModel",
          "state": {
            "_view_name": "HTMLView",
            "style": "IPY_MODEL_3de9f92d37134f5d82cb82ce8c8f8c1a",
            "_dom_classes": [],
            "description": "",
            "_model_name": "HTMLModel",
            "placeholder": "​",
            "_view_module": "@jupyter-widgets/controls",
            "_model_module_version": "1.5.0",
            "value": " 1.88M/1.88M [00:01&lt;00:00, 1.16MB/s]",
            "_view_count": null,
            "_view_module_version": "1.5.0",
            "description_tooltip": null,
            "_model_module": "@jupyter-widgets/controls",
            "layout": "IPY_MODEL_d6915489bd9b4a9f8a1710c809d8712c"
          }
        },
        "14144ea4504e443cb2509615b1f92bec": {
          "model_module": "@jupyter-widgets/controls",
          "model_name": "ProgressStyleModel",
          "state": {
            "_view_name": "StyleView",
            "_model_name": "ProgressStyleModel",
            "description_width": "initial",
            "_view_module": "@jupyter-widgets/base",
            "_model_module_version": "1.5.0",
            "_view_count": null,
            "_view_module_version": "1.2.0",
            "bar_color": null,
            "_model_module": "@jupyter-widgets/controls"
          }
        },
        "71cbc9f5580047cba6714c20e28f4b60": {
          "model_module": "@jupyter-widgets/base",
          "model_name": "LayoutModel",
          "state": {
            "_view_name": "LayoutView",
            "grid_template_rows": null,
            "right": null,
            "justify_content": null,
            "_view_module": "@jupyter-widgets/base",
            "overflow": null,
            "_model_module_version": "1.2.0",
            "_view_count": null,
            "flex_flow": null,
            "width": null,
            "min_width": null,
            "border": null,
            "align_items": null,
            "bottom": null,
            "_model_module": "@jupyter-widgets/base",
            "top": null,
            "grid_column": null,
            "overflow_y": null,
            "overflow_x": null,
            "grid_auto_flow": null,
            "grid_area": null,
            "grid_template_columns": null,
            "flex": null,
            "_model_name": "LayoutModel",
            "justify_items": null,
            "grid_row": null,
            "max_height": null,
            "align_content": null,
            "visibility": null,
            "align_self": null,
            "height": null,
            "min_height": null,
            "padding": null,
            "grid_auto_rows": null,
            "grid_gap": null,
            "max_width": null,
            "order": null,
            "_view_module_version": "1.2.0",
            "grid_template_areas": null,
            "object_position": null,
            "object_fit": null,
            "grid_auto_columns": null,
            "margin": null,
            "display": null,
            "left": null
          }
        },
        "3de9f92d37134f5d82cb82ce8c8f8c1a": {
          "model_module": "@jupyter-widgets/controls",
          "model_name": "DescriptionStyleModel",
          "state": {
            "_view_name": "StyleView",
            "_model_name": "DescriptionStyleModel",
            "description_width": "",
            "_view_module": "@jupyter-widgets/base",
            "_model_module_version": "1.5.0",
            "_view_count": null,
            "_view_module_version": "1.2.0",
            "_model_module": "@jupyter-widgets/controls"
          }
        },
        "d6915489bd9b4a9f8a1710c809d8712c": {
          "model_module": "@jupyter-widgets/base",
          "model_name": "LayoutModel",
          "state": {
            "_view_name": "LayoutView",
            "grid_template_rows": null,
            "right": null,
            "justify_content": null,
            "_view_module": "@jupyter-widgets/base",
            "overflow": null,
            "_model_module_version": "1.2.0",
            "_view_count": null,
            "flex_flow": null,
            "width": null,
            "min_width": null,
            "border": null,
            "align_items": null,
            "bottom": null,
            "_model_module": "@jupyter-widgets/base",
            "top": null,
            "grid_column": null,
            "overflow_y": null,
            "overflow_x": null,
            "grid_auto_flow": null,
            "grid_area": null,
            "grid_template_columns": null,
            "flex": null,
            "_model_name": "LayoutModel",
            "justify_items": null,
            "grid_row": null,
            "max_height": null,
            "align_content": null,
            "visibility": null,
            "align_self": null,
            "height": null,
            "min_height": null,
            "padding": null,
            "grid_auto_rows": null,
            "grid_gap": null,
            "max_width": null,
            "order": null,
            "_view_module_version": "1.2.0",
            "grid_template_areas": null,
            "object_position": null,
            "object_fit": null,
            "grid_auto_columns": null,
            "margin": null,
            "display": null,
            "left": null
          }
        },
        "b0ad00a683664f0fbfc966f90c03aed2": {
          "model_module": "@jupyter-widgets/controls",
          "model_name": "HBoxModel",
          "state": {
            "_view_name": "HBoxView",
            "_dom_classes": [],
            "_model_name": "HBoxModel",
            "_view_module": "@jupyter-widgets/controls",
            "_model_module_version": "1.5.0",
            "_view_count": null,
            "_view_module_version": "1.5.0",
            "box_style": "",
            "layout": "IPY_MODEL_09d3e089be8249aba92f30a2c9d68caf",
            "_model_module": "@jupyter-widgets/controls",
            "children": [
              "IPY_MODEL_35a51a90772242dca73a6f694c041820",
              "IPY_MODEL_da37a4a10553485ead4aaf81276291ac"
            ]
          }
        },
        "09d3e089be8249aba92f30a2c9d68caf": {
          "model_module": "@jupyter-widgets/base",
          "model_name": "LayoutModel",
          "state": {
            "_view_name": "LayoutView",
            "grid_template_rows": null,
            "right": null,
            "justify_content": null,
            "_view_module": "@jupyter-widgets/base",
            "overflow": null,
            "_model_module_version": "1.2.0",
            "_view_count": null,
            "flex_flow": null,
            "width": null,
            "min_width": null,
            "border": null,
            "align_items": null,
            "bottom": null,
            "_model_module": "@jupyter-widgets/base",
            "top": null,
            "grid_column": null,
            "overflow_y": null,
            "overflow_x": null,
            "grid_auto_flow": null,
            "grid_area": null,
            "grid_template_columns": null,
            "flex": null,
            "_model_name": "LayoutModel",
            "justify_items": null,
            "grid_row": null,
            "max_height": null,
            "align_content": null,
            "visibility": null,
            "align_self": null,
            "height": null,
            "min_height": null,
            "padding": null,
            "grid_auto_rows": null,
            "grid_gap": null,
            "max_width": null,
            "order": null,
            "_view_module_version": "1.2.0",
            "grid_template_areas": null,
            "object_position": null,
            "object_fit": null,
            "grid_auto_columns": null,
            "margin": null,
            "display": null,
            "left": null
          }
        },
        "35a51a90772242dca73a6f694c041820": {
          "model_module": "@jupyter-widgets/controls",
          "model_name": "FloatProgressModel",
          "state": {
            "_view_name": "ProgressView",
            "style": "IPY_MODEL_18782acd04794dd8a986e2ffdc3f30d4",
            "_dom_classes": [],
            "description": "Downloading: 100%",
            "_model_name": "FloatProgressModel",
            "bar_style": "success",
            "max": 73062448,
            "_view_module": "@jupyter-widgets/controls",
            "_model_module_version": "1.5.0",
            "value": 73062448,
            "_view_count": null,
            "_view_module_version": "1.5.0",
            "orientation": "horizontal",
            "min": 0,
            "description_tooltip": null,
            "_model_module": "@jupyter-widgets/controls",
            "layout": "IPY_MODEL_2e6b9d099eeb42629a75652834b99731"
          }
        },
        "da37a4a10553485ead4aaf81276291ac": {
          "model_module": "@jupyter-widgets/controls",
          "model_name": "HTMLModel",
          "state": {
            "_view_name": "HTMLView",
            "style": "IPY_MODEL_a55eb8ef943545bf984076b414e160e0",
            "_dom_classes": [],
            "description": "",
            "_model_name": "HTMLModel",
            "placeholder": "​",
            "_view_module": "@jupyter-widgets/controls",
            "_model_module_version": "1.5.0",
            "value": " 73.1M/73.1M [00:59&lt;00:00, 1.23MB/s]",
            "_view_count": null,
            "_view_module_version": "1.5.0",
            "description_tooltip": null,
            "_model_module": "@jupyter-widgets/controls",
            "layout": "IPY_MODEL_a4b3a497d47d401fb9db8a7e583960db"
          }
        },
        "18782acd04794dd8a986e2ffdc3f30d4": {
          "model_module": "@jupyter-widgets/controls",
          "model_name": "ProgressStyleModel",
          "state": {
            "_view_name": "StyleView",
            "_model_name": "ProgressStyleModel",
            "description_width": "initial",
            "_view_module": "@jupyter-widgets/base",
            "_model_module_version": "1.5.0",
            "_view_count": null,
            "_view_module_version": "1.2.0",
            "bar_color": null,
            "_model_module": "@jupyter-widgets/controls"
          }
        },
        "2e6b9d099eeb42629a75652834b99731": {
          "model_module": "@jupyter-widgets/base",
          "model_name": "LayoutModel",
          "state": {
            "_view_name": "LayoutView",
            "grid_template_rows": null,
            "right": null,
            "justify_content": null,
            "_view_module": "@jupyter-widgets/base",
            "overflow": null,
            "_model_module_version": "1.2.0",
            "_view_count": null,
            "flex_flow": null,
            "width": null,
            "min_width": null,
            "border": null,
            "align_items": null,
            "bottom": null,
            "_model_module": "@jupyter-widgets/base",
            "top": null,
            "grid_column": null,
            "overflow_y": null,
            "overflow_x": null,
            "grid_auto_flow": null,
            "grid_area": null,
            "grid_template_columns": null,
            "flex": null,
            "_model_name": "LayoutModel",
            "justify_items": null,
            "grid_row": null,
            "max_height": null,
            "align_content": null,
            "visibility": null,
            "align_self": null,
            "height": null,
            "min_height": null,
            "padding": null,
            "grid_auto_rows": null,
            "grid_gap": null,
            "max_width": null,
            "order": null,
            "_view_module_version": "1.2.0",
            "grid_template_areas": null,
            "object_position": null,
            "object_fit": null,
            "grid_auto_columns": null,
            "margin": null,
            "display": null,
            "left": null
          }
        },
        "a55eb8ef943545bf984076b414e160e0": {
          "model_module": "@jupyter-widgets/controls",
          "model_name": "DescriptionStyleModel",
          "state": {
            "_view_name": "StyleView",
            "_model_name": "DescriptionStyleModel",
            "description_width": "",
            "_view_module": "@jupyter-widgets/base",
            "_model_module_version": "1.5.0",
            "_view_count": null,
            "_view_module_version": "1.2.0",
            "_model_module": "@jupyter-widgets/controls"
          }
        },
        "a4b3a497d47d401fb9db8a7e583960db": {
          "model_module": "@jupyter-widgets/base",
          "model_name": "LayoutModel",
          "state": {
            "_view_name": "LayoutView",
            "grid_template_rows": null,
            "right": null,
            "justify_content": null,
            "_view_module": "@jupyter-widgets/base",
            "overflow": null,
            "_model_module_version": "1.2.0",
            "_view_count": null,
            "flex_flow": null,
            "width": null,
            "min_width": null,
            "border": null,
            "align_items": null,
            "bottom": null,
            "_model_module": "@jupyter-widgets/base",
            "top": null,
            "grid_column": null,
            "overflow_y": null,
            "overflow_x": null,
            "grid_auto_flow": null,
            "grid_area": null,
            "grid_template_columns": null,
            "flex": null,
            "_model_name": "LayoutModel",
            "justify_items": null,
            "grid_row": null,
            "max_height": null,
            "align_content": null,
            "visibility": null,
            "align_self": null,
            "height": null,
            "min_height": null,
            "padding": null,
            "grid_auto_rows": null,
            "grid_gap": null,
            "max_width": null,
            "order": null,
            "_view_module_version": "1.2.0",
            "grid_template_areas": null,
            "object_position": null,
            "object_fit": null,
            "grid_auto_columns": null,
            "margin": null,
            "display": null,
            "left": null
          }
        }
      }
    }
  },
  "cells": [
    {
      "cell_type": "markdown",
      "metadata": {
        "id": "view-in-github",
        "colab_type": "text"
      },
      "source": [
        "<a href=\"https://colab.research.google.com/github/AliAkbarBadri/topics-for-types/blob/main/types.ipynb\" target=\"_parent\"><img src=\"https://colab.research.google.com/assets/colab-badge.svg\" alt=\"Open In Colab\"/></a>"
      ]
    },
    {
      "cell_type": "markdown",
      "metadata": {
        "id": "35118jEtNm5E"
      },
      "source": [
        "# Setup"
      ]
    },
    {
      "cell_type": "code",
      "metadata": {
        "id": "SJFNjxht1SE5",
        "outputId": "5e001178-cfce-4be9-fdcd-21bb61785a1d",
        "colab": {
          "base_uri": "https://localhost:8080/",
          "height": 238
        }
      },
      "source": [
        "! pip -q install laserembeddings\n",
        "! python -m laserembeddings download-models\n",
        "! pip -q install transformers"
      ],
      "execution_count": 1,
      "outputs": [
        {
          "output_type": "stream",
          "text": [
            "\u001b[K     |████████████████████████████████| 51kB 3.3MB/s \n",
            "\u001b[K     |████████████████████████████████| 860kB 8.7MB/s \n",
            "\u001b[?25h  Building wheel for sacremoses (setup.py) ... \u001b[?25l\u001b[?25hdone\n",
            "Downloading models into /usr/local/lib/python3.6/dist-packages/laserembeddings/data\n",
            "\n",
            "✅   Downloaded https://dl.fbaipublicfiles.com/laser/models/93langs.fcodes    \n",
            "✅   Downloaded https://dl.fbaipublicfiles.com/laser/models/93langs.fvocab    \n",
            "✅   Downloaded https://dl.fbaipublicfiles.com/laser/models/bilstm.93langs.2018-12-26.pt    \n",
            "\n",
            "✨ You're all set!\n",
            "\u001b[K     |████████████████████████████████| 1.3MB 3.4MB/s \n",
            "\u001b[K     |████████████████████████████████| 1.1MB 22.2MB/s \n",
            "\u001b[K     |████████████████████████████████| 2.9MB 35.7MB/s \n",
            "\u001b[?25h"
          ],
          "name": "stdout"
        }
      ]
    },
    {
      "cell_type": "code",
      "metadata": {
        "id": "bxA_PSMaBhzU"
      },
      "source": [
        "import pandas as pd\n",
        "import numpy as np\n",
        "import numpy as np\n",
        "import matplotlib.pyplot as plt\n",
        "import os\n",
        "import tensorflow as tf\n",
        "from tensorflow.keras.preprocessing.text import Tokenizer\n",
        "from tensorflow.keras.preprocessing.sequence import pad_sequences\n",
        "import torch\n",
        "from sklearn.model_selection import train_test_split\n",
        "from transformers import AutoConfig, AutoTokenizer, AutoModel\n",
        "from laserembeddings import Laser\n",
        "from __future__ import unicode_literals"
      ],
      "execution_count": 9,
      "outputs": []
    },
    {
      "cell_type": "code",
      "metadata": {
        "id": "LCVAXfOLRn17",
        "outputId": "c28d10ef-dc3a-439d-919a-b0ac2f68d94c",
        "colab": {
          "base_uri": "https://localhost:8080/",
          "height": 34
        }
      },
      "source": [
        "from google.colab import drive\n",
        "drive.mount('/content/drive')"
      ],
      "execution_count": 3,
      "outputs": [
        {
          "output_type": "stream",
          "text": [
            "Mounted at /content/drive\n"
          ],
          "name": "stdout"
        }
      ]
    },
    {
      "cell_type": "markdown",
      "metadata": {
        "id": "7qNH8DZbenUD"
      },
      "source": [
        "# Word2Vec"
      ]
    },
    {
      "cell_type": "code",
      "metadata": {
        "id": "FbnHwp3pxRD2",
        "outputId": "d6911c15-f16f-4cad-d586-4f3cf4d568db",
        "colab": {
          "base_uri": "https://localhost:8080/",
          "height": 204
        }
      },
      "source": [
        "df_types_lstm = pd.read_csv(\"/content/drive/My Drive/topics-for-types/df_types.csv\")\n",
        "df_types_lstm.head()"
      ],
      "execution_count": 17,
      "outputs": [
        {
          "output_type": "execute_result",
          "data": {
            "text/html": [
              "<div>\n",
              "<style scoped>\n",
              "    .dataframe tbody tr th:only-of-type {\n",
              "        vertical-align: middle;\n",
              "    }\n",
              "\n",
              "    .dataframe tbody tr th {\n",
              "        vertical-align: top;\n",
              "    }\n",
              "\n",
              "    .dataframe thead th {\n",
              "        text-align: right;\n",
              "    }\n",
              "</style>\n",
              "<table border=\"1\" class=\"dataframe\">\n",
              "  <thead>\n",
              "    <tr style=\"text-align: right;\">\n",
              "      <th></th>\n",
              "      <th>sentence</th>\n",
              "      <th>انتخاب</th>\n",
              "      <th>بله/خیر</th>\n",
              "      <th>ترجمه</th>\n",
              "      <th>تعامل</th>\n",
              "      <th>تعریف</th>\n",
              "      <th>توضیح</th>\n",
              "      <th>دلیل</th>\n",
              "      <th>ریاضی</th>\n",
              "      <th>لیست</th>\n",
              "      <th>نظر</th>\n",
              "      <th>واقعیت</th>\n",
              "      <th>پیشنهاد</th>\n",
              "    </tr>\n",
              "  </thead>\n",
              "  <tbody>\n",
              "    <tr>\n",
              "      <th>0</th>\n",
              "      <td>تفاوت ترمز عقب دیسکی و کاسه ای چیست؟</td>\n",
              "      <td>0</td>\n",
              "      <td>0</td>\n",
              "      <td>0</td>\n",
              "      <td>0</td>\n",
              "      <td>1</td>\n",
              "      <td>1</td>\n",
              "      <td>0</td>\n",
              "      <td>0</td>\n",
              "      <td>0</td>\n",
              "      <td>1</td>\n",
              "      <td>0</td>\n",
              "      <td>0</td>\n",
              "    </tr>\n",
              "    <tr>\n",
              "      <th>1</th>\n",
              "      <td>آیا ترمز ضدقفل ABS در همه چرخ ها عمل می کند؟</td>\n",
              "      <td>0</td>\n",
              "      <td>1</td>\n",
              "      <td>0</td>\n",
              "      <td>0</td>\n",
              "      <td>0</td>\n",
              "      <td>1</td>\n",
              "      <td>0</td>\n",
              "      <td>0</td>\n",
              "      <td>0</td>\n",
              "      <td>1</td>\n",
              "      <td>0</td>\n",
              "      <td>0</td>\n",
              "    </tr>\n",
              "    <tr>\n",
              "      <th>2</th>\n",
              "      <td>چرا باوجود نصب بودن ترمز ABS بر روی خودرو، ترم...</td>\n",
              "      <td>0</td>\n",
              "      <td>0</td>\n",
              "      <td>0</td>\n",
              "      <td>0</td>\n",
              "      <td>0</td>\n",
              "      <td>1</td>\n",
              "      <td>1</td>\n",
              "      <td>0</td>\n",
              "      <td>0</td>\n",
              "      <td>1</td>\n",
              "      <td>0</td>\n",
              "      <td>0</td>\n",
              "    </tr>\n",
              "    <tr>\n",
              "      <th>3</th>\n",
              "      <td>چرا با وجود نصب بودن Airbag بر روی خودرو، در ه...</td>\n",
              "      <td>0</td>\n",
              "      <td>0</td>\n",
              "      <td>0</td>\n",
              "      <td>0</td>\n",
              "      <td>0</td>\n",
              "      <td>1</td>\n",
              "      <td>1</td>\n",
              "      <td>0</td>\n",
              "      <td>0</td>\n",
              "      <td>1</td>\n",
              "      <td>0</td>\n",
              "      <td>0</td>\n",
              "    </tr>\n",
              "    <tr>\n",
              "      <th>4</th>\n",
              "      <td>کلاس های مختلف خودرو چگونه شناسایی می شوند؟</td>\n",
              "      <td>0</td>\n",
              "      <td>0</td>\n",
              "      <td>0</td>\n",
              "      <td>0</td>\n",
              "      <td>1</td>\n",
              "      <td>0</td>\n",
              "      <td>0</td>\n",
              "      <td>0</td>\n",
              "      <td>1</td>\n",
              "      <td>1</td>\n",
              "      <td>0</td>\n",
              "      <td>0</td>\n",
              "    </tr>\n",
              "  </tbody>\n",
              "</table>\n",
              "</div>"
            ],
            "text/plain": [
              "                                            sentence  انتخاب  ...  واقعیت  پیشنهاد\n",
              "0              تفاوت ترمز عقب دیسکی و کاسه ای چیست؟        0  ...       0        0\n",
              "1     آیا ترمز ضدقفل ABS در همه چرخ ها عمل می کند؟         0  ...       0        0\n",
              "2  چرا باوجود نصب بودن ترمز ABS بر روی خودرو، ترم...       0  ...       0        0\n",
              "3  چرا با وجود نصب بودن Airbag بر روی خودرو، در ه...       0  ...       0        0\n",
              "4       کلاس های مختلف خودرو چگونه شناسایی می شوند؟        0  ...       0        0\n",
              "\n",
              "[5 rows x 13 columns]"
            ]
          },
          "metadata": {
            "tags": []
          },
          "execution_count": 17
        }
      ]
    },
    {
      "cell_type": "code",
      "metadata": {
        "id": "hH6VbfWMf5qO"
      },
      "source": [
        "X = df_types_lstm[df_types_lstm.columns[0]].values\n",
        "Y = df_types_lstm[df_types_lstm.columns[1:]].values"
      ],
      "execution_count": 18,
      "outputs": []
    },
    {
      "cell_type": "code",
      "metadata": {
        "id": "MFb1ouv4NW4z"
      },
      "source": [
        "X_train, X_test, y_train, y_test = train_test_split(X, Y, test_size=0.10)"
      ],
      "execution_count": 19,
      "outputs": []
    },
    {
      "cell_type": "code",
      "metadata": {
        "id": "qEc5r95aNenl"
      },
      "source": [
        "tokenizer = Tokenizer(num_words=50000)\n",
        "tokenizer.fit_on_texts(X_train)\n",
        "\n",
        "X_train = tokenizer.texts_to_sequences(X_train)\n",
        "X_test = tokenizer.texts_to_sequences(X_test)\n",
        "vocab_size = len(tokenizer.word_index) + 1\n",
        "\n",
        "maxlen = 200\n",
        "\n",
        "X_train = pad_sequences(X_train, padding='post', maxlen=maxlen)\n",
        "X_test = pad_sequences(X_test, padding='post', maxlen=maxlen)"
      ],
      "execution_count": 20,
      "outputs": []
    },
    {
      "cell_type": "code",
      "metadata": {
        "id": "4S_5yaE1P9EK",
        "outputId": "2bd119f6-1bfa-4df0-f0a2-8e7c6af9b082",
        "colab": {
          "base_uri": "https://localhost:8080/",
          "height": 34
        }
      },
      "source": [
        "vocab_size, X_train.shape, y_train.shape, X_test.shape, y_test.shape"
      ],
      "execution_count": 21,
      "outputs": [
        {
          "output_type": "execute_result",
          "data": {
            "text/plain": [
              "(8612, (2181, 200), (2181, 12), (243, 200), (243, 12))"
            ]
          },
          "metadata": {
            "tags": []
          },
          "execution_count": 21
        }
      ]
    },
    {
      "cell_type": "code",
      "metadata": {
        "id": "6UrxQBoXN4Mq"
      },
      "source": [
        "embeddings_dictionary = dict()\n",
        "\n",
        "glove_file = open('drive/My Drive/nlp/similarity/embeddings/twitt_wiki_ham_blog.fa.text.100.vec', encoding=\"utf8\")\n",
        "\n",
        "for line in glove_file:\n",
        "    records = line.split()\n",
        "    word = records[0]\n",
        "    vector_dimensions = np.asarray(records[1:], dtype='float32')\n",
        "    embeddings_dictionary[word] = vector_dimensions\n",
        "glove_file.close()\n",
        "\n",
        "embedding_matrix = np.zeros((vocab_size, 100))\n",
        "for word, index in tokenizer.word_index.items():\n",
        "    embedding_vector = embeddings_dictionary.get(word)\n",
        "    if embedding_vector is not None:\n",
        "        embedding_matrix[index] = embedding_vector"
      ],
      "execution_count": 22,
      "outputs": []
    },
    {
      "cell_type": "code",
      "metadata": {
        "id": "C3LLbfIiAtbY",
        "outputId": "96420e1f-0f44-45e3-d792-d1cc6b977e2a",
        "colab": {
          "base_uri": "https://localhost:8080/",
          "height": 527
        }
      },
      "source": [
        "model = tf.keras.Sequential([\n",
        "    tf.keras.layers.Input(shape=(maxlen,)),\n",
        "    tf.keras.layers.Embedding(input_dim=vocab_size, output_dim = 100, \n",
        "                            weights=[embedding_matrix],\n",
        "                            trainable=False, name='Embedding_Layer'),\n",
        "    tf.keras.layers.LSTM(200,\n",
        "                        # return_sequences=True,\n",
        "                        # stateful=True,\n",
        "                        recurrent_initializer='glorot_uniform',\n",
        "                        name='LSTM_Layer'),\n",
        "    tf.keras.layers.Dense(12, activation='sigmoid', name='Dense_Layer')\n",
        "  ], name='LSTM_Model')\n",
        "model.compile(loss='binary_crossentropy', optimizer=tf.keras.optimizers.Adam(learning_rate=0.01), metrics=['acc'])\n",
        "print(model.summary())\n",
        "print()\n",
        "print(model.layers[0].weights)"
      ],
      "execution_count": 23,
      "outputs": [
        {
          "output_type": "stream",
          "text": [
            "Model: \"LSTM_Model\"\n",
            "_________________________________________________________________\n",
            "Layer (type)                 Output Shape              Param #   \n",
            "=================================================================\n",
            "Embedding_Layer (Embedding)  (None, 200, 100)          861200    \n",
            "_________________________________________________________________\n",
            "LSTM_Layer (LSTM)            (None, 200)               240800    \n",
            "_________________________________________________________________\n",
            "Dense_Layer (Dense)          (None, 12)                2412      \n",
            "=================================================================\n",
            "Total params: 1,104,412\n",
            "Trainable params: 243,212\n",
            "Non-trainable params: 861,200\n",
            "_________________________________________________________________\n",
            "None\n",
            "\n",
            "[<tf.Variable 'Embedding_Layer/embeddings:0' shape=(8612, 100) dtype=float32, numpy=\n",
            "array([[ 0.      ,  0.      ,  0.      , ...,  0.      ,  0.      ,\n",
            "         0.      ],\n",
            "       [-2.222517, -0.428454, -1.253941, ...,  0.361452,  1.804778,\n",
            "        -0.216301],\n",
            "       [-0.132566, -4.901635, -1.319971, ...,  0.09917 ,  4.036689,\n",
            "        -0.957019],\n",
            "       ...,\n",
            "       [-0.138941,  0.195172,  0.156951, ...,  0.188948,  0.566469,\n",
            "         0.479161],\n",
            "       [ 0.977644, -2.826741, -0.819017, ...,  2.239994,  2.825469,\n",
            "         1.529051],\n",
            "       [-0.903405, -0.769125, -0.119399, ...,  1.762293,  0.290915,\n",
            "        -0.276989]], dtype=float32)>]\n"
          ],
          "name": "stdout"
        }
      ]
    },
    {
      "cell_type": "code",
      "metadata": {
        "id": "fb1R_m8wGO7J",
        "outputId": "bee965c7-d10f-42c5-9f00-ba59e15a3776",
        "colab": {
          "base_uri": "https://localhost:8080/",
          "height": 527
        }
      },
      "source": [
        "history = model.fit(X_train, y_train, batch_size=32, epochs=15, verbose=1, validation_split=0.2)"
      ],
      "execution_count": 24,
      "outputs": [
        {
          "output_type": "stream",
          "text": [
            "Epoch 1/15\n",
            "55/55 [==============================] - 2s 27ms/step - loss: 0.3126 - acc: 0.4828 - val_loss: 0.2911 - val_acc: 0.4920\n",
            "Epoch 2/15\n",
            "55/55 [==============================] - 1s 20ms/step - loss: 0.2914 - acc: 0.4931 - val_loss: 0.2928 - val_acc: 0.4920\n",
            "Epoch 3/15\n",
            "55/55 [==============================] - 1s 20ms/step - loss: 0.2915 - acc: 0.4931 - val_loss: 0.2913 - val_acc: 0.4920\n",
            "Epoch 4/15\n",
            "55/55 [==============================] - 1s 20ms/step - loss: 0.2902 - acc: 0.4931 - val_loss: 0.2891 - val_acc: 0.4920\n",
            "Epoch 5/15\n",
            "55/55 [==============================] - 1s 20ms/step - loss: 0.2895 - acc: 0.4931 - val_loss: 0.2885 - val_acc: 0.4920\n",
            "Epoch 6/15\n",
            "55/55 [==============================] - 1s 20ms/step - loss: 0.2904 - acc: 0.4931 - val_loss: 0.2920 - val_acc: 0.4920\n",
            "Epoch 7/15\n",
            "55/55 [==============================] - 1s 20ms/step - loss: 0.2891 - acc: 0.4931 - val_loss: 0.2893 - val_acc: 0.4920\n",
            "Epoch 8/15\n",
            "55/55 [==============================] - 1s 20ms/step - loss: 0.2891 - acc: 0.4931 - val_loss: 0.2897 - val_acc: 0.4920\n",
            "Epoch 9/15\n",
            "55/55 [==============================] - 1s 20ms/step - loss: 0.2893 - acc: 0.4931 - val_loss: 0.2897 - val_acc: 0.4920\n",
            "Epoch 10/15\n",
            "55/55 [==============================] - 1s 20ms/step - loss: 0.2886 - acc: 0.4931 - val_loss: 0.2905 - val_acc: 0.4920\n",
            "Epoch 11/15\n",
            "55/55 [==============================] - 1s 20ms/step - loss: 0.2889 - acc: 0.4931 - val_loss: 0.2903 - val_acc: 0.4920\n",
            "Epoch 12/15\n",
            "55/55 [==============================] - 1s 20ms/step - loss: 0.2886 - acc: 0.4931 - val_loss: 0.2892 - val_acc: 0.4920\n",
            "Epoch 13/15\n",
            "55/55 [==============================] - 1s 20ms/step - loss: 0.2890 - acc: 0.4931 - val_loss: 0.2886 - val_acc: 0.4920\n",
            "Epoch 14/15\n",
            "55/55 [==============================] - 1s 20ms/step - loss: 0.2885 - acc: 0.4931 - val_loss: 0.2892 - val_acc: 0.4920\n",
            "Epoch 15/15\n",
            "55/55 [==============================] - 1s 20ms/step - loss: 0.2879 - acc: 0.4931 - val_loss: 0.2895 - val_acc: 0.4920\n"
          ],
          "name": "stdout"
        }
      ]
    },
    {
      "cell_type": "code",
      "metadata": {
        "id": "EXozAvLmPxzk",
        "outputId": "c68d9195-d33c-4de8-9ac4-c02c50e5a293",
        "colab": {
          "base_uri": "https://localhost:8080/",
          "height": 68
        }
      },
      "source": [
        "score = model.evaluate(X_test, y_test, verbose=1)\n",
        "\n",
        "print(\"Test Score:\", score[0])\n",
        "print(\"Test Accuracy:\", score[1])"
      ],
      "execution_count": 25,
      "outputs": [
        {
          "output_type": "stream",
          "text": [
            "8/8 [==============================] - 0s 7ms/step - loss: 0.3023 - acc: 0.4403\n",
            "Test Score: 0.3022744953632355\n",
            "Test Accuracy: 0.4403292238712311\n"
          ],
          "name": "stdout"
        }
      ]
    },
    {
      "cell_type": "markdown",
      "metadata": {
        "id": "YOWqOnmkpowp"
      },
      "source": [
        "# LASER"
      ]
    },
    {
      "cell_type": "code",
      "metadata": {
        "id": "36sadEN82ZUu"
      },
      "source": [
        "laser = Laser()"
      ],
      "execution_count": 26,
      "outputs": []
    },
    {
      "cell_type": "code",
      "metadata": {
        "id": "lSQdhjdD8Osl",
        "outputId": "d200ce7c-3f1e-4615-b57c-e9f4c96f45ef",
        "colab": {
          "base_uri": "https://localhost:8080/",
          "height": 204
        }
      },
      "source": [
        "df_types_laser = pd.read_csv(\"/content/drive/My Drive/topics-for-types/df_types.csv\")\n",
        "df_types_laser.head()"
      ],
      "execution_count": 27,
      "outputs": [
        {
          "output_type": "execute_result",
          "data": {
            "text/html": [
              "<div>\n",
              "<style scoped>\n",
              "    .dataframe tbody tr th:only-of-type {\n",
              "        vertical-align: middle;\n",
              "    }\n",
              "\n",
              "    .dataframe tbody tr th {\n",
              "        vertical-align: top;\n",
              "    }\n",
              "\n",
              "    .dataframe thead th {\n",
              "        text-align: right;\n",
              "    }\n",
              "</style>\n",
              "<table border=\"1\" class=\"dataframe\">\n",
              "  <thead>\n",
              "    <tr style=\"text-align: right;\">\n",
              "      <th></th>\n",
              "      <th>sentence</th>\n",
              "      <th>انتخاب</th>\n",
              "      <th>بله/خیر</th>\n",
              "      <th>ترجمه</th>\n",
              "      <th>تعامل</th>\n",
              "      <th>تعریف</th>\n",
              "      <th>توضیح</th>\n",
              "      <th>دلیل</th>\n",
              "      <th>ریاضی</th>\n",
              "      <th>لیست</th>\n",
              "      <th>نظر</th>\n",
              "      <th>واقعیت</th>\n",
              "      <th>پیشنهاد</th>\n",
              "    </tr>\n",
              "  </thead>\n",
              "  <tbody>\n",
              "    <tr>\n",
              "      <th>0</th>\n",
              "      <td>تفاوت ترمز عقب دیسکی و کاسه ای چیست؟</td>\n",
              "      <td>0</td>\n",
              "      <td>0</td>\n",
              "      <td>0</td>\n",
              "      <td>0</td>\n",
              "      <td>1</td>\n",
              "      <td>1</td>\n",
              "      <td>0</td>\n",
              "      <td>0</td>\n",
              "      <td>0</td>\n",
              "      <td>1</td>\n",
              "      <td>0</td>\n",
              "      <td>0</td>\n",
              "    </tr>\n",
              "    <tr>\n",
              "      <th>1</th>\n",
              "      <td>آیا ترمز ضدقفل ABS در همه چرخ ها عمل می کند؟</td>\n",
              "      <td>0</td>\n",
              "      <td>1</td>\n",
              "      <td>0</td>\n",
              "      <td>0</td>\n",
              "      <td>0</td>\n",
              "      <td>1</td>\n",
              "      <td>0</td>\n",
              "      <td>0</td>\n",
              "      <td>0</td>\n",
              "      <td>1</td>\n",
              "      <td>0</td>\n",
              "      <td>0</td>\n",
              "    </tr>\n",
              "    <tr>\n",
              "      <th>2</th>\n",
              "      <td>چرا باوجود نصب بودن ترمز ABS بر روی خودرو، ترم...</td>\n",
              "      <td>0</td>\n",
              "      <td>0</td>\n",
              "      <td>0</td>\n",
              "      <td>0</td>\n",
              "      <td>0</td>\n",
              "      <td>1</td>\n",
              "      <td>1</td>\n",
              "      <td>0</td>\n",
              "      <td>0</td>\n",
              "      <td>1</td>\n",
              "      <td>0</td>\n",
              "      <td>0</td>\n",
              "    </tr>\n",
              "    <tr>\n",
              "      <th>3</th>\n",
              "      <td>چرا با وجود نصب بودن Airbag بر روی خودرو، در ه...</td>\n",
              "      <td>0</td>\n",
              "      <td>0</td>\n",
              "      <td>0</td>\n",
              "      <td>0</td>\n",
              "      <td>0</td>\n",
              "      <td>1</td>\n",
              "      <td>1</td>\n",
              "      <td>0</td>\n",
              "      <td>0</td>\n",
              "      <td>1</td>\n",
              "      <td>0</td>\n",
              "      <td>0</td>\n",
              "    </tr>\n",
              "    <tr>\n",
              "      <th>4</th>\n",
              "      <td>کلاس های مختلف خودرو چگونه شناسایی می شوند؟</td>\n",
              "      <td>0</td>\n",
              "      <td>0</td>\n",
              "      <td>0</td>\n",
              "      <td>0</td>\n",
              "      <td>1</td>\n",
              "      <td>0</td>\n",
              "      <td>0</td>\n",
              "      <td>0</td>\n",
              "      <td>1</td>\n",
              "      <td>1</td>\n",
              "      <td>0</td>\n",
              "      <td>0</td>\n",
              "    </tr>\n",
              "  </tbody>\n",
              "</table>\n",
              "</div>"
            ],
            "text/plain": [
              "                                            sentence  انتخاب  ...  واقعیت  پیشنهاد\n",
              "0              تفاوت ترمز عقب دیسکی و کاسه ای چیست؟        0  ...       0        0\n",
              "1     آیا ترمز ضدقفل ABS در همه چرخ ها عمل می کند؟         0  ...       0        0\n",
              "2  چرا باوجود نصب بودن ترمز ABS بر روی خودرو، ترم...       0  ...       0        0\n",
              "3  چرا با وجود نصب بودن Airbag بر روی خودرو، در ه...       0  ...       0        0\n",
              "4       کلاس های مختلف خودرو چگونه شناسایی می شوند؟        0  ...       0        0\n",
              "\n",
              "[5 rows x 13 columns]"
            ]
          },
          "metadata": {
            "tags": []
          },
          "execution_count": 27
        }
      ]
    },
    {
      "cell_type": "code",
      "metadata": {
        "id": "opZheLr-1fI6",
        "outputId": "529eac81-bcf4-41db-de31-aebf55255c80",
        "colab": {
          "base_uri": "https://localhost:8080/",
          "height": 204
        }
      },
      "source": [
        "df_types_laser['sentence'] = df_types_laser['sentence'].apply(lambda sent: laser.embed_sentences(sent, lang='fa')[0])\n",
        "df_types_laser.head()"
      ],
      "execution_count": 28,
      "outputs": [
        {
          "output_type": "execute_result",
          "data": {
            "text/html": [
              "<div>\n",
              "<style scoped>\n",
              "    .dataframe tbody tr th:only-of-type {\n",
              "        vertical-align: middle;\n",
              "    }\n",
              "\n",
              "    .dataframe tbody tr th {\n",
              "        vertical-align: top;\n",
              "    }\n",
              "\n",
              "    .dataframe thead th {\n",
              "        text-align: right;\n",
              "    }\n",
              "</style>\n",
              "<table border=\"1\" class=\"dataframe\">\n",
              "  <thead>\n",
              "    <tr style=\"text-align: right;\">\n",
              "      <th></th>\n",
              "      <th>sentence</th>\n",
              "      <th>انتخاب</th>\n",
              "      <th>بله/خیر</th>\n",
              "      <th>ترجمه</th>\n",
              "      <th>تعامل</th>\n",
              "      <th>تعریف</th>\n",
              "      <th>توضیح</th>\n",
              "      <th>دلیل</th>\n",
              "      <th>ریاضی</th>\n",
              "      <th>لیست</th>\n",
              "      <th>نظر</th>\n",
              "      <th>واقعیت</th>\n",
              "      <th>پیشنهاد</th>\n",
              "    </tr>\n",
              "  </thead>\n",
              "  <tbody>\n",
              "    <tr>\n",
              "      <th>0</th>\n",
              "      <td>[0.020942228, -8.114154e-05, -0.0009854112, 0....</td>\n",
              "      <td>0</td>\n",
              "      <td>0</td>\n",
              "      <td>0</td>\n",
              "      <td>0</td>\n",
              "      <td>1</td>\n",
              "      <td>1</td>\n",
              "      <td>0</td>\n",
              "      <td>0</td>\n",
              "      <td>0</td>\n",
              "      <td>1</td>\n",
              "      <td>0</td>\n",
              "      <td>0</td>\n",
              "    </tr>\n",
              "    <tr>\n",
              "      <th>1</th>\n",
              "      <td>[0.00867996, 0.0027223467, -0.00016234924, 0.0...</td>\n",
              "      <td>0</td>\n",
              "      <td>1</td>\n",
              "      <td>0</td>\n",
              "      <td>0</td>\n",
              "      <td>0</td>\n",
              "      <td>1</td>\n",
              "      <td>0</td>\n",
              "      <td>0</td>\n",
              "      <td>0</td>\n",
              "      <td>1</td>\n",
              "      <td>0</td>\n",
              "      <td>0</td>\n",
              "    </tr>\n",
              "    <tr>\n",
              "      <th>2</th>\n",
              "      <td>[0.011158594, 0.018385716, -8.350732e-05, 0.01...</td>\n",
              "      <td>0</td>\n",
              "      <td>0</td>\n",
              "      <td>0</td>\n",
              "      <td>0</td>\n",
              "      <td>0</td>\n",
              "      <td>1</td>\n",
              "      <td>1</td>\n",
              "      <td>0</td>\n",
              "      <td>0</td>\n",
              "      <td>1</td>\n",
              "      <td>0</td>\n",
              "      <td>0</td>\n",
              "    </tr>\n",
              "    <tr>\n",
              "      <th>3</th>\n",
              "      <td>[0.009575151, 0.01364643, 7.700209e-05, 0.0117...</td>\n",
              "      <td>0</td>\n",
              "      <td>0</td>\n",
              "      <td>0</td>\n",
              "      <td>0</td>\n",
              "      <td>0</td>\n",
              "      <td>1</td>\n",
              "      <td>1</td>\n",
              "      <td>0</td>\n",
              "      <td>0</td>\n",
              "      <td>1</td>\n",
              "      <td>0</td>\n",
              "      <td>0</td>\n",
              "    </tr>\n",
              "    <tr>\n",
              "      <th>4</th>\n",
              "      <td>[0.027029106, 0.002408459, 0.00048337242, 0.00...</td>\n",
              "      <td>0</td>\n",
              "      <td>0</td>\n",
              "      <td>0</td>\n",
              "      <td>0</td>\n",
              "      <td>1</td>\n",
              "      <td>0</td>\n",
              "      <td>0</td>\n",
              "      <td>0</td>\n",
              "      <td>1</td>\n",
              "      <td>1</td>\n",
              "      <td>0</td>\n",
              "      <td>0</td>\n",
              "    </tr>\n",
              "  </tbody>\n",
              "</table>\n",
              "</div>"
            ],
            "text/plain": [
              "                                            sentence  انتخاب  ...  واقعیت  پیشنهاد\n",
              "0  [0.020942228, -8.114154e-05, -0.0009854112, 0....       0  ...       0        0\n",
              "1  [0.00867996, 0.0027223467, -0.00016234924, 0.0...       0  ...       0        0\n",
              "2  [0.011158594, 0.018385716, -8.350732e-05, 0.01...       0  ...       0        0\n",
              "3  [0.009575151, 0.01364643, 7.700209e-05, 0.0117...       0  ...       0        0\n",
              "4  [0.027029106, 0.002408459, 0.00048337242, 0.00...       0  ...       0        0\n",
              "\n",
              "[5 rows x 13 columns]"
            ]
          },
          "metadata": {
            "tags": []
          },
          "execution_count": 28
        }
      ]
    },
    {
      "cell_type": "code",
      "metadata": {
        "id": "zfS5i6JY5wtz",
        "outputId": "5e48e645-8679-40eb-be16-532be332718c",
        "colab": {
          "base_uri": "https://localhost:8080/",
          "height": 34
        }
      },
      "source": [
        "X = np.array(df_types_laser[df_types_laser.columns[0]])\n",
        "X = np.vstack(X)\n",
        "\n",
        "Y = df_types_laser[df_types_laser.columns[1:]].values\n",
        "\n",
        "X.shape, Y.shape"
      ],
      "execution_count": 29,
      "outputs": [
        {
          "output_type": "execute_result",
          "data": {
            "text/plain": [
              "((2424, 1024), (2424, 12))"
            ]
          },
          "metadata": {
            "tags": []
          },
          "execution_count": 29
        }
      ]
    },
    {
      "cell_type": "code",
      "metadata": {
        "id": "2dIU12_77FYS"
      },
      "source": [
        "X_train, X_test, y_train, y_test = train_test_split(X, Y, test_size=0.10)"
      ],
      "execution_count": 30,
      "outputs": []
    },
    {
      "cell_type": "code",
      "metadata": {
        "id": "FGgNLji77YUg",
        "outputId": "9b0094a8-f066-443d-8597-d2e9b54c2e43",
        "colab": {
          "base_uri": "https://localhost:8080/",
          "height": 34
        }
      },
      "source": [
        "len(X_train),len(X_test),len(y_train),len(y_test)"
      ],
      "execution_count": 31,
      "outputs": [
        {
          "output_type": "execute_result",
          "data": {
            "text/plain": [
              "(2181, 243, 2181, 243)"
            ]
          },
          "metadata": {
            "tags": []
          },
          "execution_count": 31
        }
      ]
    },
    {
      "cell_type": "code",
      "metadata": {
        "id": "Ft6tF_ek3LQo",
        "outputId": "71220f59-1736-43fc-96dd-17d0974165dc",
        "colab": {
          "base_uri": "https://localhost:8080/",
          "height": 238
        }
      },
      "source": [
        "model = tf.keras.Sequential([\n",
        "    tf.keras.layers.Input(shape=X[0].shape, name='input_layer'),\n",
        "    tf.keras.layers.Dense(100, activation='sigmoid', name='Dense_Layer'),\n",
        "    tf.keras.layers.Dense(12, activation='sigmoid', name='Dense_Layer2'),\n",
        "  ], name='LASER_Model')\n",
        "\n",
        "model.compile(loss='binary_crossentropy', optimizer='rmsprop', metrics=['acc'])\n",
        "print(model.summary())"
      ],
      "execution_count": 32,
      "outputs": [
        {
          "output_type": "stream",
          "text": [
            "Model: \"LASER_Model\"\n",
            "_________________________________________________________________\n",
            "Layer (type)                 Output Shape              Param #   \n",
            "=================================================================\n",
            "Dense_Layer (Dense)          (None, 100)               102500    \n",
            "_________________________________________________________________\n",
            "Dense_Layer2 (Dense)         (None, 12)                1212      \n",
            "=================================================================\n",
            "Total params: 103,712\n",
            "Trainable params: 103,712\n",
            "Non-trainable params: 0\n",
            "_________________________________________________________________\n",
            "None\n"
          ],
          "name": "stdout"
        }
      ]
    },
    {
      "cell_type": "code",
      "metadata": {
        "id": "69rtCjqW7PeH",
        "outputId": "23170ca8-5fb2-44eb-ae72-0b62c7d8c5e1",
        "colab": {
          "base_uri": "https://localhost:8080/",
          "height": 1000
        }
      },
      "source": [
        "history = model.fit(X_train, y_train, batch_size=8, epochs=30, verbose=1, validation_split=0.2)"
      ],
      "execution_count": 33,
      "outputs": [
        {
          "output_type": "stream",
          "text": [
            "Epoch 1/30\n",
            "218/218 [==============================] - 1s 3ms/step - loss: 0.3229 - acc: 0.4461 - val_loss: 0.2729 - val_acc: 0.5172\n",
            "Epoch 2/30\n",
            "218/218 [==============================] - 1s 2ms/step - loss: 0.2761 - acc: 0.4805 - val_loss: 0.2658 - val_acc: 0.5172\n",
            "Epoch 3/30\n",
            "218/218 [==============================] - 1s 2ms/step - loss: 0.2669 - acc: 0.4662 - val_loss: 0.2578 - val_acc: 0.5034\n",
            "Epoch 4/30\n",
            "218/218 [==============================] - 1s 2ms/step - loss: 0.2595 - acc: 0.4536 - val_loss: 0.2514 - val_acc: 0.4897\n",
            "Epoch 5/30\n",
            "218/218 [==============================] - 1s 2ms/step - loss: 0.2515 - acc: 0.4381 - val_loss: 0.2449 - val_acc: 0.4851\n",
            "Epoch 6/30\n",
            "218/218 [==============================] - 1s 2ms/step - loss: 0.2439 - acc: 0.4369 - val_loss: 0.2391 - val_acc: 0.4897\n",
            "Epoch 7/30\n",
            "218/218 [==============================] - 1s 2ms/step - loss: 0.2360 - acc: 0.4708 - val_loss: 0.2331 - val_acc: 0.5195\n",
            "Epoch 8/30\n",
            "218/218 [==============================] - 1s 2ms/step - loss: 0.2287 - acc: 0.5361 - val_loss: 0.2266 - val_acc: 0.6041\n",
            "Epoch 9/30\n",
            "218/218 [==============================] - 1s 2ms/step - loss: 0.2216 - acc: 0.5757 - val_loss: 0.2238 - val_acc: 0.6339\n",
            "Epoch 10/30\n",
            "218/218 [==============================] - 1s 2ms/step - loss: 0.2160 - acc: 0.6227 - val_loss: 0.2196 - val_acc: 0.6613\n",
            "Epoch 11/30\n",
            "218/218 [==============================] - 1s 2ms/step - loss: 0.2100 - acc: 0.6497 - val_loss: 0.2147 - val_acc: 0.6728\n",
            "Epoch 12/30\n",
            "218/218 [==============================] - 1s 3ms/step - loss: 0.2054 - acc: 0.6628 - val_loss: 0.2121 - val_acc: 0.6728\n",
            "Epoch 13/30\n",
            "218/218 [==============================] - 1s 2ms/step - loss: 0.2013 - acc: 0.6795 - val_loss: 0.2099 - val_acc: 0.6773\n",
            "Epoch 14/30\n",
            "218/218 [==============================] - 1s 2ms/step - loss: 0.1970 - acc: 0.6875 - val_loss: 0.2085 - val_acc: 0.6682\n",
            "Epoch 15/30\n",
            "218/218 [==============================] - 1s 2ms/step - loss: 0.1930 - acc: 0.6909 - val_loss: 0.2046 - val_acc: 0.6888\n",
            "Epoch 16/30\n",
            "218/218 [==============================] - 1s 2ms/step - loss: 0.1900 - acc: 0.6972 - val_loss: 0.2028 - val_acc: 0.7185\n",
            "Epoch 17/30\n",
            "218/218 [==============================] - 1s 2ms/step - loss: 0.1870 - acc: 0.7030 - val_loss: 0.1999 - val_acc: 0.7048\n",
            "Epoch 18/30\n",
            "218/218 [==============================] - 1s 3ms/step - loss: 0.1838 - acc: 0.7099 - val_loss: 0.1988 - val_acc: 0.7071\n",
            "Epoch 19/30\n",
            "218/218 [==============================] - 1s 2ms/step - loss: 0.1810 - acc: 0.7162 - val_loss: 0.1972 - val_acc: 0.7025\n",
            "Epoch 20/30\n",
            "218/218 [==============================] - 1s 2ms/step - loss: 0.1780 - acc: 0.7133 - val_loss: 0.1949 - val_acc: 0.7346\n",
            "Epoch 21/30\n",
            "218/218 [==============================] - 1s 2ms/step - loss: 0.1759 - acc: 0.7185 - val_loss: 0.1948 - val_acc: 0.7048\n",
            "Epoch 22/30\n",
            "218/218 [==============================] - 1s 2ms/step - loss: 0.1736 - acc: 0.7219 - val_loss: 0.1949 - val_acc: 0.7140\n",
            "Epoch 23/30\n",
            "218/218 [==============================] - 1s 2ms/step - loss: 0.1713 - acc: 0.7231 - val_loss: 0.1927 - val_acc: 0.7208\n",
            "Epoch 24/30\n",
            "218/218 [==============================] - 1s 2ms/step - loss: 0.1687 - acc: 0.7248 - val_loss: 0.1915 - val_acc: 0.7483\n",
            "Epoch 25/30\n",
            "218/218 [==============================] - 1s 2ms/step - loss: 0.1670 - acc: 0.7317 - val_loss: 0.1900 - val_acc: 0.7300\n",
            "Epoch 26/30\n",
            "218/218 [==============================] - 1s 2ms/step - loss: 0.1645 - acc: 0.7328 - val_loss: 0.1912 - val_acc: 0.7002\n",
            "Epoch 27/30\n",
            "218/218 [==============================] - 1s 2ms/step - loss: 0.1628 - acc: 0.7282 - val_loss: 0.1881 - val_acc: 0.7323\n",
            "Epoch 28/30\n",
            "218/218 [==============================] - 1s 2ms/step - loss: 0.1606 - acc: 0.7305 - val_loss: 0.1880 - val_acc: 0.7185\n",
            "Epoch 29/30\n",
            "218/218 [==============================] - 1s 2ms/step - loss: 0.1590 - acc: 0.7248 - val_loss: 0.1864 - val_acc: 0.7254\n",
            "Epoch 30/30\n",
            "218/218 [==============================] - 1s 2ms/step - loss: 0.1570 - acc: 0.7225 - val_loss: 0.1866 - val_acc: 0.7323\n"
          ],
          "name": "stdout"
        }
      ]
    },
    {
      "cell_type": "code",
      "metadata": {
        "id": "YiK0QiVIxmkW",
        "outputId": "c7d1d0f8-caf9-470d-ae4c-1b61658cebda",
        "colab": {
          "base_uri": "https://localhost:8080/",
          "height": 68
        }
      },
      "source": [
        "score = model.evaluate(X_test, y_test, verbose=1)\n",
        "\n",
        "print(\"Test Score:\", score[0])\n",
        "print(\"Test Accuracy:\", score[1])"
      ],
      "execution_count": 34,
      "outputs": [
        {
          "output_type": "stream",
          "text": [
            "8/8 [==============================] - 0s 2ms/step - loss: 0.1937 - acc: 0.6914\n",
            "Test Score: 0.19369475543498993\n",
            "Test Accuracy: 0.6913580298423767\n"
          ],
          "name": "stdout"
        }
      ]
    },
    {
      "cell_type": "code",
      "metadata": {
        "id": "6o8p6HcnhLET",
        "outputId": "b905205e-b6b6-45b9-a81f-2f029df368dc",
        "colab": {
          "base_uri": "https://localhost:8080/",
          "height": 573
        }
      },
      "source": [
        "import matplotlib.pyplot as plt\n",
        "\n",
        "plt.plot(history.history['acc'])\n",
        "plt.plot(history.history['val_acc'])\n",
        "\n",
        "plt.title('model accuracy')\n",
        "plt.ylabel('accuracy')\n",
        "plt.xlabel('epoch')\n",
        "plt.legend(['train','test'], loc='upper left')\n",
        "plt.show()\n",
        "\n",
        "plt.plot(history.history['loss'])\n",
        "plt.plot(history.history['val_loss'])\n",
        "\n",
        "plt.title('model loss')\n",
        "plt.ylabel('loss')\n",
        "plt.xlabel('epoch')\n",
        "plt.legend(['train','test'], loc='upper left')\n",
        "plt.show()"
      ],
      "execution_count": 35,
      "outputs": [
        {
          "output_type": "display_data",
          "data": {
            "image/png": "[encoded data removed]",
            "text/plain": [
              "<Figure size 432x288 with 1 Axes>"
            ]
          },
          "metadata": {
            "tags": [],
            "needs_background": "light"
          }
        },
        {
          "output_type": "display_data",
          "data": {
            "image/png": "[encoded data removed]",
            "text/plain": [
              "<Figure size 432x288 with 1 Axes>"
            ]
          },
          "metadata": {
            "tags": [],
            "needs_background": "light"
          }
        }
      ]
    },
    {
      "cell_type": "markdown",
      "metadata": {
        "id": "qQnFh-sk7LQB"
      },
      "source": [
        "# BERT"
      ]
    },
    {
      "cell_type": "code",
      "metadata": {
        "id": "1mhm9Px77LQN",
        "outputId": "9d39423d-6d49-4cd3-e59d-fc7eb1adee0e",
        "colab": {
          "base_uri": "https://localhost:8080/",
          "height": 164,
          "referenced_widgets": [
            "39f6c9d4302e4ccca80b18e15beba696",
            "9a19e68d09aa452b9fa79d7e227161aa",
            "7c9a3230cc844ae481112486be430ac2",
            "f94842a2d3d7482d95ba70ccc967f5ac",
            "f15cc57f838a4bcf92b2f6954e41fede",
            "89426513af8d41d6a56258f63f42882c",
            "d68fa942cf9e4a28b0e5bbf75037defa",
            "d7af221ea5cb45099e0f52d5a3bd57e1",
            "396da19a79854a0289180eeec54504e7",
            "e1326b2147414a60a379fc15e96216ad",
            "ede69a60d0d24c54bc0defcdb7725c1b",
            "2b5e283434ee45129127fa0efe9cd18a",
            "14144ea4504e443cb2509615b1f92bec",
            "71cbc9f5580047cba6714c20e28f4b60",
            "3de9f92d37134f5d82cb82ce8c8f8c1a",
            "d6915489bd9b4a9f8a1710c809d8712c",
            "b0ad00a683664f0fbfc966f90c03aed2",
            "09d3e089be8249aba92f30a2c9d68caf",
            "35a51a90772242dca73a6f694c041820",
            "da37a4a10553485ead4aaf81276291ac",
            "18782acd04794dd8a986e2ffdc3f30d4",
            "2e6b9d099eeb42629a75652834b99731",
            "a55eb8ef943545bf984076b414e160e0",
            "a4b3a497d47d401fb9db8a7e583960db"
          ]
        }
      },
      "source": [
        "config = AutoConfig.from_pretrained(\"m3hrdadfi/albert-fa-base-v2\")\n",
        "tokenizer = AutoTokenizer.from_pretrained(\"m3hrdadfi/albert-fa-base-v2\")\n",
        "bert_model = AutoModel.from_pretrained(\"m3hrdadfi/albert-fa-base-v2\")"
      ],
      "execution_count": 36,
      "outputs": [
        {
          "output_type": "display_data",
          "data": {
            "application/vnd.jupyter.widget-view+json": {
              "model_id": "39f6c9d4302e4ccca80b18e15beba696",
              "version_minor": 0,
              "version_major": 2
            },
            "text/plain": [
              "HBox(children=(FloatProgress(value=0.0, description='Downloading', max=684.0, style=ProgressStyle(description_…"
            ]
          },
          "metadata": {
            "tags": []
          }
        },
        {
          "output_type": "stream",
          "text": [
            "\n"
          ],
          "name": "stdout"
        },
        {
          "output_type": "display_data",
          "data": {
            "application/vnd.jupyter.widget-view+json": {
              "model_id": "396da19a79854a0289180eeec54504e7",
              "version_minor": 0,
              "version_major": 2
            },
            "text/plain": [
              "HBox(children=(FloatProgress(value=0.0, description='Downloading', max=1882978.0, style=ProgressStyle(descript…"
            ]
          },
          "metadata": {
            "tags": []
          }
        },
        {
          "output_type": "stream",
          "text": [
            "\n"
          ],
          "name": "stdout"
        },
        {
          "output_type": "display_data",
          "data": {
            "application/vnd.jupyter.widget-view+json": {
              "model_id": "b0ad00a683664f0fbfc966f90c03aed2",
              "version_minor": 0,
              "version_major": 2
            },
            "text/plain": [
              "HBox(children=(FloatProgress(value=0.0, description='Downloading', max=73062448.0, style=ProgressStyle(descrip…"
            ]
          },
          "metadata": {
            "tags": []
          }
        },
        {
          "output_type": "stream",
          "text": [
            "\n"
          ],
          "name": "stdout"
        }
      ]
    },
    {
      "cell_type": "code",
      "metadata": {
        "id": "wOiozxD9kqRH"
      },
      "source": [
        "def get_embedding(sent):\n",
        "    input_sentence = torch.tensor(tokenizer.encode(sent, max_length = 500)).unsqueeze(0)\n",
        "    out = bert_model(input_sentence)\n",
        "    embeddings_of_last_layer = out[0]\n",
        "    cls_embeddings = embeddings_of_last_layer[0][0]\n",
        "    cls_embeddings = cls_embeddings.detach().numpy()\n",
        "    return cls_embeddings"
      ],
      "execution_count": 37,
      "outputs": []
    },
    {
      "cell_type": "code",
      "metadata": {
        "id": "jVAQVz_-7LQd"
      },
      "source": [
        "# df_types_bert = pd.read_csv(\"/content/drive/My Drive/topics-for-types/df_types.csv\")"
      ],
      "execution_count": null,
      "outputs": []
    },
    {
      "cell_type": "code",
      "metadata": {
        "id": "_dJnPuA97LQl",
        "outputId": "6b042228-2099-4636-fd4a-d73516e37812",
        "colab": {
          "base_uri": "https://localhost:8080/",
          "height": 204
        }
      },
      "source": [
        "# df_types_bert['sentence'] = df_types_bert['sentence'].apply(lambda sent: get_embedding(sent))\n",
        "# df_types_bert.to_csv(\"/content/drive/My Drive/topics-for-types/df_types_bert.csv\", index=False)\n",
        "# df_types_bert.head()"
      ],
      "execution_count": null,
      "outputs": [
        {
          "output_type": "execute_result",
          "data": {
            "text/html": [
              "<div>\n",
              "<style scoped>\n",
              "    .dataframe tbody tr th:only-of-type {\n",
              "        vertical-align: middle;\n",
              "    }\n",
              "\n",
              "    .dataframe tbody tr th {\n",
              "        vertical-align: top;\n",
              "    }\n",
              "\n",
              "    .dataframe thead th {\n",
              "        text-align: right;\n",
              "    }\n",
              "</style>\n",
              "<table border=\"1\" class=\"dataframe\">\n",
              "  <thead>\n",
              "    <tr style=\"text-align: right;\">\n",
              "      <th></th>\n",
              "      <th>sentence</th>\n",
              "      <th>انتخاب</th>\n",
              "      <th>بله/خیر</th>\n",
              "      <th>ترجمه</th>\n",
              "      <th>تعامل</th>\n",
              "      <th>تعریف</th>\n",
              "      <th>توضیح</th>\n",
              "      <th>دلیل</th>\n",
              "      <th>ریاضی</th>\n",
              "      <th>لیست</th>\n",
              "      <th>نظر</th>\n",
              "      <th>واقعیت</th>\n",
              "      <th>پیشنهاد</th>\n",
              "    </tr>\n",
              "  </thead>\n",
              "  <tbody>\n",
              "    <tr>\n",
              "      <th>0</th>\n",
              "      <td>[-0.5841074, -0.017078003, -0.32405344, -0.645...</td>\n",
              "      <td>0</td>\n",
              "      <td>0</td>\n",
              "      <td>0</td>\n",
              "      <td>0</td>\n",
              "      <td>1</td>\n",
              "      <td>1</td>\n",
              "      <td>0</td>\n",
              "      <td>0</td>\n",
              "      <td>0</td>\n",
              "      <td>1</td>\n",
              "      <td>0</td>\n",
              "      <td>0</td>\n",
              "    </tr>\n",
              "    <tr>\n",
              "      <th>1</th>\n",
              "      <td>[-0.31120673, -0.0050979797, 0.10509731, -0.36...</td>\n",
              "      <td>0</td>\n",
              "      <td>1</td>\n",
              "      <td>0</td>\n",
              "      <td>0</td>\n",
              "      <td>0</td>\n",
              "      <td>1</td>\n",
              "      <td>0</td>\n",
              "      <td>0</td>\n",
              "      <td>0</td>\n",
              "      <td>1</td>\n",
              "      <td>0</td>\n",
              "      <td>0</td>\n",
              "    </tr>\n",
              "    <tr>\n",
              "      <th>2</th>\n",
              "      <td>[0.05544515, -0.23301096, 0.12021764, -0.33959...</td>\n",
              "      <td>0</td>\n",
              "      <td>0</td>\n",
              "      <td>0</td>\n",
              "      <td>0</td>\n",
              "      <td>0</td>\n",
              "      <td>1</td>\n",
              "      <td>1</td>\n",
              "      <td>0</td>\n",
              "      <td>0</td>\n",
              "      <td>1</td>\n",
              "      <td>0</td>\n",
              "      <td>0</td>\n",
              "    </tr>\n",
              "    <tr>\n",
              "      <th>3</th>\n",
              "      <td>[0.37881416, -0.1909234, 0.16427912, -0.383240...</td>\n",
              "      <td>0</td>\n",
              "      <td>0</td>\n",
              "      <td>0</td>\n",
              "      <td>0</td>\n",
              "      <td>0</td>\n",
              "      <td>1</td>\n",
              "      <td>1</td>\n",
              "      <td>0</td>\n",
              "      <td>0</td>\n",
              "      <td>1</td>\n",
              "      <td>0</td>\n",
              "      <td>0</td>\n",
              "    </tr>\n",
              "    <tr>\n",
              "      <th>4</th>\n",
              "      <td>[-0.46968994, -0.2401005, 0.20189604, -0.20498...</td>\n",
              "      <td>0</td>\n",
              "      <td>0</td>\n",
              "      <td>0</td>\n",
              "      <td>0</td>\n",
              "      <td>1</td>\n",
              "      <td>0</td>\n",
              "      <td>0</td>\n",
              "      <td>0</td>\n",
              "      <td>1</td>\n",
              "      <td>1</td>\n",
              "      <td>0</td>\n",
              "      <td>0</td>\n",
              "    </tr>\n",
              "  </tbody>\n",
              "</table>\n",
              "</div>"
            ],
            "text/plain": [
              "                                            sentence  انتخاب  ...  واقعیت  پیشنهاد\n",
              "0  [-0.5841074, -0.017078003, -0.32405344, -0.645...       0  ...       0        0\n",
              "1  [-0.31120673, -0.0050979797, 0.10509731, -0.36...       0  ...       0        0\n",
              "2  [0.05544515, -0.23301096, 0.12021764, -0.33959...       0  ...       0        0\n",
              "3  [0.37881416, -0.1909234, 0.16427912, -0.383240...       0  ...       0        0\n",
              "4  [-0.46968994, -0.2401005, 0.20189604, -0.20498...       0  ...       0        0\n",
              "\n",
              "[5 rows x 13 columns]"
            ]
          },
          "metadata": {
            "tags": []
          },
          "execution_count": 90
        }
      ]
    },
    {
      "cell_type": "code",
      "metadata": {
        "id": "ipJXyeK_onoh",
        "outputId": "ad27c3a7-ef1a-4f41-bcb3-63e7b8dd1b9a",
        "colab": {
          "base_uri": "https://localhost:8080/",
          "height": 204
        }
      },
      "source": [
        "df_types_bert = pd.read_csv(\"/content/drive/My Drive/topics-for-types/df_types_bert.csv\")\n",
        "df_types_bert['sentence'] = df_types_bert['sentence'].apply(lambda x: \n",
        "                           np.fromstring(\n",
        "                               x.replace('\\n','')\n",
        "                                .replace('[','')\n",
        "                                .replace(']','')\n",
        "                                .replace('  ',' '), sep=' '))\n",
        "df_types_bert.head()"
      ],
      "execution_count": 38,
      "outputs": [
        {
          "output_type": "execute_result",
          "data": {
            "text/html": [
              "<div>\n",
              "<style scoped>\n",
              "    .dataframe tbody tr th:only-of-type {\n",
              "        vertical-align: middle;\n",
              "    }\n",
              "\n",
              "    .dataframe tbody tr th {\n",
              "        vertical-align: top;\n",
              "    }\n",
              "\n",
              "    .dataframe thead th {\n",
              "        text-align: right;\n",
              "    }\n",
              "</style>\n",
              "<table border=\"1\" class=\"dataframe\">\n",
              "  <thead>\n",
              "    <tr style=\"text-align: right;\">\n",
              "      <th></th>\n",
              "      <th>sentence</th>\n",
              "      <th>انتخاب</th>\n",
              "      <th>بله/خیر</th>\n",
              "      <th>ترجمه</th>\n",
              "      <th>تعامل</th>\n",
              "      <th>تعریف</th>\n",
              "      <th>توضیح</th>\n",
              "      <th>دلیل</th>\n",
              "      <th>ریاضی</th>\n",
              "      <th>لیست</th>\n",
              "      <th>نظر</th>\n",
              "      <th>واقعیت</th>\n",
              "      <th>پیشنهاد</th>\n",
              "    </tr>\n",
              "  </thead>\n",
              "  <tbody>\n",
              "    <tr>\n",
              "      <th>0</th>\n",
              "      <td>[-0.584107399, -0.0170780029, -0.324053437, -0...</td>\n",
              "      <td>0</td>\n",
              "      <td>0</td>\n",
              "      <td>0</td>\n",
              "      <td>0</td>\n",
              "      <td>1</td>\n",
              "      <td>1</td>\n",
              "      <td>0</td>\n",
              "      <td>0</td>\n",
              "      <td>0</td>\n",
              "      <td>1</td>\n",
              "      <td>0</td>\n",
              "      <td>0</td>\n",
              "    </tr>\n",
              "    <tr>\n",
              "      <th>1</th>\n",
              "      <td>[-0.311206728, -0.00509797968, 0.105097309, -0...</td>\n",
              "      <td>0</td>\n",
              "      <td>1</td>\n",
              "      <td>0</td>\n",
              "      <td>0</td>\n",
              "      <td>0</td>\n",
              "      <td>1</td>\n",
              "      <td>0</td>\n",
              "      <td>0</td>\n",
              "      <td>0</td>\n",
              "      <td>1</td>\n",
              "      <td>0</td>\n",
              "      <td>0</td>\n",
              "    </tr>\n",
              "    <tr>\n",
              "      <th>2</th>\n",
              "      <td>[0.0554451495, -0.233010963, 0.120217644, -0.3...</td>\n",
              "      <td>0</td>\n",
              "      <td>0</td>\n",
              "      <td>0</td>\n",
              "      <td>0</td>\n",
              "      <td>0</td>\n",
              "      <td>1</td>\n",
              "      <td>1</td>\n",
              "      <td>0</td>\n",
              "      <td>0</td>\n",
              "      <td>1</td>\n",
              "      <td>0</td>\n",
              "      <td>0</td>\n",
              "    </tr>\n",
              "    <tr>\n",
              "      <th>3</th>\n",
              "      <td>[0.378814161, -0.190923393, 0.164279118, -0.38...</td>\n",
              "      <td>0</td>\n",
              "      <td>0</td>\n",
              "      <td>0</td>\n",
              "      <td>0</td>\n",
              "      <td>0</td>\n",
              "      <td>1</td>\n",
              "      <td>1</td>\n",
              "      <td>0</td>\n",
              "      <td>0</td>\n",
              "      <td>1</td>\n",
              "      <td>0</td>\n",
              "      <td>0</td>\n",
              "    </tr>\n",
              "    <tr>\n",
              "      <th>4</th>\n",
              "      <td>[-0.469689935, -0.240100503, 0.201896042, -0.2...</td>\n",
              "      <td>0</td>\n",
              "      <td>0</td>\n",
              "      <td>0</td>\n",
              "      <td>0</td>\n",
              "      <td>1</td>\n",
              "      <td>0</td>\n",
              "      <td>0</td>\n",
              "      <td>0</td>\n",
              "      <td>1</td>\n",
              "      <td>1</td>\n",
              "      <td>0</td>\n",
              "      <td>0</td>\n",
              "    </tr>\n",
              "  </tbody>\n",
              "</table>\n",
              "</div>"
            ],
            "text/plain": [
              "                                            sentence  انتخاب  ...  واقعیت  پیشنهاد\n",
              "0  [-0.584107399, -0.0170780029, -0.324053437, -0...       0  ...       0        0\n",
              "1  [-0.311206728, -0.00509797968, 0.105097309, -0...       0  ...       0        0\n",
              "2  [0.0554451495, -0.233010963, 0.120217644, -0.3...       0  ...       0        0\n",
              "3  [0.378814161, -0.190923393, 0.164279118, -0.38...       0  ...       0        0\n",
              "4  [-0.469689935, -0.240100503, 0.201896042, -0.2...       0  ...       0        0\n",
              "\n",
              "[5 rows x 13 columns]"
            ]
          },
          "metadata": {
            "tags": []
          },
          "execution_count": 38
        }
      ]
    },
    {
      "cell_type": "code",
      "metadata": {
        "id": "peiiVocu7LQq",
        "outputId": "5b489806-74a0-4739-b5d3-ad0b6acdedd1",
        "colab": {
          "base_uri": "https://localhost:8080/",
          "height": 34
        }
      },
      "source": [
        "X = np.array(df_types_bert[df_types_bert.columns[0]])\n",
        "X = np.vstack(X)\n",
        "\n",
        "Y = df_types_bert[df_types_bert.columns[1:]].values\n",
        "\n",
        "X.shape, Y.shape"
      ],
      "execution_count": 40,
      "outputs": [
        {
          "output_type": "execute_result",
          "data": {
            "text/plain": [
              "((2424, 768), (2424, 12))"
            ]
          },
          "metadata": {
            "tags": []
          },
          "execution_count": 40
        }
      ]
    },
    {
      "cell_type": "code",
      "metadata": {
        "id": "F40dV3XV7LQt"
      },
      "source": [
        "X_train, X_test, y_train, y_test = train_test_split(X, Y, test_size=0.20)"
      ],
      "execution_count": 41,
      "outputs": []
    },
    {
      "cell_type": "code",
      "metadata": {
        "id": "PoDo8cwa7LQv",
        "outputId": "9af1b22a-f433-410f-ab2e-4869bc884200",
        "colab": {
          "base_uri": "https://localhost:8080/",
          "height": 34
        }
      },
      "source": [
        "len(X_train),len(X_test),len(y_train),len(y_test)"
      ],
      "execution_count": 42,
      "outputs": [
        {
          "output_type": "execute_result",
          "data": {
            "text/plain": [
              "(1939, 485, 1939, 485)"
            ]
          },
          "metadata": {
            "tags": []
          },
          "execution_count": 42
        }
      ]
    },
    {
      "cell_type": "code",
      "metadata": {
        "id": "-6VNFGrx7LQ1",
        "outputId": "c204c141-e2f0-4418-fdcf-40ca562740c8",
        "colab": {
          "base_uri": "https://localhost:8080/",
          "height": 272
        }
      },
      "source": [
        "model = tf.keras.Sequential([\n",
        "    tf.keras.layers.Input(shape=X[0].shape, name='input_layer'),\n",
        "    tf.keras.layers.Dense(200, activation='relu', name='Dense_Layer',\n",
        "                          activity_regularizer=tf.keras.regularizers.l2()),\n",
        "    # tf.keras.layers.Dropout(rate=0.2, name=\"Dropout\"),\n",
        "    tf.keras.layers.Dense(100, activation='relu', name='Dense_Layer2',\n",
        "                          activity_regularizer=tf.keras.regularizers.l2()),\n",
        "    # tf.keras.layers.Dropout(rate=0.2, name=\"Dropout2\"),\n",
        "    tf.keras.layers.Dense(12, activation='sigmoid', name='Dense_Layer3'),\n",
        "\n",
        "  ], name='LASER_Model')\n",
        "\n",
        "model.compile(loss='binary_crossentropy', optimizer='adam', metrics=['acc'])\n",
        "print(model.summary())"
      ],
      "execution_count": 43,
      "outputs": [
        {
          "output_type": "stream",
          "text": [
            "Model: \"LASER_Model\"\n",
            "_________________________________________________________________\n",
            "Layer (type)                 Output Shape              Param #   \n",
            "=================================================================\n",
            "Dense_Layer (Dense)          (None, 200)               153800    \n",
            "_________________________________________________________________\n",
            "Dense_Layer2 (Dense)         (None, 100)               20100     \n",
            "_________________________________________________________________\n",
            "Dense_Layer3 (Dense)         (None, 12)                1212      \n",
            "=================================================================\n",
            "Total params: 175,112\n",
            "Trainable params: 175,112\n",
            "Non-trainable params: 0\n",
            "_________________________________________________________________\n",
            "None\n"
          ],
          "name": "stdout"
        }
      ]
    },
    {
      "cell_type": "code",
      "metadata": {
        "id": "oUMOG_Qa7LQ4",
        "outputId": "1e76d52d-5c8b-42a7-8141-0402568da7cc",
        "colab": {
          "base_uri": "https://localhost:8080/",
          "height": 697
        }
      },
      "source": [
        "history = model.fit(X_train, y_train, batch_size=8, epochs=20, verbose=1, validation_split=0.2)"
      ],
      "execution_count": 44,
      "outputs": [
        {
          "output_type": "stream",
          "text": [
            "Epoch 1/20\n",
            "194/194 [==============================] - 1s 4ms/step - loss: 0.4555 - acc: 0.4681 - val_loss: 0.3487 - val_acc: 0.5232\n",
            "Epoch 2/20\n",
            "194/194 [==============================] - 1s 3ms/step - loss: 0.3200 - acc: 0.5964 - val_loss: 0.2990 - val_acc: 0.6907\n",
            "Epoch 3/20\n",
            "194/194 [==============================] - 1s 3ms/step - loss: 0.2819 - acc: 0.6783 - val_loss: 0.2737 - val_acc: 0.6701\n",
            "Epoch 4/20\n",
            "194/194 [==============================] - 1s 3ms/step - loss: 0.2647 - acc: 0.6905 - val_loss: 0.2607 - val_acc: 0.7191\n",
            "Epoch 5/20\n",
            "194/194 [==============================] - 1s 3ms/step - loss: 0.2538 - acc: 0.7028 - val_loss: 0.2598 - val_acc: 0.6856\n",
            "Epoch 6/20\n",
            "194/194 [==============================] - 1s 3ms/step - loss: 0.2501 - acc: 0.6757 - val_loss: 0.2519 - val_acc: 0.6495\n",
            "Epoch 7/20\n",
            "194/194 [==============================] - 1s 3ms/step - loss: 0.2367 - acc: 0.6905 - val_loss: 0.2578 - val_acc: 0.7010\n",
            "Epoch 8/20\n",
            "194/194 [==============================] - 1s 3ms/step - loss: 0.2294 - acc: 0.7182 - val_loss: 0.2495 - val_acc: 0.7165\n",
            "Epoch 9/20\n",
            "194/194 [==============================] - 1s 3ms/step - loss: 0.2268 - acc: 0.7131 - val_loss: 0.2523 - val_acc: 0.6753\n",
            "Epoch 10/20\n",
            "194/194 [==============================] - 1s 3ms/step - loss: 0.2217 - acc: 0.7118 - val_loss: 0.2489 - val_acc: 0.6495\n",
            "Epoch 11/20\n",
            "194/194 [==============================] - 1s 4ms/step - loss: 0.2212 - acc: 0.7041 - val_loss: 0.2554 - val_acc: 0.7062\n",
            "Epoch 12/20\n",
            "194/194 [==============================] - 1s 3ms/step - loss: 0.2180 - acc: 0.7137 - val_loss: 0.2421 - val_acc: 0.6727\n",
            "Epoch 13/20\n",
            "194/194 [==============================] - 1s 3ms/step - loss: 0.2126 - acc: 0.7144 - val_loss: 0.2507 - val_acc: 0.6624\n",
            "Epoch 14/20\n",
            "194/194 [==============================] - 1s 4ms/step - loss: 0.2097 - acc: 0.7170 - val_loss: 0.2538 - val_acc: 0.6881\n",
            "Epoch 15/20\n",
            "194/194 [==============================] - 1s 3ms/step - loss: 0.2049 - acc: 0.7273 - val_loss: 0.2515 - val_acc: 0.7036\n",
            "Epoch 16/20\n",
            "194/194 [==============================] - 1s 3ms/step - loss: 0.2072 - acc: 0.7157 - val_loss: 0.2552 - val_acc: 0.6366\n",
            "Epoch 17/20\n",
            "194/194 [==============================] - 1s 3ms/step - loss: 0.2001 - acc: 0.7073 - val_loss: 0.2563 - val_acc: 0.6546\n",
            "Epoch 18/20\n",
            "194/194 [==============================] - 1s 3ms/step - loss: 0.2003 - acc: 0.7253 - val_loss: 0.2467 - val_acc: 0.6933\n",
            "Epoch 19/20\n",
            "194/194 [==============================] - 1s 3ms/step - loss: 0.2097 - acc: 0.7041 - val_loss: 0.2470 - val_acc: 0.6211\n",
            "Epoch 20/20\n",
            "194/194 [==============================] - 1s 3ms/step - loss: 0.1981 - acc: 0.7157 - val_loss: 0.2465 - val_acc: 0.6907\n"
          ],
          "name": "stdout"
        }
      ]
    },
    {
      "cell_type": "code",
      "metadata": {
        "id": "luObyoYB7LQ6",
        "outputId": "e089d928-361b-4517-9d0c-54d1596545ac",
        "colab": {
          "base_uri": "https://localhost:8080/",
          "height": 68
        }
      },
      "source": [
        "score = model.evaluate(X_test, y_test, verbose=1)\n",
        "\n",
        "print(\"Test Score:\", score[0])\n",
        "print(\"Test Accuracy:\", score[1])"
      ],
      "execution_count": 45,
      "outputs": [
        {
          "output_type": "stream",
          "text": [
            "16/16 [==============================] - 0s 2ms/step - loss: 0.2439 - acc: 0.6866\n",
            "Test Score: 0.2439040243625641\n",
            "Test Accuracy: 0.6865979433059692\n"
          ],
          "name": "stdout"
        }
      ]
    },
    {
      "cell_type": "code",
      "metadata": {
        "id": "LzKKewPO7LQ8",
        "outputId": "0041a856-d0d2-400e-9cba-859fac420933",
        "colab": {
          "base_uri": "https://localhost:8080/",
          "height": 573
        }
      },
      "source": [
        "import matplotlib.pyplot as plt\n",
        "\n",
        "plt.plot(history.history['acc'])\n",
        "plt.plot(history.history['val_acc'])\n",
        "\n",
        "plt.title('model accuracy')\n",
        "plt.ylabel('accuracy')\n",
        "plt.xlabel('epoch')\n",
        "plt.legend(['train','test'], loc='upper left')\n",
        "plt.show()\n",
        "\n",
        "plt.plot(history.history['loss'])\n",
        "plt.plot(history.history['val_loss'])\n",
        "\n",
        "plt.title('model loss')\n",
        "plt.ylabel('loss')\n",
        "plt.xlabel('epoch')\n",
        "plt.legend(['train','test'], loc='upper left')\n",
        "plt.show()"
      ],
      "execution_count": 46,
      "outputs": [
        {
          "output_type": "display_data",
          "data": {
            "image/png": "[encoded data removed]",
            "text/plain": [
              "<Figure size 432x288 with 1 Axes>"
            ]
          },
          "metadata": {
            "tags": [],
            "needs_background": "light"
          }
        },
        {
          "output_type": "display_data",
          "data": {
            "image/png": "[encoded data removed]",
            "text/plain": [
              "<Figure size 432x288 with 1 Axes>"
            ]
          },
          "metadata": {
            "tags": [],
            "needs_background": "light"
          }
        }
      ]
    }
  ]
}